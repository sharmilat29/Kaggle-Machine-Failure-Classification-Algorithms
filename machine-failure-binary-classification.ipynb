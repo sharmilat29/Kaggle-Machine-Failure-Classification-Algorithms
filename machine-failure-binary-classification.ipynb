{
 "cells": [
  {
   "cell_type": "code",
   "execution_count": 1,
   "id": "cda43d51",
   "metadata": {
    "_cell_guid": "b1076dfc-b9ad-4769-8c92-a6c4dae69d19",
    "_uuid": "8f2839f25d086af736a60e9eeb907d3b93b6e0e5",
    "execution": {
     "iopub.execute_input": "2023-06-26T20:48:43.647859Z",
     "iopub.status.busy": "2023-06-26T20:48:43.647440Z",
     "iopub.status.idle": "2023-06-26T20:48:45.273089Z",
     "shell.execute_reply": "2023-06-26T20:48:45.271201Z"
    },
    "papermill": {
     "duration": 1.647271,
     "end_time": "2023-06-26T20:48:45.278973",
     "exception": false,
     "start_time": "2023-06-26T20:48:43.631702",
     "status": "completed"
    },
    "tags": []
   },
   "outputs": [
    {
     "name": "stdout",
     "output_type": "stream",
     "text": [
      "/kaggle/input/playground-series-s3e17/sample_submission.csv\n",
      "/kaggle/input/playground-series-s3e17/train.csv\n",
      "/kaggle/input/playground-series-s3e17/test.csv\n"
     ]
    }
   ],
   "source": [
    "# This Python 3 environment comes with many helpful analytics libraries installed\n",
    "# It is defined by the kaggle/python Docker image: https://github.com/kaggle/docker-python\n",
    "# For example, here's several helpful packages to load\n",
    "\n",
    "import numpy as np # linear algebra\n",
    "import pandas as pd # data processing, CSV file I/O (e.g. pd.read_csv)\n",
    "import seaborn as sns\n",
    "\n",
    "# Input data files are available in the read-only \"../input/\" directory\n",
    "# For example, running this (by clicking run or pressing Shift+Enter) will list all files under the input directory\n",
    "\n",
    "import os\n",
    "for dirname, _, filenames in os.walk('/kaggle/input'):\n",
    "    for filename in filenames:\n",
    "        print(os.path.join(dirname, filename))\n",
    "\n",
    "# You can write up to 20GB to the current directory (/kaggle/working/) that gets preserved as output when you create a version using \"Save & Run All\" \n",
    "# You can also write temporary files to /kaggle/temp/, but they won't be saved outside of the current session"
   ]
  },
  {
   "cell_type": "markdown",
   "id": "2f9c5283",
   "metadata": {
    "papermill": {
     "duration": 0.014332,
     "end_time": "2023-06-26T20:48:45.309771",
     "exception": false,
     "start_time": "2023-06-26T20:48:45.295439",
     "status": "completed"
    },
    "tags": []
   },
   "source": [
    "**Load and explore dataset:**"
   ]
  },
  {
   "cell_type": "code",
   "execution_count": 2,
   "id": "4ceb835e",
   "metadata": {
    "execution": {
     "iopub.execute_input": "2023-06-26T20:48:45.341316Z",
     "iopub.status.busy": "2023-06-26T20:48:45.339885Z",
     "iopub.status.idle": "2023-06-26T20:48:45.566563Z",
     "shell.execute_reply": "2023-06-26T20:48:45.565484Z"
    },
    "papermill": {
     "duration": 0.242788,
     "end_time": "2023-06-26T20:48:45.569910",
     "exception": false,
     "start_time": "2023-06-26T20:48:45.327122",
     "status": "completed"
    },
    "tags": []
   },
   "outputs": [],
   "source": [
    "test_df = pd.read_csv(\"/kaggle/input/playground-series-s3e17/test.csv\")"
   ]
  },
  {
   "cell_type": "code",
   "execution_count": 3,
   "id": "a4c91ded",
   "metadata": {
    "execution": {
     "iopub.execute_input": "2023-06-26T20:48:45.594141Z",
     "iopub.status.busy": "2023-06-26T20:48:45.593751Z",
     "iopub.status.idle": "2023-06-26T20:48:45.927873Z",
     "shell.execute_reply": "2023-06-26T20:48:45.926797Z"
    },
    "papermill": {
     "duration": 0.351466,
     "end_time": "2023-06-26T20:48:45.932667",
     "exception": false,
     "start_time": "2023-06-26T20:48:45.581201",
     "status": "completed"
    },
    "tags": []
   },
   "outputs": [
    {
     "data": {
      "text/html": [
       "<div>\n",
       "<style scoped>\n",
       "    .dataframe tbody tr th:only-of-type {\n",
       "        vertical-align: middle;\n",
       "    }\n",
       "\n",
       "    .dataframe tbody tr th {\n",
       "        vertical-align: top;\n",
       "    }\n",
       "\n",
       "    .dataframe thead th {\n",
       "        text-align: right;\n",
       "    }\n",
       "</style>\n",
       "<table border=\"1\" class=\"dataframe\">\n",
       "  <thead>\n",
       "    <tr style=\"text-align: right;\">\n",
       "      <th></th>\n",
       "      <th>id</th>\n",
       "      <th>Product ID</th>\n",
       "      <th>Type</th>\n",
       "      <th>Air temperature [K]</th>\n",
       "      <th>Process temperature [K]</th>\n",
       "      <th>Rotational speed [rpm]</th>\n",
       "      <th>Torque [Nm]</th>\n",
       "      <th>Tool wear [min]</th>\n",
       "      <th>Machine failure</th>\n",
       "      <th>TWF</th>\n",
       "      <th>HDF</th>\n",
       "      <th>PWF</th>\n",
       "      <th>OSF</th>\n",
       "      <th>RNF</th>\n",
       "    </tr>\n",
       "  </thead>\n",
       "  <tbody>\n",
       "    <tr>\n",
       "      <th>0</th>\n",
       "      <td>0</td>\n",
       "      <td>L50096</td>\n",
       "      <td>L</td>\n",
       "      <td>300.6</td>\n",
       "      <td>309.6</td>\n",
       "      <td>1596</td>\n",
       "      <td>36.1</td>\n",
       "      <td>140</td>\n",
       "      <td>0</td>\n",
       "      <td>0</td>\n",
       "      <td>0</td>\n",
       "      <td>0</td>\n",
       "      <td>0</td>\n",
       "      <td>0</td>\n",
       "    </tr>\n",
       "    <tr>\n",
       "      <th>1</th>\n",
       "      <td>1</td>\n",
       "      <td>M20343</td>\n",
       "      <td>M</td>\n",
       "      <td>302.6</td>\n",
       "      <td>312.1</td>\n",
       "      <td>1759</td>\n",
       "      <td>29.1</td>\n",
       "      <td>200</td>\n",
       "      <td>0</td>\n",
       "      <td>0</td>\n",
       "      <td>0</td>\n",
       "      <td>0</td>\n",
       "      <td>0</td>\n",
       "      <td>0</td>\n",
       "    </tr>\n",
       "    <tr>\n",
       "      <th>2</th>\n",
       "      <td>2</td>\n",
       "      <td>L49454</td>\n",
       "      <td>L</td>\n",
       "      <td>299.3</td>\n",
       "      <td>308.5</td>\n",
       "      <td>1805</td>\n",
       "      <td>26.5</td>\n",
       "      <td>25</td>\n",
       "      <td>0</td>\n",
       "      <td>0</td>\n",
       "      <td>0</td>\n",
       "      <td>0</td>\n",
       "      <td>0</td>\n",
       "      <td>0</td>\n",
       "    </tr>\n",
       "    <tr>\n",
       "      <th>3</th>\n",
       "      <td>3</td>\n",
       "      <td>L53355</td>\n",
       "      <td>L</td>\n",
       "      <td>301.0</td>\n",
       "      <td>310.9</td>\n",
       "      <td>1524</td>\n",
       "      <td>44.3</td>\n",
       "      <td>197</td>\n",
       "      <td>0</td>\n",
       "      <td>0</td>\n",
       "      <td>0</td>\n",
       "      <td>0</td>\n",
       "      <td>0</td>\n",
       "      <td>0</td>\n",
       "    </tr>\n",
       "    <tr>\n",
       "      <th>4</th>\n",
       "      <td>4</td>\n",
       "      <td>M24050</td>\n",
       "      <td>M</td>\n",
       "      <td>298.0</td>\n",
       "      <td>309.0</td>\n",
       "      <td>1641</td>\n",
       "      <td>35.4</td>\n",
       "      <td>34</td>\n",
       "      <td>0</td>\n",
       "      <td>0</td>\n",
       "      <td>0</td>\n",
       "      <td>0</td>\n",
       "      <td>0</td>\n",
       "      <td>0</td>\n",
       "    </tr>\n",
       "    <tr>\n",
       "      <th>5</th>\n",
       "      <td>5</td>\n",
       "      <td>M24300</td>\n",
       "      <td>M</td>\n",
       "      <td>298.4</td>\n",
       "      <td>308.9</td>\n",
       "      <td>1429</td>\n",
       "      <td>42.1</td>\n",
       "      <td>65</td>\n",
       "      <td>0</td>\n",
       "      <td>0</td>\n",
       "      <td>0</td>\n",
       "      <td>0</td>\n",
       "      <td>0</td>\n",
       "      <td>0</td>\n",
       "    </tr>\n",
       "    <tr>\n",
       "      <th>6</th>\n",
       "      <td>6</td>\n",
       "      <td>L56736</td>\n",
       "      <td>L</td>\n",
       "      <td>299.6</td>\n",
       "      <td>311.0</td>\n",
       "      <td>1413</td>\n",
       "      <td>42.9</td>\n",
       "      <td>156</td>\n",
       "      <td>0</td>\n",
       "      <td>0</td>\n",
       "      <td>0</td>\n",
       "      <td>0</td>\n",
       "      <td>0</td>\n",
       "      <td>0</td>\n",
       "    </tr>\n",
       "    <tr>\n",
       "      <th>7</th>\n",
       "      <td>7</td>\n",
       "      <td>L55488</td>\n",
       "      <td>L</td>\n",
       "      <td>298.7</td>\n",
       "      <td>310.1</td>\n",
       "      <td>1609</td>\n",
       "      <td>38.1</td>\n",
       "      <td>67</td>\n",
       "      <td>0</td>\n",
       "      <td>0</td>\n",
       "      <td>0</td>\n",
       "      <td>0</td>\n",
       "      <td>0</td>\n",
       "      <td>0</td>\n",
       "    </tr>\n",
       "    <tr>\n",
       "      <th>8</th>\n",
       "      <td>8</td>\n",
       "      <td>L56397</td>\n",
       "      <td>L</td>\n",
       "      <td>297.7</td>\n",
       "      <td>308.8</td>\n",
       "      <td>1578</td>\n",
       "      <td>35.2</td>\n",
       "      <td>13</td>\n",
       "      <td>0</td>\n",
       "      <td>0</td>\n",
       "      <td>0</td>\n",
       "      <td>0</td>\n",
       "      <td>0</td>\n",
       "      <td>0</td>\n",
       "    </tr>\n",
       "    <tr>\n",
       "      <th>9</th>\n",
       "      <td>9</td>\n",
       "      <td>L55067</td>\n",
       "      <td>L</td>\n",
       "      <td>300.5</td>\n",
       "      <td>312.3</td>\n",
       "      <td>1447</td>\n",
       "      <td>53.3</td>\n",
       "      <td>98</td>\n",
       "      <td>0</td>\n",
       "      <td>0</td>\n",
       "      <td>0</td>\n",
       "      <td>0</td>\n",
       "      <td>0</td>\n",
       "      <td>0</td>\n",
       "    </tr>\n",
       "  </tbody>\n",
       "</table>\n",
       "</div>"
      ],
      "text/plain": [
       "   id Product ID Type  Air temperature [K]  Process temperature [K]  \\\n",
       "0   0     L50096    L                300.6                    309.6   \n",
       "1   1     M20343    M                302.6                    312.1   \n",
       "2   2     L49454    L                299.3                    308.5   \n",
       "3   3     L53355    L                301.0                    310.9   \n",
       "4   4     M24050    M                298.0                    309.0   \n",
       "5   5     M24300    M                298.4                    308.9   \n",
       "6   6     L56736    L                299.6                    311.0   \n",
       "7   7     L55488    L                298.7                    310.1   \n",
       "8   8     L56397    L                297.7                    308.8   \n",
       "9   9     L55067    L                300.5                    312.3   \n",
       "\n",
       "   Rotational speed [rpm]  Torque [Nm]  Tool wear [min]  Machine failure  TWF  \\\n",
       "0                    1596         36.1              140                0    0   \n",
       "1                    1759         29.1              200                0    0   \n",
       "2                    1805         26.5               25                0    0   \n",
       "3                    1524         44.3              197                0    0   \n",
       "4                    1641         35.4               34                0    0   \n",
       "5                    1429         42.1               65                0    0   \n",
       "6                    1413         42.9              156                0    0   \n",
       "7                    1609         38.1               67                0    0   \n",
       "8                    1578         35.2               13                0    0   \n",
       "9                    1447         53.3               98                0    0   \n",
       "\n",
       "   HDF  PWF  OSF  RNF  \n",
       "0    0    0    0    0  \n",
       "1    0    0    0    0  \n",
       "2    0    0    0    0  \n",
       "3    0    0    0    0  \n",
       "4    0    0    0    0  \n",
       "5    0    0    0    0  \n",
       "6    0    0    0    0  \n",
       "7    0    0    0    0  \n",
       "8    0    0    0    0  \n",
       "9    0    0    0    0  "
      ]
     },
     "metadata": {},
     "output_type": "display_data"
    },
    {
     "data": {
      "text/plain": [
       "(136429, 14)"
      ]
     },
     "metadata": {},
     "output_type": "display_data"
    },
    {
     "data": {
      "text/plain": [
       "Index(['id', 'Product ID', 'Type', 'Air temperature [K]',\n",
       "       'Process temperature [K]', 'Rotational speed [rpm]', 'Torque [Nm]',\n",
       "       'Tool wear [min]', 'Machine failure', 'TWF', 'HDF', 'PWF', 'OSF',\n",
       "       'RNF'],\n",
       "      dtype='object')"
      ]
     },
     "metadata": {},
     "output_type": "display_data"
    }
   ],
   "source": [
    "df = pd.read_csv(\"/kaggle/input/playground-series-s3e17/train.csv\")\n",
    "display(df.head(10))\n",
    "display(df.shape)\n",
    "display(df.columns)"
   ]
  },
  {
   "cell_type": "code",
   "execution_count": 4,
   "id": "80e4268a",
   "metadata": {
    "execution": {
     "iopub.execute_input": "2023-06-26T20:48:45.958898Z",
     "iopub.status.busy": "2023-06-26T20:48:45.958435Z",
     "iopub.status.idle": "2023-06-26T20:48:46.427883Z",
     "shell.execute_reply": "2023-06-26T20:48:46.426887Z"
    },
    "papermill": {
     "duration": 0.485368,
     "end_time": "2023-06-26T20:48:46.430327",
     "exception": false,
     "start_time": "2023-06-26T20:48:45.944959",
     "status": "completed"
    },
    "tags": []
   },
   "outputs": [
    {
     "data": {
      "text/plain": [
       "<Axes: xlabel='Machine failure', ylabel='Count'>"
      ]
     },
     "execution_count": 4,
     "metadata": {},
     "output_type": "execute_result"
    },
    {
     "data": {
      "image/png": "[encoded data removed]",
      "text/plain": [
       "<Figure size 640x480 with 1 Axes>"
      ]
     },
     "metadata": {},
     "output_type": "display_data"
    }
   ],
   "source": [
    "sns.histplot(data = df, x = \"Machine failure\")"
   ]
  },
  {
   "cell_type": "markdown",
   "id": "df61c981",
   "metadata": {
    "papermill": {
     "duration": 0.012115,
     "end_time": "2023-06-26T20:48:46.455042",
     "exception": false,
     "start_time": "2023-06-26T20:48:46.442927",
     "status": "completed"
    },
    "tags": []
   },
   "source": [
    "> Need to find a way to handle imbalanced dataset"
   ]
  },
  {
   "cell_type": "code",
   "execution_count": 5,
   "id": "d09885b2",
   "metadata": {
    "execution": {
     "iopub.execute_input": "2023-06-26T20:48:46.482377Z",
     "iopub.status.busy": "2023-06-26T20:48:46.481957Z",
     "iopub.status.idle": "2023-06-26T20:48:46.500153Z",
     "shell.execute_reply": "2023-06-26T20:48:46.499155Z"
    },
    "papermill": {
     "duration": 0.035236,
     "end_time": "2023-06-26T20:48:46.502905",
     "exception": false,
     "start_time": "2023-06-26T20:48:46.467669",
     "status": "completed"
    },
    "tags": []
   },
   "outputs": [],
   "source": [
    "num_fail = len(df[df[\"Machine failure\"] == 1])\n",
    "num_pass = len(df[df[\"Machine failure\"] == 0])"
   ]
  },
  {
   "cell_type": "markdown",
   "id": "1093b630",
   "metadata": {
    "papermill": {
     "duration": 0.012094,
     "end_time": "2023-06-26T20:48:46.527485",
     "exception": false,
     "start_time": "2023-06-26T20:48:46.515391",
     "status": "completed"
    },
    "tags": []
   },
   "source": [
    "* ID = device identifier (int)\n",
    "* Product ID = Unique ID (string)\n",
    "* Type = type of product L = low (60% of data), M = medium (30% of data), H = high (10% of data) (string)\n",
    "* Air Temp = air temp in kelvin (float)\n",
    "* Process temp = (float)\n",
    "* rotational speed = speed in rpm (int)\n",
    "* torque = newton meter (float)\n",
    "* tool wear = time unit needed to wear down the product/tool (int)\n",
    "* machine failure = binary failure target variable (int)\n",
    "* \n",
    "* TWF = tool wear failure (binary, int)\n",
    "* HDF = heat dissipation failure (binary, int)\n",
    "* PWF = power failure (binary, int)\n",
    "* OSF = overstain failure (binary, int)\n",
    "* RNF = random failure (binary, int)"
   ]
  },
  {
   "cell_type": "code",
   "execution_count": 6,
   "id": "e3a90a03",
   "metadata": {
    "execution": {
     "iopub.execute_input": "2023-06-26T20:48:46.554327Z",
     "iopub.status.busy": "2023-06-26T20:48:46.553943Z",
     "iopub.status.idle": "2023-06-26T20:48:46.702175Z",
     "shell.execute_reply": "2023-06-26T20:48:46.701252Z"
    },
    "papermill": {
     "duration": 0.16448,
     "end_time": "2023-06-26T20:48:46.704497",
     "exception": false,
     "start_time": "2023-06-26T20:48:46.540017",
     "status": "completed"
    },
    "tags": []
   },
   "outputs": [
    {
     "data": {
      "text/html": [
       "<div>\n",
       "<style scoped>\n",
       "    .dataframe tbody tr th:only-of-type {\n",
       "        vertical-align: middle;\n",
       "    }\n",
       "\n",
       "    .dataframe tbody tr th {\n",
       "        vertical-align: top;\n",
       "    }\n",
       "\n",
       "    .dataframe thead th {\n",
       "        text-align: right;\n",
       "    }\n",
       "</style>\n",
       "<table border=\"1\" class=\"dataframe\">\n",
       "  <thead>\n",
       "    <tr style=\"text-align: right;\">\n",
       "      <th></th>\n",
       "      <th>id</th>\n",
       "      <th>Air temperature [K]</th>\n",
       "      <th>Process temperature [K]</th>\n",
       "      <th>Rotational speed [rpm]</th>\n",
       "      <th>Torque [Nm]</th>\n",
       "      <th>Tool wear [min]</th>\n",
       "      <th>Machine failure</th>\n",
       "      <th>TWF</th>\n",
       "      <th>HDF</th>\n",
       "      <th>PWF</th>\n",
       "      <th>OSF</th>\n",
       "      <th>RNF</th>\n",
       "    </tr>\n",
       "  </thead>\n",
       "  <tbody>\n",
       "    <tr>\n",
       "      <th>count</th>\n",
       "      <td>136429.000000</td>\n",
       "      <td>136429.000000</td>\n",
       "      <td>136429.000000</td>\n",
       "      <td>136429.000000</td>\n",
       "      <td>136429.000000</td>\n",
       "      <td>136429.000000</td>\n",
       "      <td>136429.000000</td>\n",
       "      <td>136429.000000</td>\n",
       "      <td>136429.000000</td>\n",
       "      <td>136429.000000</td>\n",
       "      <td>136429.000000</td>\n",
       "      <td>136429.000000</td>\n",
       "    </tr>\n",
       "    <tr>\n",
       "      <th>mean</th>\n",
       "      <td>68214.000000</td>\n",
       "      <td>299.862776</td>\n",
       "      <td>309.941070</td>\n",
       "      <td>1520.331110</td>\n",
       "      <td>40.348643</td>\n",
       "      <td>104.408901</td>\n",
       "      <td>0.015744</td>\n",
       "      <td>0.001554</td>\n",
       "      <td>0.005160</td>\n",
       "      <td>0.002397</td>\n",
       "      <td>0.003958</td>\n",
       "      <td>0.002258</td>\n",
       "    </tr>\n",
       "    <tr>\n",
       "      <th>std</th>\n",
       "      <td>39383.804275</td>\n",
       "      <td>1.862247</td>\n",
       "      <td>1.385173</td>\n",
       "      <td>138.736632</td>\n",
       "      <td>8.502229</td>\n",
       "      <td>63.965040</td>\n",
       "      <td>0.124486</td>\n",
       "      <td>0.039389</td>\n",
       "      <td>0.071649</td>\n",
       "      <td>0.048899</td>\n",
       "      <td>0.062789</td>\n",
       "      <td>0.047461</td>\n",
       "    </tr>\n",
       "    <tr>\n",
       "      <th>min</th>\n",
       "      <td>0.000000</td>\n",
       "      <td>295.300000</td>\n",
       "      <td>305.800000</td>\n",
       "      <td>1181.000000</td>\n",
       "      <td>3.800000</td>\n",
       "      <td>0.000000</td>\n",
       "      <td>0.000000</td>\n",
       "      <td>0.000000</td>\n",
       "      <td>0.000000</td>\n",
       "      <td>0.000000</td>\n",
       "      <td>0.000000</td>\n",
       "      <td>0.000000</td>\n",
       "    </tr>\n",
       "    <tr>\n",
       "      <th>25%</th>\n",
       "      <td>34107.000000</td>\n",
       "      <td>298.300000</td>\n",
       "      <td>308.700000</td>\n",
       "      <td>1432.000000</td>\n",
       "      <td>34.600000</td>\n",
       "      <td>48.000000</td>\n",
       "      <td>0.000000</td>\n",
       "      <td>0.000000</td>\n",
       "      <td>0.000000</td>\n",
       "      <td>0.000000</td>\n",
       "      <td>0.000000</td>\n",
       "      <td>0.000000</td>\n",
       "    </tr>\n",
       "    <tr>\n",
       "      <th>50%</th>\n",
       "      <td>68214.000000</td>\n",
       "      <td>300.000000</td>\n",
       "      <td>310.000000</td>\n",
       "      <td>1493.000000</td>\n",
       "      <td>40.400000</td>\n",
       "      <td>106.000000</td>\n",
       "      <td>0.000000</td>\n",
       "      <td>0.000000</td>\n",
       "      <td>0.000000</td>\n",
       "      <td>0.000000</td>\n",
       "      <td>0.000000</td>\n",
       "      <td>0.000000</td>\n",
       "    </tr>\n",
       "    <tr>\n",
       "      <th>75%</th>\n",
       "      <td>102321.000000</td>\n",
       "      <td>301.200000</td>\n",
       "      <td>310.900000</td>\n",
       "      <td>1580.000000</td>\n",
       "      <td>46.100000</td>\n",
       "      <td>159.000000</td>\n",
       "      <td>0.000000</td>\n",
       "      <td>0.000000</td>\n",
       "      <td>0.000000</td>\n",
       "      <td>0.000000</td>\n",
       "      <td>0.000000</td>\n",
       "      <td>0.000000</td>\n",
       "    </tr>\n",
       "    <tr>\n",
       "      <th>max</th>\n",
       "      <td>136428.000000</td>\n",
       "      <td>304.400000</td>\n",
       "      <td>313.800000</td>\n",
       "      <td>2886.000000</td>\n",
       "      <td>76.600000</td>\n",
       "      <td>253.000000</td>\n",
       "      <td>1.000000</td>\n",
       "      <td>1.000000</td>\n",
       "      <td>1.000000</td>\n",
       "      <td>1.000000</td>\n",
       "      <td>1.000000</td>\n",
       "      <td>1.000000</td>\n",
       "    </tr>\n",
       "  </tbody>\n",
       "</table>\n",
       "</div>"
      ],
      "text/plain": [
       "                  id Air temperature [K] Process temperature [K]  \\\n",
       "count  136429.000000       136429.000000           136429.000000   \n",
       "mean    68214.000000          299.862776              309.941070   \n",
       "std     39383.804275            1.862247                1.385173   \n",
       "min         0.000000          295.300000              305.800000   \n",
       "25%     34107.000000          298.300000              308.700000   \n",
       "50%     68214.000000          300.000000              310.000000   \n",
       "75%    102321.000000          301.200000              310.900000   \n",
       "max    136428.000000          304.400000              313.800000   \n",
       "\n",
       "      Rotational speed [rpm]    Torque [Nm] Tool wear [min] Machine failure  \\\n",
       "count          136429.000000  136429.000000   136429.000000   136429.000000   \n",
       "mean             1520.331110      40.348643      104.408901        0.015744   \n",
       "std               138.736632       8.502229       63.965040        0.124486   \n",
       "min              1181.000000       3.800000        0.000000        0.000000   \n",
       "25%              1432.000000      34.600000       48.000000        0.000000   \n",
       "50%              1493.000000      40.400000      106.000000        0.000000   \n",
       "75%              1580.000000      46.100000      159.000000        0.000000   \n",
       "max              2886.000000      76.600000      253.000000        1.000000   \n",
       "\n",
       "                 TWF            HDF            PWF            OSF  \\\n",
       "count  136429.000000  136429.000000  136429.000000  136429.000000   \n",
       "mean        0.001554       0.005160       0.002397       0.003958   \n",
       "std         0.039389       0.071649       0.048899       0.062789   \n",
       "min         0.000000       0.000000       0.000000       0.000000   \n",
       "25%         0.000000       0.000000       0.000000       0.000000   \n",
       "50%         0.000000       0.000000       0.000000       0.000000   \n",
       "75%         0.000000       0.000000       0.000000       0.000000   \n",
       "max         1.000000       1.000000       1.000000       1.000000   \n",
       "\n",
       "                 RNF  \n",
       "count  136429.000000  \n",
       "mean        0.002258  \n",
       "std         0.047461  \n",
       "min         0.000000  \n",
       "25%         0.000000  \n",
       "50%         0.000000  \n",
       "75%         0.000000  \n",
       "max         1.000000  "
      ]
     },
     "execution_count": 6,
     "metadata": {},
     "output_type": "execute_result"
    }
   ],
   "source": [
    "df.nunique(axis = 0)\n",
    "df.describe().apply(lambda s: s.apply(lambda x: format(x, 'f')))"
   ]
  },
  {
   "cell_type": "code",
   "execution_count": 7,
   "id": "0b76e8d5",
   "metadata": {
    "execution": {
     "iopub.execute_input": "2023-06-26T20:48:46.732275Z",
     "iopub.status.busy": "2023-06-26T20:48:46.731842Z",
     "iopub.status.idle": "2023-06-26T20:48:46.831838Z",
     "shell.execute_reply": "2023-06-26T20:48:46.830684Z"
    },
    "papermill": {
     "duration": 0.116764,
     "end_time": "2023-06-26T20:48:46.834374",
     "exception": false,
     "start_time": "2023-06-26T20:48:46.717610",
     "status": "completed"
    },
    "tags": []
   },
   "outputs": [
    {
     "data": {
      "text/plain": [
       "(136429, 14)"
      ]
     },
     "execution_count": 7,
     "metadata": {},
     "output_type": "execute_result"
    }
   ],
   "source": [
    "df.dropna(axis = 0)\n",
    "df.shape"
   ]
  },
  {
   "cell_type": "markdown",
   "id": "abd2cd7b",
   "metadata": {
    "papermill": {
     "duration": 0.012716,
     "end_time": "2023-06-26T20:48:46.860306",
     "exception": false,
     "start_time": "2023-06-26T20:48:46.847590",
     "status": "completed"
    },
    "tags": []
   },
   "source": [
    "**Explore relationships between predictor and target variables**"
   ]
  },
  {
   "cell_type": "code",
   "execution_count": 8,
   "id": "22317259",
   "metadata": {
    "execution": {
     "iopub.execute_input": "2023-06-26T20:48:46.888122Z",
     "iopub.status.busy": "2023-06-26T20:48:46.887702Z",
     "iopub.status.idle": "2023-06-26T20:48:47.486097Z",
     "shell.execute_reply": "2023-06-26T20:48:47.484956Z"
    },
    "papermill": {
     "duration": 0.615123,
     "end_time": "2023-06-26T20:48:47.488602",
     "exception": false,
     "start_time": "2023-06-26T20:48:46.873479",
     "status": "completed"
    },
    "tags": []
   },
   "outputs": [
    {
     "name": "stderr",
     "output_type": "stream",
     "text": [
      "/tmp/ipykernel_20/2500072798.py:1: FutureWarning: The default value of numeric_only in DataFrame.corr is deprecated. In a future version, it will default to False. Select only valid columns or specify the value of numeric_only to silence this warning.\n",
      "  corr = df.corr()\n"
     ]
    },
    {
     "data": {
      "text/plain": [
       "<Axes: >"
      ]
     },
     "execution_count": 8,
     "metadata": {},
     "output_type": "execute_result"
    },
    {
     "data": {
      "image/png": "[encoded data removed]",
      "text/plain": [
       "<Figure size 640x480 with 2 Axes>"
      ]
     },
     "metadata": {},
     "output_type": "display_data"
    }
   ],
   "source": [
    "corr = df.corr()\n",
    "sns.heatmap(corr, xticklabels = corr.columns, yticklabels = corr.columns, \n",
    "           annot = False, cmap = \"PiYG\")"
   ]
  },
  {
   "cell_type": "code",
   "execution_count": 9,
   "id": "841afb94",
   "metadata": {
    "execution": {
     "iopub.execute_input": "2023-06-26T20:48:47.520062Z",
     "iopub.status.busy": "2023-06-26T20:48:47.518890Z",
     "iopub.status.idle": "2023-06-26T20:48:47.528969Z",
     "shell.execute_reply": "2023-06-26T20:48:47.527845Z"
    },
    "papermill": {
     "duration": 0.028382,
     "end_time": "2023-06-26T20:48:47.531825",
     "exception": false,
     "start_time": "2023-06-26T20:48:47.503443",
     "status": "completed"
    },
    "tags": []
   },
   "outputs": [
    {
     "data": {
      "text/plain": [
       "Index(['id', 'Product ID', 'Type', 'AirTemp', 'ProcessTemp', 'RotSpeed',\n",
       "       'Torque', 'ToolWear', 'Machine failure', 'TWF', 'HDF', 'PWF', 'OSF',\n",
       "       'RNF'],\n",
       "      dtype='object')"
      ]
     },
     "execution_count": 9,
     "metadata": {},
     "output_type": "execute_result"
    }
   ],
   "source": [
    "df.rename(columns = {df.columns[3] : \"AirTemp\", df.columns[4] : \"ProcessTemp\", df.columns[5]: \"RotSpeed\", df.columns[6] : \"Torque\", df.columns[7]:\"ToolWear\"}, inplace = True)\n",
    "df.columns"
   ]
  },
  {
   "cell_type": "code",
   "execution_count": 10,
   "id": "222b4100",
   "metadata": {
    "execution": {
     "iopub.execute_input": "2023-06-26T20:48:47.562482Z",
     "iopub.status.busy": "2023-06-26T20:48:47.562045Z",
     "iopub.status.idle": "2023-06-26T20:48:47.576609Z",
     "shell.execute_reply": "2023-06-26T20:48:47.575449Z"
    },
    "papermill": {
     "duration": 0.03269,
     "end_time": "2023-06-26T20:48:47.578899",
     "exception": false,
     "start_time": "2023-06-26T20:48:47.546209",
     "status": "completed"
    },
    "tags": []
   },
   "outputs": [
    {
     "data": {
      "text/plain": [
       "Index(['id', 'Type', 'AirTemp', 'ProcessTemp', 'RotSpeed', 'Torque',\n",
       "       'ToolWear', 'Machine failure', 'TWF', 'HDF', 'PWF', 'OSF', 'RNF'],\n",
       "      dtype='object')"
      ]
     },
     "execution_count": 10,
     "metadata": {},
     "output_type": "execute_result"
    }
   ],
   "source": [
    "df = df.drop([\"Product ID\"], axis = 1)\n",
    "df.columns"
   ]
  },
  {
   "cell_type": "markdown",
   "id": "0d78edbc",
   "metadata": {
    "papermill": {
     "duration": 0.013903,
     "end_time": "2023-06-26T20:48:47.607210",
     "exception": false,
     "start_time": "2023-06-26T20:48:47.593307",
     "status": "completed"
    },
    "tags": []
   },
   "source": [
    "**Categorize type of predictor variables**"
   ]
  },
  {
   "cell_type": "code",
   "execution_count": 11,
   "id": "fb3ac1bf",
   "metadata": {
    "execution": {
     "iopub.execute_input": "2023-06-26T20:48:47.637272Z",
     "iopub.status.busy": "2023-06-26T20:48:47.636884Z",
     "iopub.status.idle": "2023-06-26T20:48:48.582172Z",
     "shell.execute_reply": "2023-06-26T20:48:48.581050Z"
    },
    "papermill": {
     "duration": 0.963451,
     "end_time": "2023-06-26T20:48:48.584914",
     "exception": false,
     "start_time": "2023-06-26T20:48:47.621463",
     "status": "completed"
    },
    "tags": []
   },
   "outputs": [
    {
     "name": "stderr",
     "output_type": "stream",
     "text": [
      "/tmp/ipykernel_20/2469373344.py:1: FutureWarning: The default value of numeric_only in DataFrame.corr is deprecated. In a future version, it will default to False. Select only valid columns or specify the value of numeric_only to silence this warning.\n",
      "  corr1 = df.corr()\n"
     ]
    },
    {
     "data": {
      "text/plain": [
       "<Axes: >"
      ]
     },
     "execution_count": 11,
     "metadata": {},
     "output_type": "execute_result"
    },
    {
     "data": {
      "image/png": "[encoded data removed]",
      "text/plain": [
       "<Figure size 640x480 with 2 Axes>"
      ]
     },
     "metadata": {},
     "output_type": "display_data"
    }
   ],
   "source": [
    "corr1 = df.corr()\n",
    "sns.heatmap(corr1, annot = True, fmt = '.2f')"
   ]
  },
  {
   "cell_type": "markdown",
   "id": "1526517b",
   "metadata": {
    "papermill": {
     "duration": 0.015539,
     "end_time": "2023-06-26T20:48:48.616118",
     "exception": false,
     "start_time": "2023-06-26T20:48:48.600579",
     "status": "completed"
    },
    "tags": []
   },
   "source": [
    "**Dataset Preprocessing:**"
   ]
  },
  {
   "cell_type": "markdown",
   "id": "37050982",
   "metadata": {
    "papermill": {
     "duration": 0.015905,
     "end_time": "2023-06-26T20:48:48.648143",
     "exception": false,
     "start_time": "2023-06-26T20:48:48.632238",
     "status": "completed"
    },
    "tags": []
   },
   "source": [
    "1. Train - Validation split\n",
    "2. Missing values = no missing values in this dataset\n",
    "3. Encoding categorical variables\n",
    "4. Data normalization"
   ]
  },
  {
   "cell_type": "code",
   "execution_count": 12,
   "id": "8a92abc2",
   "metadata": {
    "execution": {
     "iopub.execute_input": "2023-06-26T20:48:48.683131Z",
     "iopub.status.busy": "2023-06-26T20:48:48.682717Z",
     "iopub.status.idle": "2023-06-26T20:48:49.011640Z",
     "shell.execute_reply": "2023-06-26T20:48:49.010496Z"
    },
    "papermill": {
     "duration": 0.348249,
     "end_time": "2023-06-26T20:48:49.014135",
     "exception": false,
     "start_time": "2023-06-26T20:48:48.665886",
     "status": "completed"
    },
    "tags": []
   },
   "outputs": [
    {
     "data": {
      "text/html": [
       "<div>\n",
       "<style scoped>\n",
       "    .dataframe tbody tr th:only-of-type {\n",
       "        vertical-align: middle;\n",
       "    }\n",
       "\n",
       "    .dataframe tbody tr th {\n",
       "        vertical-align: top;\n",
       "    }\n",
       "\n",
       "    .dataframe thead th {\n",
       "        text-align: right;\n",
       "    }\n",
       "</style>\n",
       "<table border=\"1\" class=\"dataframe\">\n",
       "  <thead>\n",
       "    <tr style=\"text-align: right;\">\n",
       "      <th></th>\n",
       "      <th>id</th>\n",
       "      <th>Type</th>\n",
       "      <th>AirTemp</th>\n",
       "      <th>ProcessTemp</th>\n",
       "      <th>RotSpeed</th>\n",
       "      <th>Torque</th>\n",
       "      <th>ToolWear</th>\n",
       "      <th>TWF</th>\n",
       "      <th>HDF</th>\n",
       "      <th>PWF</th>\n",
       "      <th>OSF</th>\n",
       "      <th>RNF</th>\n",
       "    </tr>\n",
       "  </thead>\n",
       "  <tbody>\n",
       "    <tr>\n",
       "      <th>77360</th>\n",
       "      <td>77360</td>\n",
       "      <td>L</td>\n",
       "      <td>298.7</td>\n",
       "      <td>310.1</td>\n",
       "      <td>1558</td>\n",
       "      <td>43.5</td>\n",
       "      <td>44</td>\n",
       "      <td>0</td>\n",
       "      <td>0</td>\n",
       "      <td>0</td>\n",
       "      <td>0</td>\n",
       "      <td>0</td>\n",
       "    </tr>\n",
       "    <tr>\n",
       "      <th>28215</th>\n",
       "      <td>28215</td>\n",
       "      <td>L</td>\n",
       "      <td>299.7</td>\n",
       "      <td>310.6</td>\n",
       "      <td>1537</td>\n",
       "      <td>40.5</td>\n",
       "      <td>73</td>\n",
       "      <td>0</td>\n",
       "      <td>0</td>\n",
       "      <td>0</td>\n",
       "      <td>0</td>\n",
       "      <td>0</td>\n",
       "    </tr>\n",
       "    <tr>\n",
       "      <th>60993</th>\n",
       "      <td>60993</td>\n",
       "      <td>L</td>\n",
       "      <td>298.0</td>\n",
       "      <td>308.7</td>\n",
       "      <td>1620</td>\n",
       "      <td>34.3</td>\n",
       "      <td>179</td>\n",
       "      <td>0</td>\n",
       "      <td>0</td>\n",
       "      <td>0</td>\n",
       "      <td>0</td>\n",
       "      <td>0</td>\n",
       "    </tr>\n",
       "    <tr>\n",
       "      <th>3219</th>\n",
       "      <td>3219</td>\n",
       "      <td>L</td>\n",
       "      <td>298.4</td>\n",
       "      <td>308.0</td>\n",
       "      <td>1508</td>\n",
       "      <td>44.0</td>\n",
       "      <td>25</td>\n",
       "      <td>0</td>\n",
       "      <td>0</td>\n",
       "      <td>0</td>\n",
       "      <td>0</td>\n",
       "      <td>0</td>\n",
       "    </tr>\n",
       "    <tr>\n",
       "      <th>65369</th>\n",
       "      <td>65369</td>\n",
       "      <td>L</td>\n",
       "      <td>297.4</td>\n",
       "      <td>309.0</td>\n",
       "      <td>1477</td>\n",
       "      <td>44.7</td>\n",
       "      <td>135</td>\n",
       "      <td>0</td>\n",
       "      <td>0</td>\n",
       "      <td>0</td>\n",
       "      <td>0</td>\n",
       "      <td>0</td>\n",
       "    </tr>\n",
       "  </tbody>\n",
       "</table>\n",
       "</div>"
      ],
      "text/plain": [
       "          id Type  AirTemp  ProcessTemp  RotSpeed  Torque  ToolWear  TWF  HDF  \\\n",
       "77360  77360    L    298.7        310.1      1558    43.5        44    0    0   \n",
       "28215  28215    L    299.7        310.6      1537    40.5        73    0    0   \n",
       "60993  60993    L    298.0        308.7      1620    34.3       179    0    0   \n",
       "3219    3219    L    298.4        308.0      1508    44.0        25    0    0   \n",
       "65369  65369    L    297.4        309.0      1477    44.7       135    0    0   \n",
       "\n",
       "       PWF  OSF  RNF  \n",
       "77360    0    0    0  \n",
       "28215    0    0    0  \n",
       "60993    0    0    0  \n",
       "3219     0    0    0  \n",
       "65369    0    0    0  "
      ]
     },
     "execution_count": 12,
     "metadata": {},
     "output_type": "execute_result"
    }
   ],
   "source": [
    "complete_train = df.drop([\"Machine failure\"], axis = 1)\n",
    "complete_y = df[\"Machine failure\"]\n",
    "\n",
    "# Splitting dataset into training and validation sets (75-25)\n",
    "\n",
    "from sklearn.model_selection import train_test_split\n",
    "\n",
    "train_X, val_X, train_y, val_y = train_test_split(complete_train, complete_y)\n",
    "\n",
    "train_X.head()"
   ]
  },
  {
   "cell_type": "code",
   "execution_count": 13,
   "id": "394e83c2",
   "metadata": {
    "execution": {
     "iopub.execute_input": "2023-06-26T20:48:49.049843Z",
     "iopub.status.busy": "2023-06-26T20:48:49.048670Z",
     "iopub.status.idle": "2023-06-26T20:48:49.203329Z",
     "shell.execute_reply": "2023-06-26T20:48:49.202483Z"
    },
    "papermill": {
     "duration": 0.175403,
     "end_time": "2023-06-26T20:48:49.205756",
     "exception": false,
     "start_time": "2023-06-26T20:48:49.030353",
     "status": "completed"
    },
    "tags": []
   },
   "outputs": [
    {
     "data": {
      "text/html": [
       "<div>\n",
       "<style scoped>\n",
       "    .dataframe tbody tr th:only-of-type {\n",
       "        vertical-align: middle;\n",
       "    }\n",
       "\n",
       "    .dataframe tbody tr th {\n",
       "        vertical-align: top;\n",
       "    }\n",
       "\n",
       "    .dataframe thead th {\n",
       "        text-align: right;\n",
       "    }\n",
       "</style>\n",
       "<table border=\"1\" class=\"dataframe\">\n",
       "  <thead>\n",
       "    <tr style=\"text-align: right;\">\n",
       "      <th></th>\n",
       "      <th>cat__Type_H</th>\n",
       "      <th>cat__Type_L</th>\n",
       "      <th>cat__Type_M</th>\n",
       "      <th>num__AirTemp</th>\n",
       "      <th>num__ProcessTemp</th>\n",
       "      <th>num__RotSpeed</th>\n",
       "      <th>num__Torque</th>\n",
       "      <th>num__ToolWear</th>\n",
       "      <th>skip__id</th>\n",
       "      <th>skip__TWF</th>\n",
       "      <th>skip__HDF</th>\n",
       "      <th>skip__PWF</th>\n",
       "      <th>skip__OSF</th>\n",
       "      <th>skip__RNF</th>\n",
       "    </tr>\n",
       "  </thead>\n",
       "  <tbody>\n",
       "    <tr>\n",
       "      <th>0</th>\n",
       "      <td>0.0</td>\n",
       "      <td>1.0</td>\n",
       "      <td>0.0</td>\n",
       "      <td>-0.623047</td>\n",
       "      <td>0.118097</td>\n",
       "      <td>0.274638</td>\n",
       "      <td>0.369106</td>\n",
       "      <td>-0.942647</td>\n",
       "      <td>77360.0</td>\n",
       "      <td>0.0</td>\n",
       "      <td>0.0</td>\n",
       "      <td>0.0</td>\n",
       "      <td>0.0</td>\n",
       "      <td>0.0</td>\n",
       "    </tr>\n",
       "    <tr>\n",
       "      <th>1</th>\n",
       "      <td>0.0</td>\n",
       "      <td>1.0</td>\n",
       "      <td>0.0</td>\n",
       "      <td>-0.085579</td>\n",
       "      <td>0.479207</td>\n",
       "      <td>0.122544</td>\n",
       "      <td>0.016067</td>\n",
       "      <td>-0.489028</td>\n",
       "      <td>28215.0</td>\n",
       "      <td>0.0</td>\n",
       "      <td>0.0</td>\n",
       "      <td>0.0</td>\n",
       "      <td>0.0</td>\n",
       "      <td>0.0</td>\n",
       "    </tr>\n",
       "    <tr>\n",
       "      <th>2</th>\n",
       "      <td>0.0</td>\n",
       "      <td>1.0</td>\n",
       "      <td>0.0</td>\n",
       "      <td>-0.999274</td>\n",
       "      <td>-0.893011</td>\n",
       "      <td>0.723678</td>\n",
       "      <td>-0.713548</td>\n",
       "      <td>1.169026</td>\n",
       "      <td>60993.0</td>\n",
       "      <td>0.0</td>\n",
       "      <td>0.0</td>\n",
       "      <td>0.0</td>\n",
       "      <td>0.0</td>\n",
       "      <td>0.0</td>\n",
       "    </tr>\n",
       "    <tr>\n",
       "      <th>3</th>\n",
       "      <td>0.0</td>\n",
       "      <td>1.0</td>\n",
       "      <td>0.0</td>\n",
       "      <td>-0.784287</td>\n",
       "      <td>-1.398564</td>\n",
       "      <td>-0.087490</td>\n",
       "      <td>0.427946</td>\n",
       "      <td>-1.239845</td>\n",
       "      <td>3219.0</td>\n",
       "      <td>0.0</td>\n",
       "      <td>0.0</td>\n",
       "      <td>0.0</td>\n",
       "      <td>0.0</td>\n",
       "      <td>0.0</td>\n",
       "    </tr>\n",
       "    <tr>\n",
       "      <th>4</th>\n",
       "      <td>0.0</td>\n",
       "      <td>1.0</td>\n",
       "      <td>0.0</td>\n",
       "      <td>-1.321755</td>\n",
       "      <td>-0.676345</td>\n",
       "      <td>-0.312010</td>\n",
       "      <td>0.510322</td>\n",
       "      <td>0.480777</td>\n",
       "      <td>65369.0</td>\n",
       "      <td>0.0</td>\n",
       "      <td>0.0</td>\n",
       "      <td>0.0</td>\n",
       "      <td>0.0</td>\n",
       "      <td>0.0</td>\n",
       "    </tr>\n",
       "  </tbody>\n",
       "</table>\n",
       "</div>"
      ],
      "text/plain": [
       "   cat__Type_H  cat__Type_L  cat__Type_M  num__AirTemp  num__ProcessTemp  \\\n",
       "0          0.0          1.0          0.0     -0.623047          0.118097   \n",
       "1          0.0          1.0          0.0     -0.085579          0.479207   \n",
       "2          0.0          1.0          0.0     -0.999274         -0.893011   \n",
       "3          0.0          1.0          0.0     -0.784287         -1.398564   \n",
       "4          0.0          1.0          0.0     -1.321755         -0.676345   \n",
       "\n",
       "   num__RotSpeed  num__Torque  num__ToolWear  skip__id  skip__TWF  skip__HDF  \\\n",
       "0       0.274638     0.369106      -0.942647   77360.0        0.0        0.0   \n",
       "1       0.122544     0.016067      -0.489028   28215.0        0.0        0.0   \n",
       "2       0.723678    -0.713548       1.169026   60993.0        0.0        0.0   \n",
       "3      -0.087490     0.427946      -1.239845    3219.0        0.0        0.0   \n",
       "4      -0.312010     0.510322       0.480777   65369.0        0.0        0.0   \n",
       "\n",
       "   skip__PWF  skip__OSF  skip__RNF  \n",
       "0        0.0        0.0        0.0  \n",
       "1        0.0        0.0        0.0  \n",
       "2        0.0        0.0        0.0  \n",
       "3        0.0        0.0        0.0  \n",
       "4        0.0        0.0        0.0  "
      ]
     },
     "execution_count": 13,
     "metadata": {},
     "output_type": "execute_result"
    }
   ],
   "source": [
    "# Variable types:\n",
    "# Continuous = [\"AirTemp\", \"ProcessTemp\", \"RotSpeed\", \"Torque\", \"ToolWear\"]\n",
    "# Categorical = [\"Type\"]\n",
    "\n",
    "# Normalize continuous variables:\n",
    "\n",
    "from sklearn.preprocessing import StandardScaler\n",
    "from sklearn.preprocessing import OneHotEncoder\n",
    "from sklearn.compose import ColumnTransformer\n",
    "\n",
    "transformers = [\n",
    "    ('cat', OneHotEncoder(handle_unknown = 'ignore'), ['Type']),\n",
    "    ('num', StandardScaler(), ['AirTemp', 'ProcessTemp', 'RotSpeed', 'Torque', 'ToolWear']),\n",
    "    ('skip', 'passthrough', ['id', 'TWF', 'HDF', 'PWF', 'OSF', 'RNF'])\n",
    "]\n",
    "\n",
    "col_transformer = ColumnTransformer(transformers)\n",
    "\n",
    "#train_X_num = pd.DataFrame(sc.fit_transform(train_X_num), columns = train_X_num.columns)\n",
    "#val_X_num = pd.DataFrame(sc.transform(val_X_num), columns = val_X_num.columns)\n",
    "\n",
    "#train_X_num.head()\n",
    "\n",
    "train_X_new = pd.DataFrame(col_transformer.fit_transform(train_X), columns = col_transformer.get_feature_names_out())\n",
    "val_X_new = pd.DataFrame(col_transformer.transform(val_X), columns = col_transformer.get_feature_names_out())\n",
    "\n",
    "train_X_new.head()"
   ]
  },
  {
   "cell_type": "markdown",
   "id": "b4b71332",
   "metadata": {
    "papermill": {
     "duration": 0.016283,
     "end_time": "2023-06-26T20:48:49.238609",
     "exception": false,
     "start_time": "2023-06-26T20:48:49.222326",
     "status": "completed"
    },
    "tags": []
   },
   "source": [
    "# Logistic Regression"
   ]
  },
  {
   "cell_type": "code",
   "execution_count": 14,
   "id": "e6e2d0c0",
   "metadata": {
    "execution": {
     "iopub.execute_input": "2023-06-26T20:48:49.275250Z",
     "iopub.status.busy": "2023-06-26T20:48:49.273884Z",
     "iopub.status.idle": "2023-06-26T20:48:50.166461Z",
     "shell.execute_reply": "2023-06-26T20:48:50.165640Z"
    },
    "papermill": {
     "duration": 0.913452,
     "end_time": "2023-06-26T20:48:50.168666",
     "exception": false,
     "start_time": "2023-06-26T20:48:49.255214",
     "status": "completed"
    },
    "tags": []
   },
   "outputs": [
    {
     "name": "stdout",
     "output_type": "stream",
     "text": [
      "Model accuracy =  0.9807376568546968\n",
      "Logistic Regression AUROC =  0.9312264022650769\n"
     ]
    },
    {
     "data": {
      "text/plain": [
       "<Axes: >"
      ]
     },
     "execution_count": 14,
     "metadata": {},
     "output_type": "execute_result"
    },
    {
     "data": {
      "image/png": "[encoded data removed]",
      "text/plain": [
       "<Figure size 640x480 with 2 Axes>"
      ]
     },
     "metadata": {},
     "output_type": "display_data"
    }
   ],
   "source": [
    "from sklearn.linear_model import LogisticRegression\n",
    "from sklearn.metrics import roc_curve\n",
    "from sklearn.metrics import roc_auc_score\n",
    "from sklearn.metrics import accuracy_score\n",
    "from sklearn.metrics import confusion_matrix\n",
    "\n",
    "# Fit a logistic regression model on train_X_new and train_y\n",
    "\n",
    "model = LogisticRegression(solver = \"newton-cholesky\", class_weight = \"balanced\")\n",
    "model.fit(train_X_new, train_y)\n",
    "\n",
    "# Predict class probabilities for validation set\n",
    "\n",
    "pred_y = model.predict(val_X_new)\n",
    "\n",
    "val_probs = model.predict_proba(val_X_new)\n",
    "\n",
    "# Calculate accuracy of prediction using AUROC curve scores\n",
    "\n",
    "auc_score = roc_auc_score(val_y, val_probs[:,1])\n",
    "\n",
    "print(\"Model accuracy = \", accuracy_score(val_y, pred_y))\n",
    "print(\"Logistic Regression AUROC = \", auc_score)\n",
    "\n",
    "cm = pd.DataFrame(confusion_matrix(val_y, pred_y))\n",
    "sns.heatmap(cm, annot = True, cmap = \"YlGnBu\")"
   ]
  },
  {
   "cell_type": "code",
   "execution_count": 15,
   "id": "1fb1e51e",
   "metadata": {
    "execution": {
     "iopub.execute_input": "2023-06-26T20:48:50.207609Z",
     "iopub.status.busy": "2023-06-26T20:48:50.207157Z",
     "iopub.status.idle": "2023-06-26T20:48:50.214530Z",
     "shell.execute_reply": "2023-06-26T20:48:50.213375Z"
    },
    "papermill": {
     "duration": 0.028654,
     "end_time": "2023-06-26T20:48:50.216907",
     "exception": false,
     "start_time": "2023-06-26T20:48:50.188253",
     "status": "completed"
    },
    "tags": []
   },
   "outputs": [
    {
     "data": {
      "text/plain": [
       "Index(['id', 'Product ID', 'Type', 'Air temperature [K]',\n",
       "       'Process temperature [K]', 'Rotational speed [rpm]', 'Torque [Nm]',\n",
       "       'Tool wear [min]', 'TWF', 'HDF', 'PWF', 'OSF', 'RNF'],\n",
       "      dtype='object')"
      ]
     },
     "execution_count": 15,
     "metadata": {},
     "output_type": "execute_result"
    }
   ],
   "source": [
    "test_df.columns"
   ]
  },
  {
   "cell_type": "code",
   "execution_count": 16,
   "id": "616be3c1",
   "metadata": {
    "execution": {
     "iopub.execute_input": "2023-06-26T20:48:50.253858Z",
     "iopub.status.busy": "2023-06-26T20:48:50.253410Z",
     "iopub.status.idle": "2023-06-26T20:48:50.341693Z",
     "shell.execute_reply": "2023-06-26T20:48:50.340461Z"
    },
    "papermill": {
     "duration": 0.110061,
     "end_time": "2023-06-26T20:48:50.344251",
     "exception": false,
     "start_time": "2023-06-26T20:48:50.234190",
     "status": "completed"
    },
    "tags": []
   },
   "outputs": [
    {
     "data": {
      "text/html": [
       "<div>\n",
       "<style scoped>\n",
       "    .dataframe tbody tr th:only-of-type {\n",
       "        vertical-align: middle;\n",
       "    }\n",
       "\n",
       "    .dataframe tbody tr th {\n",
       "        vertical-align: top;\n",
       "    }\n",
       "\n",
       "    .dataframe thead th {\n",
       "        text-align: right;\n",
       "    }\n",
       "</style>\n",
       "<table border=\"1\" class=\"dataframe\">\n",
       "  <thead>\n",
       "    <tr style=\"text-align: right;\">\n",
       "      <th></th>\n",
       "      <th>cat__Type_H</th>\n",
       "      <th>cat__Type_L</th>\n",
       "      <th>cat__Type_M</th>\n",
       "      <th>num__AirTemp</th>\n",
       "      <th>num__ProcessTemp</th>\n",
       "      <th>num__RotSpeed</th>\n",
       "      <th>num__Torque</th>\n",
       "      <th>num__ToolWear</th>\n",
       "      <th>skip__id</th>\n",
       "      <th>skip__TWF</th>\n",
       "      <th>skip__HDF</th>\n",
       "      <th>skip__PWF</th>\n",
       "      <th>skip__OSF</th>\n",
       "      <th>skip__RNF</th>\n",
       "    </tr>\n",
       "  </thead>\n",
       "  <tbody>\n",
       "    <tr>\n",
       "      <th>0</th>\n",
       "      <td>0.0</td>\n",
       "      <td>1.0</td>\n",
       "      <td>0.0</td>\n",
       "      <td>1.311838</td>\n",
       "      <td>1.129205</td>\n",
       "      <td>-0.152674</td>\n",
       "      <td>-0.278133</td>\n",
       "      <td>-0.692374</td>\n",
       "      <td>136429.0</td>\n",
       "      <td>0.0</td>\n",
       "      <td>0.0</td>\n",
       "      <td>0.0</td>\n",
       "      <td>0.0</td>\n",
       "      <td>0.0</td>\n",
       "    </tr>\n",
       "    <tr>\n",
       "      <th>1</th>\n",
       "      <td>0.0</td>\n",
       "      <td>1.0</td>\n",
       "      <td>0.0</td>\n",
       "      <td>0.989357</td>\n",
       "      <td>0.768095</td>\n",
       "      <td>1.397237</td>\n",
       "      <td>-1.360787</td>\n",
       "      <td>-1.364981</td>\n",
       "      <td>136430.0</td>\n",
       "      <td>0.0</td>\n",
       "      <td>0.0</td>\n",
       "      <td>0.0</td>\n",
       "      <td>0.0</td>\n",
       "      <td>0.0</td>\n",
       "    </tr>\n",
       "    <tr>\n",
       "      <th>2</th>\n",
       "      <td>0.0</td>\n",
       "      <td>1.0</td>\n",
       "      <td>0.0</td>\n",
       "      <td>0.774370</td>\n",
       "      <td>0.334763</td>\n",
       "      <td>0.035633</td>\n",
       "      <td>-0.313437</td>\n",
       "      <td>-0.129261</td>\n",
       "      <td>136431.0</td>\n",
       "      <td>0.0</td>\n",
       "      <td>0.0</td>\n",
       "      <td>0.0</td>\n",
       "      <td>0.0</td>\n",
       "      <td>0.0</td>\n",
       "    </tr>\n",
       "    <tr>\n",
       "      <th>3</th>\n",
       "      <td>0.0</td>\n",
       "      <td>0.0</td>\n",
       "      <td>1.0</td>\n",
       "      <td>0.129408</td>\n",
       "      <td>-0.243013</td>\n",
       "      <td>-0.297525</td>\n",
       "      <td>0.851594</td>\n",
       "      <td>-1.552686</td>\n",
       "      <td>136432.0</td>\n",
       "      <td>0.0</td>\n",
       "      <td>0.0</td>\n",
       "      <td>0.0</td>\n",
       "      <td>0.0</td>\n",
       "      <td>0.0</td>\n",
       "    </tr>\n",
       "    <tr>\n",
       "      <th>4</th>\n",
       "      <td>0.0</td>\n",
       "      <td>0.0</td>\n",
       "      <td>1.0</td>\n",
       "      <td>1.903053</td>\n",
       "      <td>1.706981</td>\n",
       "      <td>-0.036792</td>\n",
       "      <td>0.110211</td>\n",
       "      <td>0.152295</td>\n",
       "      <td>136433.0</td>\n",
       "      <td>0.0</td>\n",
       "      <td>0.0</td>\n",
       "      <td>0.0</td>\n",
       "      <td>0.0</td>\n",
       "      <td>0.0</td>\n",
       "    </tr>\n",
       "  </tbody>\n",
       "</table>\n",
       "</div>"
      ],
      "text/plain": [
       "   cat__Type_H  cat__Type_L  cat__Type_M  num__AirTemp  num__ProcessTemp  \\\n",
       "0          0.0          1.0          0.0      1.311838          1.129205   \n",
       "1          0.0          1.0          0.0      0.989357          0.768095   \n",
       "2          0.0          1.0          0.0      0.774370          0.334763   \n",
       "3          0.0          0.0          1.0      0.129408         -0.243013   \n",
       "4          0.0          0.0          1.0      1.903053          1.706981   \n",
       "\n",
       "   num__RotSpeed  num__Torque  num__ToolWear  skip__id  skip__TWF  skip__HDF  \\\n",
       "0      -0.152674    -0.278133      -0.692374  136429.0        0.0        0.0   \n",
       "1       1.397237    -1.360787      -1.364981  136430.0        0.0        0.0   \n",
       "2       0.035633    -0.313437      -0.129261  136431.0        0.0        0.0   \n",
       "3      -0.297525     0.851594      -1.552686  136432.0        0.0        0.0   \n",
       "4      -0.036792     0.110211       0.152295  136433.0        0.0        0.0   \n",
       "\n",
       "   skip__PWF  skip__OSF  skip__RNF  \n",
       "0        0.0        0.0        0.0  \n",
       "1        0.0        0.0        0.0  \n",
       "2        0.0        0.0        0.0  \n",
       "3        0.0        0.0        0.0  \n",
       "4        0.0        0.0        0.0  "
      ]
     },
     "execution_count": 16,
     "metadata": {},
     "output_type": "execute_result"
    }
   ],
   "source": [
    "# Prediction 1 using simple logistic regression on the test set (submission 1)\n",
    "\n",
    "# Apply data transformations as before\n",
    "\n",
    "test_df.rename(columns = {test_df.columns[3] : \"AirTemp\", test_df.columns[4] : \"ProcessTemp\", test_df.columns[5]: \"RotSpeed\", test_df.columns[6] : \"Torque\", test_df.columns[7]:\"ToolWear\"}, inplace = True)\n",
    "test_df = test_df.drop([\"Product ID\"], axis = 1)\n",
    "\n",
    "#test_df.columns\n",
    "\n",
    "test_df_new = pd.DataFrame(col_transformer.transform(test_df), columns = col_transformer.get_feature_names_out())\n",
    "test_df_new.head()"
   ]
  },
  {
   "cell_type": "code",
   "execution_count": 17,
   "id": "068f777e",
   "metadata": {
    "execution": {
     "iopub.execute_input": "2023-06-26T20:48:50.381945Z",
     "iopub.status.busy": "2023-06-26T20:48:50.381557Z",
     "iopub.status.idle": "2023-06-26T20:48:50.836669Z",
     "shell.execute_reply": "2023-06-26T20:48:50.835534Z"
    },
    "papermill": {
     "duration": 0.477316,
     "end_time": "2023-06-26T20:48:50.839488",
     "exception": false,
     "start_time": "2023-06-26T20:48:50.362172",
     "status": "completed"
    },
    "tags": []
   },
   "outputs": [],
   "source": [
    "pred_sub = model.predict_proba(test_df_new)[:,1]\n",
    "sub1 = pd.DataFrame(pred_sub, columns = ['Machine failure'])\n",
    "ex_col = test_df[[\"id\"]]\n",
    "submission = ex_col.join(sub1)\n",
    "\n",
    "submission.head()\n",
    "submission.to_csv(\"submission_logreg.csv\", index = False)"
   ]
  },
  {
   "cell_type": "markdown",
   "id": "c8d0b3f4",
   "metadata": {
    "papermill": {
     "duration": 0.017432,
     "end_time": "2023-06-26T20:48:50.874917",
     "exception": false,
     "start_time": "2023-06-26T20:48:50.857485",
     "status": "completed"
    },
    "tags": []
   },
   "source": [
    "# Logistic Regression with Cross-Validation"
   ]
  },
  {
   "cell_type": "code",
   "execution_count": 18,
   "id": "368c0360",
   "metadata": {
    "execution": {
     "iopub.execute_input": "2023-06-26T20:48:50.912332Z",
     "iopub.status.busy": "2023-06-26T20:48:50.911942Z",
     "iopub.status.idle": "2023-06-26T20:48:53.315910Z",
     "shell.execute_reply": "2023-06-26T20:48:53.314742Z"
    },
    "papermill": {
     "duration": 2.427394,
     "end_time": "2023-06-26T20:48:53.320149",
     "exception": false,
     "start_time": "2023-06-26T20:48:50.892755",
     "status": "completed"
    },
    "tags": []
   },
   "outputs": [
    {
     "name": "stdout",
     "output_type": "stream",
     "text": [
      "Cross validation AUROC =  0.935945595737303\n"
     ]
    }
   ],
   "source": [
    "from sklearn.model_selection import cross_val_score\n",
    "\n",
    "train_X_complete = pd.DataFrame(col_transformer.fit_transform(complete_train), columns = col_transformer.get_feature_names_out())\n",
    "\n",
    "cv_scores = cross_val_score(model, train_X_complete, complete_y, cv = 5, scoring = 'roc_auc')\n",
    "\n",
    "print(\"Cross validation AUROC = \", cv_scores.mean())"
   ]
  },
  {
   "cell_type": "markdown",
   "id": "5acb345f",
   "metadata": {
    "papermill": {
     "duration": 0.03695,
     "end_time": "2023-06-26T20:48:53.394264",
     "exception": false,
     "start_time": "2023-06-26T20:48:53.357314",
     "status": "completed"
    },
    "tags": []
   },
   "source": [
    "5-fold cross validation performs only slightly better than logistic regression"
   ]
  },
  {
   "cell_type": "markdown",
   "id": "ed67709c",
   "metadata": {
    "papermill": {
     "duration": 0.017594,
     "end_time": "2023-06-26T20:48:53.440871",
     "exception": false,
     "start_time": "2023-06-26T20:48:53.423277",
     "status": "completed"
    },
    "tags": []
   },
   "source": [
    "# Decision Tree Classifier"
   ]
  },
  {
   "cell_type": "code",
   "execution_count": 19,
   "id": "95490344",
   "metadata": {
    "execution": {
     "iopub.execute_input": "2023-06-26T20:48:53.478622Z",
     "iopub.status.busy": "2023-06-26T20:48:53.478188Z",
     "iopub.status.idle": "2023-06-26T20:48:55.458728Z",
     "shell.execute_reply": "2023-06-26T20:48:55.457551Z"
    },
    "papermill": {
     "duration": 2.002785,
     "end_time": "2023-06-26T20:48:55.461602",
     "exception": false,
     "start_time": "2023-06-26T20:48:53.458817",
     "status": "completed"
    },
    "tags": []
   },
   "outputs": [
    {
     "name": "stdout",
     "output_type": "stream",
     "text": [
      "Model accuracy =  0.992787615808608\n",
      "Decision Tree AUROC =  0.8720174111092411\n"
     ]
    },
    {
     "data": {
      "text/plain": [
       "<Axes: >"
      ]
     },
     "execution_count": 19,
     "metadata": {},
     "output_type": "execute_result"
    },
    {
     "data": {
      "image/png": "[encoded data removed]",
      "text/plain": [
       "<Figure size 640x480 with 2 Axes>"
      ]
     },
     "metadata": {},
     "output_type": "display_data"
    }
   ],
   "source": [
    "from sklearn.tree import DecisionTreeClassifier\n",
    "\n",
    "model_dt = DecisionTreeClassifier(class_weight = 'balanced')\n",
    "\n",
    "model_dt.fit(train_X_new, train_y)\n",
    "\n",
    "pred_y = model_dt.predict(val_X_new)\n",
    "\n",
    "val_probs = model_dt.predict_proba(val_X_new)\n",
    "\n",
    "# Calculate accuracy of prediction using AUROC curve scores\n",
    "\n",
    "auc_score = roc_auc_score(val_y, val_probs[:,1])\n",
    "\n",
    "print(\"Model accuracy = \", accuracy_score(val_y, pred_y))\n",
    "print(\"Decision Tree AUROC = \", auc_score)\n",
    "\n",
    "cm = pd.DataFrame(confusion_matrix(val_y, pred_y))\n",
    "sns.heatmap(cm, annot = True, cmap = \"YlGnBu\")"
   ]
  },
  {
   "cell_type": "markdown",
   "id": "fc3e100c",
   "metadata": {
    "papermill": {
     "duration": 0.018169,
     "end_time": "2023-06-26T20:48:55.498883",
     "exception": false,
     "start_time": "2023-06-26T20:48:55.480714",
     "status": "completed"
    },
    "tags": []
   },
   "source": [
    "> Does slighly poorer than simple logistic regression.. try tuning params to see if it does better?"
   ]
  },
  {
   "cell_type": "markdown",
   "id": "3da42228",
   "metadata": {
    "papermill": {
     "duration": 0.018104,
     "end_time": "2023-06-26T20:48:55.535380",
     "exception": false,
     "start_time": "2023-06-26T20:48:55.517276",
     "status": "completed"
    },
    "tags": []
   },
   "source": [
    "# Random Forest Classifier"
   ]
  },
  {
   "cell_type": "code",
   "execution_count": 20,
   "id": "887c379f",
   "metadata": {
    "execution": {
     "iopub.execute_input": "2023-06-26T20:48:55.574756Z",
     "iopub.status.busy": "2023-06-26T20:48:55.573741Z",
     "iopub.status.idle": "2023-06-26T20:50:46.130526Z",
     "shell.execute_reply": "2023-06-26T20:50:46.129312Z"
    },
    "papermill": {
     "duration": 110.579297,
     "end_time": "2023-06-26T20:50:46.133107",
     "exception": false,
     "start_time": "2023-06-26T20:48:55.553810",
     "status": "completed"
    },
    "tags": []
   },
   "outputs": [
    {
     "name": "stdout",
     "output_type": "stream",
     "text": [
      "Model accuracy =  0.995983347015363\n",
      "Random Forest AUROC =  0.9518713438995305\n"
     ]
    },
    {
     "data": {
      "text/plain": [
       "<Axes: >"
      ]
     },
     "execution_count": 20,
     "metadata": {},
     "output_type": "execute_result"
    },
    {
     "data": {
      "image/png": "[encoded data removed]",
      "text/plain": [
       "<Figure size 640x480 with 2 Axes>"
      ]
     },
     "metadata": {},
     "output_type": "display_data"
    }
   ],
   "source": [
    "from sklearn.ensemble import RandomForestClassifier\n",
    "\n",
    "model_rf = RandomForestClassifier(n_estimators = 500, class_weight = 'balanced')\n",
    "\n",
    "model_rf.fit(train_X_new, train_y)\n",
    "\n",
    "pred_y = model_rf.predict(val_X_new)\n",
    "\n",
    "val_probs = model_rf.predict_proba(val_X_new)\n",
    "\n",
    "# Calculate accuracy of prediction using AUROC curve scores\n",
    "\n",
    "auc_score = roc_auc_score(val_y, val_probs[:,1])\n",
    "\n",
    "print(\"Model accuracy = \", accuracy_score(val_y, pred_y))\n",
    "print(\"Random Forest AUROC = \", auc_score)\n",
    "\n",
    "cm = pd.DataFrame(confusion_matrix(val_y, pred_y))\n",
    "sns.heatmap(cm, annot = True, cmap = \"YlGnBu\")"
   ]
  },
  {
   "cell_type": "code",
   "execution_count": 21,
   "id": "eb6a279a",
   "metadata": {
    "execution": {
     "iopub.execute_input": "2023-06-26T20:50:46.174142Z",
     "iopub.status.busy": "2023-06-26T20:50:46.173463Z",
     "iopub.status.idle": "2023-06-26T20:50:52.082863Z",
     "shell.execute_reply": "2023-06-26T20:50:52.081762Z"
    },
    "papermill": {
     "duration": 5.933185,
     "end_time": "2023-06-26T20:50:52.085549",
     "exception": false,
     "start_time": "2023-06-26T20:50:46.152364",
     "status": "completed"
    },
    "tags": []
   },
   "outputs": [
    {
     "data": {
      "text/html": [
       "<div>\n",
       "<style scoped>\n",
       "    .dataframe tbody tr th:only-of-type {\n",
       "        vertical-align: middle;\n",
       "    }\n",
       "\n",
       "    .dataframe tbody tr th {\n",
       "        vertical-align: top;\n",
       "    }\n",
       "\n",
       "    .dataframe thead th {\n",
       "        text-align: right;\n",
       "    }\n",
       "</style>\n",
       "<table border=\"1\" class=\"dataframe\">\n",
       "  <thead>\n",
       "    <tr style=\"text-align: right;\">\n",
       "      <th></th>\n",
       "      <th>id</th>\n",
       "      <th>Machine failure</th>\n",
       "    </tr>\n",
       "  </thead>\n",
       "  <tbody>\n",
       "    <tr>\n",
       "      <th>0</th>\n",
       "      <td>136429</td>\n",
       "      <td>0.000</td>\n",
       "    </tr>\n",
       "    <tr>\n",
       "      <th>1</th>\n",
       "      <td>136430</td>\n",
       "      <td>0.002</td>\n",
       "    </tr>\n",
       "    <tr>\n",
       "      <th>2</th>\n",
       "      <td>136431</td>\n",
       "      <td>0.000</td>\n",
       "    </tr>\n",
       "    <tr>\n",
       "      <th>3</th>\n",
       "      <td>136432</td>\n",
       "      <td>0.006</td>\n",
       "    </tr>\n",
       "    <tr>\n",
       "      <th>4</th>\n",
       "      <td>136433</td>\n",
       "      <td>0.000</td>\n",
       "    </tr>\n",
       "  </tbody>\n",
       "</table>\n",
       "</div>"
      ],
      "text/plain": [
       "       id  Machine failure\n",
       "0  136429            0.000\n",
       "1  136430            0.002\n",
       "2  136431            0.000\n",
       "3  136432            0.006\n",
       "4  136433            0.000"
      ]
     },
     "execution_count": 21,
     "metadata": {},
     "output_type": "execute_result"
    }
   ],
   "source": [
    "pred_sub = model_rf.predict_proba(test_df_new)[:,1]\n",
    "sub1 = pd.DataFrame(pred_sub, columns = ['Machine failure'])\n",
    "ex_col = test_df[[\"id\"]]\n",
    "submission = ex_col.join(sub1)\n",
    "submission.to_csv(\"submission2.csv\", index = False)\n",
    "submission.head()"
   ]
  },
  {
   "cell_type": "markdown",
   "id": "5705f2b2",
   "metadata": {
    "papermill": {
     "duration": 0.019669,
     "end_time": "2023-06-26T20:50:52.125158",
     "exception": false,
     "start_time": "2023-06-26T20:50:52.105489",
     "status": "completed"
    },
    "tags": []
   },
   "source": [
    "Trying XGBoost to see if it performs better.."
   ]
  },
  {
   "cell_type": "markdown",
   "id": "f005448f",
   "metadata": {
    "papermill": {
     "duration": 0.019108,
     "end_time": "2023-06-26T20:50:52.163599",
     "exception": false,
     "start_time": "2023-06-26T20:50:52.144491",
     "status": "completed"
    },
    "tags": []
   },
   "source": [
    "# XGBoost Classifier"
   ]
  },
  {
   "cell_type": "code",
   "execution_count": 22,
   "id": "9f2b13d0",
   "metadata": {
    "execution": {
     "iopub.execute_input": "2023-06-26T20:50:52.204387Z",
     "iopub.status.busy": "2023-06-26T20:50:52.203933Z",
     "iopub.status.idle": "2023-06-26T20:50:59.863923Z",
     "shell.execute_reply": "2023-06-26T20:50:59.862501Z"
    },
    "papermill": {
     "duration": 7.683564,
     "end_time": "2023-06-26T20:50:59.866835",
     "exception": false,
     "start_time": "2023-06-26T20:50:52.183271",
     "status": "completed"
    },
    "tags": []
   },
   "outputs": [
    {
     "name": "stdout",
     "output_type": "stream",
     "text": [
      "Model accuracy =  0.9958660724756655\n",
      "XGBoost AUROC =  0.9561806829326644\n"
     ]
    },
    {
     "data": {
      "text/plain": [
       "<Axes: >"
      ]
     },
     "execution_count": 22,
     "metadata": {},
     "output_type": "execute_result"
    },
    {
     "data": {
      "image/png": "[encoded data removed]",
      "text/plain": [
       "<Figure size 640x480 with 2 Axes>"
      ]
     },
     "metadata": {},
     "output_type": "display_data"
    }
   ],
   "source": [
    "from xgboost import XGBClassifier\n",
    "\n",
    "model_xgb = XGBClassifier()\n",
    "\n",
    "model_xgb.fit(train_X_new, train_y)\n",
    "\n",
    "pred_y = model_xgb.predict(val_X_new)\n",
    "\n",
    "val_probs = model_xgb.predict_proba(val_X_new)\n",
    "\n",
    "# Calculate accuracy of prediction using AUROC curve scores\n",
    "\n",
    "auc_score = roc_auc_score(val_y, val_probs[:,1])\n",
    "\n",
    "print(\"Model accuracy = \", accuracy_score(val_y, pred_y))\n",
    "print(\"XGBoost AUROC = \", auc_score)\n",
    "\n",
    "cm = pd.DataFrame(confusion_matrix(val_y, pred_y))\n",
    "sns.heatmap(cm, annot = True, cmap = \"YlGnBu\")"
   ]
  },
  {
   "cell_type": "code",
   "execution_count": 23,
   "id": "ddb68ca5",
   "metadata": {
    "execution": {
     "iopub.execute_input": "2023-06-26T20:50:59.910111Z",
     "iopub.status.busy": "2023-06-26T20:50:59.908918Z",
     "iopub.status.idle": "2023-06-26T20:51:37.863004Z",
     "shell.execute_reply": "2023-06-26T20:51:37.862070Z"
    },
    "papermill": {
     "duration": 37.998826,
     "end_time": "2023-06-26T20:51:37.885791",
     "exception": false,
     "start_time": "2023-06-26T20:50:59.886965",
     "status": "completed"
    },
    "tags": []
   },
   "outputs": [
    {
     "name": "stdout",
     "output_type": "stream",
     "text": [
      "XGBoost Cross validation AUROC =  0.9537887651881704\n"
     ]
    }
   ],
   "source": [
    "# XGBoost with cross-validation\n",
    "\n",
    "cv_scores = cross_val_score(model_xgb, train_X_complete, complete_y, cv = 5, scoring = 'roc_auc')\n",
    "\n",
    "print(\"XGBoost Cross validation AUROC = \", cv_scores.mean())"
   ]
  },
  {
   "cell_type": "code",
   "execution_count": 24,
   "id": "f102763b",
   "metadata": {
    "execution": {
     "iopub.execute_input": "2023-06-26T20:51:37.928714Z",
     "iopub.status.busy": "2023-06-26T20:51:37.928031Z",
     "iopub.status.idle": "2023-06-26T20:51:38.359081Z",
     "shell.execute_reply": "2023-06-26T20:51:38.357981Z"
    },
    "papermill": {
     "duration": 0.455792,
     "end_time": "2023-06-26T20:51:38.361877",
     "exception": false,
     "start_time": "2023-06-26T20:51:37.906085",
     "status": "completed"
    },
    "tags": []
   },
   "outputs": [
    {
     "data": {
      "text/html": [
       "<div>\n",
       "<style scoped>\n",
       "    .dataframe tbody tr th:only-of-type {\n",
       "        vertical-align: middle;\n",
       "    }\n",
       "\n",
       "    .dataframe tbody tr th {\n",
       "        vertical-align: top;\n",
       "    }\n",
       "\n",
       "    .dataframe thead th {\n",
       "        text-align: right;\n",
       "    }\n",
       "</style>\n",
       "<table border=\"1\" class=\"dataframe\">\n",
       "  <thead>\n",
       "    <tr style=\"text-align: right;\">\n",
       "      <th></th>\n",
       "      <th>id</th>\n",
       "      <th>Machine failure</th>\n",
       "    </tr>\n",
       "  </thead>\n",
       "  <tbody>\n",
       "    <tr>\n",
       "      <th>0</th>\n",
       "      <td>136429</td>\n",
       "      <td>0.000061</td>\n",
       "    </tr>\n",
       "    <tr>\n",
       "      <th>1</th>\n",
       "      <td>136430</td>\n",
       "      <td>0.001703</td>\n",
       "    </tr>\n",
       "    <tr>\n",
       "      <th>2</th>\n",
       "      <td>136431</td>\n",
       "      <td>0.000094</td>\n",
       "    </tr>\n",
       "    <tr>\n",
       "      <th>3</th>\n",
       "      <td>136432</td>\n",
       "      <td>0.000174</td>\n",
       "    </tr>\n",
       "    <tr>\n",
       "      <th>4</th>\n",
       "      <td>136433</td>\n",
       "      <td>0.000268</td>\n",
       "    </tr>\n",
       "  </tbody>\n",
       "</table>\n",
       "</div>"
      ],
      "text/plain": [
       "       id  Machine failure\n",
       "0  136429         0.000061\n",
       "1  136430         0.001703\n",
       "2  136431         0.000094\n",
       "3  136432         0.000174\n",
       "4  136433         0.000268"
      ]
     },
     "execution_count": 24,
     "metadata": {},
     "output_type": "execute_result"
    }
   ],
   "source": [
    "pred_sub = model_xgb.predict_proba(test_df_new)[:,1]\n",
    "sub1 = pd.DataFrame(pred_sub, columns = ['Machine failure'])\n",
    "ex_col = test_df[[\"id\"]]\n",
    "submission = ex_col.join(sub1)\n",
    "submission.to_csv(\"submission3.csv\", index = False)\n",
    "submission.head()"
   ]
  }
 ],
 "metadata": {
  "kernelspec": {
   "display_name": "Python 3",
   "language": "python",
   "name": "python3"
  },
  "language_info": {
   "codemirror_mode": {
    "name": "ipython",
    "version": 3
   },
   "file_extension": ".py",
   "mimetype": "text/x-python",
   "name": "python",
   "nbconvert_exporter": "python",
   "pygments_lexer": "ipython3",
   "version": "3.10.10"
  },
  "papermill": {
   "default_parameters": {},
   "duration": 191.381635,
   "end_time": "2023-06-26T20:51:39.607260",
   "environment_variables": {},
   "exception": null,
   "input_path": "__notebook__.ipynb",
   "output_path": "__notebook__.ipynb",
   "parameters": {},
   "start_time": "2023-06-26T20:48:28.225625",
   "version": "2.4.0"
  }
 },
 "nbformat": 4,
 "nbformat_minor": 5
}
