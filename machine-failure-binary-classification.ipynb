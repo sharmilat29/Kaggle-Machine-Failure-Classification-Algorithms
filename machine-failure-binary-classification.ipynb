{
 "cells": [
  {
   "cell_type": "code",
   "execution_count": 1,
   "id": "4fc1ce11",
   "metadata": {
    "_cell_guid": "b1076dfc-b9ad-4769-8c92-a6c4dae69d19",
    "_uuid": "8f2839f25d086af736a60e9eeb907d3b93b6e0e5",
    "execution": {
     "iopub.execute_input": "2023-06-24T19:54:26.078762Z",
     "iopub.status.busy": "2023-06-24T19:54:26.078042Z",
     "iopub.status.idle": "2023-06-24T19:54:27.712276Z",
     "shell.execute_reply": "2023-06-24T19:54:27.710978Z"
    },
    "papermill": {
     "duration": 1.652637,
     "end_time": "2023-06-24T19:54:27.715562",
     "exception": false,
     "start_time": "2023-06-24T19:54:26.062925",
     "status": "completed"
    },
    "tags": []
   },
   "outputs": [
    {
     "name": "stdout",
     "output_type": "stream",
     "text": [
      "/kaggle/input/playground-series-s3e17/sample_submission.csv\n",
      "/kaggle/input/playground-series-s3e17/train.csv\n",
      "/kaggle/input/playground-series-s3e17/test.csv\n"
     ]
    }
   ],
   "source": [
    "# This Python 3 environment comes with many helpful analytics libraries installed\n",
    "# It is defined by the kaggle/python Docker image: https://github.com/kaggle/docker-python\n",
    "# For example, here's several helpful packages to load\n",
    "\n",
    "import numpy as np # linear algebra\n",
    "import pandas as pd # data processing, CSV file I/O (e.g. pd.read_csv)\n",
    "import seaborn as sns\n",
    "\n",
    "# Input data files are available in the read-only \"../input/\" directory\n",
    "# For example, running this (by clicking run or pressing Shift+Enter) will list all files under the input directory\n",
    "\n",
    "import os\n",
    "for dirname, _, filenames in os.walk('/kaggle/input'):\n",
    "    for filename in filenames:\n",
    "        print(os.path.join(dirname, filename))\n",
    "\n",
    "# You can write up to 20GB to the current directory (/kaggle/working/) that gets preserved as output when you create a version using \"Save & Run All\" \n",
    "# You can also write temporary files to /kaggle/temp/, but they won't be saved outside of the current session"
   ]
  },
  {
   "cell_type": "markdown",
   "id": "6bee4d6b",
   "metadata": {
    "papermill": {
     "duration": 0.01136,
     "end_time": "2023-06-24T19:54:27.738760",
     "exception": false,
     "start_time": "2023-06-24T19:54:27.727400",
     "status": "completed"
    },
    "tags": []
   },
   "source": [
    "**Load and explore dataset:**"
   ]
  },
  {
   "cell_type": "code",
   "execution_count": 2,
   "id": "69f5d62b",
   "metadata": {
    "execution": {
     "iopub.execute_input": "2023-06-24T19:54:27.762698Z",
     "iopub.status.busy": "2023-06-24T19:54:27.762278Z",
     "iopub.status.idle": "2023-06-24T19:54:27.988789Z",
     "shell.execute_reply": "2023-06-24T19:54:27.987643Z"
    },
    "papermill": {
     "duration": 0.241548,
     "end_time": "2023-06-24T19:54:27.991470",
     "exception": false,
     "start_time": "2023-06-24T19:54:27.749922",
     "status": "completed"
    },
    "tags": []
   },
   "outputs": [],
   "source": [
    "test_df = pd.read_csv(\"/kaggle/input/playground-series-s3e17/test.csv\")"
   ]
  },
  {
   "cell_type": "code",
   "execution_count": 3,
   "id": "e31c64bf",
   "metadata": {
    "execution": {
     "iopub.execute_input": "2023-06-24T19:54:28.017796Z",
     "iopub.status.busy": "2023-06-24T19:54:28.017093Z",
     "iopub.status.idle": "2023-06-24T19:54:28.358671Z",
     "shell.execute_reply": "2023-06-24T19:54:28.357546Z"
    },
    "papermill": {
     "duration": 0.35695,
     "end_time": "2023-06-24T19:54:28.361085",
     "exception": false,
     "start_time": "2023-06-24T19:54:28.004135",
     "status": "completed"
    },
    "tags": []
   },
   "outputs": [
    {
     "data": {
      "text/html": [
       "<div>\n",
       "<style scoped>\n",
       "    .dataframe tbody tr th:only-of-type {\n",
       "        vertical-align: middle;\n",
       "    }\n",
       "\n",
       "    .dataframe tbody tr th {\n",
       "        vertical-align: top;\n",
       "    }\n",
       "\n",
       "    .dataframe thead th {\n",
       "        text-align: right;\n",
       "    }\n",
       "</style>\n",
       "<table border=\"1\" class=\"dataframe\">\n",
       "  <thead>\n",
       "    <tr style=\"text-align: right;\">\n",
       "      <th></th>\n",
       "      <th>id</th>\n",
       "      <th>Product ID</th>\n",
       "      <th>Type</th>\n",
       "      <th>Air temperature [K]</th>\n",
       "      <th>Process temperature [K]</th>\n",
       "      <th>Rotational speed [rpm]</th>\n",
       "      <th>Torque [Nm]</th>\n",
       "      <th>Tool wear [min]</th>\n",
       "      <th>Machine failure</th>\n",
       "      <th>TWF</th>\n",
       "      <th>HDF</th>\n",
       "      <th>PWF</th>\n",
       "      <th>OSF</th>\n",
       "      <th>RNF</th>\n",
       "    </tr>\n",
       "  </thead>\n",
       "  <tbody>\n",
       "    <tr>\n",
       "      <th>0</th>\n",
       "      <td>0</td>\n",
       "      <td>L50096</td>\n",
       "      <td>L</td>\n",
       "      <td>300.6</td>\n",
       "      <td>309.6</td>\n",
       "      <td>1596</td>\n",
       "      <td>36.1</td>\n",
       "      <td>140</td>\n",
       "      <td>0</td>\n",
       "      <td>0</td>\n",
       "      <td>0</td>\n",
       "      <td>0</td>\n",
       "      <td>0</td>\n",
       "      <td>0</td>\n",
       "    </tr>\n",
       "    <tr>\n",
       "      <th>1</th>\n",
       "      <td>1</td>\n",
       "      <td>M20343</td>\n",
       "      <td>M</td>\n",
       "      <td>302.6</td>\n",
       "      <td>312.1</td>\n",
       "      <td>1759</td>\n",
       "      <td>29.1</td>\n",
       "      <td>200</td>\n",
       "      <td>0</td>\n",
       "      <td>0</td>\n",
       "      <td>0</td>\n",
       "      <td>0</td>\n",
       "      <td>0</td>\n",
       "      <td>0</td>\n",
       "    </tr>\n",
       "    <tr>\n",
       "      <th>2</th>\n",
       "      <td>2</td>\n",
       "      <td>L49454</td>\n",
       "      <td>L</td>\n",
       "      <td>299.3</td>\n",
       "      <td>308.5</td>\n",
       "      <td>1805</td>\n",
       "      <td>26.5</td>\n",
       "      <td>25</td>\n",
       "      <td>0</td>\n",
       "      <td>0</td>\n",
       "      <td>0</td>\n",
       "      <td>0</td>\n",
       "      <td>0</td>\n",
       "      <td>0</td>\n",
       "    </tr>\n",
       "    <tr>\n",
       "      <th>3</th>\n",
       "      <td>3</td>\n",
       "      <td>L53355</td>\n",
       "      <td>L</td>\n",
       "      <td>301.0</td>\n",
       "      <td>310.9</td>\n",
       "      <td>1524</td>\n",
       "      <td>44.3</td>\n",
       "      <td>197</td>\n",
       "      <td>0</td>\n",
       "      <td>0</td>\n",
       "      <td>0</td>\n",
       "      <td>0</td>\n",
       "      <td>0</td>\n",
       "      <td>0</td>\n",
       "    </tr>\n",
       "    <tr>\n",
       "      <th>4</th>\n",
       "      <td>4</td>\n",
       "      <td>M24050</td>\n",
       "      <td>M</td>\n",
       "      <td>298.0</td>\n",
       "      <td>309.0</td>\n",
       "      <td>1641</td>\n",
       "      <td>35.4</td>\n",
       "      <td>34</td>\n",
       "      <td>0</td>\n",
       "      <td>0</td>\n",
       "      <td>0</td>\n",
       "      <td>0</td>\n",
       "      <td>0</td>\n",
       "      <td>0</td>\n",
       "    </tr>\n",
       "    <tr>\n",
       "      <th>5</th>\n",
       "      <td>5</td>\n",
       "      <td>M24300</td>\n",
       "      <td>M</td>\n",
       "      <td>298.4</td>\n",
       "      <td>308.9</td>\n",
       "      <td>1429</td>\n",
       "      <td>42.1</td>\n",
       "      <td>65</td>\n",
       "      <td>0</td>\n",
       "      <td>0</td>\n",
       "      <td>0</td>\n",
       "      <td>0</td>\n",
       "      <td>0</td>\n",
       "      <td>0</td>\n",
       "    </tr>\n",
       "    <tr>\n",
       "      <th>6</th>\n",
       "      <td>6</td>\n",
       "      <td>L56736</td>\n",
       "      <td>L</td>\n",
       "      <td>299.6</td>\n",
       "      <td>311.0</td>\n",
       "      <td>1413</td>\n",
       "      <td>42.9</td>\n",
       "      <td>156</td>\n",
       "      <td>0</td>\n",
       "      <td>0</td>\n",
       "      <td>0</td>\n",
       "      <td>0</td>\n",
       "      <td>0</td>\n",
       "      <td>0</td>\n",
       "    </tr>\n",
       "    <tr>\n",
       "      <th>7</th>\n",
       "      <td>7</td>\n",
       "      <td>L55488</td>\n",
       "      <td>L</td>\n",
       "      <td>298.7</td>\n",
       "      <td>310.1</td>\n",
       "      <td>1609</td>\n",
       "      <td>38.1</td>\n",
       "      <td>67</td>\n",
       "      <td>0</td>\n",
       "      <td>0</td>\n",
       "      <td>0</td>\n",
       "      <td>0</td>\n",
       "      <td>0</td>\n",
       "      <td>0</td>\n",
       "    </tr>\n",
       "    <tr>\n",
       "      <th>8</th>\n",
       "      <td>8</td>\n",
       "      <td>L56397</td>\n",
       "      <td>L</td>\n",
       "      <td>297.7</td>\n",
       "      <td>308.8</td>\n",
       "      <td>1578</td>\n",
       "      <td>35.2</td>\n",
       "      <td>13</td>\n",
       "      <td>0</td>\n",
       "      <td>0</td>\n",
       "      <td>0</td>\n",
       "      <td>0</td>\n",
       "      <td>0</td>\n",
       "      <td>0</td>\n",
       "    </tr>\n",
       "    <tr>\n",
       "      <th>9</th>\n",
       "      <td>9</td>\n",
       "      <td>L55067</td>\n",
       "      <td>L</td>\n",
       "      <td>300.5</td>\n",
       "      <td>312.3</td>\n",
       "      <td>1447</td>\n",
       "      <td>53.3</td>\n",
       "      <td>98</td>\n",
       "      <td>0</td>\n",
       "      <td>0</td>\n",
       "      <td>0</td>\n",
       "      <td>0</td>\n",
       "      <td>0</td>\n",
       "      <td>0</td>\n",
       "    </tr>\n",
       "  </tbody>\n",
       "</table>\n",
       "</div>"
      ],
      "text/plain": [
       "   id Product ID Type  Air temperature [K]  Process temperature [K]  \\\n",
       "0   0     L50096    L                300.6                    309.6   \n",
       "1   1     M20343    M                302.6                    312.1   \n",
       "2   2     L49454    L                299.3                    308.5   \n",
       "3   3     L53355    L                301.0                    310.9   \n",
       "4   4     M24050    M                298.0                    309.0   \n",
       "5   5     M24300    M                298.4                    308.9   \n",
       "6   6     L56736    L                299.6                    311.0   \n",
       "7   7     L55488    L                298.7                    310.1   \n",
       "8   8     L56397    L                297.7                    308.8   \n",
       "9   9     L55067    L                300.5                    312.3   \n",
       "\n",
       "   Rotational speed [rpm]  Torque [Nm]  Tool wear [min]  Machine failure  TWF  \\\n",
       "0                    1596         36.1              140                0    0   \n",
       "1                    1759         29.1              200                0    0   \n",
       "2                    1805         26.5               25                0    0   \n",
       "3                    1524         44.3              197                0    0   \n",
       "4                    1641         35.4               34                0    0   \n",
       "5                    1429         42.1               65                0    0   \n",
       "6                    1413         42.9              156                0    0   \n",
       "7                    1609         38.1               67                0    0   \n",
       "8                    1578         35.2               13                0    0   \n",
       "9                    1447         53.3               98                0    0   \n",
       "\n",
       "   HDF  PWF  OSF  RNF  \n",
       "0    0    0    0    0  \n",
       "1    0    0    0    0  \n",
       "2    0    0    0    0  \n",
       "3    0    0    0    0  \n",
       "4    0    0    0    0  \n",
       "5    0    0    0    0  \n",
       "6    0    0    0    0  \n",
       "7    0    0    0    0  \n",
       "8    0    0    0    0  \n",
       "9    0    0    0    0  "
      ]
     },
     "metadata": {},
     "output_type": "display_data"
    },
    {
     "data": {
      "text/plain": [
       "(136429, 14)"
      ]
     },
     "metadata": {},
     "output_type": "display_data"
    },
    {
     "data": {
      "text/plain": [
       "Index(['id', 'Product ID', 'Type', 'Air temperature [K]',\n",
       "       'Process temperature [K]', 'Rotational speed [rpm]', 'Torque [Nm]',\n",
       "       'Tool wear [min]', 'Machine failure', 'TWF', 'HDF', 'PWF', 'OSF',\n",
       "       'RNF'],\n",
       "      dtype='object')"
      ]
     },
     "metadata": {},
     "output_type": "display_data"
    }
   ],
   "source": [
    "df = pd.read_csv(\"/kaggle/input/playground-series-s3e17/train.csv\")\n",
    "display(df.head(10))\n",
    "display(df.shape)\n",
    "display(df.columns)"
   ]
  },
  {
   "cell_type": "code",
   "execution_count": 4,
   "id": "9c9d912b",
   "metadata": {
    "execution": {
     "iopub.execute_input": "2023-06-24T19:54:28.387092Z",
     "iopub.status.busy": "2023-06-24T19:54:28.386719Z",
     "iopub.status.idle": "2023-06-24T19:54:28.842956Z",
     "shell.execute_reply": "2023-06-24T19:54:28.841820Z"
    },
    "papermill": {
     "duration": 0.472087,
     "end_time": "2023-06-24T19:54:28.845521",
     "exception": false,
     "start_time": "2023-06-24T19:54:28.373434",
     "status": "completed"
    },
    "tags": []
   },
   "outputs": [
    {
     "data": {
      "text/plain": [
       "<Axes: xlabel='Machine failure', ylabel='Count'>"
      ]
     },
     "execution_count": 4,
     "metadata": {},
     "output_type": "execute_result"
    },
    {
     "data": {
      "image/png": "[encoded data removed]",
      "text/plain": [
       "<Figure size 640x480 with 1 Axes>"
      ]
     },
     "metadata": {},
     "output_type": "display_data"
    }
   ],
   "source": [
    "sns.histplot(data = df, x = \"Machine failure\")"
   ]
  },
  {
   "cell_type": "markdown",
   "id": "dfa85c42",
   "metadata": {
    "papermill": {
     "duration": 0.012028,
     "end_time": "2023-06-24T19:54:28.870249",
     "exception": false,
     "start_time": "2023-06-24T19:54:28.858221",
     "status": "completed"
    },
    "tags": []
   },
   "source": [
    "> Need to find a way to handle imbalanced dataset"
   ]
  },
  {
   "cell_type": "code",
   "execution_count": 5,
   "id": "8f75501b",
   "metadata": {
    "execution": {
     "iopub.execute_input": "2023-06-24T19:54:28.897349Z",
     "iopub.status.busy": "2023-06-24T19:54:28.896946Z",
     "iopub.status.idle": "2023-06-24T19:54:28.915748Z",
     "shell.execute_reply": "2023-06-24T19:54:28.914554Z"
    },
    "papermill": {
     "duration": 0.035318,
     "end_time": "2023-06-24T19:54:28.918514",
     "exception": false,
     "start_time": "2023-06-24T19:54:28.883196",
     "status": "completed"
    },
    "tags": []
   },
   "outputs": [],
   "source": [
    "num_fail = len(df[df[\"Machine failure\"] == 1])\n",
    "num_pass = len(df[df[\"Machine failure\"] == 0])"
   ]
  },
  {
   "cell_type": "markdown",
   "id": "3477a86b",
   "metadata": {
    "papermill": {
     "duration": 0.011982,
     "end_time": "2023-06-24T19:54:28.943607",
     "exception": false,
     "start_time": "2023-06-24T19:54:28.931625",
     "status": "completed"
    },
    "tags": []
   },
   "source": [
    "* ID = device identifier (int)\n",
    "* Product ID = Unique ID (string)\n",
    "* Type = type of product L = low (60% of data), M = medium (30% of data), H = high (10% of data) (string)\n",
    "* Air Temp = air temp in kelvin (float)\n",
    "* Process temp = (float)\n",
    "* rotational speed = speed in rpm (int)\n",
    "* torque = newton meter (float)\n",
    "* tool wear = time unit needed to wear down the product/tool (int)\n",
    "* machine failure = binary failure target variable (int)\n",
    "* \n",
    "* TWF = tool wear failure (binary, int)\n",
    "* HDF = heat dissipation failure (binary, int)\n",
    "* PWF = power failure (binary, int)\n",
    "* OSF = overstain failure (binary, int)\n",
    "* RNF = random failure (binary, int)"
   ]
  },
  {
   "cell_type": "code",
   "execution_count": 6,
   "id": "835aaca2",
   "metadata": {
    "execution": {
     "iopub.execute_input": "2023-06-24T19:54:28.970353Z",
     "iopub.status.busy": "2023-06-24T19:54:28.969951Z",
     "iopub.status.idle": "2023-06-24T19:54:29.115549Z",
     "shell.execute_reply": "2023-06-24T19:54:29.114667Z"
    },
    "papermill": {
     "duration": 0.162089,
     "end_time": "2023-06-24T19:54:29.118002",
     "exception": false,
     "start_time": "2023-06-24T19:54:28.955913",
     "status": "completed"
    },
    "tags": []
   },
   "outputs": [
    {
     "data": {
      "text/html": [
       "<div>\n",
       "<style scoped>\n",
       "    .dataframe tbody tr th:only-of-type {\n",
       "        vertical-align: middle;\n",
       "    }\n",
       "\n",
       "    .dataframe tbody tr th {\n",
       "        vertical-align: top;\n",
       "    }\n",
       "\n",
       "    .dataframe thead th {\n",
       "        text-align: right;\n",
       "    }\n",
       "</style>\n",
       "<table border=\"1\" class=\"dataframe\">\n",
       "  <thead>\n",
       "    <tr style=\"text-align: right;\">\n",
       "      <th></th>\n",
       "      <th>id</th>\n",
       "      <th>Air temperature [K]</th>\n",
       "      <th>Process temperature [K]</th>\n",
       "      <th>Rotational speed [rpm]</th>\n",
       "      <th>Torque [Nm]</th>\n",
       "      <th>Tool wear [min]</th>\n",
       "      <th>Machine failure</th>\n",
       "      <th>TWF</th>\n",
       "      <th>HDF</th>\n",
       "      <th>PWF</th>\n",
       "      <th>OSF</th>\n",
       "      <th>RNF</th>\n",
       "    </tr>\n",
       "  </thead>\n",
       "  <tbody>\n",
       "    <tr>\n",
       "      <th>count</th>\n",
       "      <td>136429.000000</td>\n",
       "      <td>136429.000000</td>\n",
       "      <td>136429.000000</td>\n",
       "      <td>136429.000000</td>\n",
       "      <td>136429.000000</td>\n",
       "      <td>136429.000000</td>\n",
       "      <td>136429.000000</td>\n",
       "      <td>136429.000000</td>\n",
       "      <td>136429.000000</td>\n",
       "      <td>136429.000000</td>\n",
       "      <td>136429.000000</td>\n",
       "      <td>136429.000000</td>\n",
       "    </tr>\n",
       "    <tr>\n",
       "      <th>mean</th>\n",
       "      <td>68214.000000</td>\n",
       "      <td>299.862776</td>\n",
       "      <td>309.941070</td>\n",
       "      <td>1520.331110</td>\n",
       "      <td>40.348643</td>\n",
       "      <td>104.408901</td>\n",
       "      <td>0.015744</td>\n",
       "      <td>0.001554</td>\n",
       "      <td>0.005160</td>\n",
       "      <td>0.002397</td>\n",
       "      <td>0.003958</td>\n",
       "      <td>0.002258</td>\n",
       "    </tr>\n",
       "    <tr>\n",
       "      <th>std</th>\n",
       "      <td>39383.804275</td>\n",
       "      <td>1.862247</td>\n",
       "      <td>1.385173</td>\n",
       "      <td>138.736632</td>\n",
       "      <td>8.502229</td>\n",
       "      <td>63.965040</td>\n",
       "      <td>0.124486</td>\n",
       "      <td>0.039389</td>\n",
       "      <td>0.071649</td>\n",
       "      <td>0.048899</td>\n",
       "      <td>0.062789</td>\n",
       "      <td>0.047461</td>\n",
       "    </tr>\n",
       "    <tr>\n",
       "      <th>min</th>\n",
       "      <td>0.000000</td>\n",
       "      <td>295.300000</td>\n",
       "      <td>305.800000</td>\n",
       "      <td>1181.000000</td>\n",
       "      <td>3.800000</td>\n",
       "      <td>0.000000</td>\n",
       "      <td>0.000000</td>\n",
       "      <td>0.000000</td>\n",
       "      <td>0.000000</td>\n",
       "      <td>0.000000</td>\n",
       "      <td>0.000000</td>\n",
       "      <td>0.000000</td>\n",
       "    </tr>\n",
       "    <tr>\n",
       "      <th>25%</th>\n",
       "      <td>34107.000000</td>\n",
       "      <td>298.300000</td>\n",
       "      <td>308.700000</td>\n",
       "      <td>1432.000000</td>\n",
       "      <td>34.600000</td>\n",
       "      <td>48.000000</td>\n",
       "      <td>0.000000</td>\n",
       "      <td>0.000000</td>\n",
       "      <td>0.000000</td>\n",
       "      <td>0.000000</td>\n",
       "      <td>0.000000</td>\n",
       "      <td>0.000000</td>\n",
       "    </tr>\n",
       "    <tr>\n",
       "      <th>50%</th>\n",
       "      <td>68214.000000</td>\n",
       "      <td>300.000000</td>\n",
       "      <td>310.000000</td>\n",
       "      <td>1493.000000</td>\n",
       "      <td>40.400000</td>\n",
       "      <td>106.000000</td>\n",
       "      <td>0.000000</td>\n",
       "      <td>0.000000</td>\n",
       "      <td>0.000000</td>\n",
       "      <td>0.000000</td>\n",
       "      <td>0.000000</td>\n",
       "      <td>0.000000</td>\n",
       "    </tr>\n",
       "    <tr>\n",
       "      <th>75%</th>\n",
       "      <td>102321.000000</td>\n",
       "      <td>301.200000</td>\n",
       "      <td>310.900000</td>\n",
       "      <td>1580.000000</td>\n",
       "      <td>46.100000</td>\n",
       "      <td>159.000000</td>\n",
       "      <td>0.000000</td>\n",
       "      <td>0.000000</td>\n",
       "      <td>0.000000</td>\n",
       "      <td>0.000000</td>\n",
       "      <td>0.000000</td>\n",
       "      <td>0.000000</td>\n",
       "    </tr>\n",
       "    <tr>\n",
       "      <th>max</th>\n",
       "      <td>136428.000000</td>\n",
       "      <td>304.400000</td>\n",
       "      <td>313.800000</td>\n",
       "      <td>2886.000000</td>\n",
       "      <td>76.600000</td>\n",
       "      <td>253.000000</td>\n",
       "      <td>1.000000</td>\n",
       "      <td>1.000000</td>\n",
       "      <td>1.000000</td>\n",
       "      <td>1.000000</td>\n",
       "      <td>1.000000</td>\n",
       "      <td>1.000000</td>\n",
       "    </tr>\n",
       "  </tbody>\n",
       "</table>\n",
       "</div>"
      ],
      "text/plain": [
       "                  id Air temperature [K] Process temperature [K]  \\\n",
       "count  136429.000000       136429.000000           136429.000000   \n",
       "mean    68214.000000          299.862776              309.941070   \n",
       "std     39383.804275            1.862247                1.385173   \n",
       "min         0.000000          295.300000              305.800000   \n",
       "25%     34107.000000          298.300000              308.700000   \n",
       "50%     68214.000000          300.000000              310.000000   \n",
       "75%    102321.000000          301.200000              310.900000   \n",
       "max    136428.000000          304.400000              313.800000   \n",
       "\n",
       "      Rotational speed [rpm]    Torque [Nm] Tool wear [min] Machine failure  \\\n",
       "count          136429.000000  136429.000000   136429.000000   136429.000000   \n",
       "mean             1520.331110      40.348643      104.408901        0.015744   \n",
       "std               138.736632       8.502229       63.965040        0.124486   \n",
       "min              1181.000000       3.800000        0.000000        0.000000   \n",
       "25%              1432.000000      34.600000       48.000000        0.000000   \n",
       "50%              1493.000000      40.400000      106.000000        0.000000   \n",
       "75%              1580.000000      46.100000      159.000000        0.000000   \n",
       "max              2886.000000      76.600000      253.000000        1.000000   \n",
       "\n",
       "                 TWF            HDF            PWF            OSF  \\\n",
       "count  136429.000000  136429.000000  136429.000000  136429.000000   \n",
       "mean        0.001554       0.005160       0.002397       0.003958   \n",
       "std         0.039389       0.071649       0.048899       0.062789   \n",
       "min         0.000000       0.000000       0.000000       0.000000   \n",
       "25%         0.000000       0.000000       0.000000       0.000000   \n",
       "50%         0.000000       0.000000       0.000000       0.000000   \n",
       "75%         0.000000       0.000000       0.000000       0.000000   \n",
       "max         1.000000       1.000000       1.000000       1.000000   \n",
       "\n",
       "                 RNF  \n",
       "count  136429.000000  \n",
       "mean        0.002258  \n",
       "std         0.047461  \n",
       "min         0.000000  \n",
       "25%         0.000000  \n",
       "50%         0.000000  \n",
       "75%         0.000000  \n",
       "max         1.000000  "
      ]
     },
     "execution_count": 6,
     "metadata": {},
     "output_type": "execute_result"
    }
   ],
   "source": [
    "df.nunique(axis = 0)\n",
    "df.describe().apply(lambda s: s.apply(lambda x: format(x, 'f')))"
   ]
  },
  {
   "cell_type": "code",
   "execution_count": 7,
   "id": "cc123074",
   "metadata": {
    "execution": {
     "iopub.execute_input": "2023-06-24T19:54:29.145800Z",
     "iopub.status.busy": "2023-06-24T19:54:29.145378Z",
     "iopub.status.idle": "2023-06-24T19:54:29.243790Z",
     "shell.execute_reply": "2023-06-24T19:54:29.242681Z"
    },
    "papermill": {
     "duration": 0.115358,
     "end_time": "2023-06-24T19:54:29.246523",
     "exception": false,
     "start_time": "2023-06-24T19:54:29.131165",
     "status": "completed"
    },
    "tags": []
   },
   "outputs": [
    {
     "data": {
      "text/plain": [
       "(136429, 14)"
      ]
     },
     "execution_count": 7,
     "metadata": {},
     "output_type": "execute_result"
    }
   ],
   "source": [
    "df.dropna(axis = 0)\n",
    "df.shape"
   ]
  },
  {
   "cell_type": "markdown",
   "id": "b0b293f9",
   "metadata": {
    "papermill": {
     "duration": 0.012601,
     "end_time": "2023-06-24T19:54:29.272199",
     "exception": false,
     "start_time": "2023-06-24T19:54:29.259598",
     "status": "completed"
    },
    "tags": []
   },
   "source": [
    "**Explore relationships between predictor and target variables**"
   ]
  },
  {
   "cell_type": "code",
   "execution_count": 8,
   "id": "de704e58",
   "metadata": {
    "execution": {
     "iopub.execute_input": "2023-06-24T19:54:29.300806Z",
     "iopub.status.busy": "2023-06-24T19:54:29.300360Z",
     "iopub.status.idle": "2023-06-24T19:54:29.900681Z",
     "shell.execute_reply": "2023-06-24T19:54:29.899518Z"
    },
    "papermill": {
     "duration": 0.618052,
     "end_time": "2023-06-24T19:54:29.903329",
     "exception": false,
     "start_time": "2023-06-24T19:54:29.285277",
     "status": "completed"
    },
    "tags": []
   },
   "outputs": [
    {
     "name": "stderr",
     "output_type": "stream",
     "text": [
      "/tmp/ipykernel_20/2500072798.py:1: FutureWarning: The default value of numeric_only in DataFrame.corr is deprecated. In a future version, it will default to False. Select only valid columns or specify the value of numeric_only to silence this warning.\n",
      "  corr = df.corr()\n"
     ]
    },
    {
     "data": {
      "text/plain": [
       "<Axes: >"
      ]
     },
     "execution_count": 8,
     "metadata": {},
     "output_type": "execute_result"
    },
    {
     "data": {
      "image/png": "[encoded data removed]",
      "text/plain": [
       "<Figure size 640x480 with 2 Axes>"
      ]
     },
     "metadata": {},
     "output_type": "display_data"
    }
   ],
   "source": [
    "corr = df.corr()\n",
    "sns.heatmap(corr, xticklabels = corr.columns, yticklabels = corr.columns, \n",
    "           annot = False, cmap = \"PiYG\")"
   ]
  },
  {
   "cell_type": "code",
   "execution_count": 9,
   "id": "d2b67a42",
   "metadata": {
    "execution": {
     "iopub.execute_input": "2023-06-24T19:54:29.933724Z",
     "iopub.status.busy": "2023-06-24T19:54:29.933290Z",
     "iopub.status.idle": "2023-06-24T19:54:29.941960Z",
     "shell.execute_reply": "2023-06-24T19:54:29.941085Z"
    },
    "papermill": {
     "duration": 0.026639,
     "end_time": "2023-06-24T19:54:29.944296",
     "exception": false,
     "start_time": "2023-06-24T19:54:29.917657",
     "status": "completed"
    },
    "tags": []
   },
   "outputs": [
    {
     "data": {
      "text/plain": [
       "Index(['id', 'Product ID', 'Type', 'AirTemp', 'ProcessTemp', 'RotSpeed',\n",
       "       'Torque', 'ToolWear', 'Machine failure', 'TWF', 'HDF', 'PWF', 'OSF',\n",
       "       'RNF'],\n",
       "      dtype='object')"
      ]
     },
     "execution_count": 9,
     "metadata": {},
     "output_type": "execute_result"
    }
   ],
   "source": [
    "df.rename(columns = {df.columns[3] : \"AirTemp\", df.columns[4] : \"ProcessTemp\", df.columns[5]: \"RotSpeed\", df.columns[6] : \"Torque\", df.columns[7]:\"ToolWear\"}, inplace = True)\n",
    "df.columns"
   ]
  },
  {
   "cell_type": "code",
   "execution_count": 10,
   "id": "35310fac",
   "metadata": {
    "execution": {
     "iopub.execute_input": "2023-06-24T19:54:29.975849Z",
     "iopub.status.busy": "2023-06-24T19:54:29.975014Z",
     "iopub.status.idle": "2023-06-24T19:54:29.989579Z",
     "shell.execute_reply": "2023-06-24T19:54:29.988396Z"
    },
    "papermill": {
     "duration": 0.032725,
     "end_time": "2023-06-24T19:54:29.992055",
     "exception": false,
     "start_time": "2023-06-24T19:54:29.959330",
     "status": "completed"
    },
    "tags": []
   },
   "outputs": [
    {
     "data": {
      "text/plain": [
       "Index(['id', 'Type', 'AirTemp', 'ProcessTemp', 'RotSpeed', 'Torque',\n",
       "       'ToolWear', 'Machine failure'],\n",
       "      dtype='object')"
      ]
     },
     "execution_count": 10,
     "metadata": {},
     "output_type": "execute_result"
    }
   ],
   "source": [
    "df = df.drop([\"Product ID\", \"TWF\", \"HDF\", \"PWF\", \"OSF\", \"RNF\"], axis = 1)\n",
    "df.columns"
   ]
  },
  {
   "cell_type": "markdown",
   "id": "35733d3d",
   "metadata": {
    "papermill": {
     "duration": 0.013796,
     "end_time": "2023-06-24T19:54:30.020185",
     "exception": false,
     "start_time": "2023-06-24T19:54:30.006389",
     "status": "completed"
    },
    "tags": []
   },
   "source": [
    "**Categorize type of predictor variables**"
   ]
  },
  {
   "cell_type": "code",
   "execution_count": 11,
   "id": "444c0764",
   "metadata": {
    "execution": {
     "iopub.execute_input": "2023-06-24T19:54:30.050426Z",
     "iopub.status.busy": "2023-06-24T19:54:30.050043Z",
     "iopub.status.idle": "2023-06-24T19:54:30.662923Z",
     "shell.execute_reply": "2023-06-24T19:54:30.661824Z"
    },
    "papermill": {
     "duration": 0.631482,
     "end_time": "2023-06-24T19:54:30.665963",
     "exception": false,
     "start_time": "2023-06-24T19:54:30.034481",
     "status": "completed"
    },
    "tags": []
   },
   "outputs": [
    {
     "name": "stderr",
     "output_type": "stream",
     "text": [
      "/tmp/ipykernel_20/2469373344.py:1: FutureWarning: The default value of numeric_only in DataFrame.corr is deprecated. In a future version, it will default to False. Select only valid columns or specify the value of numeric_only to silence this warning.\n",
      "  corr1 = df.corr()\n"
     ]
    },
    {
     "data": {
      "text/plain": [
       "<Axes: >"
      ]
     },
     "execution_count": 11,
     "metadata": {},
     "output_type": "execute_result"
    },
    {
     "data": {
      "image/png": "[encoded data removed]",
      "text/plain": [
       "<Figure size 640x480 with 2 Axes>"
      ]
     },
     "metadata": {},
     "output_type": "display_data"
    }
   ],
   "source": [
    "corr1 = df.corr()\n",
    "sns.heatmap(corr1, annot = True, fmt = '.2f')"
   ]
  },
  {
   "cell_type": "markdown",
   "id": "0b137f68",
   "metadata": {
    "papermill": {
     "duration": 0.015068,
     "end_time": "2023-06-24T19:54:30.696699",
     "exception": false,
     "start_time": "2023-06-24T19:54:30.681631",
     "status": "completed"
    },
    "tags": []
   },
   "source": [
    "**Dataset Preprocessing:**"
   ]
  },
  {
   "cell_type": "markdown",
   "id": "e5541a4b",
   "metadata": {
    "papermill": {
     "duration": 0.015372,
     "end_time": "2023-06-24T19:54:30.727490",
     "exception": false,
     "start_time": "2023-06-24T19:54:30.712118",
     "status": "completed"
    },
    "tags": []
   },
   "source": [
    "1. Train - Validation split\n",
    "2. Missing values = no missing values in this dataset\n",
    "3. Encoding categorical variables\n",
    "4. Data normalization"
   ]
  },
  {
   "cell_type": "code",
   "execution_count": 12,
   "id": "f0e081ff",
   "metadata": {
    "execution": {
     "iopub.execute_input": "2023-06-24T19:54:30.761343Z",
     "iopub.status.busy": "2023-06-24T19:54:30.760509Z",
     "iopub.status.idle": "2023-06-24T19:54:31.091276Z",
     "shell.execute_reply": "2023-06-24T19:54:31.090167Z"
    },
    "papermill": {
     "duration": 0.350339,
     "end_time": "2023-06-24T19:54:31.093931",
     "exception": false,
     "start_time": "2023-06-24T19:54:30.743592",
     "status": "completed"
    },
    "tags": []
   },
   "outputs": [
    {
     "data": {
      "text/html": [
       "<div>\n",
       "<style scoped>\n",
       "    .dataframe tbody tr th:only-of-type {\n",
       "        vertical-align: middle;\n",
       "    }\n",
       "\n",
       "    .dataframe tbody tr th {\n",
       "        vertical-align: top;\n",
       "    }\n",
       "\n",
       "    .dataframe thead th {\n",
       "        text-align: right;\n",
       "    }\n",
       "</style>\n",
       "<table border=\"1\" class=\"dataframe\">\n",
       "  <thead>\n",
       "    <tr style=\"text-align: right;\">\n",
       "      <th></th>\n",
       "      <th>id</th>\n",
       "      <th>Type</th>\n",
       "      <th>AirTemp</th>\n",
       "      <th>ProcessTemp</th>\n",
       "      <th>RotSpeed</th>\n",
       "      <th>Torque</th>\n",
       "      <th>ToolWear</th>\n",
       "    </tr>\n",
       "  </thead>\n",
       "  <tbody>\n",
       "    <tr>\n",
       "      <th>42111</th>\n",
       "      <td>42111</td>\n",
       "      <td>L</td>\n",
       "      <td>298.7</td>\n",
       "      <td>309.8</td>\n",
       "      <td>1611</td>\n",
       "      <td>34.6</td>\n",
       "      <td>119</td>\n",
       "    </tr>\n",
       "    <tr>\n",
       "      <th>82276</th>\n",
       "      <td>82276</td>\n",
       "      <td>M</td>\n",
       "      <td>299.3</td>\n",
       "      <td>308.5</td>\n",
       "      <td>1584</td>\n",
       "      <td>42.2</td>\n",
       "      <td>30</td>\n",
       "    </tr>\n",
       "    <tr>\n",
       "      <th>65862</th>\n",
       "      <td>65862</td>\n",
       "      <td>L</td>\n",
       "      <td>299.1</td>\n",
       "      <td>310.5</td>\n",
       "      <td>1495</td>\n",
       "      <td>38.4</td>\n",
       "      <td>58</td>\n",
       "    </tr>\n",
       "    <tr>\n",
       "      <th>17471</th>\n",
       "      <td>17471</td>\n",
       "      <td>L</td>\n",
       "      <td>297.2</td>\n",
       "      <td>308.3</td>\n",
       "      <td>1465</td>\n",
       "      <td>40.3</td>\n",
       "      <td>17</td>\n",
       "    </tr>\n",
       "    <tr>\n",
       "      <th>84068</th>\n",
       "      <td>84068</td>\n",
       "      <td>M</td>\n",
       "      <td>298.7</td>\n",
       "      <td>309.8</td>\n",
       "      <td>1394</td>\n",
       "      <td>45.5</td>\n",
       "      <td>19</td>\n",
       "    </tr>\n",
       "  </tbody>\n",
       "</table>\n",
       "</div>"
      ],
      "text/plain": [
       "          id Type  AirTemp  ProcessTemp  RotSpeed  Torque  ToolWear\n",
       "42111  42111    L    298.7        309.8      1611    34.6       119\n",
       "82276  82276    M    299.3        308.5      1584    42.2        30\n",
       "65862  65862    L    299.1        310.5      1495    38.4        58\n",
       "17471  17471    L    297.2        308.3      1465    40.3        17\n",
       "84068  84068    M    298.7        309.8      1394    45.5        19"
      ]
     },
     "execution_count": 12,
     "metadata": {},
     "output_type": "execute_result"
    }
   ],
   "source": [
    "complete_train = df.drop([\"Machine failure\"], axis = 1)\n",
    "complete_y = df[\"Machine failure\"]\n",
    "\n",
    "# Splitting dataset into training and validation sets (75-25)\n",
    "\n",
    "from sklearn.model_selection import train_test_split\n",
    "\n",
    "train_X, val_X, train_y, val_y = train_test_split(complete_train, complete_y)\n",
    "\n",
    "train_X.head()"
   ]
  },
  {
   "cell_type": "code",
   "execution_count": 13,
   "id": "e3c57042",
   "metadata": {
    "execution": {
     "iopub.execute_input": "2023-06-24T19:54:31.131381Z",
     "iopub.status.busy": "2023-06-24T19:54:31.131002Z",
     "iopub.status.idle": "2023-06-24T19:54:31.278726Z",
     "shell.execute_reply": "2023-06-24T19:54:31.277848Z"
    },
    "papermill": {
     "duration": 0.168183,
     "end_time": "2023-06-24T19:54:31.280943",
     "exception": false,
     "start_time": "2023-06-24T19:54:31.112760",
     "status": "completed"
    },
    "tags": []
   },
   "outputs": [
    {
     "data": {
      "text/html": [
       "<div>\n",
       "<style scoped>\n",
       "    .dataframe tbody tr th:only-of-type {\n",
       "        vertical-align: middle;\n",
       "    }\n",
       "\n",
       "    .dataframe tbody tr th {\n",
       "        vertical-align: top;\n",
       "    }\n",
       "\n",
       "    .dataframe thead th {\n",
       "        text-align: right;\n",
       "    }\n",
       "</style>\n",
       "<table border=\"1\" class=\"dataframe\">\n",
       "  <thead>\n",
       "    <tr style=\"text-align: right;\">\n",
       "      <th></th>\n",
       "      <th>cat__Type_H</th>\n",
       "      <th>cat__Type_L</th>\n",
       "      <th>cat__Type_M</th>\n",
       "      <th>num__AirTemp</th>\n",
       "      <th>num__ProcessTemp</th>\n",
       "      <th>num__RotSpeed</th>\n",
       "      <th>num__Torque</th>\n",
       "      <th>num__ToolWear</th>\n",
       "      <th>skip__id</th>\n",
       "    </tr>\n",
       "  </thead>\n",
       "  <tbody>\n",
       "    <tr>\n",
       "      <th>0</th>\n",
       "      <td>0.0</td>\n",
       "      <td>1.0</td>\n",
       "      <td>0.0</td>\n",
       "      <td>-0.626551</td>\n",
       "      <td>-0.104562</td>\n",
       "      <td>0.650794</td>\n",
       "      <td>-0.673583</td>\n",
       "      <td>0.226008</td>\n",
       "      <td>42111.0</td>\n",
       "    </tr>\n",
       "    <tr>\n",
       "      <th>1</th>\n",
       "      <td>0.0</td>\n",
       "      <td>0.0</td>\n",
       "      <td>1.0</td>\n",
       "      <td>-0.304326</td>\n",
       "      <td>-1.044069</td>\n",
       "      <td>0.456656</td>\n",
       "      <td>0.218677</td>\n",
       "      <td>-1.165438</td>\n",
       "      <td>82276.0</td>\n",
       "    </tr>\n",
       "    <tr>\n",
       "      <th>2</th>\n",
       "      <td>0.0</td>\n",
       "      <td>1.0</td>\n",
       "      <td>0.0</td>\n",
       "      <td>-0.411735</td>\n",
       "      <td>0.401326</td>\n",
       "      <td>-0.183281</td>\n",
       "      <td>-0.227453</td>\n",
       "      <td>-0.727680</td>\n",
       "      <td>65862.0</td>\n",
       "    </tr>\n",
       "    <tr>\n",
       "      <th>3</th>\n",
       "      <td>0.0</td>\n",
       "      <td>1.0</td>\n",
       "      <td>0.0</td>\n",
       "      <td>-1.432114</td>\n",
       "      <td>-1.188609</td>\n",
       "      <td>-0.398990</td>\n",
       "      <td>-0.004388</td>\n",
       "      <td>-1.368683</td>\n",
       "      <td>17471.0</td>\n",
       "    </tr>\n",
       "    <tr>\n",
       "      <th>4</th>\n",
       "      <td>0.0</td>\n",
       "      <td>0.0</td>\n",
       "      <td>1.0</td>\n",
       "      <td>-0.626551</td>\n",
       "      <td>-0.104562</td>\n",
       "      <td>-0.909501</td>\n",
       "      <td>0.606106</td>\n",
       "      <td>-1.337414</td>\n",
       "      <td>84068.0</td>\n",
       "    </tr>\n",
       "  </tbody>\n",
       "</table>\n",
       "</div>"
      ],
      "text/plain": [
       "   cat__Type_H  cat__Type_L  cat__Type_M  num__AirTemp  num__ProcessTemp  \\\n",
       "0          0.0          1.0          0.0     -0.626551         -0.104562   \n",
       "1          0.0          0.0          1.0     -0.304326         -1.044069   \n",
       "2          0.0          1.0          0.0     -0.411735          0.401326   \n",
       "3          0.0          1.0          0.0     -1.432114         -1.188609   \n",
       "4          0.0          0.0          1.0     -0.626551         -0.104562   \n",
       "\n",
       "   num__RotSpeed  num__Torque  num__ToolWear  skip__id  \n",
       "0       0.650794    -0.673583       0.226008   42111.0  \n",
       "1       0.456656     0.218677      -1.165438   82276.0  \n",
       "2      -0.183281    -0.227453      -0.727680   65862.0  \n",
       "3      -0.398990    -0.004388      -1.368683   17471.0  \n",
       "4      -0.909501     0.606106      -1.337414   84068.0  "
      ]
     },
     "execution_count": 13,
     "metadata": {},
     "output_type": "execute_result"
    }
   ],
   "source": [
    "# Variable types:\n",
    "# Continuous = [\"AirTemp\", \"ProcessTemp\", \"RotSpeed\", \"Torque\", \"ToolWear\"]\n",
    "# Categorical = [\"Type\"]\n",
    "\n",
    "# Normalize continuous variables:\n",
    "\n",
    "from sklearn.preprocessing import StandardScaler\n",
    "from sklearn.preprocessing import OneHotEncoder\n",
    "from sklearn.compose import ColumnTransformer\n",
    "\n",
    "transformers = [\n",
    "    ('cat', OneHotEncoder(handle_unknown = 'ignore'), ['Type']),\n",
    "    ('num', StandardScaler(), ['AirTemp', 'ProcessTemp', 'RotSpeed', 'Torque', 'ToolWear']),\n",
    "    ('skip', 'passthrough', ['id'])\n",
    "]\n",
    "\n",
    "col_transformer = ColumnTransformer(transformers)\n",
    "\n",
    "#train_X_num = pd.DataFrame(sc.fit_transform(train_X_num), columns = train_X_num.columns)\n",
    "#val_X_num = pd.DataFrame(sc.transform(val_X_num), columns = val_X_num.columns)\n",
    "\n",
    "#train_X_num.head()\n",
    "\n",
    "train_X_new = pd.DataFrame(col_transformer.fit_transform(train_X), columns = col_transformer.get_feature_names_out())\n",
    "val_X_new = pd.DataFrame(col_transformer.transform(val_X), columns = col_transformer.get_feature_names_out())\n",
    "\n",
    "train_X_new.head()"
   ]
  },
  {
   "cell_type": "markdown",
   "id": "9e796d3a",
   "metadata": {
    "papermill": {
     "duration": 0.015543,
     "end_time": "2023-06-24T19:54:31.312820",
     "exception": false,
     "start_time": "2023-06-24T19:54:31.297277",
     "status": "completed"
    },
    "tags": []
   },
   "source": [
    "# Logistic Regression"
   ]
  },
  {
   "cell_type": "code",
   "execution_count": 14,
   "id": "a7490954",
   "metadata": {
    "execution": {
     "iopub.execute_input": "2023-06-24T19:54:31.347121Z",
     "iopub.status.busy": "2023-06-24T19:54:31.346723Z",
     "iopub.status.idle": "2023-06-24T19:54:32.032392Z",
     "shell.execute_reply": "2023-06-24T19:54:32.031121Z"
    },
    "papermill": {
     "duration": 0.706395,
     "end_time": "2023-06-24T19:54:32.035245",
     "exception": false,
     "start_time": "2023-06-24T19:54:31.328850",
     "status": "completed"
    },
    "tags": []
   },
   "outputs": [
    {
     "name": "stdout",
     "output_type": "stream",
     "text": [
      "Model accuracy =  0.7870587545443885\n",
      "Logistic Regression AUROC =  0.8267230203621011\n"
     ]
    },
    {
     "data": {
      "text/plain": [
       "<Axes: >"
      ]
     },
     "execution_count": 14,
     "metadata": {},
     "output_type": "execute_result"
    },
    {
     "data": {
      "image/png": "[encoded data removed]",
      "text/plain": [
       "<Figure size 640x480 with 2 Axes>"
      ]
     },
     "metadata": {},
     "output_type": "display_data"
    }
   ],
   "source": [
    "from sklearn.linear_model import LogisticRegression\n",
    "from sklearn.metrics import roc_curve\n",
    "from sklearn.metrics import roc_auc_score\n",
    "from sklearn.metrics import accuracy_score\n",
    "from sklearn.metrics import confusion_matrix\n",
    "\n",
    "# Fit a logistic regression model on train_X_new and train_y\n",
    "\n",
    "model = LogisticRegression(solver = \"newton-cholesky\", class_weight = \"balanced\")\n",
    "model.fit(train_X_new, train_y)\n",
    "\n",
    "# Predict class probabilities for validation set\n",
    "\n",
    "pred_y = model.predict(val_X_new)\n",
    "\n",
    "val_probs = model.predict_proba(val_X_new)\n",
    "\n",
    "# Calculate accuracy of prediction using AUROC curve scores\n",
    "\n",
    "auc_score = roc_auc_score(val_y, val_probs[:,1])\n",
    "\n",
    "print(\"Model accuracy = \", accuracy_score(val_y, pred_y))\n",
    "print(\"Logistic Regression AUROC = \", auc_score)\n",
    "\n",
    "cm = pd.DataFrame(confusion_matrix(val_y, pred_y))\n",
    "sns.heatmap(cm, annot = True, cmap = \"YlGnBu\")"
   ]
  },
  {
   "cell_type": "code",
   "execution_count": 15,
   "id": "5c4326a6",
   "metadata": {
    "execution": {
     "iopub.execute_input": "2023-06-24T19:54:32.071273Z",
     "iopub.status.busy": "2023-06-24T19:54:32.070627Z",
     "iopub.status.idle": "2023-06-24T19:54:32.077985Z",
     "shell.execute_reply": "2023-06-24T19:54:32.076933Z"
    },
    "papermill": {
     "duration": 0.027822,
     "end_time": "2023-06-24T19:54:32.080188",
     "exception": false,
     "start_time": "2023-06-24T19:54:32.052366",
     "status": "completed"
    },
    "tags": []
   },
   "outputs": [
    {
     "data": {
      "text/plain": [
       "Index(['id', 'Product ID', 'Type', 'Air temperature [K]',\n",
       "       'Process temperature [K]', 'Rotational speed [rpm]', 'Torque [Nm]',\n",
       "       'Tool wear [min]', 'TWF', 'HDF', 'PWF', 'OSF', 'RNF'],\n",
       "      dtype='object')"
      ]
     },
     "execution_count": 15,
     "metadata": {},
     "output_type": "execute_result"
    }
   ],
   "source": [
    "test_df.columns"
   ]
  },
  {
   "cell_type": "code",
   "execution_count": 16,
   "id": "89cd4124",
   "metadata": {
    "execution": {
     "iopub.execute_input": "2023-06-24T19:54:32.115707Z",
     "iopub.status.busy": "2023-06-24T19:54:32.115283Z",
     "iopub.status.idle": "2023-06-24T19:54:32.193411Z",
     "shell.execute_reply": "2023-06-24T19:54:32.192267Z"
    },
    "papermill": {
     "duration": 0.099052,
     "end_time": "2023-06-24T19:54:32.196055",
     "exception": false,
     "start_time": "2023-06-24T19:54:32.097003",
     "status": "completed"
    },
    "tags": []
   },
   "outputs": [
    {
     "data": {
      "text/html": [
       "<div>\n",
       "<style scoped>\n",
       "    .dataframe tbody tr th:only-of-type {\n",
       "        vertical-align: middle;\n",
       "    }\n",
       "\n",
       "    .dataframe tbody tr th {\n",
       "        vertical-align: top;\n",
       "    }\n",
       "\n",
       "    .dataframe thead th {\n",
       "        text-align: right;\n",
       "    }\n",
       "</style>\n",
       "<table border=\"1\" class=\"dataframe\">\n",
       "  <thead>\n",
       "    <tr style=\"text-align: right;\">\n",
       "      <th></th>\n",
       "      <th>cat__Type_H</th>\n",
       "      <th>cat__Type_L</th>\n",
       "      <th>cat__Type_M</th>\n",
       "      <th>num__AirTemp</th>\n",
       "      <th>num__ProcessTemp</th>\n",
       "      <th>num__RotSpeed</th>\n",
       "      <th>num__Torque</th>\n",
       "      <th>num__ToolWear</th>\n",
       "      <th>skip__id</th>\n",
       "    </tr>\n",
       "  </thead>\n",
       "  <tbody>\n",
       "    <tr>\n",
       "      <th>0</th>\n",
       "      <td>0.0</td>\n",
       "      <td>1.0</td>\n",
       "      <td>0.0</td>\n",
       "      <td>1.306800</td>\n",
       "      <td>1.124024</td>\n",
       "      <td>-0.154519</td>\n",
       "      <td>-0.274414</td>\n",
       "      <td>-0.696411</td>\n",
       "      <td>136429.0</td>\n",
       "    </tr>\n",
       "    <tr>\n",
       "      <th>1</th>\n",
       "      <td>0.0</td>\n",
       "      <td>1.0</td>\n",
       "      <td>0.0</td>\n",
       "      <td>0.984575</td>\n",
       "      <td>0.762675</td>\n",
       "      <td>1.384205</td>\n",
       "      <td>-1.354519</td>\n",
       "      <td>-1.368683</td>\n",
       "      <td>136430.0</td>\n",
       "    </tr>\n",
       "    <tr>\n",
       "      <th>2</th>\n",
       "      <td>0.0</td>\n",
       "      <td>1.0</td>\n",
       "      <td>0.0</td>\n",
       "      <td>0.769758</td>\n",
       "      <td>0.329057</td>\n",
       "      <td>0.032428</td>\n",
       "      <td>-0.309635</td>\n",
       "      <td>-0.133579</td>\n",
       "      <td>136431.0</td>\n",
       "    </tr>\n",
       "    <tr>\n",
       "      <th>3</th>\n",
       "      <td>0.0</td>\n",
       "      <td>0.0</td>\n",
       "      <td>1.0</td>\n",
       "      <td>0.125308</td>\n",
       "      <td>-0.249102</td>\n",
       "      <td>-0.298325</td>\n",
       "      <td>0.852651</td>\n",
       "      <td>-1.556293</td>\n",
       "      <td>136432.0</td>\n",
       "    </tr>\n",
       "    <tr>\n",
       "      <th>4</th>\n",
       "      <td>0.0</td>\n",
       "      <td>0.0</td>\n",
       "      <td>1.0</td>\n",
       "      <td>1.897546</td>\n",
       "      <td>1.702182</td>\n",
       "      <td>-0.039475</td>\n",
       "      <td>0.113015</td>\n",
       "      <td>0.147837</td>\n",
       "      <td>136433.0</td>\n",
       "    </tr>\n",
       "  </tbody>\n",
       "</table>\n",
       "</div>"
      ],
      "text/plain": [
       "   cat__Type_H  cat__Type_L  cat__Type_M  num__AirTemp  num__ProcessTemp  \\\n",
       "0          0.0          1.0          0.0      1.306800          1.124024   \n",
       "1          0.0          1.0          0.0      0.984575          0.762675   \n",
       "2          0.0          1.0          0.0      0.769758          0.329057   \n",
       "3          0.0          0.0          1.0      0.125308         -0.249102   \n",
       "4          0.0          0.0          1.0      1.897546          1.702182   \n",
       "\n",
       "   num__RotSpeed  num__Torque  num__ToolWear  skip__id  \n",
       "0      -0.154519    -0.274414      -0.696411  136429.0  \n",
       "1       1.384205    -1.354519      -1.368683  136430.0  \n",
       "2       0.032428    -0.309635      -0.133579  136431.0  \n",
       "3      -0.298325     0.852651      -1.556293  136432.0  \n",
       "4      -0.039475     0.113015       0.147837  136433.0  "
      ]
     },
     "execution_count": 16,
     "metadata": {},
     "output_type": "execute_result"
    }
   ],
   "source": [
    "# Prediction 1 using simple logistic regression on the test set (submission 1)\n",
    "\n",
    "# Apply data transformations as before\n",
    "\n",
    "test_df.rename(columns = {test_df.columns[3] : \"AirTemp\", test_df.columns[4] : \"ProcessTemp\", test_df.columns[5]: \"RotSpeed\", test_df.columns[6] : \"Torque\", test_df.columns[7]:\"ToolWear\"}, inplace = True)\n",
    "test_df = test_df.drop([\"Product ID\", \"TWF\", \"HDF\", \"PWF\", \"OSF\", \"RNF\"], axis = 1)\n",
    "\n",
    "#test_df.columns\n",
    "\n",
    "test_df_new = pd.DataFrame(col_transformer.transform(test_df), columns = col_transformer.get_feature_names_out())\n",
    "test_df_new.head()"
   ]
  },
  {
   "cell_type": "code",
   "execution_count": 17,
   "id": "2986068b",
   "metadata": {
    "execution": {
     "iopub.execute_input": "2023-06-24T19:54:32.233411Z",
     "iopub.status.busy": "2023-06-24T19:54:32.232998Z",
     "iopub.status.idle": "2023-06-24T19:54:32.689396Z",
     "shell.execute_reply": "2023-06-24T19:54:32.687795Z"
    },
    "papermill": {
     "duration": 0.478844,
     "end_time": "2023-06-24T19:54:32.692411",
     "exception": false,
     "start_time": "2023-06-24T19:54:32.213567",
     "status": "completed"
    },
    "tags": []
   },
   "outputs": [],
   "source": [
    "pred_sub = model.predict_proba(test_df_new)[:,1]\n",
    "sub1 = pd.DataFrame(pred_sub, columns = ['Machine failure'])\n",
    "ex_col = test_df[[\"id\"]]\n",
    "submission = ex_col.join(sub1)\n",
    "\n",
    "submission.head()\n",
    "submission.to_csv(\"submission1.csv\", index = False)"
   ]
  },
  {
   "cell_type": "markdown",
   "id": "7dfa30d9",
   "metadata": {
    "papermill": {
     "duration": 0.016701,
     "end_time": "2023-06-24T19:54:32.726843",
     "exception": false,
     "start_time": "2023-06-24T19:54:32.710142",
     "status": "completed"
    },
    "tags": []
   },
   "source": [
    "# Logistic Regression with Cross-Validation"
   ]
  },
  {
   "cell_type": "code",
   "execution_count": 18,
   "id": "53fe44a2",
   "metadata": {
    "execution": {
     "iopub.execute_input": "2023-06-24T19:54:32.762924Z",
     "iopub.status.busy": "2023-06-24T19:54:32.762494Z",
     "iopub.status.idle": "2023-06-24T19:54:34.193461Z",
     "shell.execute_reply": "2023-06-24T19:54:34.191819Z"
    },
    "papermill": {
     "duration": 1.454132,
     "end_time": "2023-06-24T19:54:34.198150",
     "exception": false,
     "start_time": "2023-06-24T19:54:32.744018",
     "status": "completed"
    },
    "tags": []
   },
   "outputs": [
    {
     "name": "stdout",
     "output_type": "stream",
     "text": [
      "Cross validation AUROC =  0.8375632761594961\n"
     ]
    }
   ],
   "source": [
    "from sklearn.model_selection import cross_val_score\n",
    "\n",
    "train_X_complete = pd.DataFrame(col_transformer.fit_transform(complete_train), columns = col_transformer.get_feature_names_out())\n",
    "\n",
    "cv_scores = cross_val_score(model, train_X_complete, complete_y, cv = 5, scoring = 'roc_auc')\n",
    "\n",
    "print(\"Cross validation AUROC = \", cv_scores.mean())"
   ]
  },
  {
   "cell_type": "markdown",
   "id": "065d77de",
   "metadata": {
    "papermill": {
     "duration": 0.036456,
     "end_time": "2023-06-24T19:54:34.270229",
     "exception": false,
     "start_time": "2023-06-24T19:54:34.233773",
     "status": "completed"
    },
    "tags": []
   },
   "source": [
    "5-fold cross validation performs only slightly better than logistic regression"
   ]
  },
  {
   "cell_type": "markdown",
   "id": "c53b9d5a",
   "metadata": {
    "papermill": {
     "duration": 0.016846,
     "end_time": "2023-06-24T19:54:34.315896",
     "exception": false,
     "start_time": "2023-06-24T19:54:34.299050",
     "status": "completed"
    },
    "tags": []
   },
   "source": [
    "# Decision Tree Classifier"
   ]
  },
  {
   "cell_type": "code",
   "execution_count": 19,
   "id": "3e34da09",
   "metadata": {
    "execution": {
     "iopub.execute_input": "2023-06-24T19:54:34.352099Z",
     "iopub.status.busy": "2023-06-24T19:54:34.351714Z",
     "iopub.status.idle": "2023-06-24T19:54:35.887735Z",
     "shell.execute_reply": "2023-06-24T19:54:35.886917Z"
    },
    "papermill": {
     "duration": 1.556711,
     "end_time": "2023-06-24T19:54:35.889897",
     "exception": false,
     "start_time": "2023-06-24T19:54:34.333186",
     "status": "completed"
    },
    "tags": []
   },
   "outputs": [
    {
     "name": "stdout",
     "output_type": "stream",
     "text": [
      "Model accuracy =  0.979447636918025\n",
      "Decision Tree AUROC =  0.632721693639554\n"
     ]
    },
    {
     "data": {
      "text/plain": [
       "<Axes: >"
      ]
     },
     "execution_count": 19,
     "metadata": {},
     "output_type": "execute_result"
    },
    {
     "data": {
      "image/png": "[encoded data removed]",
      "text/plain": [
       "<Figure size 640x480 with 2 Axes>"
      ]
     },
     "metadata": {},
     "output_type": "display_data"
    }
   ],
   "source": [
    "from sklearn.tree import DecisionTreeClassifier\n",
    "\n",
    "model_dt = DecisionTreeClassifier(class_weight = 'balanced')\n",
    "\n",
    "model_dt.fit(train_X_new, train_y)\n",
    "\n",
    "pred_y = model_dt.predict(val_X_new)\n",
    "\n",
    "val_probs = model_dt.predict_proba(val_X_new)\n",
    "\n",
    "# Calculate accuracy of prediction using AUROC curve scores\n",
    "\n",
    "auc_score = roc_auc_score(val_y, val_probs[:,1])\n",
    "\n",
    "print(\"Model accuracy = \", accuracy_score(val_y, pred_y))\n",
    "print(\"Decision Tree AUROC = \", auc_score)\n",
    "\n",
    "cm = pd.DataFrame(confusion_matrix(val_y, pred_y))\n",
    "sns.heatmap(cm, annot = True, cmap = \"YlGnBu\")"
   ]
  },
  {
   "cell_type": "markdown",
   "id": "963ce6f4",
   "metadata": {
    "papermill": {
     "duration": 0.017593,
     "end_time": "2023-06-24T19:54:35.925713",
     "exception": false,
     "start_time": "2023-06-24T19:54:35.908120",
     "status": "completed"
    },
    "tags": []
   },
   "source": [
    "> Does slighly poorer than simple logistic regression.. try tuning params to see if it does better?"
   ]
  },
  {
   "cell_type": "markdown",
   "id": "a3d43e81",
   "metadata": {
    "papermill": {
     "duration": 0.019625,
     "end_time": "2023-06-24T19:54:35.963245",
     "exception": false,
     "start_time": "2023-06-24T19:54:35.943620",
     "status": "completed"
    },
    "tags": []
   },
   "source": [
    "# Random Forest Classifier"
   ]
  },
  {
   "cell_type": "code",
   "execution_count": 20,
   "id": "dcb5c1c7",
   "metadata": {
    "execution": {
     "iopub.execute_input": "2023-06-24T19:54:36.002131Z",
     "iopub.status.busy": "2023-06-24T19:54:36.001470Z",
     "iopub.status.idle": "2023-06-24T19:56:32.675087Z",
     "shell.execute_reply": "2023-06-24T19:56:32.673976Z"
    },
    "papermill": {
     "duration": 116.695705,
     "end_time": "2023-06-24T19:56:32.677505",
     "exception": false,
     "start_time": "2023-06-24T19:54:35.981800",
     "status": "completed"
    },
    "tags": []
   },
   "outputs": [
    {
     "name": "stdout",
     "output_type": "stream",
     "text": [
      "Model accuracy =  0.9864254720300223\n",
      "Random Forest AUROC =  0.9012267312045087\n"
     ]
    },
    {
     "data": {
      "text/plain": [
       "<Axes: >"
      ]
     },
     "execution_count": 20,
     "metadata": {},
     "output_type": "execute_result"
    },
    {
     "data": {
      "image/png": "[encoded data removed]",
      "text/plain": [
       "<Figure size 640x480 with 2 Axes>"
      ]
     },
     "metadata": {},
     "output_type": "display_data"
    }
   ],
   "source": [
    "from sklearn.ensemble import RandomForestClassifier\n",
    "\n",
    "model_rf = RandomForestClassifier(n_estimators = 500, class_weight = 'balanced')\n",
    "\n",
    "model_rf.fit(train_X_new, train_y)\n",
    "\n",
    "pred_y = model_rf.predict(val_X_new)\n",
    "\n",
    "val_probs = model_rf.predict_proba(val_X_new)\n",
    "\n",
    "# Calculate accuracy of prediction using AUROC curve scores\n",
    "\n",
    "auc_score = roc_auc_score(val_y, val_probs[:,1])\n",
    "\n",
    "print(\"Model accuracy = \", accuracy_score(val_y, pred_y))\n",
    "print(\"Random Forest AUROC = \", auc_score)\n",
    "\n",
    "cm = pd.DataFrame(confusion_matrix(val_y, pred_y))\n",
    "sns.heatmap(cm, annot = True, cmap = \"YlGnBu\")"
   ]
  },
  {
   "cell_type": "code",
   "execution_count": 21,
   "id": "966f9e38",
   "metadata": {
    "execution": {
     "iopub.execute_input": "2023-06-24T19:56:32.717713Z",
     "iopub.status.busy": "2023-06-24T19:56:32.717092Z",
     "iopub.status.idle": "2023-06-24T19:56:38.304711Z",
     "shell.execute_reply": "2023-06-24T19:56:38.303538Z"
    },
    "papermill": {
     "duration": 5.609918,
     "end_time": "2023-06-24T19:56:38.307139",
     "exception": false,
     "start_time": "2023-06-24T19:56:32.697221",
     "status": "completed"
    },
    "tags": []
   },
   "outputs": [
    {
     "data": {
      "text/html": [
       "<div>\n",
       "<style scoped>\n",
       "    .dataframe tbody tr th:only-of-type {\n",
       "        vertical-align: middle;\n",
       "    }\n",
       "\n",
       "    .dataframe tbody tr th {\n",
       "        vertical-align: top;\n",
       "    }\n",
       "\n",
       "    .dataframe thead th {\n",
       "        text-align: right;\n",
       "    }\n",
       "</style>\n",
       "<table border=\"1\" class=\"dataframe\">\n",
       "  <thead>\n",
       "    <tr style=\"text-align: right;\">\n",
       "      <th></th>\n",
       "      <th>id</th>\n",
       "      <th>Machine failure</th>\n",
       "    </tr>\n",
       "  </thead>\n",
       "  <tbody>\n",
       "    <tr>\n",
       "      <th>0</th>\n",
       "      <td>136429</td>\n",
       "      <td>0.002</td>\n",
       "    </tr>\n",
       "    <tr>\n",
       "      <th>1</th>\n",
       "      <td>136430</td>\n",
       "      <td>0.128</td>\n",
       "    </tr>\n",
       "    <tr>\n",
       "      <th>2</th>\n",
       "      <td>136431</td>\n",
       "      <td>0.000</td>\n",
       "    </tr>\n",
       "    <tr>\n",
       "      <th>3</th>\n",
       "      <td>136432</td>\n",
       "      <td>0.002</td>\n",
       "    </tr>\n",
       "    <tr>\n",
       "      <th>4</th>\n",
       "      <td>136433</td>\n",
       "      <td>0.004</td>\n",
       "    </tr>\n",
       "  </tbody>\n",
       "</table>\n",
       "</div>"
      ],
      "text/plain": [
       "       id  Machine failure\n",
       "0  136429            0.002\n",
       "1  136430            0.128\n",
       "2  136431            0.000\n",
       "3  136432            0.002\n",
       "4  136433            0.004"
      ]
     },
     "execution_count": 21,
     "metadata": {},
     "output_type": "execute_result"
    }
   ],
   "source": [
    "pred_sub = model_rf.predict_proba(test_df_new)[:,1]\n",
    "sub1 = pd.DataFrame(pred_sub, columns = ['Machine failure'])\n",
    "ex_col = test_df[[\"id\"]]\n",
    "submission = ex_col.join(sub1)\n",
    "submission.to_csv(\"submission2.csv\", index = False)\n",
    "submission.head()"
   ]
  },
  {
   "cell_type": "markdown",
   "id": "b5897ad5",
   "metadata": {
    "papermill": {
     "duration": 0.018371,
     "end_time": "2023-06-24T19:56:38.344007",
     "exception": false,
     "start_time": "2023-06-24T19:56:38.325636",
     "status": "completed"
    },
    "tags": []
   },
   "source": [
    "Trying XGBoost to see if it performs better.."
   ]
  },
  {
   "cell_type": "markdown",
   "id": "77fbd001",
   "metadata": {
    "papermill": {
     "duration": 0.018125,
     "end_time": "2023-06-24T19:56:38.380761",
     "exception": false,
     "start_time": "2023-06-24T19:56:38.362636",
     "status": "completed"
    },
    "tags": []
   },
   "source": [
    "# XGBoost Classifier"
   ]
  },
  {
   "cell_type": "code",
   "execution_count": 22,
   "id": "fa6305e4",
   "metadata": {
    "execution": {
     "iopub.execute_input": "2023-06-24T19:56:38.420006Z",
     "iopub.status.busy": "2023-06-24T19:56:38.419171Z",
     "iopub.status.idle": "2023-06-24T19:56:45.926760Z",
     "shell.execute_reply": "2023-06-24T19:56:45.925528Z"
    },
    "papermill": {
     "duration": 7.530256,
     "end_time": "2023-06-24T19:56:45.929352",
     "exception": false,
     "start_time": "2023-06-24T19:56:38.399096",
     "status": "completed"
    },
    "tags": []
   },
   "outputs": [
    {
     "name": "stdout",
     "output_type": "stream",
     "text": [
      "Model accuracy =  0.9868066142840389\n",
      "XGBoost AUROC =  0.9149936628538008\n"
     ]
    },
    {
     "data": {
      "text/plain": [
       "<Axes: >"
      ]
     },
     "execution_count": 22,
     "metadata": {},
     "output_type": "execute_result"
    },
    {
     "data": {
      "image/png": "[encoded data removed]",
      "text/plain": [
       "<Figure size 640x480 with 2 Axes>"
      ]
     },
     "metadata": {},
     "output_type": "display_data"
    }
   ],
   "source": [
    "from xgboost import XGBClassifier\n",
    "\n",
    "model_xgb = XGBClassifier()\n",
    "\n",
    "model_xgb.fit(train_X_new, train_y)\n",
    "\n",
    "pred_y = model_xgb.predict(val_X_new)\n",
    "\n",
    "val_probs = model_xgb.predict_proba(val_X_new)\n",
    "\n",
    "# Calculate accuracy of prediction using AUROC curve scores\n",
    "\n",
    "auc_score = roc_auc_score(val_y, val_probs[:,1])\n",
    "\n",
    "print(\"Model accuracy = \", accuracy_score(val_y, pred_y))\n",
    "print(\"XGBoost AUROC = \", auc_score)\n",
    "\n",
    "cm = pd.DataFrame(confusion_matrix(val_y, pred_y))\n",
    "sns.heatmap(cm, annot = True, cmap = \"YlGnBu\")"
   ]
  },
  {
   "cell_type": "code",
   "execution_count": 23,
   "id": "9bebcd07",
   "metadata": {
    "execution": {
     "iopub.execute_input": "2023-06-24T19:56:45.968968Z",
     "iopub.status.busy": "2023-06-24T19:56:45.968585Z",
     "iopub.status.idle": "2023-06-24T19:57:21.503325Z",
     "shell.execute_reply": "2023-06-24T19:57:21.502431Z"
    },
    "papermill": {
     "duration": 35.576571,
     "end_time": "2023-06-24T19:57:21.524805",
     "exception": false,
     "start_time": "2023-06-24T19:56:45.948234",
     "status": "completed"
    },
    "tags": []
   },
   "outputs": [
    {
     "name": "stdout",
     "output_type": "stream",
     "text": [
      "XGBoost Cross validation AUROC =  0.9220376884199284\n"
     ]
    }
   ],
   "source": [
    "# XGBoost with cross-validation\n",
    "\n",
    "cv_scores = cross_val_score(model_xgb, train_X_complete, complete_y, cv = 5, scoring = 'roc_auc')\n",
    "\n",
    "print(\"XGBoost Cross validation AUROC = \", cv_scores.mean())"
   ]
  },
  {
   "cell_type": "code",
   "execution_count": 24,
   "id": "0ad65922",
   "metadata": {
    "execution": {
     "iopub.execute_input": "2023-06-24T19:57:21.565557Z",
     "iopub.status.busy": "2023-06-24T19:57:21.564817Z",
     "iopub.status.idle": "2023-06-24T19:57:21.993808Z",
     "shell.execute_reply": "2023-06-24T19:57:21.992733Z"
    },
    "papermill": {
     "duration": 0.452311,
     "end_time": "2023-06-24T19:57:21.996291",
     "exception": false,
     "start_time": "2023-06-24T19:57:21.543980",
     "status": "completed"
    },
    "tags": []
   },
   "outputs": [
    {
     "data": {
      "text/html": [
       "<div>\n",
       "<style scoped>\n",
       "    .dataframe tbody tr th:only-of-type {\n",
       "        vertical-align: middle;\n",
       "    }\n",
       "\n",
       "    .dataframe tbody tr th {\n",
       "        vertical-align: top;\n",
       "    }\n",
       "\n",
       "    .dataframe thead th {\n",
       "        text-align: right;\n",
       "    }\n",
       "</style>\n",
       "<table border=\"1\" class=\"dataframe\">\n",
       "  <thead>\n",
       "    <tr style=\"text-align: right;\">\n",
       "      <th></th>\n",
       "      <th>id</th>\n",
       "      <th>Machine failure</th>\n",
       "    </tr>\n",
       "  </thead>\n",
       "  <tbody>\n",
       "    <tr>\n",
       "      <th>0</th>\n",
       "      <td>136429</td>\n",
       "      <td>0.000215</td>\n",
       "    </tr>\n",
       "    <tr>\n",
       "      <th>1</th>\n",
       "      <td>136430</td>\n",
       "      <td>0.002471</td>\n",
       "    </tr>\n",
       "    <tr>\n",
       "      <th>2</th>\n",
       "      <td>136431</td>\n",
       "      <td>0.000110</td>\n",
       "    </tr>\n",
       "    <tr>\n",
       "      <th>3</th>\n",
       "      <td>136432</td>\n",
       "      <td>0.000118</td>\n",
       "    </tr>\n",
       "    <tr>\n",
       "      <th>4</th>\n",
       "      <td>136433</td>\n",
       "      <td>0.000973</td>\n",
       "    </tr>\n",
       "  </tbody>\n",
       "</table>\n",
       "</div>"
      ],
      "text/plain": [
       "       id  Machine failure\n",
       "0  136429         0.000215\n",
       "1  136430         0.002471\n",
       "2  136431         0.000110\n",
       "3  136432         0.000118\n",
       "4  136433         0.000973"
      ]
     },
     "execution_count": 24,
     "metadata": {},
     "output_type": "execute_result"
    }
   ],
   "source": [
    "pred_sub = model_xgb.predict_proba(test_df_new)[:,1]\n",
    "sub1 = pd.DataFrame(pred_sub, columns = ['Machine failure'])\n",
    "ex_col = test_df[[\"id\"]]\n",
    "submission = ex_col.join(sub1)\n",
    "submission.to_csv(\"submission3.csv\", index = False)\n",
    "submission.head()"
   ]
  }
 ],
 "metadata": {
  "kernelspec": {
   "display_name": "Python 3",
   "language": "python",
   "name": "python3"
  },
  "language_info": {
   "codemirror_mode": {
    "name": "ipython",
    "version": 3
   },
   "file_extension": ".py",
   "mimetype": "text/x-python",
   "name": "python",
   "nbconvert_exporter": "python",
   "pygments_lexer": "ipython3",
   "version": "3.10.10"
  },
  "papermill": {
   "default_parameters": {},
   "duration": 190.091879,
   "end_time": "2023-06-24T19:57:23.148058",
   "environment_variables": {},
   "exception": null,
   "input_path": "__notebook__.ipynb",
   "output_path": "__notebook__.ipynb",
   "parameters": {},
   "start_time": "2023-06-24T19:54:13.056179",
   "version": "2.4.0"
  }
 },
 "nbformat": 4,
 "nbformat_minor": 5
}
