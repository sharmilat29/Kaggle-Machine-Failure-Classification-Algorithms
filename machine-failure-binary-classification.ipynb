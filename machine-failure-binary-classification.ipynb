{
 "cells": [
  {
   "cell_type": "code",
   "execution_count": 1,
   "id": "59ef2a03",
   "metadata": {
    "_cell_guid": "b1076dfc-b9ad-4769-8c92-a6c4dae69d19",
    "_uuid": "8f2839f25d086af736a60e9eeb907d3b93b6e0e5",
    "execution": {
     "iopub.execute_input": "2023-06-26T20:56:23.714356Z",
     "iopub.status.busy": "2023-06-26T20:56:23.713687Z",
     "iopub.status.idle": "2023-06-26T20:56:25.056041Z",
     "shell.execute_reply": "2023-06-26T20:56:25.054967Z"
    },
    "papermill": {
     "duration": 1.359791,
     "end_time": "2023-06-26T20:56:25.058965",
     "exception": false,
     "start_time": "2023-06-26T20:56:23.699174",
     "status": "completed"
    },
    "tags": []
   },
   "outputs": [
    {
     "name": "stdout",
     "output_type": "stream",
     "text": [
      "/kaggle/input/playground-series-s3e17/sample_submission.csv\n",
      "/kaggle/input/playground-series-s3e17/train.csv\n",
      "/kaggle/input/playground-series-s3e17/test.csv\n"
     ]
    }
   ],
   "source": [
    "# This Python 3 environment comes with many helpful analytics libraries installed\n",
    "# It is defined by the kaggle/python Docker image: https://github.com/kaggle/docker-python\n",
    "# For example, here's several helpful packages to load\n",
    "\n",
    "import numpy as np # linear algebra\n",
    "import pandas as pd # data processing, CSV file I/O (e.g. pd.read_csv)\n",
    "import seaborn as sns\n",
    "\n",
    "# Input data files are available in the read-only \"../input/\" directory\n",
    "# For example, running this (by clicking run or pressing Shift+Enter) will list all files under the input directory\n",
    "\n",
    "import os\n",
    "for dirname, _, filenames in os.walk('/kaggle/input'):\n",
    "    for filename in filenames:\n",
    "        print(os.path.join(dirname, filename))\n",
    "\n",
    "# You can write up to 20GB to the current directory (/kaggle/working/) that gets preserved as output when you create a version using \"Save & Run All\" \n",
    "# You can also write temporary files to /kaggle/temp/, but they won't be saved outside of the current session"
   ]
  },
  {
   "cell_type": "markdown",
   "id": "a1ae0380",
   "metadata": {
    "papermill": {
     "duration": 0.010229,
     "end_time": "2023-06-26T20:56:25.080998",
     "exception": false,
     "start_time": "2023-06-26T20:56:25.070769",
     "status": "completed"
    },
    "tags": []
   },
   "source": [
    "**Load and explore dataset:**"
   ]
  },
  {
   "cell_type": "code",
   "execution_count": 2,
   "id": "03f6b331",
   "metadata": {
    "execution": {
     "iopub.execute_input": "2023-06-26T20:56:25.104399Z",
     "iopub.status.busy": "2023-06-26T20:56:25.103602Z",
     "iopub.status.idle": "2023-06-26T20:56:25.312088Z",
     "shell.execute_reply": "2023-06-26T20:56:25.311011Z"
    },
    "papermill": {
     "duration": 0.223165,
     "end_time": "2023-06-26T20:56:25.314759",
     "exception": false,
     "start_time": "2023-06-26T20:56:25.091594",
     "status": "completed"
    },
    "tags": []
   },
   "outputs": [],
   "source": [
    "test_df = pd.read_csv(\"/kaggle/input/playground-series-s3e17/test.csv\")"
   ]
  },
  {
   "cell_type": "code",
   "execution_count": 3,
   "id": "ec44a203",
   "metadata": {
    "execution": {
     "iopub.execute_input": "2023-06-26T20:56:25.338067Z",
     "iopub.status.busy": "2023-06-26T20:56:25.337693Z",
     "iopub.status.idle": "2023-06-26T20:56:25.652745Z",
     "shell.execute_reply": "2023-06-26T20:56:25.651660Z"
    },
    "papermill": {
     "duration": 0.329334,
     "end_time": "2023-06-26T20:56:25.654921",
     "exception": false,
     "start_time": "2023-06-26T20:56:25.325587",
     "status": "completed"
    },
    "tags": []
   },
   "outputs": [
    {
     "data": {
      "text/html": [
       "<div>\n",
       "<style scoped>\n",
       "    .dataframe tbody tr th:only-of-type {\n",
       "        vertical-align: middle;\n",
       "    }\n",
       "\n",
       "    .dataframe tbody tr th {\n",
       "        vertical-align: top;\n",
       "    }\n",
       "\n",
       "    .dataframe thead th {\n",
       "        text-align: right;\n",
       "    }\n",
       "</style>\n",
       "<table border=\"1\" class=\"dataframe\">\n",
       "  <thead>\n",
       "    <tr style=\"text-align: right;\">\n",
       "      <th></th>\n",
       "      <th>id</th>\n",
       "      <th>Product ID</th>\n",
       "      <th>Type</th>\n",
       "      <th>Air temperature [K]</th>\n",
       "      <th>Process temperature [K]</th>\n",
       "      <th>Rotational speed [rpm]</th>\n",
       "      <th>Torque [Nm]</th>\n",
       "      <th>Tool wear [min]</th>\n",
       "      <th>Machine failure</th>\n",
       "      <th>TWF</th>\n",
       "      <th>HDF</th>\n",
       "      <th>PWF</th>\n",
       "      <th>OSF</th>\n",
       "      <th>RNF</th>\n",
       "    </tr>\n",
       "  </thead>\n",
       "  <tbody>\n",
       "    <tr>\n",
       "      <th>0</th>\n",
       "      <td>0</td>\n",
       "      <td>L50096</td>\n",
       "      <td>L</td>\n",
       "      <td>300.6</td>\n",
       "      <td>309.6</td>\n",
       "      <td>1596</td>\n",
       "      <td>36.1</td>\n",
       "      <td>140</td>\n",
       "      <td>0</td>\n",
       "      <td>0</td>\n",
       "      <td>0</td>\n",
       "      <td>0</td>\n",
       "      <td>0</td>\n",
       "      <td>0</td>\n",
       "    </tr>\n",
       "    <tr>\n",
       "      <th>1</th>\n",
       "      <td>1</td>\n",
       "      <td>M20343</td>\n",
       "      <td>M</td>\n",
       "      <td>302.6</td>\n",
       "      <td>312.1</td>\n",
       "      <td>1759</td>\n",
       "      <td>29.1</td>\n",
       "      <td>200</td>\n",
       "      <td>0</td>\n",
       "      <td>0</td>\n",
       "      <td>0</td>\n",
       "      <td>0</td>\n",
       "      <td>0</td>\n",
       "      <td>0</td>\n",
       "    </tr>\n",
       "    <tr>\n",
       "      <th>2</th>\n",
       "      <td>2</td>\n",
       "      <td>L49454</td>\n",
       "      <td>L</td>\n",
       "      <td>299.3</td>\n",
       "      <td>308.5</td>\n",
       "      <td>1805</td>\n",
       "      <td>26.5</td>\n",
       "      <td>25</td>\n",
       "      <td>0</td>\n",
       "      <td>0</td>\n",
       "      <td>0</td>\n",
       "      <td>0</td>\n",
       "      <td>0</td>\n",
       "      <td>0</td>\n",
       "    </tr>\n",
       "    <tr>\n",
       "      <th>3</th>\n",
       "      <td>3</td>\n",
       "      <td>L53355</td>\n",
       "      <td>L</td>\n",
       "      <td>301.0</td>\n",
       "      <td>310.9</td>\n",
       "      <td>1524</td>\n",
       "      <td>44.3</td>\n",
       "      <td>197</td>\n",
       "      <td>0</td>\n",
       "      <td>0</td>\n",
       "      <td>0</td>\n",
       "      <td>0</td>\n",
       "      <td>0</td>\n",
       "      <td>0</td>\n",
       "    </tr>\n",
       "    <tr>\n",
       "      <th>4</th>\n",
       "      <td>4</td>\n",
       "      <td>M24050</td>\n",
       "      <td>M</td>\n",
       "      <td>298.0</td>\n",
       "      <td>309.0</td>\n",
       "      <td>1641</td>\n",
       "      <td>35.4</td>\n",
       "      <td>34</td>\n",
       "      <td>0</td>\n",
       "      <td>0</td>\n",
       "      <td>0</td>\n",
       "      <td>0</td>\n",
       "      <td>0</td>\n",
       "      <td>0</td>\n",
       "    </tr>\n",
       "    <tr>\n",
       "      <th>5</th>\n",
       "      <td>5</td>\n",
       "      <td>M24300</td>\n",
       "      <td>M</td>\n",
       "      <td>298.4</td>\n",
       "      <td>308.9</td>\n",
       "      <td>1429</td>\n",
       "      <td>42.1</td>\n",
       "      <td>65</td>\n",
       "      <td>0</td>\n",
       "      <td>0</td>\n",
       "      <td>0</td>\n",
       "      <td>0</td>\n",
       "      <td>0</td>\n",
       "      <td>0</td>\n",
       "    </tr>\n",
       "    <tr>\n",
       "      <th>6</th>\n",
       "      <td>6</td>\n",
       "      <td>L56736</td>\n",
       "      <td>L</td>\n",
       "      <td>299.6</td>\n",
       "      <td>311.0</td>\n",
       "      <td>1413</td>\n",
       "      <td>42.9</td>\n",
       "      <td>156</td>\n",
       "      <td>0</td>\n",
       "      <td>0</td>\n",
       "      <td>0</td>\n",
       "      <td>0</td>\n",
       "      <td>0</td>\n",
       "      <td>0</td>\n",
       "    </tr>\n",
       "    <tr>\n",
       "      <th>7</th>\n",
       "      <td>7</td>\n",
       "      <td>L55488</td>\n",
       "      <td>L</td>\n",
       "      <td>298.7</td>\n",
       "      <td>310.1</td>\n",
       "      <td>1609</td>\n",
       "      <td>38.1</td>\n",
       "      <td>67</td>\n",
       "      <td>0</td>\n",
       "      <td>0</td>\n",
       "      <td>0</td>\n",
       "      <td>0</td>\n",
       "      <td>0</td>\n",
       "      <td>0</td>\n",
       "    </tr>\n",
       "    <tr>\n",
       "      <th>8</th>\n",
       "      <td>8</td>\n",
       "      <td>L56397</td>\n",
       "      <td>L</td>\n",
       "      <td>297.7</td>\n",
       "      <td>308.8</td>\n",
       "      <td>1578</td>\n",
       "      <td>35.2</td>\n",
       "      <td>13</td>\n",
       "      <td>0</td>\n",
       "      <td>0</td>\n",
       "      <td>0</td>\n",
       "      <td>0</td>\n",
       "      <td>0</td>\n",
       "      <td>0</td>\n",
       "    </tr>\n",
       "    <tr>\n",
       "      <th>9</th>\n",
       "      <td>9</td>\n",
       "      <td>L55067</td>\n",
       "      <td>L</td>\n",
       "      <td>300.5</td>\n",
       "      <td>312.3</td>\n",
       "      <td>1447</td>\n",
       "      <td>53.3</td>\n",
       "      <td>98</td>\n",
       "      <td>0</td>\n",
       "      <td>0</td>\n",
       "      <td>0</td>\n",
       "      <td>0</td>\n",
       "      <td>0</td>\n",
       "      <td>0</td>\n",
       "    </tr>\n",
       "  </tbody>\n",
       "</table>\n",
       "</div>"
      ],
      "text/plain": [
       "   id Product ID Type  Air temperature [K]  Process temperature [K]  \\\n",
       "0   0     L50096    L                300.6                    309.6   \n",
       "1   1     M20343    M                302.6                    312.1   \n",
       "2   2     L49454    L                299.3                    308.5   \n",
       "3   3     L53355    L                301.0                    310.9   \n",
       "4   4     M24050    M                298.0                    309.0   \n",
       "5   5     M24300    M                298.4                    308.9   \n",
       "6   6     L56736    L                299.6                    311.0   \n",
       "7   7     L55488    L                298.7                    310.1   \n",
       "8   8     L56397    L                297.7                    308.8   \n",
       "9   9     L55067    L                300.5                    312.3   \n",
       "\n",
       "   Rotational speed [rpm]  Torque [Nm]  Tool wear [min]  Machine failure  TWF  \\\n",
       "0                    1596         36.1              140                0    0   \n",
       "1                    1759         29.1              200                0    0   \n",
       "2                    1805         26.5               25                0    0   \n",
       "3                    1524         44.3              197                0    0   \n",
       "4                    1641         35.4               34                0    0   \n",
       "5                    1429         42.1               65                0    0   \n",
       "6                    1413         42.9              156                0    0   \n",
       "7                    1609         38.1               67                0    0   \n",
       "8                    1578         35.2               13                0    0   \n",
       "9                    1447         53.3               98                0    0   \n",
       "\n",
       "   HDF  PWF  OSF  RNF  \n",
       "0    0    0    0    0  \n",
       "1    0    0    0    0  \n",
       "2    0    0    0    0  \n",
       "3    0    0    0    0  \n",
       "4    0    0    0    0  \n",
       "5    0    0    0    0  \n",
       "6    0    0    0    0  \n",
       "7    0    0    0    0  \n",
       "8    0    0    0    0  \n",
       "9    0    0    0    0  "
      ]
     },
     "metadata": {},
     "output_type": "display_data"
    },
    {
     "data": {
      "text/plain": [
       "(136429, 14)"
      ]
     },
     "metadata": {},
     "output_type": "display_data"
    },
    {
     "data": {
      "text/plain": [
       "Index(['id', 'Product ID', 'Type', 'Air temperature [K]',\n",
       "       'Process temperature [K]', 'Rotational speed [rpm]', 'Torque [Nm]',\n",
       "       'Tool wear [min]', 'Machine failure', 'TWF', 'HDF', 'PWF', 'OSF',\n",
       "       'RNF'],\n",
       "      dtype='object')"
      ]
     },
     "metadata": {},
     "output_type": "display_data"
    }
   ],
   "source": [
    "df = pd.read_csv(\"/kaggle/input/playground-series-s3e17/train.csv\")\n",
    "display(df.head(10))\n",
    "display(df.shape)\n",
    "display(df.columns)"
   ]
  },
  {
   "cell_type": "code",
   "execution_count": 4,
   "id": "87136bb3",
   "metadata": {
    "execution": {
     "iopub.execute_input": "2023-06-26T20:56:25.678838Z",
     "iopub.status.busy": "2023-06-26T20:56:25.678413Z",
     "iopub.status.idle": "2023-06-26T20:56:26.105048Z",
     "shell.execute_reply": "2023-06-26T20:56:26.103492Z"
    },
    "papermill": {
     "duration": 0.441138,
     "end_time": "2023-06-26T20:56:26.107385",
     "exception": false,
     "start_time": "2023-06-26T20:56:25.666247",
     "status": "completed"
    },
    "tags": []
   },
   "outputs": [
    {
     "data": {
      "text/plain": [
       "<Axes: xlabel='Machine failure', ylabel='Count'>"
      ]
     },
     "execution_count": 4,
     "metadata": {},
     "output_type": "execute_result"
    },
    {
     "data": {
      "image/png": "[encoded data removed]",
      "text/plain": [
       "<Figure size 640x480 with 1 Axes>"
      ]
     },
     "metadata": {},
     "output_type": "display_data"
    }
   ],
   "source": [
    "sns.histplot(data = df, x = \"Machine failure\")"
   ]
  },
  {
   "cell_type": "markdown",
   "id": "04ed55f1",
   "metadata": {
    "papermill": {
     "duration": 0.011546,
     "end_time": "2023-06-26T20:56:26.131130",
     "exception": false,
     "start_time": "2023-06-26T20:56:26.119584",
     "status": "completed"
    },
    "tags": []
   },
   "source": [
    "> Need to find a way to handle imbalanced dataset"
   ]
  },
  {
   "cell_type": "code",
   "execution_count": 5,
   "id": "a213a6cc",
   "metadata": {
    "execution": {
     "iopub.execute_input": "2023-06-26T20:56:26.156209Z",
     "iopub.status.busy": "2023-06-26T20:56:26.155840Z",
     "iopub.status.idle": "2023-06-26T20:56:26.171700Z",
     "shell.execute_reply": "2023-06-26T20:56:26.170906Z"
    },
    "papermill": {
     "duration": 0.031782,
     "end_time": "2023-06-26T20:56:26.174646",
     "exception": false,
     "start_time": "2023-06-26T20:56:26.142864",
     "status": "completed"
    },
    "tags": []
   },
   "outputs": [],
   "source": [
    "num_fail = len(df[df[\"Machine failure\"] == 1])\n",
    "num_pass = len(df[df[\"Machine failure\"] == 0])"
   ]
  },
  {
   "cell_type": "markdown",
   "id": "64e25b45",
   "metadata": {
    "papermill": {
     "duration": 0.011852,
     "end_time": "2023-06-26T20:56:26.198706",
     "exception": false,
     "start_time": "2023-06-26T20:56:26.186854",
     "status": "completed"
    },
    "tags": []
   },
   "source": [
    "* ID = device identifier (int)\n",
    "* Product ID = Unique ID (string)\n",
    "* Type = type of product L = low (60% of data), M = medium (30% of data), H = high (10% of data) (string)\n",
    "* Air Temp = air temp in kelvin (float)\n",
    "* Process temp = (float)\n",
    "* rotational speed = speed in rpm (int)\n",
    "* torque = newton meter (float)\n",
    "* tool wear = time unit needed to wear down the product/tool (int)\n",
    "* machine failure = binary failure target variable (int)\n",
    "* \n",
    "* TWF = tool wear failure (binary, int)\n",
    "* HDF = heat dissipation failure (binary, int)\n",
    "* PWF = power failure (binary, int)\n",
    "* OSF = overstain failure (binary, int)\n",
    "* RNF = random failure (binary, int)"
   ]
  },
  {
   "cell_type": "code",
   "execution_count": 6,
   "id": "050d9d32",
   "metadata": {
    "execution": {
     "iopub.execute_input": "2023-06-26T20:56:26.224772Z",
     "iopub.status.busy": "2023-06-26T20:56:26.224136Z",
     "iopub.status.idle": "2023-06-26T20:56:26.357954Z",
     "shell.execute_reply": "2023-06-26T20:56:26.357207Z"
    },
    "papermill": {
     "duration": 0.14931,
     "end_time": "2023-06-26T20:56:26.360084",
     "exception": false,
     "start_time": "2023-06-26T20:56:26.210774",
     "status": "completed"
    },
    "tags": []
   },
   "outputs": [
    {
     "data": {
      "text/html": [
       "<div>\n",
       "<style scoped>\n",
       "    .dataframe tbody tr th:only-of-type {\n",
       "        vertical-align: middle;\n",
       "    }\n",
       "\n",
       "    .dataframe tbody tr th {\n",
       "        vertical-align: top;\n",
       "    }\n",
       "\n",
       "    .dataframe thead th {\n",
       "        text-align: right;\n",
       "    }\n",
       "</style>\n",
       "<table border=\"1\" class=\"dataframe\">\n",
       "  <thead>\n",
       "    <tr style=\"text-align: right;\">\n",
       "      <th></th>\n",
       "      <th>id</th>\n",
       "      <th>Air temperature [K]</th>\n",
       "      <th>Process temperature [K]</th>\n",
       "      <th>Rotational speed [rpm]</th>\n",
       "      <th>Torque [Nm]</th>\n",
       "      <th>Tool wear [min]</th>\n",
       "      <th>Machine failure</th>\n",
       "      <th>TWF</th>\n",
       "      <th>HDF</th>\n",
       "      <th>PWF</th>\n",
       "      <th>OSF</th>\n",
       "      <th>RNF</th>\n",
       "    </tr>\n",
       "  </thead>\n",
       "  <tbody>\n",
       "    <tr>\n",
       "      <th>count</th>\n",
       "      <td>136429.000000</td>\n",
       "      <td>136429.000000</td>\n",
       "      <td>136429.000000</td>\n",
       "      <td>136429.000000</td>\n",
       "      <td>136429.000000</td>\n",
       "      <td>136429.000000</td>\n",
       "      <td>136429.000000</td>\n",
       "      <td>136429.000000</td>\n",
       "      <td>136429.000000</td>\n",
       "      <td>136429.000000</td>\n",
       "      <td>136429.000000</td>\n",
       "      <td>136429.000000</td>\n",
       "    </tr>\n",
       "    <tr>\n",
       "      <th>mean</th>\n",
       "      <td>68214.000000</td>\n",
       "      <td>299.862776</td>\n",
       "      <td>309.941070</td>\n",
       "      <td>1520.331110</td>\n",
       "      <td>40.348643</td>\n",
       "      <td>104.408901</td>\n",
       "      <td>0.015744</td>\n",
       "      <td>0.001554</td>\n",
       "      <td>0.005160</td>\n",
       "      <td>0.002397</td>\n",
       "      <td>0.003958</td>\n",
       "      <td>0.002258</td>\n",
       "    </tr>\n",
       "    <tr>\n",
       "      <th>std</th>\n",
       "      <td>39383.804275</td>\n",
       "      <td>1.862247</td>\n",
       "      <td>1.385173</td>\n",
       "      <td>138.736632</td>\n",
       "      <td>8.502229</td>\n",
       "      <td>63.965040</td>\n",
       "      <td>0.124486</td>\n",
       "      <td>0.039389</td>\n",
       "      <td>0.071649</td>\n",
       "      <td>0.048899</td>\n",
       "      <td>0.062789</td>\n",
       "      <td>0.047461</td>\n",
       "    </tr>\n",
       "    <tr>\n",
       "      <th>min</th>\n",
       "      <td>0.000000</td>\n",
       "      <td>295.300000</td>\n",
       "      <td>305.800000</td>\n",
       "      <td>1181.000000</td>\n",
       "      <td>3.800000</td>\n",
       "      <td>0.000000</td>\n",
       "      <td>0.000000</td>\n",
       "      <td>0.000000</td>\n",
       "      <td>0.000000</td>\n",
       "      <td>0.000000</td>\n",
       "      <td>0.000000</td>\n",
       "      <td>0.000000</td>\n",
       "    </tr>\n",
       "    <tr>\n",
       "      <th>25%</th>\n",
       "      <td>34107.000000</td>\n",
       "      <td>298.300000</td>\n",
       "      <td>308.700000</td>\n",
       "      <td>1432.000000</td>\n",
       "      <td>34.600000</td>\n",
       "      <td>48.000000</td>\n",
       "      <td>0.000000</td>\n",
       "      <td>0.000000</td>\n",
       "      <td>0.000000</td>\n",
       "      <td>0.000000</td>\n",
       "      <td>0.000000</td>\n",
       "      <td>0.000000</td>\n",
       "    </tr>\n",
       "    <tr>\n",
       "      <th>50%</th>\n",
       "      <td>68214.000000</td>\n",
       "      <td>300.000000</td>\n",
       "      <td>310.000000</td>\n",
       "      <td>1493.000000</td>\n",
       "      <td>40.400000</td>\n",
       "      <td>106.000000</td>\n",
       "      <td>0.000000</td>\n",
       "      <td>0.000000</td>\n",
       "      <td>0.000000</td>\n",
       "      <td>0.000000</td>\n",
       "      <td>0.000000</td>\n",
       "      <td>0.000000</td>\n",
       "    </tr>\n",
       "    <tr>\n",
       "      <th>75%</th>\n",
       "      <td>102321.000000</td>\n",
       "      <td>301.200000</td>\n",
       "      <td>310.900000</td>\n",
       "      <td>1580.000000</td>\n",
       "      <td>46.100000</td>\n",
       "      <td>159.000000</td>\n",
       "      <td>0.000000</td>\n",
       "      <td>0.000000</td>\n",
       "      <td>0.000000</td>\n",
       "      <td>0.000000</td>\n",
       "      <td>0.000000</td>\n",
       "      <td>0.000000</td>\n",
       "    </tr>\n",
       "    <tr>\n",
       "      <th>max</th>\n",
       "      <td>136428.000000</td>\n",
       "      <td>304.400000</td>\n",
       "      <td>313.800000</td>\n",
       "      <td>2886.000000</td>\n",
       "      <td>76.600000</td>\n",
       "      <td>253.000000</td>\n",
       "      <td>1.000000</td>\n",
       "      <td>1.000000</td>\n",
       "      <td>1.000000</td>\n",
       "      <td>1.000000</td>\n",
       "      <td>1.000000</td>\n",
       "      <td>1.000000</td>\n",
       "    </tr>\n",
       "  </tbody>\n",
       "</table>\n",
       "</div>"
      ],
      "text/plain": [
       "                  id Air temperature [K] Process temperature [K]  \\\n",
       "count  136429.000000       136429.000000           136429.000000   \n",
       "mean    68214.000000          299.862776              309.941070   \n",
       "std     39383.804275            1.862247                1.385173   \n",
       "min         0.000000          295.300000              305.800000   \n",
       "25%     34107.000000          298.300000              308.700000   \n",
       "50%     68214.000000          300.000000              310.000000   \n",
       "75%    102321.000000          301.200000              310.900000   \n",
       "max    136428.000000          304.400000              313.800000   \n",
       "\n",
       "      Rotational speed [rpm]    Torque [Nm] Tool wear [min] Machine failure  \\\n",
       "count          136429.000000  136429.000000   136429.000000   136429.000000   \n",
       "mean             1520.331110      40.348643      104.408901        0.015744   \n",
       "std               138.736632       8.502229       63.965040        0.124486   \n",
       "min              1181.000000       3.800000        0.000000        0.000000   \n",
       "25%              1432.000000      34.600000       48.000000        0.000000   \n",
       "50%              1493.000000      40.400000      106.000000        0.000000   \n",
       "75%              1580.000000      46.100000      159.000000        0.000000   \n",
       "max              2886.000000      76.600000      253.000000        1.000000   \n",
       "\n",
       "                 TWF            HDF            PWF            OSF  \\\n",
       "count  136429.000000  136429.000000  136429.000000  136429.000000   \n",
       "mean        0.001554       0.005160       0.002397       0.003958   \n",
       "std         0.039389       0.071649       0.048899       0.062789   \n",
       "min         0.000000       0.000000       0.000000       0.000000   \n",
       "25%         0.000000       0.000000       0.000000       0.000000   \n",
       "50%         0.000000       0.000000       0.000000       0.000000   \n",
       "75%         0.000000       0.000000       0.000000       0.000000   \n",
       "max         1.000000       1.000000       1.000000       1.000000   \n",
       "\n",
       "                 RNF  \n",
       "count  136429.000000  \n",
       "mean        0.002258  \n",
       "std         0.047461  \n",
       "min         0.000000  \n",
       "25%         0.000000  \n",
       "50%         0.000000  \n",
       "75%         0.000000  \n",
       "max         1.000000  "
      ]
     },
     "execution_count": 6,
     "metadata": {},
     "output_type": "execute_result"
    }
   ],
   "source": [
    "df.nunique(axis = 0)\n",
    "df.describe().apply(lambda s: s.apply(lambda x: format(x, 'f')))"
   ]
  },
  {
   "cell_type": "code",
   "execution_count": 7,
   "id": "033a50c5",
   "metadata": {
    "execution": {
     "iopub.execute_input": "2023-06-26T20:56:26.387249Z",
     "iopub.status.busy": "2023-06-26T20:56:26.386844Z",
     "iopub.status.idle": "2023-06-26T20:56:26.485876Z",
     "shell.execute_reply": "2023-06-26T20:56:26.484894Z"
    },
    "papermill": {
     "duration": 0.115467,
     "end_time": "2023-06-26T20:56:26.488316",
     "exception": false,
     "start_time": "2023-06-26T20:56:26.372849",
     "status": "completed"
    },
    "tags": []
   },
   "outputs": [
    {
     "data": {
      "text/plain": [
       "(136429, 14)"
      ]
     },
     "execution_count": 7,
     "metadata": {},
     "output_type": "execute_result"
    }
   ],
   "source": [
    "df.dropna(axis = 0)\n",
    "df.shape"
   ]
  },
  {
   "cell_type": "markdown",
   "id": "86e9a8bf",
   "metadata": {
    "papermill": {
     "duration": 0.012301,
     "end_time": "2023-06-26T20:56:26.513222",
     "exception": false,
     "start_time": "2023-06-26T20:56:26.500921",
     "status": "completed"
    },
    "tags": []
   },
   "source": [
    "**Explore relationships between predictor and target variables**"
   ]
  },
  {
   "cell_type": "code",
   "execution_count": 8,
   "id": "1d38a037",
   "metadata": {
    "execution": {
     "iopub.execute_input": "2023-06-26T20:56:26.539919Z",
     "iopub.status.busy": "2023-06-26T20:56:26.539558Z",
     "iopub.status.idle": "2023-06-26T20:56:27.112070Z",
     "shell.execute_reply": "2023-06-26T20:56:27.110930Z"
    },
    "papermill": {
     "duration": 0.588847,
     "end_time": "2023-06-26T20:56:27.114542",
     "exception": false,
     "start_time": "2023-06-26T20:56:26.525695",
     "status": "completed"
    },
    "tags": []
   },
   "outputs": [
    {
     "name": "stderr",
     "output_type": "stream",
     "text": [
      "/tmp/ipykernel_20/2500072798.py:1: FutureWarning: The default value of numeric_only in DataFrame.corr is deprecated. In a future version, it will default to False. Select only valid columns or specify the value of numeric_only to silence this warning.\n",
      "  corr = df.corr()\n"
     ]
    },
    {
     "data": {
      "text/plain": [
       "<Axes: >"
      ]
     },
     "execution_count": 8,
     "metadata": {},
     "output_type": "execute_result"
    },
    {
     "data": {
      "image/png": "[encoded data removed]",
      "text/plain": [
       "<Figure size 640x480 with 2 Axes>"
      ]
     },
     "metadata": {},
     "output_type": "display_data"
    }
   ],
   "source": [
    "corr = df.corr()\n",
    "sns.heatmap(corr, xticklabels = corr.columns, yticklabels = corr.columns, \n",
    "           annot = False, cmap = \"PiYG\")"
   ]
  },
  {
   "cell_type": "code",
   "execution_count": 9,
   "id": "5b63e491",
   "metadata": {
    "execution": {
     "iopub.execute_input": "2023-06-26T20:56:27.142513Z",
     "iopub.status.busy": "2023-06-26T20:56:27.142114Z",
     "iopub.status.idle": "2023-06-26T20:56:27.150918Z",
     "shell.execute_reply": "2023-06-26T20:56:27.149949Z"
    },
    "papermill": {
     "duration": 0.025171,
     "end_time": "2023-06-26T20:56:27.153044",
     "exception": false,
     "start_time": "2023-06-26T20:56:27.127873",
     "status": "completed"
    },
    "tags": []
   },
   "outputs": [
    {
     "data": {
      "text/plain": [
       "Index(['id', 'Product ID', 'Type', 'AirTemp', 'ProcessTemp', 'RotSpeed',\n",
       "       'Torque', 'ToolWear', 'Machine failure', 'TWF', 'HDF', 'PWF', 'OSF',\n",
       "       'RNF'],\n",
       "      dtype='object')"
      ]
     },
     "execution_count": 9,
     "metadata": {},
     "output_type": "execute_result"
    }
   ],
   "source": [
    "df.rename(columns = {df.columns[3] : \"AirTemp\", df.columns[4] : \"ProcessTemp\", df.columns[5]: \"RotSpeed\", df.columns[6] : \"Torque\", df.columns[7]:\"ToolWear\"}, inplace = True)\n",
    "df.columns"
   ]
  },
  {
   "cell_type": "code",
   "execution_count": 10,
   "id": "d7f51627",
   "metadata": {
    "execution": {
     "iopub.execute_input": "2023-06-26T20:56:27.181769Z",
     "iopub.status.busy": "2023-06-26T20:56:27.181373Z",
     "iopub.status.idle": "2023-06-26T20:56:27.196150Z",
     "shell.execute_reply": "2023-06-26T20:56:27.195226Z"
    },
    "papermill": {
     "duration": 0.031726,
     "end_time": "2023-06-26T20:56:27.198197",
     "exception": false,
     "start_time": "2023-06-26T20:56:27.166471",
     "status": "completed"
    },
    "tags": []
   },
   "outputs": [
    {
     "data": {
      "text/plain": [
       "Index(['id', 'Type', 'AirTemp', 'ProcessTemp', 'RotSpeed', 'Torque',\n",
       "       'ToolWear', 'Machine failure', 'TWF', 'HDF', 'PWF', 'OSF', 'RNF'],\n",
       "      dtype='object')"
      ]
     },
     "execution_count": 10,
     "metadata": {},
     "output_type": "execute_result"
    }
   ],
   "source": [
    "df = df.drop([\"Product ID\"], axis = 1)\n",
    "df.columns"
   ]
  },
  {
   "cell_type": "markdown",
   "id": "81be77a5",
   "metadata": {
    "papermill": {
     "duration": 0.013557,
     "end_time": "2023-06-26T20:56:27.225106",
     "exception": false,
     "start_time": "2023-06-26T20:56:27.211549",
     "status": "completed"
    },
    "tags": []
   },
   "source": [
    "**Categorize type of predictor variables**"
   ]
  },
  {
   "cell_type": "code",
   "execution_count": 11,
   "id": "2a0c9c4f",
   "metadata": {
    "execution": {
     "iopub.execute_input": "2023-06-26T20:56:27.253732Z",
     "iopub.status.busy": "2023-06-26T20:56:27.253330Z",
     "iopub.status.idle": "2023-06-26T20:56:28.161211Z",
     "shell.execute_reply": "2023-06-26T20:56:28.160336Z"
    },
    "papermill": {
     "duration": 0.925292,
     "end_time": "2023-06-26T20:56:28.164015",
     "exception": false,
     "start_time": "2023-06-26T20:56:27.238723",
     "status": "completed"
    },
    "tags": []
   },
   "outputs": [
    {
     "name": "stderr",
     "output_type": "stream",
     "text": [
      "/tmp/ipykernel_20/2469373344.py:1: FutureWarning: The default value of numeric_only in DataFrame.corr is deprecated. In a future version, it will default to False. Select only valid columns or specify the value of numeric_only to silence this warning.\n",
      "  corr1 = df.corr()\n"
     ]
    },
    {
     "data": {
      "text/plain": [
       "<Axes: >"
      ]
     },
     "execution_count": 11,
     "metadata": {},
     "output_type": "execute_result"
    },
    {
     "data": {
      "image/png": "[encoded data removed]",
      "text/plain": [
       "<Figure size 640x480 with 2 Axes>"
      ]
     },
     "metadata": {},
     "output_type": "display_data"
    }
   ],
   "source": [
    "corr1 = df.corr()\n",
    "sns.heatmap(corr1, annot = True, fmt = '.2f')"
   ]
  },
  {
   "cell_type": "markdown",
   "id": "c90d51fb",
   "metadata": {
    "papermill": {
     "duration": 0.015825,
     "end_time": "2023-06-26T20:56:28.195397",
     "exception": false,
     "start_time": "2023-06-26T20:56:28.179572",
     "status": "completed"
    },
    "tags": []
   },
   "source": [
    "**Dataset Preprocessing:**"
   ]
  },
  {
   "cell_type": "markdown",
   "id": "04805283",
   "metadata": {
    "papermill": {
     "duration": 0.014953,
     "end_time": "2023-06-26T20:56:28.225480",
     "exception": false,
     "start_time": "2023-06-26T20:56:28.210527",
     "status": "completed"
    },
    "tags": []
   },
   "source": [
    "1. Train - Validation split\n",
    "2. Missing values = no missing values in this dataset\n",
    "3. Encoding categorical variables\n",
    "4. Data normalization"
   ]
  },
  {
   "cell_type": "code",
   "execution_count": 12,
   "id": "751866d5",
   "metadata": {
    "execution": {
     "iopub.execute_input": "2023-06-26T20:56:28.258012Z",
     "iopub.status.busy": "2023-06-26T20:56:28.257655Z",
     "iopub.status.idle": "2023-06-26T20:56:28.537588Z",
     "shell.execute_reply": "2023-06-26T20:56:28.536527Z"
    },
    "papermill": {
     "duration": 0.298826,
     "end_time": "2023-06-26T20:56:28.539715",
     "exception": false,
     "start_time": "2023-06-26T20:56:28.240889",
     "status": "completed"
    },
    "tags": []
   },
   "outputs": [
    {
     "data": {
      "text/html": [
       "<div>\n",
       "<style scoped>\n",
       "    .dataframe tbody tr th:only-of-type {\n",
       "        vertical-align: middle;\n",
       "    }\n",
       "\n",
       "    .dataframe tbody tr th {\n",
       "        vertical-align: top;\n",
       "    }\n",
       "\n",
       "    .dataframe thead th {\n",
       "        text-align: right;\n",
       "    }\n",
       "</style>\n",
       "<table border=\"1\" class=\"dataframe\">\n",
       "  <thead>\n",
       "    <tr style=\"text-align: right;\">\n",
       "      <th></th>\n",
       "      <th>id</th>\n",
       "      <th>Type</th>\n",
       "      <th>AirTemp</th>\n",
       "      <th>ProcessTemp</th>\n",
       "      <th>RotSpeed</th>\n",
       "      <th>Torque</th>\n",
       "      <th>ToolWear</th>\n",
       "      <th>TWF</th>\n",
       "      <th>HDF</th>\n",
       "      <th>PWF</th>\n",
       "      <th>OSF</th>\n",
       "      <th>RNF</th>\n",
       "    </tr>\n",
       "  </thead>\n",
       "  <tbody>\n",
       "    <tr>\n",
       "      <th>9768</th>\n",
       "      <td>9768</td>\n",
       "      <td>H</td>\n",
       "      <td>298.3</td>\n",
       "      <td>308.2</td>\n",
       "      <td>1826</td>\n",
       "      <td>25.6</td>\n",
       "      <td>163</td>\n",
       "      <td>0</td>\n",
       "      <td>0</td>\n",
       "      <td>0</td>\n",
       "      <td>0</td>\n",
       "      <td>0</td>\n",
       "    </tr>\n",
       "    <tr>\n",
       "      <th>57272</th>\n",
       "      <td>57272</td>\n",
       "      <td>L</td>\n",
       "      <td>300.4</td>\n",
       "      <td>311.1</td>\n",
       "      <td>1589</td>\n",
       "      <td>35.5</td>\n",
       "      <td>186</td>\n",
       "      <td>0</td>\n",
       "      <td>0</td>\n",
       "      <td>0</td>\n",
       "      <td>0</td>\n",
       "      <td>0</td>\n",
       "    </tr>\n",
       "    <tr>\n",
       "      <th>97140</th>\n",
       "      <td>97140</td>\n",
       "      <td>H</td>\n",
       "      <td>297.7</td>\n",
       "      <td>309.6</td>\n",
       "      <td>1616</td>\n",
       "      <td>33.2</td>\n",
       "      <td>13</td>\n",
       "      <td>0</td>\n",
       "      <td>0</td>\n",
       "      <td>0</td>\n",
       "      <td>0</td>\n",
       "      <td>0</td>\n",
       "    </tr>\n",
       "    <tr>\n",
       "      <th>12628</th>\n",
       "      <td>12628</td>\n",
       "      <td>L</td>\n",
       "      <td>302.8</td>\n",
       "      <td>311.9</td>\n",
       "      <td>1487</td>\n",
       "      <td>44.1</td>\n",
       "      <td>77</td>\n",
       "      <td>0</td>\n",
       "      <td>0</td>\n",
       "      <td>0</td>\n",
       "      <td>0</td>\n",
       "      <td>0</td>\n",
       "    </tr>\n",
       "    <tr>\n",
       "      <th>48678</th>\n",
       "      <td>48678</td>\n",
       "      <td>L</td>\n",
       "      <td>301.7</td>\n",
       "      <td>311.0</td>\n",
       "      <td>1394</td>\n",
       "      <td>46.6</td>\n",
       "      <td>87</td>\n",
       "      <td>0</td>\n",
       "      <td>0</td>\n",
       "      <td>0</td>\n",
       "      <td>0</td>\n",
       "      <td>0</td>\n",
       "    </tr>\n",
       "  </tbody>\n",
       "</table>\n",
       "</div>"
      ],
      "text/plain": [
       "          id Type  AirTemp  ProcessTemp  RotSpeed  Torque  ToolWear  TWF  HDF  \\\n",
       "9768    9768    H    298.3        308.2      1826    25.6       163    0    0   \n",
       "57272  57272    L    300.4        311.1      1589    35.5       186    0    0   \n",
       "97140  97140    H    297.7        309.6      1616    33.2        13    0    0   \n",
       "12628  12628    L    302.8        311.9      1487    44.1        77    0    0   \n",
       "48678  48678    L    301.7        311.0      1394    46.6        87    0    0   \n",
       "\n",
       "       PWF  OSF  RNF  \n",
       "9768     0    0    0  \n",
       "57272    0    0    0  \n",
       "97140    0    0    0  \n",
       "12628    0    0    0  \n",
       "48678    0    0    0  "
      ]
     },
     "execution_count": 12,
     "metadata": {},
     "output_type": "execute_result"
    }
   ],
   "source": [
    "complete_train = df.drop([\"Machine failure\"], axis = 1)\n",
    "complete_y = df[\"Machine failure\"]\n",
    "\n",
    "# Splitting dataset into training and validation sets (75-25)\n",
    "\n",
    "from sklearn.model_selection import train_test_split\n",
    "\n",
    "train_X, val_X, train_y, val_y = train_test_split(complete_train, complete_y)\n",
    "\n",
    "train_X.head()"
   ]
  },
  {
   "cell_type": "code",
   "execution_count": 13,
   "id": "88fb2703",
   "metadata": {
    "execution": {
     "iopub.execute_input": "2023-06-26T20:56:28.572594Z",
     "iopub.status.busy": "2023-06-26T20:56:28.571610Z",
     "iopub.status.idle": "2023-06-26T20:56:28.716552Z",
     "shell.execute_reply": "2023-06-26T20:56:28.715449Z"
    },
    "papermill": {
     "duration": 0.163531,
     "end_time": "2023-06-26T20:56:28.718879",
     "exception": false,
     "start_time": "2023-06-26T20:56:28.555348",
     "status": "completed"
    },
    "tags": []
   },
   "outputs": [
    {
     "data": {
      "text/html": [
       "<div>\n",
       "<style scoped>\n",
       "    .dataframe tbody tr th:only-of-type {\n",
       "        vertical-align: middle;\n",
       "    }\n",
       "\n",
       "    .dataframe tbody tr th {\n",
       "        vertical-align: top;\n",
       "    }\n",
       "\n",
       "    .dataframe thead th {\n",
       "        text-align: right;\n",
       "    }\n",
       "</style>\n",
       "<table border=\"1\" class=\"dataframe\">\n",
       "  <thead>\n",
       "    <tr style=\"text-align: right;\">\n",
       "      <th></th>\n",
       "      <th>cat__Type_H</th>\n",
       "      <th>cat__Type_L</th>\n",
       "      <th>cat__Type_M</th>\n",
       "      <th>num__AirTemp</th>\n",
       "      <th>num__ProcessTemp</th>\n",
       "      <th>num__RotSpeed</th>\n",
       "      <th>num__Torque</th>\n",
       "      <th>num__ToolWear</th>\n",
       "      <th>skip__id</th>\n",
       "      <th>skip__TWF</th>\n",
       "      <th>skip__HDF</th>\n",
       "      <th>skip__PWF</th>\n",
       "      <th>skip__OSF</th>\n",
       "      <th>skip__RNF</th>\n",
       "    </tr>\n",
       "  </thead>\n",
       "  <tbody>\n",
       "    <tr>\n",
       "      <th>0</th>\n",
       "      <td>1.0</td>\n",
       "      <td>0.0</td>\n",
       "      <td>0.0</td>\n",
       "      <td>-0.835601</td>\n",
       "      <td>-1.251772</td>\n",
       "      <td>2.198684</td>\n",
       "      <td>-1.733837</td>\n",
       "      <td>0.913995</td>\n",
       "      <td>9768.0</td>\n",
       "      <td>0.0</td>\n",
       "      <td>0.0</td>\n",
       "      <td>0.0</td>\n",
       "      <td>0.0</td>\n",
       "      <td>0.0</td>\n",
       "    </tr>\n",
       "    <tr>\n",
       "      <th>1</th>\n",
       "      <td>0.0</td>\n",
       "      <td>1.0</td>\n",
       "      <td>0.0</td>\n",
       "      <td>0.291407</td>\n",
       "      <td>0.838596</td>\n",
       "      <td>0.493325</td>\n",
       "      <td>-0.570732</td>\n",
       "      <td>1.273685</td>\n",
       "      <td>57272.0</td>\n",
       "      <td>0.0</td>\n",
       "      <td>0.0</td>\n",
       "      <td>0.0</td>\n",
       "      <td>0.0</td>\n",
       "      <td>0.0</td>\n",
       "    </tr>\n",
       "    <tr>\n",
       "      <th>2</th>\n",
       "      <td>1.0</td>\n",
       "      <td>0.0</td>\n",
       "      <td>0.0</td>\n",
       "      <td>-1.157604</td>\n",
       "      <td>-0.242629</td>\n",
       "      <td>0.687607</td>\n",
       "      <td>-0.840949</td>\n",
       "      <td>-1.431811</td>\n",
       "      <td>97140.0</td>\n",
       "      <td>0.0</td>\n",
       "      <td>0.0</td>\n",
       "      <td>0.0</td>\n",
       "      <td>0.0</td>\n",
       "      <td>0.0</td>\n",
       "    </tr>\n",
       "    <tr>\n",
       "      <th>3</th>\n",
       "      <td>0.0</td>\n",
       "      <td>1.0</td>\n",
       "      <td>0.0</td>\n",
       "      <td>1.579417</td>\n",
       "      <td>1.415250</td>\n",
       "      <td>-0.240627</td>\n",
       "      <td>0.439641</td>\n",
       "      <td>-0.430934</td>\n",
       "      <td>12628.0</td>\n",
       "      <td>0.0</td>\n",
       "      <td>0.0</td>\n",
       "      <td>0.0</td>\n",
       "      <td>0.0</td>\n",
       "      <td>0.0</td>\n",
       "    </tr>\n",
       "    <tr>\n",
       "      <th>4</th>\n",
       "      <td>0.0</td>\n",
       "      <td>1.0</td>\n",
       "      <td>0.0</td>\n",
       "      <td>0.989079</td>\n",
       "      <td>0.766515</td>\n",
       "      <td>-0.909818</td>\n",
       "      <td>0.733354</td>\n",
       "      <td>-0.274546</td>\n",
       "      <td>48678.0</td>\n",
       "      <td>0.0</td>\n",
       "      <td>0.0</td>\n",
       "      <td>0.0</td>\n",
       "      <td>0.0</td>\n",
       "      <td>0.0</td>\n",
       "    </tr>\n",
       "  </tbody>\n",
       "</table>\n",
       "</div>"
      ],
      "text/plain": [
       "   cat__Type_H  cat__Type_L  cat__Type_M  num__AirTemp  num__ProcessTemp  \\\n",
       "0          1.0          0.0          0.0     -0.835601         -1.251772   \n",
       "1          0.0          1.0          0.0      0.291407          0.838596   \n",
       "2          1.0          0.0          0.0     -1.157604         -0.242629   \n",
       "3          0.0          1.0          0.0      1.579417          1.415250   \n",
       "4          0.0          1.0          0.0      0.989079          0.766515   \n",
       "\n",
       "   num__RotSpeed  num__Torque  num__ToolWear  skip__id  skip__TWF  skip__HDF  \\\n",
       "0       2.198684    -1.733837       0.913995    9768.0        0.0        0.0   \n",
       "1       0.493325    -0.570732       1.273685   57272.0        0.0        0.0   \n",
       "2       0.687607    -0.840949      -1.431811   97140.0        0.0        0.0   \n",
       "3      -0.240627     0.439641      -0.430934   12628.0        0.0        0.0   \n",
       "4      -0.909818     0.733354      -0.274546   48678.0        0.0        0.0   \n",
       "\n",
       "   skip__PWF  skip__OSF  skip__RNF  \n",
       "0        0.0        0.0        0.0  \n",
       "1        0.0        0.0        0.0  \n",
       "2        0.0        0.0        0.0  \n",
       "3        0.0        0.0        0.0  \n",
       "4        0.0        0.0        0.0  "
      ]
     },
     "execution_count": 13,
     "metadata": {},
     "output_type": "execute_result"
    }
   ],
   "source": [
    "# Variable types:\n",
    "# Continuous = [\"AirTemp\", \"ProcessTemp\", \"RotSpeed\", \"Torque\", \"ToolWear\"]\n",
    "# Categorical = [\"Type\"]\n",
    "\n",
    "# Normalize continuous variables:\n",
    "\n",
    "from sklearn.preprocessing import StandardScaler\n",
    "from sklearn.preprocessing import OneHotEncoder\n",
    "from sklearn.compose import ColumnTransformer\n",
    "\n",
    "transformers = [\n",
    "    ('cat', OneHotEncoder(handle_unknown = 'ignore'), ['Type']),\n",
    "    ('num', StandardScaler(), ['AirTemp', 'ProcessTemp', 'RotSpeed', 'Torque', 'ToolWear']),\n",
    "    ('skip', 'passthrough', ['id', 'TWF', 'HDF', 'PWF', 'OSF', 'RNF'])\n",
    "]\n",
    "\n",
    "col_transformer = ColumnTransformer(transformers)\n",
    "\n",
    "#train_X_num = pd.DataFrame(sc.fit_transform(train_X_num), columns = train_X_num.columns)\n",
    "#val_X_num = pd.DataFrame(sc.transform(val_X_num), columns = val_X_num.columns)\n",
    "\n",
    "#train_X_num.head()\n",
    "\n",
    "train_X_new = pd.DataFrame(col_transformer.fit_transform(train_X), columns = col_transformer.get_feature_names_out())\n",
    "val_X_new = pd.DataFrame(col_transformer.transform(val_X), columns = col_transformer.get_feature_names_out())\n",
    "\n",
    "train_X_new.head()"
   ]
  },
  {
   "cell_type": "markdown",
   "id": "3b598da6",
   "metadata": {
    "papermill": {
     "duration": 0.016376,
     "end_time": "2023-06-26T20:56:28.751706",
     "exception": false,
     "start_time": "2023-06-26T20:56:28.735330",
     "status": "completed"
    },
    "tags": []
   },
   "source": [
    "# Logistic Regression"
   ]
  },
  {
   "cell_type": "code",
   "execution_count": 14,
   "id": "7559eecd",
   "metadata": {
    "execution": {
     "iopub.execute_input": "2023-06-26T20:56:28.784944Z",
     "iopub.status.busy": "2023-06-26T20:56:28.784537Z",
     "iopub.status.idle": "2023-06-26T20:56:29.582284Z",
     "shell.execute_reply": "2023-06-26T20:56:29.581292Z"
    },
    "papermill": {
     "duration": 0.817232,
     "end_time": "2023-06-26T20:56:29.584783",
     "exception": false,
     "start_time": "2023-06-26T20:56:28.767551",
     "status": "completed"
    },
    "tags": []
   },
   "outputs": [
    {
     "name": "stdout",
     "output_type": "stream",
     "text": [
      "Model accuracy =  0.9793010437434033\n",
      "Logistic Regression AUROC =  0.9318426578083763\n"
     ]
    },
    {
     "data": {
      "text/plain": [
       "<Axes: >"
      ]
     },
     "execution_count": 14,
     "metadata": {},
     "output_type": "execute_result"
    },
    {
     "data": {
      "image/png": "[encoded data removed]",
      "text/plain": [
       "<Figure size 640x480 with 2 Axes>"
      ]
     },
     "metadata": {},
     "output_type": "display_data"
    }
   ],
   "source": [
    "from sklearn.linear_model import LogisticRegression\n",
    "from sklearn.metrics import roc_curve\n",
    "from sklearn.metrics import roc_auc_score\n",
    "from sklearn.metrics import accuracy_score\n",
    "from sklearn.metrics import confusion_matrix\n",
    "\n",
    "# Fit a logistic regression model on train_X_new and train_y\n",
    "\n",
    "model = LogisticRegression(solver = \"newton-cholesky\", class_weight = \"balanced\")\n",
    "model.fit(train_X_new, train_y)\n",
    "\n",
    "# Predict class probabilities for validation set\n",
    "\n",
    "pred_y = model.predict(val_X_new)\n",
    "\n",
    "val_probs = model.predict_proba(val_X_new)\n",
    "\n",
    "# Calculate accuracy of prediction using AUROC curve scores\n",
    "\n",
    "auc_score = roc_auc_score(val_y, val_probs[:,1])\n",
    "\n",
    "print(\"Model accuracy = \", accuracy_score(val_y, pred_y))\n",
    "print(\"Logistic Regression AUROC = \", auc_score)\n",
    "\n",
    "cm = pd.DataFrame(confusion_matrix(val_y, pred_y))\n",
    "sns.heatmap(cm, annot = True, cmap = \"YlGnBu\")"
   ]
  },
  {
   "cell_type": "code",
   "execution_count": 15,
   "id": "79dd107b",
   "metadata": {
    "execution": {
     "iopub.execute_input": "2023-06-26T20:56:29.619039Z",
     "iopub.status.busy": "2023-06-26T20:56:29.618681Z",
     "iopub.status.idle": "2023-06-26T20:56:29.625889Z",
     "shell.execute_reply": "2023-06-26T20:56:29.624874Z"
    },
    "papermill": {
     "duration": 0.026947,
     "end_time": "2023-06-26T20:56:29.628057",
     "exception": false,
     "start_time": "2023-06-26T20:56:29.601110",
     "status": "completed"
    },
    "tags": []
   },
   "outputs": [
    {
     "data": {
      "text/plain": [
       "Index(['id', 'Product ID', 'Type', 'Air temperature [K]',\n",
       "       'Process temperature [K]', 'Rotational speed [rpm]', 'Torque [Nm]',\n",
       "       'Tool wear [min]', 'TWF', 'HDF', 'PWF', 'OSF', 'RNF'],\n",
       "      dtype='object')"
      ]
     },
     "execution_count": 15,
     "metadata": {},
     "output_type": "execute_result"
    }
   ],
   "source": [
    "test_df.columns"
   ]
  },
  {
   "cell_type": "code",
   "execution_count": 16,
   "id": "c1858bcd",
   "metadata": {
    "execution": {
     "iopub.execute_input": "2023-06-26T20:56:29.662809Z",
     "iopub.status.busy": "2023-06-26T20:56:29.662474Z",
     "iopub.status.idle": "2023-06-26T20:56:29.744119Z",
     "shell.execute_reply": "2023-06-26T20:56:29.743262Z"
    },
    "papermill": {
     "duration": 0.10208,
     "end_time": "2023-06-26T20:56:29.746433",
     "exception": false,
     "start_time": "2023-06-26T20:56:29.644353",
     "status": "completed"
    },
    "tags": []
   },
   "outputs": [
    {
     "data": {
      "text/html": [
       "<div>\n",
       "<style scoped>\n",
       "    .dataframe tbody tr th:only-of-type {\n",
       "        vertical-align: middle;\n",
       "    }\n",
       "\n",
       "    .dataframe tbody tr th {\n",
       "        vertical-align: top;\n",
       "    }\n",
       "\n",
       "    .dataframe thead th {\n",
       "        text-align: right;\n",
       "    }\n",
       "</style>\n",
       "<table border=\"1\" class=\"dataframe\">\n",
       "  <thead>\n",
       "    <tr style=\"text-align: right;\">\n",
       "      <th></th>\n",
       "      <th>cat__Type_H</th>\n",
       "      <th>cat__Type_L</th>\n",
       "      <th>cat__Type_M</th>\n",
       "      <th>num__AirTemp</th>\n",
       "      <th>num__ProcessTemp</th>\n",
       "      <th>num__RotSpeed</th>\n",
       "      <th>num__Torque</th>\n",
       "      <th>num__ToolWear</th>\n",
       "      <th>skip__id</th>\n",
       "      <th>skip__TWF</th>\n",
       "      <th>skip__HDF</th>\n",
       "      <th>skip__PWF</th>\n",
       "      <th>skip__OSF</th>\n",
       "      <th>skip__RNF</th>\n",
       "    </tr>\n",
       "  </thead>\n",
       "  <tbody>\n",
       "    <tr>\n",
       "      <th>0</th>\n",
       "      <td>0.0</td>\n",
       "      <td>1.0</td>\n",
       "      <td>0.0</td>\n",
       "      <td>1.311082</td>\n",
       "      <td>1.126923</td>\n",
       "      <td>-0.154280</td>\n",
       "      <td>-0.277019</td>\n",
       "      <td>-0.696792</td>\n",
       "      <td>136429.0</td>\n",
       "      <td>0.0</td>\n",
       "      <td>0.0</td>\n",
       "      <td>0.0</td>\n",
       "      <td>0.0</td>\n",
       "      <td>0.0</td>\n",
       "    </tr>\n",
       "    <tr>\n",
       "      <th>1</th>\n",
       "      <td>0.0</td>\n",
       "      <td>1.0</td>\n",
       "      <td>0.0</td>\n",
       "      <td>0.989079</td>\n",
       "      <td>0.766515</td>\n",
       "      <td>1.385581</td>\n",
       "      <td>-1.357884</td>\n",
       "      <td>-1.369256</td>\n",
       "      <td>136430.0</td>\n",
       "      <td>0.0</td>\n",
       "      <td>0.0</td>\n",
       "      <td>0.0</td>\n",
       "      <td>0.0</td>\n",
       "      <td>0.0</td>\n",
       "    </tr>\n",
       "    <tr>\n",
       "      <th>2</th>\n",
       "      <td>0.0</td>\n",
       "      <td>1.0</td>\n",
       "      <td>0.0</td>\n",
       "      <td>0.774411</td>\n",
       "      <td>0.334025</td>\n",
       "      <td>0.032806</td>\n",
       "      <td>-0.312265</td>\n",
       "      <td>-0.133798</td>\n",
       "      <td>136431.0</td>\n",
       "      <td>0.0</td>\n",
       "      <td>0.0</td>\n",
       "      <td>0.0</td>\n",
       "      <td>0.0</td>\n",
       "      <td>0.0</td>\n",
       "    </tr>\n",
       "    <tr>\n",
       "      <th>3</th>\n",
       "      <td>0.0</td>\n",
       "      <td>0.0</td>\n",
       "      <td>1.0</td>\n",
       "      <td>0.130406</td>\n",
       "      <td>-0.242629</td>\n",
       "      <td>-0.298192</td>\n",
       "      <td>0.850839</td>\n",
       "      <td>-1.556920</td>\n",
       "      <td>136432.0</td>\n",
       "      <td>0.0</td>\n",
       "      <td>0.0</td>\n",
       "      <td>0.0</td>\n",
       "      <td>0.0</td>\n",
       "      <td>0.0</td>\n",
       "    </tr>\n",
       "    <tr>\n",
       "      <th>4</th>\n",
       "      <td>0.0</td>\n",
       "      <td>0.0</td>\n",
       "      <td>1.0</td>\n",
       "      <td>1.901419</td>\n",
       "      <td>1.703577</td>\n",
       "      <td>-0.039150</td>\n",
       "      <td>0.110682</td>\n",
       "      <td>0.147699</td>\n",
       "      <td>136433.0</td>\n",
       "      <td>0.0</td>\n",
       "      <td>0.0</td>\n",
       "      <td>0.0</td>\n",
       "      <td>0.0</td>\n",
       "      <td>0.0</td>\n",
       "    </tr>\n",
       "  </tbody>\n",
       "</table>\n",
       "</div>"
      ],
      "text/plain": [
       "   cat__Type_H  cat__Type_L  cat__Type_M  num__AirTemp  num__ProcessTemp  \\\n",
       "0          0.0          1.0          0.0      1.311082          1.126923   \n",
       "1          0.0          1.0          0.0      0.989079          0.766515   \n",
       "2          0.0          1.0          0.0      0.774411          0.334025   \n",
       "3          0.0          0.0          1.0      0.130406         -0.242629   \n",
       "4          0.0          0.0          1.0      1.901419          1.703577   \n",
       "\n",
       "   num__RotSpeed  num__Torque  num__ToolWear  skip__id  skip__TWF  skip__HDF  \\\n",
       "0      -0.154280    -0.277019      -0.696792  136429.0        0.0        0.0   \n",
       "1       1.385581    -1.357884      -1.369256  136430.0        0.0        0.0   \n",
       "2       0.032806    -0.312265      -0.133798  136431.0        0.0        0.0   \n",
       "3      -0.298192     0.850839      -1.556920  136432.0        0.0        0.0   \n",
       "4      -0.039150     0.110682       0.147699  136433.0        0.0        0.0   \n",
       "\n",
       "   skip__PWF  skip__OSF  skip__RNF  \n",
       "0        0.0        0.0        0.0  \n",
       "1        0.0        0.0        0.0  \n",
       "2        0.0        0.0        0.0  \n",
       "3        0.0        0.0        0.0  \n",
       "4        0.0        0.0        0.0  "
      ]
     },
     "execution_count": 16,
     "metadata": {},
     "output_type": "execute_result"
    }
   ],
   "source": [
    "# Prediction 1 using simple logistic regression on the test set (submission 1)\n",
    "\n",
    "# Apply data transformations as before\n",
    "\n",
    "test_df.rename(columns = {test_df.columns[3] : \"AirTemp\", test_df.columns[4] : \"ProcessTemp\", test_df.columns[5]: \"RotSpeed\", test_df.columns[6] : \"Torque\", test_df.columns[7]:\"ToolWear\"}, inplace = True)\n",
    "test_df = test_df.drop([\"Product ID\"], axis = 1)\n",
    "\n",
    "#test_df.columns\n",
    "\n",
    "test_df_new = pd.DataFrame(col_transformer.transform(test_df), columns = col_transformer.get_feature_names_out())\n",
    "test_df_new.head()"
   ]
  },
  {
   "cell_type": "markdown",
   "id": "d7553029",
   "metadata": {
    "papermill": {
     "duration": 0.016133,
     "end_time": "2023-06-26T20:56:29.779673",
     "exception": false,
     "start_time": "2023-06-26T20:56:29.763540",
     "status": "completed"
    },
    "tags": []
   },
   "source": [
    "# Logistic Regression with Cross-Validation"
   ]
  },
  {
   "cell_type": "code",
   "execution_count": 17,
   "id": "4f707558",
   "metadata": {
    "execution": {
     "iopub.execute_input": "2023-06-26T20:56:29.814520Z",
     "iopub.status.busy": "2023-06-26T20:56:29.814161Z",
     "iopub.status.idle": "2023-06-26T20:56:30.258358Z",
     "shell.execute_reply": "2023-06-26T20:56:30.257391Z"
    },
    "papermill": {
     "duration": 0.464324,
     "end_time": "2023-06-26T20:56:30.260984",
     "exception": false,
     "start_time": "2023-06-26T20:56:29.796660",
     "status": "completed"
    },
    "tags": []
   },
   "outputs": [],
   "source": [
    "pred_sub = model.predict_proba(test_df_new)[:,1]\n",
    "sub1 = pd.DataFrame(pred_sub, columns = ['Machine failure'])\n",
    "ex_col = test_df[[\"id\"]]\n",
    "submission = ex_col.join(sub1)\n",
    "\n",
    "submission.head()\n",
    "submission.to_csv(\"submission_logreg.csv\", index = False)"
   ]
  },
  {
   "cell_type": "code",
   "execution_count": 18,
   "id": "c23658d1",
   "metadata": {
    "execution": {
     "iopub.execute_input": "2023-06-26T20:56:30.296793Z",
     "iopub.status.busy": "2023-06-26T20:56:30.296405Z",
     "iopub.status.idle": "2023-06-26T20:56:32.621866Z",
     "shell.execute_reply": "2023-06-26T20:56:32.620388Z"
    },
    "papermill": {
     "duration": 2.34804,
     "end_time": "2023-06-26T20:56:32.625951",
     "exception": false,
     "start_time": "2023-06-26T20:56:30.277911",
     "status": "completed"
    },
    "tags": []
   },
   "outputs": [
    {
     "name": "stdout",
     "output_type": "stream",
     "text": [
      "Cross validation AUROC =  0.935945595737303\n"
     ]
    }
   ],
   "source": [
    "from sklearn.model_selection import cross_val_score\n",
    "\n",
    "train_X_complete = pd.DataFrame(col_transformer.fit_transform(complete_train), columns = col_transformer.get_feature_names_out())\n",
    "\n",
    "cv_scores = cross_val_score(model, train_X_complete, complete_y, cv = 5, scoring = 'roc_auc')\n",
    "\n",
    "print(\"Cross validation AUROC = \", cv_scores.mean())"
   ]
  },
  {
   "cell_type": "markdown",
   "id": "bb1ee275",
   "metadata": {
    "papermill": {
     "duration": 0.034939,
     "end_time": "2023-06-26T20:56:32.696804",
     "exception": false,
     "start_time": "2023-06-26T20:56:32.661865",
     "status": "completed"
    },
    "tags": []
   },
   "source": [
    "5-fold cross validation performs only slightly better than logistic regression"
   ]
  },
  {
   "cell_type": "markdown",
   "id": "b5b5c7bd",
   "metadata": {
    "papermill": {
     "duration": 0.017205,
     "end_time": "2023-06-26T20:56:32.744225",
     "exception": false,
     "start_time": "2023-06-26T20:56:32.727020",
     "status": "completed"
    },
    "tags": []
   },
   "source": [
    "# Decision Tree Classifier"
   ]
  },
  {
   "cell_type": "code",
   "execution_count": 19,
   "id": "221fdd1a",
   "metadata": {
    "execution": {
     "iopub.execute_input": "2023-06-26T20:56:32.781385Z",
     "iopub.status.busy": "2023-06-26T20:56:32.780957Z",
     "iopub.status.idle": "2023-06-26T20:56:34.562659Z",
     "shell.execute_reply": "2023-06-26T20:56:34.561870Z"
    },
    "papermill": {
     "duration": 1.802692,
     "end_time": "2023-06-26T20:56:34.564630",
     "exception": false,
     "start_time": "2023-06-26T20:56:32.761938",
     "status": "completed"
    },
    "tags": []
   },
   "outputs": [
    {
     "name": "stdout",
     "output_type": "stream",
     "text": [
      "Model accuracy =  0.9925823853641375\n",
      "Decision Tree AUROC =  0.873681067635492\n"
     ]
    },
    {
     "data": {
      "text/plain": [
       "<Axes: >"
      ]
     },
     "execution_count": 19,
     "metadata": {},
     "output_type": "execute_result"
    },
    {
     "data": {
      "image/png": "[encoded data removed]",
      "text/plain": [
       "<Figure size 640x480 with 2 Axes>"
      ]
     },
     "metadata": {},
     "output_type": "display_data"
    }
   ],
   "source": [
    "from sklearn.tree import DecisionTreeClassifier\n",
    "\n",
    "model_dt = DecisionTreeClassifier(class_weight = 'balanced')\n",
    "\n",
    "model_dt.fit(train_X_new, train_y)\n",
    "\n",
    "pred_y = model_dt.predict(val_X_new)\n",
    "\n",
    "val_probs = model_dt.predict_proba(val_X_new)\n",
    "\n",
    "# Calculate accuracy of prediction using AUROC curve scores\n",
    "\n",
    "auc_score = roc_auc_score(val_y, val_probs[:,1])\n",
    "\n",
    "print(\"Model accuracy = \", accuracy_score(val_y, pred_y))\n",
    "print(\"Decision Tree AUROC = \", auc_score)\n",
    "\n",
    "cm = pd.DataFrame(confusion_matrix(val_y, pred_y))\n",
    "sns.heatmap(cm, annot = True, cmap = \"YlGnBu\")"
   ]
  },
  {
   "cell_type": "markdown",
   "id": "ece25b1b",
   "metadata": {
    "papermill": {
     "duration": 0.019387,
     "end_time": "2023-06-26T20:56:34.602895",
     "exception": false,
     "start_time": "2023-06-26T20:56:34.583508",
     "status": "completed"
    },
    "tags": []
   },
   "source": [
    "> Does slighly poorer than simple logistic regression.. try tuning params to see if it does better?"
   ]
  },
  {
   "cell_type": "markdown",
   "id": "0dc5a31b",
   "metadata": {
    "papermill": {
     "duration": 0.017802,
     "end_time": "2023-06-26T20:56:34.638993",
     "exception": false,
     "start_time": "2023-06-26T20:56:34.621191",
     "status": "completed"
    },
    "tags": []
   },
   "source": [
    "# Random Forest Classifier"
   ]
  },
  {
   "cell_type": "code",
   "execution_count": 20,
   "id": "1343f69f",
   "metadata": {
    "execution": {
     "iopub.execute_input": "2023-06-26T20:56:34.676561Z",
     "iopub.status.busy": "2023-06-26T20:56:34.675231Z",
     "iopub.status.idle": "2023-06-26T20:56:53.908395Z",
     "shell.execute_reply": "2023-06-26T20:56:53.907315Z"
    },
    "papermill": {
     "duration": 19.253909,
     "end_time": "2023-06-26T20:56:53.910778",
     "exception": false,
     "start_time": "2023-06-26T20:56:34.656869",
     "status": "completed"
    },
    "tags": []
   },
   "outputs": [
    {
     "name": "stdout",
     "output_type": "stream",
     "text": [
      "Model accuracy =  0.9957781165708924\n",
      "Random Forest AUROC =  0.9423927501863512\n"
     ]
    },
    {
     "data": {
      "text/plain": [
       "<Axes: >"
      ]
     },
     "execution_count": 20,
     "metadata": {},
     "output_type": "execute_result"
    },
    {
     "data": {
      "image/png": "[encoded data removed]",
      "text/plain": [
       "<Figure size 640x480 with 2 Axes>"
      ]
     },
     "metadata": {},
     "output_type": "display_data"
    }
   ],
   "source": [
    "from sklearn.ensemble import RandomForestClassifier\n",
    "\n",
    "model_rf = RandomForestClassifier(class_weight = 'balanced')\n",
    "\n",
    "model_rf.fit(train_X_new, train_y)\n",
    "\n",
    "pred_y = model_rf.predict(val_X_new)\n",
    "\n",
    "val_probs = model_rf.predict_proba(val_X_new)\n",
    "\n",
    "# Calculate accuracy of prediction using AUROC curve scores\n",
    "\n",
    "auc_score = roc_auc_score(val_y, val_probs[:,1])\n",
    "\n",
    "print(\"Model accuracy = \", accuracy_score(val_y, pred_y))\n",
    "print(\"Random Forest AUROC = \", auc_score)\n",
    "\n",
    "cm = pd.DataFrame(confusion_matrix(val_y, pred_y))\n",
    "sns.heatmap(cm, annot = True, cmap = \"YlGnBu\")"
   ]
  },
  {
   "cell_type": "code",
   "execution_count": 21,
   "id": "63341bb7",
   "metadata": {
    "execution": {
     "iopub.execute_input": "2023-06-26T20:56:53.949306Z",
     "iopub.status.busy": "2023-06-26T20:56:53.948897Z",
     "iopub.status.idle": "2023-06-26T20:56:55.274959Z",
     "shell.execute_reply": "2023-06-26T20:56:55.273938Z"
    },
    "papermill": {
     "duration": 1.347519,
     "end_time": "2023-06-26T20:56:55.277398",
     "exception": false,
     "start_time": "2023-06-26T20:56:53.929879",
     "status": "completed"
    },
    "tags": []
   },
   "outputs": [
    {
     "data": {
      "text/html": [
       "<div>\n",
       "<style scoped>\n",
       "    .dataframe tbody tr th:only-of-type {\n",
       "        vertical-align: middle;\n",
       "    }\n",
       "\n",
       "    .dataframe tbody tr th {\n",
       "        vertical-align: top;\n",
       "    }\n",
       "\n",
       "    .dataframe thead th {\n",
       "        text-align: right;\n",
       "    }\n",
       "</style>\n",
       "<table border=\"1\" class=\"dataframe\">\n",
       "  <thead>\n",
       "    <tr style=\"text-align: right;\">\n",
       "      <th></th>\n",
       "      <th>id</th>\n",
       "      <th>Machine failure</th>\n",
       "    </tr>\n",
       "  </thead>\n",
       "  <tbody>\n",
       "    <tr>\n",
       "      <th>0</th>\n",
       "      <td>136429</td>\n",
       "      <td>0.00</td>\n",
       "    </tr>\n",
       "    <tr>\n",
       "      <th>1</th>\n",
       "      <td>136430</td>\n",
       "      <td>0.00</td>\n",
       "    </tr>\n",
       "    <tr>\n",
       "      <th>2</th>\n",
       "      <td>136431</td>\n",
       "      <td>0.00</td>\n",
       "    </tr>\n",
       "    <tr>\n",
       "      <th>3</th>\n",
       "      <td>136432</td>\n",
       "      <td>0.01</td>\n",
       "    </tr>\n",
       "    <tr>\n",
       "      <th>4</th>\n",
       "      <td>136433</td>\n",
       "      <td>0.01</td>\n",
       "    </tr>\n",
       "  </tbody>\n",
       "</table>\n",
       "</div>"
      ],
      "text/plain": [
       "       id  Machine failure\n",
       "0  136429             0.00\n",
       "1  136430             0.00\n",
       "2  136431             0.00\n",
       "3  136432             0.01\n",
       "4  136433             0.01"
      ]
     },
     "execution_count": 21,
     "metadata": {},
     "output_type": "execute_result"
    }
   ],
   "source": [
    "pred_sub = model_rf.predict_proba(test_df_new)[:,1]\n",
    "sub1 = pd.DataFrame(pred_sub, columns = ['Machine failure'])\n",
    "ex_col = test_df[[\"id\"]]\n",
    "submission = ex_col.join(sub1)\n",
    "submission.to_csv(\"submission_rf.csv\", index = False)\n",
    "submission.head()"
   ]
  },
  {
   "cell_type": "markdown",
   "id": "94dc78eb",
   "metadata": {
    "papermill": {
     "duration": 0.017588,
     "end_time": "2023-06-26T20:56:55.313567",
     "exception": false,
     "start_time": "2023-06-26T20:56:55.295979",
     "status": "completed"
    },
    "tags": []
   },
   "source": [
    "Trying XGBoost to see if it performs better.."
   ]
  },
  {
   "cell_type": "markdown",
   "id": "29da4568",
   "metadata": {
    "papermill": {
     "duration": 0.018163,
     "end_time": "2023-06-26T20:56:55.349424",
     "exception": false,
     "start_time": "2023-06-26T20:56:55.331261",
     "status": "completed"
    },
    "tags": []
   },
   "source": [
    "# XGBoost Classifier"
   ]
  },
  {
   "cell_type": "code",
   "execution_count": 22,
   "id": "f8addbc1",
   "metadata": {
    "execution": {
     "iopub.execute_input": "2023-06-26T20:56:55.388608Z",
     "iopub.status.busy": "2023-06-26T20:56:55.387936Z",
     "iopub.status.idle": "2023-06-26T20:57:02.586106Z",
     "shell.execute_reply": "2023-06-26T20:57:02.585009Z"
    },
    "papermill": {
     "duration": 7.220368,
     "end_time": "2023-06-26T20:57:02.588422",
     "exception": false,
     "start_time": "2023-06-26T20:56:55.368054",
     "status": "completed"
    },
    "tags": []
   },
   "outputs": [
    {
     "name": "stdout",
     "output_type": "stream",
     "text": [
      "Model accuracy =  0.9958953911105899\n",
      "XGBoost AUROC =  0.9536503746322339\n"
     ]
    },
    {
     "data": {
      "text/plain": [
       "<Axes: >"
      ]
     },
     "execution_count": 22,
     "metadata": {},
     "output_type": "execute_result"
    },
    {
     "data": {
      "image/png": "[encoded data removed]",
      "text/plain": [
       "<Figure size 640x480 with 2 Axes>"
      ]
     },
     "metadata": {},
     "output_type": "display_data"
    }
   ],
   "source": [
    "from xgboost import XGBClassifier\n",
    "\n",
    "model_xgb = XGBClassifier()\n",
    "\n",
    "model_xgb.fit(train_X_new, train_y)\n",
    "\n",
    "pred_y = model_xgb.predict(val_X_new)\n",
    "\n",
    "val_probs = model_xgb.predict_proba(val_X_new)\n",
    "\n",
    "# Calculate accuracy of prediction using AUROC curve scores\n",
    "\n",
    "auc_score = roc_auc_score(val_y, val_probs[:,1])\n",
    "\n",
    "print(\"Model accuracy = \", accuracy_score(val_y, pred_y))\n",
    "print(\"XGBoost AUROC = \", auc_score)\n",
    "\n",
    "cm = pd.DataFrame(confusion_matrix(val_y, pred_y))\n",
    "sns.heatmap(cm, annot = True, cmap = \"YlGnBu\")"
   ]
  },
  {
   "cell_type": "code",
   "execution_count": 23,
   "id": "a4a05d1d",
   "metadata": {
    "execution": {
     "iopub.execute_input": "2023-06-26T20:57:02.629010Z",
     "iopub.status.busy": "2023-06-26T20:57:02.628154Z",
     "iopub.status.idle": "2023-06-26T20:57:38.077065Z",
     "shell.execute_reply": "2023-06-26T20:57:38.075841Z"
    },
    "papermill": {
     "duration": 35.487156,
     "end_time": "2023-06-26T20:57:38.094809",
     "exception": false,
     "start_time": "2023-06-26T20:57:02.607653",
     "status": "completed"
    },
    "tags": []
   },
   "outputs": [
    {
     "name": "stdout",
     "output_type": "stream",
     "text": [
      "XGBoost Cross validation AUROC =  0.9537887651881704\n"
     ]
    }
   ],
   "source": [
    "# XGBoost with cross-validation\n",
    "\n",
    "cv_scores = cross_val_score(model_xgb, train_X_complete, complete_y, cv = 5, scoring = 'roc_auc')\n",
    "\n",
    "print(\"XGBoost Cross validation AUROC = \", cv_scores.mean())"
   ]
  },
  {
   "cell_type": "code",
   "execution_count": 24,
   "id": "b4fea08f",
   "metadata": {
    "execution": {
     "iopub.execute_input": "2023-06-26T20:57:38.135439Z",
     "iopub.status.busy": "2023-06-26T20:57:38.134997Z",
     "iopub.status.idle": "2023-06-26T20:57:38.553028Z",
     "shell.execute_reply": "2023-06-26T20:57:38.552124Z"
    },
    "papermill": {
     "duration": 0.441373,
     "end_time": "2023-06-26T20:57:38.555551",
     "exception": false,
     "start_time": "2023-06-26T20:57:38.114178",
     "status": "completed"
    },
    "tags": []
   },
   "outputs": [
    {
     "data": {
      "text/html": [
       "<div>\n",
       "<style scoped>\n",
       "    .dataframe tbody tr th:only-of-type {\n",
       "        vertical-align: middle;\n",
       "    }\n",
       "\n",
       "    .dataframe tbody tr th {\n",
       "        vertical-align: top;\n",
       "    }\n",
       "\n",
       "    .dataframe thead th {\n",
       "        text-align: right;\n",
       "    }\n",
       "</style>\n",
       "<table border=\"1\" class=\"dataframe\">\n",
       "  <thead>\n",
       "    <tr style=\"text-align: right;\">\n",
       "      <th></th>\n",
       "      <th>id</th>\n",
       "      <th>Machine failure</th>\n",
       "    </tr>\n",
       "  </thead>\n",
       "  <tbody>\n",
       "    <tr>\n",
       "      <th>0</th>\n",
       "      <td>136429</td>\n",
       "      <td>0.000144</td>\n",
       "    </tr>\n",
       "    <tr>\n",
       "      <th>1</th>\n",
       "      <td>136430</td>\n",
       "      <td>0.002149</td>\n",
       "    </tr>\n",
       "    <tr>\n",
       "      <th>2</th>\n",
       "      <td>136431</td>\n",
       "      <td>0.000099</td>\n",
       "    </tr>\n",
       "    <tr>\n",
       "      <th>3</th>\n",
       "      <td>136432</td>\n",
       "      <td>0.000156</td>\n",
       "    </tr>\n",
       "    <tr>\n",
       "      <th>4</th>\n",
       "      <td>136433</td>\n",
       "      <td>0.000142</td>\n",
       "    </tr>\n",
       "  </tbody>\n",
       "</table>\n",
       "</div>"
      ],
      "text/plain": [
       "       id  Machine failure\n",
       "0  136429         0.000144\n",
       "1  136430         0.002149\n",
       "2  136431         0.000099\n",
       "3  136432         0.000156\n",
       "4  136433         0.000142"
      ]
     },
     "execution_count": 24,
     "metadata": {},
     "output_type": "execute_result"
    }
   ],
   "source": [
    "pred_sub = model_xgb.predict_proba(test_df_new)[:,1]\n",
    "sub1 = pd.DataFrame(pred_sub, columns = ['Machine failure'])\n",
    "ex_col = test_df[[\"id\"]]\n",
    "submission = ex_col.join(sub1)\n",
    "submission.to_csv(\"submission_xgb.csv\", index = False)\n",
    "submission.head()"
   ]
  }
 ],
 "metadata": {
  "kernelspec": {
   "display_name": "Python 3",
   "language": "python",
   "name": "python3"
  },
  "language_info": {
   "codemirror_mode": {
    "name": "ipython",
    "version": 3
   },
   "file_extension": ".py",
   "mimetype": "text/x-python",
   "name": "python",
   "nbconvert_exporter": "python",
   "pygments_lexer": "ipython3",
   "version": "3.10.10"
  },
  "papermill": {
   "default_parameters": {},
   "duration": 86.998723,
   "end_time": "2023-06-26T20:57:39.597539",
   "environment_variables": {},
   "exception": null,
   "input_path": "__notebook__.ipynb",
   "output_path": "__notebook__.ipynb",
   "parameters": {},
   "start_time": "2023-06-26T20:56:12.598816",
   "version": "2.4.0"
  }
 },
 "nbformat": 4,
 "nbformat_minor": 5
}
