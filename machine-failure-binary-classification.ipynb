{
 "cells": [
  {
   "cell_type": "code",
   "execution_count": 1,
   "id": "b4320c39",
   "metadata": {
    "_cell_guid": "b1076dfc-b9ad-4769-8c92-a6c4dae69d19",
    "_uuid": "8f2839f25d086af736a60e9eeb907d3b93b6e0e5",
    "execution": {
     "iopub.execute_input": "2023-06-23T19:51:52.343410Z",
     "iopub.status.busy": "2023-06-23T19:51:52.343000Z",
     "iopub.status.idle": "2023-06-23T19:51:54.067682Z",
     "shell.execute_reply": "2023-06-23T19:51:54.066438Z"
    },
    "papermill": {
     "duration": 1.742836,
     "end_time": "2023-06-23T19:51:54.070529",
     "exception": false,
     "start_time": "2023-06-23T19:51:52.327693",
     "status": "completed"
    },
    "tags": []
   },
   "outputs": [
    {
     "name": "stdout",
     "output_type": "stream",
     "text": [
      "/kaggle/input/playground-series-s3e17/sample_submission.csv\n",
      "/kaggle/input/playground-series-s3e17/train.csv\n",
      "/kaggle/input/playground-series-s3e17/test.csv\n"
     ]
    }
   ],
   "source": [
    "# This Python 3 environment comes with many helpful analytics libraries installed\n",
    "# It is defined by the kaggle/python Docker image: https://github.com/kaggle/docker-python\n",
    "# For example, here's several helpful packages to load\n",
    "\n",
    "import numpy as np # linear algebra\n",
    "import pandas as pd # data processing, CSV file I/O (e.g. pd.read_csv)\n",
    "import seaborn as sns\n",
    "\n",
    "# Input data files are available in the read-only \"../input/\" directory\n",
    "# For example, running this (by clicking run or pressing Shift+Enter) will list all files under the input directory\n",
    "\n",
    "import os\n",
    "for dirname, _, filenames in os.walk('/kaggle/input'):\n",
    "    for filename in filenames:\n",
    "        print(os.path.join(dirname, filename))\n",
    "\n",
    "# You can write up to 20GB to the current directory (/kaggle/working/) that gets preserved as output when you create a version using \"Save & Run All\" \n",
    "# You can also write temporary files to /kaggle/temp/, but they won't be saved outside of the current session"
   ]
  },
  {
   "cell_type": "markdown",
   "id": "c76c0a3e",
   "metadata": {
    "papermill": {
     "duration": 0.009633,
     "end_time": "2023-06-23T19:51:54.090590",
     "exception": false,
     "start_time": "2023-06-23T19:51:54.080957",
     "status": "completed"
    },
    "tags": []
   },
   "source": [
    "**Load and explore dataset:**"
   ]
  },
  {
   "cell_type": "code",
   "execution_count": 2,
   "id": "70416a64",
   "metadata": {
    "execution": {
     "iopub.execute_input": "2023-06-23T19:51:54.113530Z",
     "iopub.status.busy": "2023-06-23T19:51:54.112161Z",
     "iopub.status.idle": "2023-06-23T19:51:54.345943Z",
     "shell.execute_reply": "2023-06-23T19:51:54.344884Z"
    },
    "papermill": {
     "duration": 0.248184,
     "end_time": "2023-06-23T19:51:54.348680",
     "exception": false,
     "start_time": "2023-06-23T19:51:54.100496",
     "status": "completed"
    },
    "tags": []
   },
   "outputs": [],
   "source": [
    "test_df = pd.read_csv(\"/kaggle/input/playground-series-s3e17/test.csv\")"
   ]
  },
  {
   "cell_type": "code",
   "execution_count": 3,
   "id": "d0d04fea",
   "metadata": {
    "execution": {
     "iopub.execute_input": "2023-06-23T19:51:54.371576Z",
     "iopub.status.busy": "2023-06-23T19:51:54.370877Z",
     "iopub.status.idle": "2023-06-23T19:51:54.729901Z",
     "shell.execute_reply": "2023-06-23T19:51:54.728517Z"
    },
    "papermill": {
     "duration": 0.373785,
     "end_time": "2023-06-23T19:51:54.732541",
     "exception": false,
     "start_time": "2023-06-23T19:51:54.358756",
     "status": "completed"
    },
    "tags": []
   },
   "outputs": [
    {
     "data": {
      "text/html": [
       "<div>\n",
       "<style scoped>\n",
       "    .dataframe tbody tr th:only-of-type {\n",
       "        vertical-align: middle;\n",
       "    }\n",
       "\n",
       "    .dataframe tbody tr th {\n",
       "        vertical-align: top;\n",
       "    }\n",
       "\n",
       "    .dataframe thead th {\n",
       "        text-align: right;\n",
       "    }\n",
       "</style>\n",
       "<table border=\"1\" class=\"dataframe\">\n",
       "  <thead>\n",
       "    <tr style=\"text-align: right;\">\n",
       "      <th></th>\n",
       "      <th>id</th>\n",
       "      <th>Product ID</th>\n",
       "      <th>Type</th>\n",
       "      <th>Air temperature [K]</th>\n",
       "      <th>Process temperature [K]</th>\n",
       "      <th>Rotational speed [rpm]</th>\n",
       "      <th>Torque [Nm]</th>\n",
       "      <th>Tool wear [min]</th>\n",
       "      <th>Machine failure</th>\n",
       "      <th>TWF</th>\n",
       "      <th>HDF</th>\n",
       "      <th>PWF</th>\n",
       "      <th>OSF</th>\n",
       "      <th>RNF</th>\n",
       "    </tr>\n",
       "  </thead>\n",
       "  <tbody>\n",
       "    <tr>\n",
       "      <th>0</th>\n",
       "      <td>0</td>\n",
       "      <td>L50096</td>\n",
       "      <td>L</td>\n",
       "      <td>300.6</td>\n",
       "      <td>309.6</td>\n",
       "      <td>1596</td>\n",
       "      <td>36.1</td>\n",
       "      <td>140</td>\n",
       "      <td>0</td>\n",
       "      <td>0</td>\n",
       "      <td>0</td>\n",
       "      <td>0</td>\n",
       "      <td>0</td>\n",
       "      <td>0</td>\n",
       "    </tr>\n",
       "    <tr>\n",
       "      <th>1</th>\n",
       "      <td>1</td>\n",
       "      <td>M20343</td>\n",
       "      <td>M</td>\n",
       "      <td>302.6</td>\n",
       "      <td>312.1</td>\n",
       "      <td>1759</td>\n",
       "      <td>29.1</td>\n",
       "      <td>200</td>\n",
       "      <td>0</td>\n",
       "      <td>0</td>\n",
       "      <td>0</td>\n",
       "      <td>0</td>\n",
       "      <td>0</td>\n",
       "      <td>0</td>\n",
       "    </tr>\n",
       "    <tr>\n",
       "      <th>2</th>\n",
       "      <td>2</td>\n",
       "      <td>L49454</td>\n",
       "      <td>L</td>\n",
       "      <td>299.3</td>\n",
       "      <td>308.5</td>\n",
       "      <td>1805</td>\n",
       "      <td>26.5</td>\n",
       "      <td>25</td>\n",
       "      <td>0</td>\n",
       "      <td>0</td>\n",
       "      <td>0</td>\n",
       "      <td>0</td>\n",
       "      <td>0</td>\n",
       "      <td>0</td>\n",
       "    </tr>\n",
       "    <tr>\n",
       "      <th>3</th>\n",
       "      <td>3</td>\n",
       "      <td>L53355</td>\n",
       "      <td>L</td>\n",
       "      <td>301.0</td>\n",
       "      <td>310.9</td>\n",
       "      <td>1524</td>\n",
       "      <td>44.3</td>\n",
       "      <td>197</td>\n",
       "      <td>0</td>\n",
       "      <td>0</td>\n",
       "      <td>0</td>\n",
       "      <td>0</td>\n",
       "      <td>0</td>\n",
       "      <td>0</td>\n",
       "    </tr>\n",
       "    <tr>\n",
       "      <th>4</th>\n",
       "      <td>4</td>\n",
       "      <td>M24050</td>\n",
       "      <td>M</td>\n",
       "      <td>298.0</td>\n",
       "      <td>309.0</td>\n",
       "      <td>1641</td>\n",
       "      <td>35.4</td>\n",
       "      <td>34</td>\n",
       "      <td>0</td>\n",
       "      <td>0</td>\n",
       "      <td>0</td>\n",
       "      <td>0</td>\n",
       "      <td>0</td>\n",
       "      <td>0</td>\n",
       "    </tr>\n",
       "    <tr>\n",
       "      <th>5</th>\n",
       "      <td>5</td>\n",
       "      <td>M24300</td>\n",
       "      <td>M</td>\n",
       "      <td>298.4</td>\n",
       "      <td>308.9</td>\n",
       "      <td>1429</td>\n",
       "      <td>42.1</td>\n",
       "      <td>65</td>\n",
       "      <td>0</td>\n",
       "      <td>0</td>\n",
       "      <td>0</td>\n",
       "      <td>0</td>\n",
       "      <td>0</td>\n",
       "      <td>0</td>\n",
       "    </tr>\n",
       "    <tr>\n",
       "      <th>6</th>\n",
       "      <td>6</td>\n",
       "      <td>L56736</td>\n",
       "      <td>L</td>\n",
       "      <td>299.6</td>\n",
       "      <td>311.0</td>\n",
       "      <td>1413</td>\n",
       "      <td>42.9</td>\n",
       "      <td>156</td>\n",
       "      <td>0</td>\n",
       "      <td>0</td>\n",
       "      <td>0</td>\n",
       "      <td>0</td>\n",
       "      <td>0</td>\n",
       "      <td>0</td>\n",
       "    </tr>\n",
       "    <tr>\n",
       "      <th>7</th>\n",
       "      <td>7</td>\n",
       "      <td>L55488</td>\n",
       "      <td>L</td>\n",
       "      <td>298.7</td>\n",
       "      <td>310.1</td>\n",
       "      <td>1609</td>\n",
       "      <td>38.1</td>\n",
       "      <td>67</td>\n",
       "      <td>0</td>\n",
       "      <td>0</td>\n",
       "      <td>0</td>\n",
       "      <td>0</td>\n",
       "      <td>0</td>\n",
       "      <td>0</td>\n",
       "    </tr>\n",
       "    <tr>\n",
       "      <th>8</th>\n",
       "      <td>8</td>\n",
       "      <td>L56397</td>\n",
       "      <td>L</td>\n",
       "      <td>297.7</td>\n",
       "      <td>308.8</td>\n",
       "      <td>1578</td>\n",
       "      <td>35.2</td>\n",
       "      <td>13</td>\n",
       "      <td>0</td>\n",
       "      <td>0</td>\n",
       "      <td>0</td>\n",
       "      <td>0</td>\n",
       "      <td>0</td>\n",
       "      <td>0</td>\n",
       "    </tr>\n",
       "    <tr>\n",
       "      <th>9</th>\n",
       "      <td>9</td>\n",
       "      <td>L55067</td>\n",
       "      <td>L</td>\n",
       "      <td>300.5</td>\n",
       "      <td>312.3</td>\n",
       "      <td>1447</td>\n",
       "      <td>53.3</td>\n",
       "      <td>98</td>\n",
       "      <td>0</td>\n",
       "      <td>0</td>\n",
       "      <td>0</td>\n",
       "      <td>0</td>\n",
       "      <td>0</td>\n",
       "      <td>0</td>\n",
       "    </tr>\n",
       "  </tbody>\n",
       "</table>\n",
       "</div>"
      ],
      "text/plain": [
       "   id Product ID Type  Air temperature [K]  Process temperature [K]  \\\n",
       "0   0     L50096    L                300.6                    309.6   \n",
       "1   1     M20343    M                302.6                    312.1   \n",
       "2   2     L49454    L                299.3                    308.5   \n",
       "3   3     L53355    L                301.0                    310.9   \n",
       "4   4     M24050    M                298.0                    309.0   \n",
       "5   5     M24300    M                298.4                    308.9   \n",
       "6   6     L56736    L                299.6                    311.0   \n",
       "7   7     L55488    L                298.7                    310.1   \n",
       "8   8     L56397    L                297.7                    308.8   \n",
       "9   9     L55067    L                300.5                    312.3   \n",
       "\n",
       "   Rotational speed [rpm]  Torque [Nm]  Tool wear [min]  Machine failure  TWF  \\\n",
       "0                    1596         36.1              140                0    0   \n",
       "1                    1759         29.1              200                0    0   \n",
       "2                    1805         26.5               25                0    0   \n",
       "3                    1524         44.3              197                0    0   \n",
       "4                    1641         35.4               34                0    0   \n",
       "5                    1429         42.1               65                0    0   \n",
       "6                    1413         42.9              156                0    0   \n",
       "7                    1609         38.1               67                0    0   \n",
       "8                    1578         35.2               13                0    0   \n",
       "9                    1447         53.3               98                0    0   \n",
       "\n",
       "   HDF  PWF  OSF  RNF  \n",
       "0    0    0    0    0  \n",
       "1    0    0    0    0  \n",
       "2    0    0    0    0  \n",
       "3    0    0    0    0  \n",
       "4    0    0    0    0  \n",
       "5    0    0    0    0  \n",
       "6    0    0    0    0  \n",
       "7    0    0    0    0  \n",
       "8    0    0    0    0  \n",
       "9    0    0    0    0  "
      ]
     },
     "metadata": {},
     "output_type": "display_data"
    },
    {
     "data": {
      "text/plain": [
       "(136429, 14)"
      ]
     },
     "metadata": {},
     "output_type": "display_data"
    },
    {
     "data": {
      "text/plain": [
       "Index(['id', 'Product ID', 'Type', 'Air temperature [K]',\n",
       "       'Process temperature [K]', 'Rotational speed [rpm]', 'Torque [Nm]',\n",
       "       'Tool wear [min]', 'Machine failure', 'TWF', 'HDF', 'PWF', 'OSF',\n",
       "       'RNF'],\n",
       "      dtype='object')"
      ]
     },
     "metadata": {},
     "output_type": "display_data"
    }
   ],
   "source": [
    "df = pd.read_csv(\"/kaggle/input/playground-series-s3e17/train.csv\")\n",
    "display(df.head(10))\n",
    "display(df.shape)\n",
    "display(df.columns)"
   ]
  },
  {
   "cell_type": "code",
   "execution_count": 4,
   "id": "b7b13473",
   "metadata": {
    "execution": {
     "iopub.execute_input": "2023-06-23T19:51:54.757620Z",
     "iopub.status.busy": "2023-06-23T19:51:54.756845Z",
     "iopub.status.idle": "2023-06-23T19:51:55.225543Z",
     "shell.execute_reply": "2023-06-23T19:51:55.224226Z"
    },
    "papermill": {
     "duration": 0.484344,
     "end_time": "2023-06-23T19:51:55.228211",
     "exception": false,
     "start_time": "2023-06-23T19:51:54.743867",
     "status": "completed"
    },
    "tags": []
   },
   "outputs": [
    {
     "data": {
      "text/plain": [
       "<Axes: xlabel='Machine failure', ylabel='Count'>"
      ]
     },
     "execution_count": 4,
     "metadata": {},
     "output_type": "execute_result"
    },
    {
     "data": {
      "image/png": "[encoded data removed]",
      "text/plain": [
       "<Figure size 640x480 with 1 Axes>"
      ]
     },
     "metadata": {},
     "output_type": "display_data"
    }
   ],
   "source": [
    "sns.histplot(data = df, x = \"Machine failure\")"
   ]
  },
  {
   "cell_type": "markdown",
   "id": "c7d9c407",
   "metadata": {
    "papermill": {
     "duration": 0.014847,
     "end_time": "2023-06-23T19:51:55.256823",
     "exception": false,
     "start_time": "2023-06-23T19:51:55.241976",
     "status": "completed"
    },
    "tags": []
   },
   "source": [
    "> Need to find a way to handle imbalanced dataset"
   ]
  },
  {
   "cell_type": "code",
   "execution_count": 5,
   "id": "ebfce9be",
   "metadata": {
    "execution": {
     "iopub.execute_input": "2023-06-23T19:51:55.287515Z",
     "iopub.status.busy": "2023-06-23T19:51:55.286552Z",
     "iopub.status.idle": "2023-06-23T19:51:55.307010Z",
     "shell.execute_reply": "2023-06-23T19:51:55.305465Z"
    },
    "papermill": {
     "duration": 0.040376,
     "end_time": "2023-06-23T19:51:55.309796",
     "exception": false,
     "start_time": "2023-06-23T19:51:55.269420",
     "status": "completed"
    },
    "tags": []
   },
   "outputs": [
    {
     "data": {
      "text/plain": [
       "Machine failure\n",
       "0                  134281\n",
       "1                    2148\n",
       "dtype: int64"
      ]
     },
     "execution_count": 5,
     "metadata": {},
     "output_type": "execute_result"
    }
   ],
   "source": [
    "df[[\"Machine failure\"]].value_counts()"
   ]
  },
  {
   "cell_type": "markdown",
   "id": "6010eba8",
   "metadata": {
    "papermill": {
     "duration": 0.011215,
     "end_time": "2023-06-23T19:51:55.332805",
     "exception": false,
     "start_time": "2023-06-23T19:51:55.321590",
     "status": "completed"
    },
    "tags": []
   },
   "source": [
    "* ID = device identifier (int)\n",
    "* Product ID = Unique ID (string)\n",
    "* Type = type of product L = low (60% of data), M = medium (30% of data), H = high (10% of data) (string)\n",
    "* Air Temp = air temp in kelvin (float)\n",
    "* Process temp = (float)\n",
    "* rotational speed = speed in rpm (int)\n",
    "* torque = newton meter (float)\n",
    "* tool wear = time unit needed to wear down the product/tool (int)\n",
    "* machine failure = binary failure target variable (int)\n",
    "* \n",
    "* TWF = tool wear failure (binary, int)\n",
    "* HDF = heat dissipation failure (binary, int)\n",
    "* PWF = power failure (binary, int)\n",
    "* OSF = overstain failure (binary, int)\n",
    "* RNF = random failure (binary, int)"
   ]
  },
  {
   "cell_type": "code",
   "execution_count": 6,
   "id": "0152b40c",
   "metadata": {
    "execution": {
     "iopub.execute_input": "2023-06-23T19:51:55.357964Z",
     "iopub.status.busy": "2023-06-23T19:51:55.357566Z",
     "iopub.status.idle": "2023-06-23T19:51:55.502660Z",
     "shell.execute_reply": "2023-06-23T19:51:55.501223Z"
    },
    "papermill": {
     "duration": 0.161269,
     "end_time": "2023-06-23T19:51:55.505646",
     "exception": false,
     "start_time": "2023-06-23T19:51:55.344377",
     "status": "completed"
    },
    "tags": []
   },
   "outputs": [
    {
     "data": {
      "text/html": [
       "<div>\n",
       "<style scoped>\n",
       "    .dataframe tbody tr th:only-of-type {\n",
       "        vertical-align: middle;\n",
       "    }\n",
       "\n",
       "    .dataframe tbody tr th {\n",
       "        vertical-align: top;\n",
       "    }\n",
       "\n",
       "    .dataframe thead th {\n",
       "        text-align: right;\n",
       "    }\n",
       "</style>\n",
       "<table border=\"1\" class=\"dataframe\">\n",
       "  <thead>\n",
       "    <tr style=\"text-align: right;\">\n",
       "      <th></th>\n",
       "      <th>id</th>\n",
       "      <th>Air temperature [K]</th>\n",
       "      <th>Process temperature [K]</th>\n",
       "      <th>Rotational speed [rpm]</th>\n",
       "      <th>Torque [Nm]</th>\n",
       "      <th>Tool wear [min]</th>\n",
       "      <th>Machine failure</th>\n",
       "      <th>TWF</th>\n",
       "      <th>HDF</th>\n",
       "      <th>PWF</th>\n",
       "      <th>OSF</th>\n",
       "      <th>RNF</th>\n",
       "    </tr>\n",
       "  </thead>\n",
       "  <tbody>\n",
       "    <tr>\n",
       "      <th>count</th>\n",
       "      <td>136429.000000</td>\n",
       "      <td>136429.000000</td>\n",
       "      <td>136429.000000</td>\n",
       "      <td>136429.000000</td>\n",
       "      <td>136429.000000</td>\n",
       "      <td>136429.000000</td>\n",
       "      <td>136429.000000</td>\n",
       "      <td>136429.000000</td>\n",
       "      <td>136429.000000</td>\n",
       "      <td>136429.000000</td>\n",
       "      <td>136429.000000</td>\n",
       "      <td>136429.000000</td>\n",
       "    </tr>\n",
       "    <tr>\n",
       "      <th>mean</th>\n",
       "      <td>68214.000000</td>\n",
       "      <td>299.862776</td>\n",
       "      <td>309.941070</td>\n",
       "      <td>1520.331110</td>\n",
       "      <td>40.348643</td>\n",
       "      <td>104.408901</td>\n",
       "      <td>0.015744</td>\n",
       "      <td>0.001554</td>\n",
       "      <td>0.005160</td>\n",
       "      <td>0.002397</td>\n",
       "      <td>0.003958</td>\n",
       "      <td>0.002258</td>\n",
       "    </tr>\n",
       "    <tr>\n",
       "      <th>std</th>\n",
       "      <td>39383.804275</td>\n",
       "      <td>1.862247</td>\n",
       "      <td>1.385173</td>\n",
       "      <td>138.736632</td>\n",
       "      <td>8.502229</td>\n",
       "      <td>63.965040</td>\n",
       "      <td>0.124486</td>\n",
       "      <td>0.039389</td>\n",
       "      <td>0.071649</td>\n",
       "      <td>0.048899</td>\n",
       "      <td>0.062789</td>\n",
       "      <td>0.047461</td>\n",
       "    </tr>\n",
       "    <tr>\n",
       "      <th>min</th>\n",
       "      <td>0.000000</td>\n",
       "      <td>295.300000</td>\n",
       "      <td>305.800000</td>\n",
       "      <td>1181.000000</td>\n",
       "      <td>3.800000</td>\n",
       "      <td>0.000000</td>\n",
       "      <td>0.000000</td>\n",
       "      <td>0.000000</td>\n",
       "      <td>0.000000</td>\n",
       "      <td>0.000000</td>\n",
       "      <td>0.000000</td>\n",
       "      <td>0.000000</td>\n",
       "    </tr>\n",
       "    <tr>\n",
       "      <th>25%</th>\n",
       "      <td>34107.000000</td>\n",
       "      <td>298.300000</td>\n",
       "      <td>308.700000</td>\n",
       "      <td>1432.000000</td>\n",
       "      <td>34.600000</td>\n",
       "      <td>48.000000</td>\n",
       "      <td>0.000000</td>\n",
       "      <td>0.000000</td>\n",
       "      <td>0.000000</td>\n",
       "      <td>0.000000</td>\n",
       "      <td>0.000000</td>\n",
       "      <td>0.000000</td>\n",
       "    </tr>\n",
       "    <tr>\n",
       "      <th>50%</th>\n",
       "      <td>68214.000000</td>\n",
       "      <td>300.000000</td>\n",
       "      <td>310.000000</td>\n",
       "      <td>1493.000000</td>\n",
       "      <td>40.400000</td>\n",
       "      <td>106.000000</td>\n",
       "      <td>0.000000</td>\n",
       "      <td>0.000000</td>\n",
       "      <td>0.000000</td>\n",
       "      <td>0.000000</td>\n",
       "      <td>0.000000</td>\n",
       "      <td>0.000000</td>\n",
       "    </tr>\n",
       "    <tr>\n",
       "      <th>75%</th>\n",
       "      <td>102321.000000</td>\n",
       "      <td>301.200000</td>\n",
       "      <td>310.900000</td>\n",
       "      <td>1580.000000</td>\n",
       "      <td>46.100000</td>\n",
       "      <td>159.000000</td>\n",
       "      <td>0.000000</td>\n",
       "      <td>0.000000</td>\n",
       "      <td>0.000000</td>\n",
       "      <td>0.000000</td>\n",
       "      <td>0.000000</td>\n",
       "      <td>0.000000</td>\n",
       "    </tr>\n",
       "    <tr>\n",
       "      <th>max</th>\n",
       "      <td>136428.000000</td>\n",
       "      <td>304.400000</td>\n",
       "      <td>313.800000</td>\n",
       "      <td>2886.000000</td>\n",
       "      <td>76.600000</td>\n",
       "      <td>253.000000</td>\n",
       "      <td>1.000000</td>\n",
       "      <td>1.000000</td>\n",
       "      <td>1.000000</td>\n",
       "      <td>1.000000</td>\n",
       "      <td>1.000000</td>\n",
       "      <td>1.000000</td>\n",
       "    </tr>\n",
       "  </tbody>\n",
       "</table>\n",
       "</div>"
      ],
      "text/plain": [
       "                  id Air temperature [K] Process temperature [K]  \\\n",
       "count  136429.000000       136429.000000           136429.000000   \n",
       "mean    68214.000000          299.862776              309.941070   \n",
       "std     39383.804275            1.862247                1.385173   \n",
       "min         0.000000          295.300000              305.800000   \n",
       "25%     34107.000000          298.300000              308.700000   \n",
       "50%     68214.000000          300.000000              310.000000   \n",
       "75%    102321.000000          301.200000              310.900000   \n",
       "max    136428.000000          304.400000              313.800000   \n",
       "\n",
       "      Rotational speed [rpm]    Torque [Nm] Tool wear [min] Machine failure  \\\n",
       "count          136429.000000  136429.000000   136429.000000   136429.000000   \n",
       "mean             1520.331110      40.348643      104.408901        0.015744   \n",
       "std               138.736632       8.502229       63.965040        0.124486   \n",
       "min              1181.000000       3.800000        0.000000        0.000000   \n",
       "25%              1432.000000      34.600000       48.000000        0.000000   \n",
       "50%              1493.000000      40.400000      106.000000        0.000000   \n",
       "75%              1580.000000      46.100000      159.000000        0.000000   \n",
       "max              2886.000000      76.600000      253.000000        1.000000   \n",
       "\n",
       "                 TWF            HDF            PWF            OSF  \\\n",
       "count  136429.000000  136429.000000  136429.000000  136429.000000   \n",
       "mean        0.001554       0.005160       0.002397       0.003958   \n",
       "std         0.039389       0.071649       0.048899       0.062789   \n",
       "min         0.000000       0.000000       0.000000       0.000000   \n",
       "25%         0.000000       0.000000       0.000000       0.000000   \n",
       "50%         0.000000       0.000000       0.000000       0.000000   \n",
       "75%         0.000000       0.000000       0.000000       0.000000   \n",
       "max         1.000000       1.000000       1.000000       1.000000   \n",
       "\n",
       "                 RNF  \n",
       "count  136429.000000  \n",
       "mean        0.002258  \n",
       "std         0.047461  \n",
       "min         0.000000  \n",
       "25%         0.000000  \n",
       "50%         0.000000  \n",
       "75%         0.000000  \n",
       "max         1.000000  "
      ]
     },
     "execution_count": 6,
     "metadata": {},
     "output_type": "execute_result"
    }
   ],
   "source": [
    "df.nunique(axis = 0)\n",
    "df.describe().apply(lambda s: s.apply(lambda x: format(x, 'f')))"
   ]
  },
  {
   "cell_type": "code",
   "execution_count": 7,
   "id": "4ed99a1f",
   "metadata": {
    "execution": {
     "iopub.execute_input": "2023-06-23T19:51:55.532261Z",
     "iopub.status.busy": "2023-06-23T19:51:55.531885Z",
     "iopub.status.idle": "2023-06-23T19:51:55.633573Z",
     "shell.execute_reply": "2023-06-23T19:51:55.632207Z"
    },
    "papermill": {
     "duration": 0.118283,
     "end_time": "2023-06-23T19:51:55.636242",
     "exception": false,
     "start_time": "2023-06-23T19:51:55.517959",
     "status": "completed"
    },
    "tags": []
   },
   "outputs": [
    {
     "data": {
      "text/plain": [
       "(136429, 14)"
      ]
     },
     "execution_count": 7,
     "metadata": {},
     "output_type": "execute_result"
    }
   ],
   "source": [
    "df.dropna(axis = 0)\n",
    "df.shape"
   ]
  },
  {
   "cell_type": "markdown",
   "id": "7cd76838",
   "metadata": {
    "papermill": {
     "duration": 0.012109,
     "end_time": "2023-06-23T19:51:55.661002",
     "exception": false,
     "start_time": "2023-06-23T19:51:55.648893",
     "status": "completed"
    },
    "tags": []
   },
   "source": [
    "**Explore relationships between predictor and target variables**"
   ]
  },
  {
   "cell_type": "code",
   "execution_count": 8,
   "id": "43e77c8a",
   "metadata": {
    "execution": {
     "iopub.execute_input": "2023-06-23T19:51:55.688592Z",
     "iopub.status.busy": "2023-06-23T19:51:55.688160Z",
     "iopub.status.idle": "2023-06-23T19:51:56.297574Z",
     "shell.execute_reply": "2023-06-23T19:51:56.296327Z"
    },
    "papermill": {
     "duration": 0.626862,
     "end_time": "2023-06-23T19:51:56.300577",
     "exception": false,
     "start_time": "2023-06-23T19:51:55.673715",
     "status": "completed"
    },
    "tags": []
   },
   "outputs": [
    {
     "name": "stderr",
     "output_type": "stream",
     "text": [
      "/tmp/ipykernel_20/2500072798.py:1: FutureWarning: The default value of numeric_only in DataFrame.corr is deprecated. In a future version, it will default to False. Select only valid columns or specify the value of numeric_only to silence this warning.\n",
      "  corr = df.corr()\n"
     ]
    },
    {
     "data": {
      "text/plain": [
       "<Axes: >"
      ]
     },
     "execution_count": 8,
     "metadata": {},
     "output_type": "execute_result"
    },
    {
     "data": {
      "image/png": "[encoded data removed]",
      "text/plain": [
       "<Figure size 640x480 with 2 Axes>"
      ]
     },
     "metadata": {},
     "output_type": "display_data"
    }
   ],
   "source": [
    "corr = df.corr()\n",
    "sns.heatmap(corr, xticklabels = corr.columns, yticklabels = corr.columns, \n",
    "           annot = False, cmap = \"PiYG\")"
   ]
  },
  {
   "cell_type": "code",
   "execution_count": 9,
   "id": "3b21090a",
   "metadata": {
    "execution": {
     "iopub.execute_input": "2023-06-23T19:51:56.331497Z",
     "iopub.status.busy": "2023-06-23T19:51:56.330299Z",
     "iopub.status.idle": "2023-06-23T19:51:56.341815Z",
     "shell.execute_reply": "2023-06-23T19:51:56.340542Z"
    },
    "papermill": {
     "duration": 0.028885,
     "end_time": "2023-06-23T19:51:56.344394",
     "exception": false,
     "start_time": "2023-06-23T19:51:56.315509",
     "status": "completed"
    },
    "tags": []
   },
   "outputs": [
    {
     "data": {
      "text/plain": [
       "Index(['id', 'Product ID', 'Type', 'AirTemp', 'ProcessTemp', 'RotSpeed',\n",
       "       'Torque', 'ToolWear', 'Machine failure', 'TWF', 'HDF', 'PWF', 'OSF',\n",
       "       'RNF'],\n",
       "      dtype='object')"
      ]
     },
     "execution_count": 9,
     "metadata": {},
     "output_type": "execute_result"
    }
   ],
   "source": [
    "df.rename(columns = {df.columns[3] : \"AirTemp\", df.columns[4] : \"ProcessTemp\", df.columns[5]: \"RotSpeed\", df.columns[6] : \"Torque\", df.columns[7]:\"ToolWear\"}, inplace = True)\n",
    "df.columns"
   ]
  },
  {
   "cell_type": "code",
   "execution_count": 10,
   "id": "6e9c6ba7",
   "metadata": {
    "execution": {
     "iopub.execute_input": "2023-06-23T19:51:56.373262Z",
     "iopub.status.busy": "2023-06-23T19:51:56.372774Z",
     "iopub.status.idle": "2023-06-23T19:51:56.389285Z",
     "shell.execute_reply": "2023-06-23T19:51:56.388133Z"
    },
    "papermill": {
     "duration": 0.03369,
     "end_time": "2023-06-23T19:51:56.391547",
     "exception": false,
     "start_time": "2023-06-23T19:51:56.357857",
     "status": "completed"
    },
    "tags": []
   },
   "outputs": [
    {
     "data": {
      "text/plain": [
       "Index(['id', 'Type', 'AirTemp', 'ProcessTemp', 'RotSpeed', 'Torque',\n",
       "       'ToolWear', 'Machine failure'],\n",
       "      dtype='object')"
      ]
     },
     "execution_count": 10,
     "metadata": {},
     "output_type": "execute_result"
    }
   ],
   "source": [
    "df = df.drop([\"Product ID\", \"TWF\", \"HDF\", \"PWF\", \"OSF\", \"RNF\"], axis = 1)\n",
    "df.columns"
   ]
  },
  {
   "cell_type": "markdown",
   "id": "efe6d939",
   "metadata": {
    "papermill": {
     "duration": 0.012985,
     "end_time": "2023-06-23T19:51:56.417761",
     "exception": false,
     "start_time": "2023-06-23T19:51:56.404776",
     "status": "completed"
    },
    "tags": []
   },
   "source": [
    "**Categorize type of predictor variables**"
   ]
  },
  {
   "cell_type": "code",
   "execution_count": 11,
   "id": "4751bc06",
   "metadata": {
    "execution": {
     "iopub.execute_input": "2023-06-23T19:51:56.446364Z",
     "iopub.status.busy": "2023-06-23T19:51:56.445860Z",
     "iopub.status.idle": "2023-06-23T19:51:57.053357Z",
     "shell.execute_reply": "2023-06-23T19:51:57.052477Z"
    },
    "papermill": {
     "duration": 0.625266,
     "end_time": "2023-06-23T19:51:57.056226",
     "exception": false,
     "start_time": "2023-06-23T19:51:56.430960",
     "status": "completed"
    },
    "tags": []
   },
   "outputs": [
    {
     "name": "stderr",
     "output_type": "stream",
     "text": [
      "/tmp/ipykernel_20/2469373344.py:1: FutureWarning: The default value of numeric_only in DataFrame.corr is deprecated. In a future version, it will default to False. Select only valid columns or specify the value of numeric_only to silence this warning.\n",
      "  corr1 = df.corr()\n"
     ]
    },
    {
     "data": {
      "text/plain": [
       "<Axes: >"
      ]
     },
     "execution_count": 11,
     "metadata": {},
     "output_type": "execute_result"
    },
    {
     "data": {
      "image/png": "[encoded data removed]",
      "text/plain": [
       "<Figure size 640x480 with 2 Axes>"
      ]
     },
     "metadata": {},
     "output_type": "display_data"
    }
   ],
   "source": [
    "corr1 = df.corr()\n",
    "sns.heatmap(corr1, annot = True, fmt = '.2f')"
   ]
  },
  {
   "cell_type": "markdown",
   "id": "0cea9bac",
   "metadata": {
    "papermill": {
     "duration": 0.014547,
     "end_time": "2023-06-23T19:51:57.085677",
     "exception": false,
     "start_time": "2023-06-23T19:51:57.071130",
     "status": "completed"
    },
    "tags": []
   },
   "source": [
    "**Dataset Preprocessing:**"
   ]
  },
  {
   "cell_type": "markdown",
   "id": "f1884136",
   "metadata": {
    "papermill": {
     "duration": 0.014525,
     "end_time": "2023-06-23T19:51:57.115012",
     "exception": false,
     "start_time": "2023-06-23T19:51:57.100487",
     "status": "completed"
    },
    "tags": []
   },
   "source": [
    "1. Train - Validation split\n",
    "2. Missing values = no missing values in this dataset\n",
    "3. Encoding categorical variables\n",
    "4. Data normalization"
   ]
  },
  {
   "cell_type": "code",
   "execution_count": 12,
   "id": "b834b7c5",
   "metadata": {
    "execution": {
     "iopub.execute_input": "2023-06-23T19:51:57.150560Z",
     "iopub.status.busy": "2023-06-23T19:51:57.150112Z",
     "iopub.status.idle": "2023-06-23T19:51:57.502864Z",
     "shell.execute_reply": "2023-06-23T19:51:57.501416Z"
    },
    "papermill": {
     "duration": 0.375768,
     "end_time": "2023-06-23T19:51:57.505896",
     "exception": false,
     "start_time": "2023-06-23T19:51:57.130128",
     "status": "completed"
    },
    "tags": []
   },
   "outputs": [
    {
     "data": {
      "text/html": [
       "<div>\n",
       "<style scoped>\n",
       "    .dataframe tbody tr th:only-of-type {\n",
       "        vertical-align: middle;\n",
       "    }\n",
       "\n",
       "    .dataframe tbody tr th {\n",
       "        vertical-align: top;\n",
       "    }\n",
       "\n",
       "    .dataframe thead th {\n",
       "        text-align: right;\n",
       "    }\n",
       "</style>\n",
       "<table border=\"1\" class=\"dataframe\">\n",
       "  <thead>\n",
       "    <tr style=\"text-align: right;\">\n",
       "      <th></th>\n",
       "      <th>id</th>\n",
       "      <th>Type</th>\n",
       "      <th>AirTemp</th>\n",
       "      <th>ProcessTemp</th>\n",
       "      <th>RotSpeed</th>\n",
       "      <th>Torque</th>\n",
       "      <th>ToolWear</th>\n",
       "    </tr>\n",
       "  </thead>\n",
       "  <tbody>\n",
       "    <tr>\n",
       "      <th>1952</th>\n",
       "      <td>1952</td>\n",
       "      <td>M</td>\n",
       "      <td>298.2</td>\n",
       "      <td>308.9</td>\n",
       "      <td>1414</td>\n",
       "      <td>44.3</td>\n",
       "      <td>20</td>\n",
       "    </tr>\n",
       "    <tr>\n",
       "      <th>127113</th>\n",
       "      <td>127113</td>\n",
       "      <td>L</td>\n",
       "      <td>301.0</td>\n",
       "      <td>310.9</td>\n",
       "      <td>1511</td>\n",
       "      <td>36.1</td>\n",
       "      <td>198</td>\n",
       "    </tr>\n",
       "    <tr>\n",
       "      <th>36151</th>\n",
       "      <td>36151</td>\n",
       "      <td>L</td>\n",
       "      <td>300.9</td>\n",
       "      <td>312.7</td>\n",
       "      <td>1710</td>\n",
       "      <td>43.8</td>\n",
       "      <td>112</td>\n",
       "    </tr>\n",
       "    <tr>\n",
       "      <th>133241</th>\n",
       "      <td>133241</td>\n",
       "      <td>H</td>\n",
       "      <td>303.4</td>\n",
       "      <td>312.2</td>\n",
       "      <td>1438</td>\n",
       "      <td>51.9</td>\n",
       "      <td>54</td>\n",
       "    </tr>\n",
       "    <tr>\n",
       "      <th>86804</th>\n",
       "      <td>86804</td>\n",
       "      <td>M</td>\n",
       "      <td>301.8</td>\n",
       "      <td>310.2</td>\n",
       "      <td>1635</td>\n",
       "      <td>31.9</td>\n",
       "      <td>50</td>\n",
       "    </tr>\n",
       "  </tbody>\n",
       "</table>\n",
       "</div>"
      ],
      "text/plain": [
       "            id Type  AirTemp  ProcessTemp  RotSpeed  Torque  ToolWear\n",
       "1952      1952    M    298.2        308.9      1414    44.3        20\n",
       "127113  127113    L    301.0        310.9      1511    36.1       198\n",
       "36151    36151    L    300.9        312.7      1710    43.8       112\n",
       "133241  133241    H    303.4        312.2      1438    51.9        54\n",
       "86804    86804    M    301.8        310.2      1635    31.9        50"
      ]
     },
     "execution_count": 12,
     "metadata": {},
     "output_type": "execute_result"
    }
   ],
   "source": [
    "complete_train = df.drop([\"Machine failure\"], axis = 1)\n",
    "complete_y = df[\"Machine failure\"]\n",
    "\n",
    "# Splitting dataset into training and validation sets (75-25)\n",
    "\n",
    "from sklearn.model_selection import train_test_split\n",
    "\n",
    "train_X, val_X, train_y, val_y = train_test_split(complete_train, complete_y)\n",
    "\n",
    "train_X.head()"
   ]
  },
  {
   "cell_type": "code",
   "execution_count": 13,
   "id": "59f322c0",
   "metadata": {
    "execution": {
     "iopub.execute_input": "2023-06-23T19:51:57.540923Z",
     "iopub.status.busy": "2023-06-23T19:51:57.540460Z",
     "iopub.status.idle": "2023-06-23T19:51:57.695943Z",
     "shell.execute_reply": "2023-06-23T19:51:57.694589Z"
    },
    "papermill": {
     "duration": 0.176642,
     "end_time": "2023-06-23T19:51:57.698339",
     "exception": false,
     "start_time": "2023-06-23T19:51:57.521697",
     "status": "completed"
    },
    "tags": []
   },
   "outputs": [
    {
     "data": {
      "text/html": [
       "<div>\n",
       "<style scoped>\n",
       "    .dataframe tbody tr th:only-of-type {\n",
       "        vertical-align: middle;\n",
       "    }\n",
       "\n",
       "    .dataframe tbody tr th {\n",
       "        vertical-align: top;\n",
       "    }\n",
       "\n",
       "    .dataframe thead th {\n",
       "        text-align: right;\n",
       "    }\n",
       "</style>\n",
       "<table border=\"1\" class=\"dataframe\">\n",
       "  <thead>\n",
       "    <tr style=\"text-align: right;\">\n",
       "      <th></th>\n",
       "      <th>cat__Type_H</th>\n",
       "      <th>cat__Type_L</th>\n",
       "      <th>cat__Type_M</th>\n",
       "      <th>num__AirTemp</th>\n",
       "      <th>num__ProcessTemp</th>\n",
       "      <th>num__RotSpeed</th>\n",
       "      <th>num__Torque</th>\n",
       "      <th>num__ToolWear</th>\n",
       "      <th>skip__id</th>\n",
       "    </tr>\n",
       "  </thead>\n",
       "  <tbody>\n",
       "    <tr>\n",
       "      <th>0</th>\n",
       "      <td>0.0</td>\n",
       "      <td>0.0</td>\n",
       "      <td>1.0</td>\n",
       "      <td>-0.892712</td>\n",
       "      <td>-0.751472</td>\n",
       "      <td>-0.764866</td>\n",
       "      <td>0.462204</td>\n",
       "      <td>-1.320348</td>\n",
       "      <td>1952.0</td>\n",
       "    </tr>\n",
       "    <tr>\n",
       "      <th>1</th>\n",
       "      <td>0.0</td>\n",
       "      <td>1.0</td>\n",
       "      <td>0.0</td>\n",
       "      <td>0.609500</td>\n",
       "      <td>0.690774</td>\n",
       "      <td>-0.064952</td>\n",
       "      <td>-0.502826</td>\n",
       "      <td>1.466666</td>\n",
       "      <td>127113.0</td>\n",
       "    </tr>\n",
       "    <tr>\n",
       "      <th>2</th>\n",
       "      <td>0.0</td>\n",
       "      <td>1.0</td>\n",
       "      <td>0.0</td>\n",
       "      <td>0.555850</td>\n",
       "      <td>1.988795</td>\n",
       "      <td>1.370955</td>\n",
       "      <td>0.403361</td>\n",
       "      <td>0.120131</td>\n",
       "      <td>36151.0</td>\n",
       "    </tr>\n",
       "    <tr>\n",
       "      <th>3</th>\n",
       "      <td>1.0</td>\n",
       "      <td>0.0</td>\n",
       "      <td>0.0</td>\n",
       "      <td>1.897111</td>\n",
       "      <td>1.628234</td>\n",
       "      <td>-0.591692</td>\n",
       "      <td>1.356623</td>\n",
       "      <td>-0.787997</td>\n",
       "      <td>133241.0</td>\n",
       "    </tr>\n",
       "    <tr>\n",
       "      <th>4</th>\n",
       "      <td>0.0</td>\n",
       "      <td>0.0</td>\n",
       "      <td>1.0</td>\n",
       "      <td>1.038704</td>\n",
       "      <td>0.185988</td>\n",
       "      <td>0.829784</td>\n",
       "      <td>-0.997110</td>\n",
       "      <td>-0.850627</td>\n",
       "      <td>86804.0</td>\n",
       "    </tr>\n",
       "  </tbody>\n",
       "</table>\n",
       "</div>"
      ],
      "text/plain": [
       "   cat__Type_H  cat__Type_L  cat__Type_M  num__AirTemp  num__ProcessTemp  \\\n",
       "0          0.0          0.0          1.0     -0.892712         -0.751472   \n",
       "1          0.0          1.0          0.0      0.609500          0.690774   \n",
       "2          0.0          1.0          0.0      0.555850          1.988795   \n",
       "3          1.0          0.0          0.0      1.897111          1.628234   \n",
       "4          0.0          0.0          1.0      1.038704          0.185988   \n",
       "\n",
       "   num__RotSpeed  num__Torque  num__ToolWear  skip__id  \n",
       "0      -0.764866     0.462204      -1.320348    1952.0  \n",
       "1      -0.064952    -0.502826       1.466666  127113.0  \n",
       "2       1.370955     0.403361       0.120131   36151.0  \n",
       "3      -0.591692     1.356623      -0.787997  133241.0  \n",
       "4       0.829784    -0.997110      -0.850627   86804.0  "
      ]
     },
     "execution_count": 13,
     "metadata": {},
     "output_type": "execute_result"
    }
   ],
   "source": [
    "# Variable types:\n",
    "# Continuous = [\"AirTemp\", \"ProcessTemp\", \"RotSpeed\", \"Torque\", \"ToolWear\"]\n",
    "# Categorical = [\"Type\"]\n",
    "\n",
    "# Normalize continuous variables:\n",
    "\n",
    "from sklearn.preprocessing import StandardScaler\n",
    "from sklearn.preprocessing import OneHotEncoder\n",
    "from sklearn.compose import ColumnTransformer\n",
    "\n",
    "transformers = [\n",
    "    ('cat', OneHotEncoder(handle_unknown = 'ignore'), ['Type']),\n",
    "    ('num', StandardScaler(), ['AirTemp', 'ProcessTemp', 'RotSpeed', 'Torque', 'ToolWear']),\n",
    "    ('skip', 'passthrough', ['id'])\n",
    "]\n",
    "\n",
    "col_transformer = ColumnTransformer(transformers)\n",
    "\n",
    "#train_X_num = pd.DataFrame(sc.fit_transform(train_X_num), columns = train_X_num.columns)\n",
    "#val_X_num = pd.DataFrame(sc.transform(val_X_num), columns = val_X_num.columns)\n",
    "\n",
    "#train_X_num.head()\n",
    "\n",
    "train_X_new = pd.DataFrame(col_transformer.fit_transform(train_X), columns = col_transformer.get_feature_names_out())\n",
    "val_X_new = pd.DataFrame(col_transformer.transform(val_X), columns = col_transformer.get_feature_names_out())\n",
    "\n",
    "train_X_new.head()"
   ]
  },
  {
   "cell_type": "markdown",
   "id": "b7a2b1f4",
   "metadata": {
    "papermill": {
     "duration": 0.014707,
     "end_time": "2023-06-23T19:51:57.728338",
     "exception": false,
     "start_time": "2023-06-23T19:51:57.713631",
     "status": "completed"
    },
    "tags": []
   },
   "source": [
    "# Logistic Regression"
   ]
  },
  {
   "cell_type": "code",
   "execution_count": 14,
   "id": "98b30cc9",
   "metadata": {
    "execution": {
     "iopub.execute_input": "2023-06-23T19:51:57.760547Z",
     "iopub.status.busy": "2023-06-23T19:51:57.760040Z",
     "iopub.status.idle": "2023-06-23T19:51:58.489570Z",
     "shell.execute_reply": "2023-06-23T19:51:58.488426Z"
    },
    "papermill": {
     "duration": 0.748956,
     "end_time": "2023-06-23T19:51:58.492223",
     "exception": false,
     "start_time": "2023-06-23T19:51:57.743267",
     "status": "completed"
    },
    "tags": []
   },
   "outputs": [
    {
     "name": "stdout",
     "output_type": "stream",
     "text": [
      "Model accuracy =  0.784566670575818\n",
      "Logistic Regression AUROC =  0.8370527348867186\n"
     ]
    },
    {
     "data": {
      "text/plain": [
       "<Axes: >"
      ]
     },
     "execution_count": 14,
     "metadata": {},
     "output_type": "execute_result"
    },
    {
     "data": {
      "image/png": "[encoded data removed]",
      "text/plain": [
       "<Figure size 640x480 with 2 Axes>"
      ]
     },
     "metadata": {},
     "output_type": "display_data"
    }
   ],
   "source": [
    "from sklearn.linear_model import LogisticRegression\n",
    "from sklearn.metrics import roc_curve\n",
    "from sklearn.metrics import roc_auc_score\n",
    "from sklearn.metrics import accuracy_score\n",
    "from sklearn.metrics import confusion_matrix\n",
    "\n",
    "# Fit a logistic regression model on train_X_new and train_y\n",
    "\n",
    "model = LogisticRegression(solver = \"newton-cholesky\", class_weight = \"balanced\")\n",
    "model.fit(train_X_new, train_y)\n",
    "\n",
    "# Predict class probabilities for validation set\n",
    "\n",
    "pred_y = model.predict(val_X_new)\n",
    "\n",
    "val_probs = model.predict_proba(val_X_new)\n",
    "\n",
    "# Calculate accuracy of prediction using AUROC curve scores\n",
    "\n",
    "auc_score = roc_auc_score(val_y, val_probs[:,1])\n",
    "\n",
    "print(\"Model accuracy = \", accuracy_score(val_y, pred_y))\n",
    "print(\"Logistic Regression AUROC = \", auc_score)\n",
    "\n",
    "cm = pd.DataFrame(confusion_matrix(val_y, pred_y))\n",
    "sns.heatmap(cm, annot = True, cmap = \"YlGnBu\")"
   ]
  },
  {
   "cell_type": "code",
   "execution_count": 15,
   "id": "54e2f89d",
   "metadata": {
    "execution": {
     "iopub.execute_input": "2023-06-23T19:51:58.527498Z",
     "iopub.status.busy": "2023-06-23T19:51:58.526983Z",
     "iopub.status.idle": "2023-06-23T19:51:58.535338Z",
     "shell.execute_reply": "2023-06-23T19:51:58.533883Z"
    },
    "papermill": {
     "duration": 0.028991,
     "end_time": "2023-06-23T19:51:58.537960",
     "exception": false,
     "start_time": "2023-06-23T19:51:58.508969",
     "status": "completed"
    },
    "tags": []
   },
   "outputs": [
    {
     "data": {
      "text/plain": [
       "Index(['id', 'Product ID', 'Type', 'Air temperature [K]',\n",
       "       'Process temperature [K]', 'Rotational speed [rpm]', 'Torque [Nm]',\n",
       "       'Tool wear [min]', 'TWF', 'HDF', 'PWF', 'OSF', 'RNF'],\n",
       "      dtype='object')"
      ]
     },
     "execution_count": 15,
     "metadata": {},
     "output_type": "execute_result"
    }
   ],
   "source": [
    "test_df.columns"
   ]
  },
  {
   "cell_type": "code",
   "execution_count": 16,
   "id": "3f599f26",
   "metadata": {
    "execution": {
     "iopub.execute_input": "2023-06-23T19:51:58.573450Z",
     "iopub.status.busy": "2023-06-23T19:51:58.572945Z",
     "iopub.status.idle": "2023-06-23T19:51:58.649865Z",
     "shell.execute_reply": "2023-06-23T19:51:58.648934Z"
    },
    "papermill": {
     "duration": 0.097478,
     "end_time": "2023-06-23T19:51:58.652257",
     "exception": false,
     "start_time": "2023-06-23T19:51:58.554779",
     "status": "completed"
    },
    "tags": []
   },
   "outputs": [
    {
     "data": {
      "text/html": [
       "<div>\n",
       "<style scoped>\n",
       "    .dataframe tbody tr th:only-of-type {\n",
       "        vertical-align: middle;\n",
       "    }\n",
       "\n",
       "    .dataframe tbody tr th {\n",
       "        vertical-align: top;\n",
       "    }\n",
       "\n",
       "    .dataframe thead th {\n",
       "        text-align: right;\n",
       "    }\n",
       "</style>\n",
       "<table border=\"1\" class=\"dataframe\">\n",
       "  <thead>\n",
       "    <tr style=\"text-align: right;\">\n",
       "      <th></th>\n",
       "      <th>cat__Type_H</th>\n",
       "      <th>cat__Type_L</th>\n",
       "      <th>cat__Type_M</th>\n",
       "      <th>num__AirTemp</th>\n",
       "      <th>num__ProcessTemp</th>\n",
       "      <th>num__RotSpeed</th>\n",
       "      <th>num__Torque</th>\n",
       "      <th>num__ToolWear</th>\n",
       "      <th>skip__id</th>\n",
       "    </tr>\n",
       "  </thead>\n",
       "  <tbody>\n",
       "    <tr>\n",
       "      <th>0</th>\n",
       "      <td>0.0</td>\n",
       "      <td>1.0</td>\n",
       "      <td>0.0</td>\n",
       "      <td>1.306956</td>\n",
       "      <td>1.123448</td>\n",
       "      <td>-0.151539</td>\n",
       "      <td>-0.279221</td>\n",
       "      <td>-0.694053</td>\n",
       "      <td>136429.0</td>\n",
       "    </tr>\n",
       "    <tr>\n",
       "      <th>1</th>\n",
       "      <td>0.0</td>\n",
       "      <td>1.0</td>\n",
       "      <td>0.0</td>\n",
       "      <td>0.985054</td>\n",
       "      <td>0.762886</td>\n",
       "      <td>1.392602</td>\n",
       "      <td>-1.361938</td>\n",
       "      <td>-1.367320</td>\n",
       "      <td>136430.0</td>\n",
       "    </tr>\n",
       "    <tr>\n",
       "      <th>2</th>\n",
       "      <td>0.0</td>\n",
       "      <td>1.0</td>\n",
       "      <td>0.0</td>\n",
       "      <td>0.770452</td>\n",
       "      <td>0.330212</td>\n",
       "      <td>0.036067</td>\n",
       "      <td>-0.314527</td>\n",
       "      <td>-0.130387</td>\n",
       "      <td>136431.0</td>\n",
       "    </tr>\n",
       "    <tr>\n",
       "      <th>3</th>\n",
       "      <td>0.0</td>\n",
       "      <td>0.0</td>\n",
       "      <td>1.0</td>\n",
       "      <td>0.126646</td>\n",
       "      <td>-0.246686</td>\n",
       "      <td>-0.295852</td>\n",
       "      <td>0.850570</td>\n",
       "      <td>-1.555209</td>\n",
       "      <td>136432.0</td>\n",
       "    </tr>\n",
       "    <tr>\n",
       "      <th>4</th>\n",
       "      <td>0.0</td>\n",
       "      <td>0.0</td>\n",
       "      <td>1.0</td>\n",
       "      <td>1.897111</td>\n",
       "      <td>1.700346</td>\n",
       "      <td>-0.036090</td>\n",
       "      <td>0.109145</td>\n",
       "      <td>0.151446</td>\n",
       "      <td>136433.0</td>\n",
       "    </tr>\n",
       "  </tbody>\n",
       "</table>\n",
       "</div>"
      ],
      "text/plain": [
       "   cat__Type_H  cat__Type_L  cat__Type_M  num__AirTemp  num__ProcessTemp  \\\n",
       "0          0.0          1.0          0.0      1.306956          1.123448   \n",
       "1          0.0          1.0          0.0      0.985054          0.762886   \n",
       "2          0.0          1.0          0.0      0.770452          0.330212   \n",
       "3          0.0          0.0          1.0      0.126646         -0.246686   \n",
       "4          0.0          0.0          1.0      1.897111          1.700346   \n",
       "\n",
       "   num__RotSpeed  num__Torque  num__ToolWear  skip__id  \n",
       "0      -0.151539    -0.279221      -0.694053  136429.0  \n",
       "1       1.392602    -1.361938      -1.367320  136430.0  \n",
       "2       0.036067    -0.314527      -0.130387  136431.0  \n",
       "3      -0.295852     0.850570      -1.555209  136432.0  \n",
       "4      -0.036090     0.109145       0.151446  136433.0  "
      ]
     },
     "execution_count": 16,
     "metadata": {},
     "output_type": "execute_result"
    }
   ],
   "source": [
    "# Prediction 1 using simple logistic regression on the test set (submission 1)\n",
    "\n",
    "# Apply data transformations as before\n",
    "\n",
    "test_df.rename(columns = {test_df.columns[3] : \"AirTemp\", test_df.columns[4] : \"ProcessTemp\", test_df.columns[5]: \"RotSpeed\", test_df.columns[6] : \"Torque\", test_df.columns[7]:\"ToolWear\"}, inplace = True)\n",
    "test_df = test_df.drop([\"Product ID\", \"TWF\", \"HDF\", \"PWF\", \"OSF\", \"RNF\"], axis = 1)\n",
    "\n",
    "#test_df.columns\n",
    "\n",
    "test_df_new = pd.DataFrame(col_transformer.transform(test_df), columns = col_transformer.get_feature_names_out())\n",
    "test_df_new.head()"
   ]
  },
  {
   "cell_type": "code",
   "execution_count": 17,
   "id": "28519c9d",
   "metadata": {
    "execution": {
     "iopub.execute_input": "2023-06-23T19:51:58.687880Z",
     "iopub.status.busy": "2023-06-23T19:51:58.686602Z",
     "iopub.status.idle": "2023-06-23T19:51:59.145558Z",
     "shell.execute_reply": "2023-06-23T19:51:59.144235Z"
    },
    "papermill": {
     "duration": 0.48276,
     "end_time": "2023-06-23T19:51:59.151447",
     "exception": false,
     "start_time": "2023-06-23T19:51:58.668687",
     "status": "completed"
    },
    "tags": []
   },
   "outputs": [],
   "source": [
    "pred_sub = model.predict_proba(test_df_new)[:,1]\n",
    "sub1 = pd.DataFrame(pred_sub, columns = ['Machine failure'])\n",
    "ex_col = test_df[[\"id\"]]\n",
    "submission = ex_col.join(sub1)\n",
    "\n",
    "submission.head()\n",
    "submission.to_csv(\"submission1.csv\", index = False)"
   ]
  },
  {
   "cell_type": "markdown",
   "id": "9a457ec9",
   "metadata": {
    "papermill": {
     "duration": 0.015682,
     "end_time": "2023-06-23T19:51:59.183632",
     "exception": false,
     "start_time": "2023-06-23T19:51:59.167950",
     "status": "completed"
    },
    "tags": []
   },
   "source": [
    "# Logistic Regression with Cross-Validation"
   ]
  },
  {
   "cell_type": "code",
   "execution_count": 18,
   "id": "b5531b82",
   "metadata": {
    "execution": {
     "iopub.execute_input": "2023-06-23T19:51:59.218012Z",
     "iopub.status.busy": "2023-06-23T19:51:59.216895Z",
     "iopub.status.idle": "2023-06-23T19:52:00.730525Z",
     "shell.execute_reply": "2023-06-23T19:52:00.728971Z"
    },
    "papermill": {
     "duration": 1.535822,
     "end_time": "2023-06-23T19:52:00.735253",
     "exception": false,
     "start_time": "2023-06-23T19:51:59.199431",
     "status": "completed"
    },
    "tags": []
   },
   "outputs": [
    {
     "name": "stdout",
     "output_type": "stream",
     "text": [
      "Cross validation AUROC =  0.8375632761594961\n"
     ]
    }
   ],
   "source": [
    "from sklearn.model_selection import cross_val_score\n",
    "\n",
    "train_X_complete = pd.DataFrame(col_transformer.fit_transform(complete_train), columns = col_transformer.get_feature_names_out())\n",
    "\n",
    "cv_scores = cross_val_score(model, train_X_complete, complete_y, cv = 5, scoring = 'roc_auc')\n",
    "\n",
    "print(\"Cross validation AUROC = \", cv_scores.mean())"
   ]
  },
  {
   "cell_type": "markdown",
   "id": "810e7edb",
   "metadata": {
    "papermill": {
     "duration": 0.032446,
     "end_time": "2023-06-23T19:52:00.801291",
     "exception": false,
     "start_time": "2023-06-23T19:52:00.768845",
     "status": "completed"
    },
    "tags": []
   },
   "source": [
    "5-fold cross validation performs only slightly better than logistic regression"
   ]
  },
  {
   "cell_type": "markdown",
   "id": "87012760",
   "metadata": {
    "papermill": {
     "duration": 0.016166,
     "end_time": "2023-06-23T19:52:00.847035",
     "exception": false,
     "start_time": "2023-06-23T19:52:00.830869",
     "status": "completed"
    },
    "tags": []
   },
   "source": [
    "# Decision Tree Classifier"
   ]
  },
  {
   "cell_type": "code",
   "execution_count": 19,
   "id": "1a30a74f",
   "metadata": {
    "execution": {
     "iopub.execute_input": "2023-06-23T19:52:00.881036Z",
     "iopub.status.busy": "2023-06-23T19:52:00.880656Z",
     "iopub.status.idle": "2023-06-23T19:52:02.619209Z",
     "shell.execute_reply": "2023-06-23T19:52:02.617885Z"
    },
    "papermill": {
     "duration": 1.758475,
     "end_time": "2023-06-23T19:52:02.621845",
     "exception": false,
     "start_time": "2023-06-23T19:52:00.863370",
     "status": "completed"
    },
    "tags": []
   },
   "outputs": [
    {
     "name": "stdout",
     "output_type": "stream",
     "text": [
      "Model accuracy =  0.9789199014893867\n",
      "Logistic Regression AUROC =  0.6356072859962776\n"
     ]
    },
    {
     "data": {
      "text/plain": [
       "<Axes: >"
      ]
     },
     "execution_count": 19,
     "metadata": {},
     "output_type": "execute_result"
    },
    {
     "data": {
      "image/png": "[encoded data removed]",
      "text/plain": [
       "<Figure size 640x480 with 2 Axes>"
      ]
     },
     "metadata": {},
     "output_type": "display_data"
    }
   ],
   "source": [
    "from sklearn.tree import DecisionTreeClassifier\n",
    "\n",
    "model_dt = DecisionTreeClassifier(class_weight = 'balanced')\n",
    "\n",
    "model_dt.fit(train_X_new, train_y)\n",
    "\n",
    "pred_y = model_dt.predict(val_X_new)\n",
    "\n",
    "val_probs = model_dt.predict_proba(val_X_new)\n",
    "\n",
    "# Calculate accuracy of prediction using AUROC curve scores\n",
    "\n",
    "auc_score = roc_auc_score(val_y, val_probs[:,1])\n",
    "\n",
    "print(\"Model accuracy = \", accuracy_score(val_y, pred_y))\n",
    "print(\"Logistic Regression AUROC = \", auc_score)\n",
    "\n",
    "cm = pd.DataFrame(confusion_matrix(val_y, pred_y))\n",
    "sns.heatmap(cm, annot = True, cmap = \"YlGnBu\")"
   ]
  },
  {
   "cell_type": "markdown",
   "id": "8b5f5e0a",
   "metadata": {
    "papermill": {
     "duration": 0.0185,
     "end_time": "2023-06-23T19:52:02.658047",
     "exception": false,
     "start_time": "2023-06-23T19:52:02.639547",
     "status": "completed"
    },
    "tags": []
   },
   "source": [
    "> Does slighly poorer than simple logistic regression.. try tuning params to see if it does better?"
   ]
  },
  {
   "cell_type": "markdown",
   "id": "a56399e7",
   "metadata": {
    "papermill": {
     "duration": 0.016229,
     "end_time": "2023-06-23T19:52:02.691027",
     "exception": false,
     "start_time": "2023-06-23T19:52:02.674798",
     "status": "completed"
    },
    "tags": []
   },
   "source": [
    "# Random Forest Classifier"
   ]
  },
  {
   "cell_type": "code",
   "execution_count": 20,
   "id": "891c202a",
   "metadata": {
    "execution": {
     "iopub.execute_input": "2023-06-23T19:52:02.726208Z",
     "iopub.status.busy": "2023-06-23T19:52:02.725728Z",
     "iopub.status.idle": "2023-06-23T19:54:03.529917Z",
     "shell.execute_reply": "2023-06-23T19:54:03.528232Z"
    },
    "papermill": {
     "duration": 120.825336,
     "end_time": "2023-06-23T19:54:03.532772",
     "exception": false,
     "start_time": "2023-06-23T19:52:02.707436",
     "status": "completed"
    },
    "tags": []
   },
   "outputs": [
    {
     "name": "stdout",
     "output_type": "stream",
     "text": [
      "Model accuracy =  0.986572065204644\n",
      "Logistic Regression AUROC =  0.9265349126693572\n"
     ]
    },
    {
     "data": {
      "text/plain": [
       "<Axes: >"
      ]
     },
     "execution_count": 20,
     "metadata": {},
     "output_type": "execute_result"
    },
    {
     "data": {
      "image/png": "[encoded data removed]",
      "text/plain": [
       "<Figure size 640x480 with 2 Axes>"
      ]
     },
     "metadata": {},
     "output_type": "display_data"
    }
   ],
   "source": [
    "from sklearn.ensemble import RandomForestClassifier\n",
    "\n",
    "model_rf = RandomForestClassifier(n_estimators = 500, class_weight = 'balanced')\n",
    "\n",
    "model_rf.fit(train_X_new, train_y)\n",
    "\n",
    "pred_y = model_rf.predict(val_X_new)\n",
    "\n",
    "val_probs = model_rf.predict_proba(val_X_new)\n",
    "\n",
    "# Calculate accuracy of prediction using AUROC curve scores\n",
    "\n",
    "auc_score = roc_auc_score(val_y, val_probs[:,1])\n",
    "\n",
    "print(\"Model accuracy = \", accuracy_score(val_y, pred_y))\n",
    "print(\"Logistic Regression AUROC = \", auc_score)\n",
    "\n",
    "cm = pd.DataFrame(confusion_matrix(val_y, pred_y))\n",
    "sns.heatmap(cm, annot = True, cmap = \"YlGnBu\")"
   ]
  },
  {
   "cell_type": "code",
   "execution_count": 21,
   "id": "0548d586",
   "metadata": {
    "execution": {
     "iopub.execute_input": "2023-06-23T19:54:03.570228Z",
     "iopub.status.busy": "2023-06-23T19:54:03.569731Z",
     "iopub.status.idle": "2023-06-23T19:54:09.616173Z",
     "shell.execute_reply": "2023-06-23T19:54:09.614469Z"
    },
    "papermill": {
     "duration": 6.068246,
     "end_time": "2023-06-23T19:54:09.618703",
     "exception": false,
     "start_time": "2023-06-23T19:54:03.550457",
     "status": "completed"
    },
    "tags": []
   },
   "outputs": [
    {
     "data": {
      "text/html": [
       "<div>\n",
       "<style scoped>\n",
       "    .dataframe tbody tr th:only-of-type {\n",
       "        vertical-align: middle;\n",
       "    }\n",
       "\n",
       "    .dataframe tbody tr th {\n",
       "        vertical-align: top;\n",
       "    }\n",
       "\n",
       "    .dataframe thead th {\n",
       "        text-align: right;\n",
       "    }\n",
       "</style>\n",
       "<table border=\"1\" class=\"dataframe\">\n",
       "  <thead>\n",
       "    <tr style=\"text-align: right;\">\n",
       "      <th></th>\n",
       "      <th>id</th>\n",
       "      <th>Machine failure</th>\n",
       "    </tr>\n",
       "  </thead>\n",
       "  <tbody>\n",
       "    <tr>\n",
       "      <th>0</th>\n",
       "      <td>136429</td>\n",
       "      <td>0.002</td>\n",
       "    </tr>\n",
       "    <tr>\n",
       "      <th>1</th>\n",
       "      <td>136430</td>\n",
       "      <td>0.002</td>\n",
       "    </tr>\n",
       "    <tr>\n",
       "      <th>2</th>\n",
       "      <td>136431</td>\n",
       "      <td>0.000</td>\n",
       "    </tr>\n",
       "    <tr>\n",
       "      <th>3</th>\n",
       "      <td>136432</td>\n",
       "      <td>0.002</td>\n",
       "    </tr>\n",
       "    <tr>\n",
       "      <th>4</th>\n",
       "      <td>136433</td>\n",
       "      <td>0.000</td>\n",
       "    </tr>\n",
       "  </tbody>\n",
       "</table>\n",
       "</div>"
      ],
      "text/plain": [
       "       id  Machine failure\n",
       "0  136429            0.002\n",
       "1  136430            0.002\n",
       "2  136431            0.000\n",
       "3  136432            0.002\n",
       "4  136433            0.000"
      ]
     },
     "execution_count": 21,
     "metadata": {},
     "output_type": "execute_result"
    }
   ],
   "source": [
    "pred_sub = model_rf.predict_proba(test_df_new)[:,1]\n",
    "sub1 = pd.DataFrame(pred_sub, columns = ['Machine failure'])\n",
    "ex_col = test_df[[\"id\"]]\n",
    "submission = ex_col.join(sub1)\n",
    "submission.to_csv(\"submission2.csv\", index = False)\n",
    "submission.head()"
   ]
  }
 ],
 "metadata": {
  "kernelspec": {
   "display_name": "Python 3",
   "language": "python",
   "name": "python3"
  },
  "language_info": {
   "codemirror_mode": {
    "name": "ipython",
    "version": 3
   },
   "file_extension": ".py",
   "mimetype": "text/x-python",
   "name": "python",
   "nbconvert_exporter": "python",
   "pygments_lexer": "ipython3",
   "version": "3.10.10"
  },
  "papermill": {
   "default_parameters": {},
   "duration": 152.825927,
   "end_time": "2023-06-23T19:54:11.065547",
   "environment_variables": {},
   "exception": null,
   "input_path": "__notebook__.ipynb",
   "output_path": "__notebook__.ipynb",
   "parameters": {},
   "start_time": "2023-06-23T19:51:38.239620",
   "version": "2.4.0"
  }
 },
 "nbformat": 4,
 "nbformat_minor": 5
}
