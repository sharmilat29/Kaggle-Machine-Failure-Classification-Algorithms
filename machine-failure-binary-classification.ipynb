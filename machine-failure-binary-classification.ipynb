{
 "cells": [
  {
   "cell_type": "code",
   "execution_count": 1,
   "id": "28a03b72",
   "metadata": {
    "_cell_guid": "b1076dfc-b9ad-4769-8c92-a6c4dae69d19",
    "_uuid": "8f2839f25d086af736a60e9eeb907d3b93b6e0e5",
    "execution": {
     "iopub.execute_input": "2023-06-28T21:00:08.366649Z",
     "iopub.status.busy": "2023-06-28T21:00:08.365783Z",
     "iopub.status.idle": "2023-06-28T21:00:10.307072Z",
     "shell.execute_reply": "2023-06-28T21:00:10.304812Z"
    },
    "papermill": {
     "duration": 1.966937,
     "end_time": "2023-06-28T21:00:10.311311",
     "exception": false,
     "start_time": "2023-06-28T21:00:08.344374",
     "status": "completed"
    },
    "tags": []
   },
   "outputs": [
    {
     "name": "stdout",
     "output_type": "stream",
     "text": [
      "/kaggle/input/playground-series-s3e17/sample_submission.csv\n",
      "/kaggle/input/playground-series-s3e17/train.csv\n",
      "/kaggle/input/playground-series-s3e17/test.csv\n"
     ]
    }
   ],
   "source": [
    "# This Python 3 environment comes with many helpful analytics libraries installed\n",
    "# It is defined by the kaggle/python Docker image: https://github.com/kaggle/docker-python\n",
    "# For example, here's several helpful packages to load\n",
    "\n",
    "import numpy as np # linear algebra\n",
    "import pandas as pd # data processing, CSV file I/O (e.g. pd.read_csv)\n",
    "import seaborn as sns\n",
    "\n",
    "# Input data files are available in the read-only \"../input/\" directory\n",
    "# For example, running this (by clicking run or pressing Shift+Enter) will list all files under the input directory\n",
    "\n",
    "import os\n",
    "for dirname, _, filenames in os.walk('/kaggle/input'):\n",
    "    for filename in filenames:\n",
    "        print(os.path.join(dirname, filename))\n",
    "\n",
    "# You can write up to 20GB to the current directory (/kaggle/working/) that gets preserved as output when you create a version using \"Save & Run All\" \n",
    "# You can also write temporary files to /kaggle/temp/, but they won't be saved outside of the current session"
   ]
  },
  {
   "cell_type": "markdown",
   "id": "f93cd6a7",
   "metadata": {
    "papermill": {
     "duration": 0.017148,
     "end_time": "2023-06-28T21:00:10.345183",
     "exception": false,
     "start_time": "2023-06-28T21:00:10.328035",
     "status": "completed"
    },
    "tags": []
   },
   "source": [
    "**Load and explore dataset:**"
   ]
  },
  {
   "cell_type": "code",
   "execution_count": 2,
   "id": "5732f20e",
   "metadata": {
    "execution": {
     "iopub.execute_input": "2023-06-28T21:00:10.380418Z",
     "iopub.status.busy": "2023-06-28T21:00:10.379895Z",
     "iopub.status.idle": "2023-06-28T21:00:10.646758Z",
     "shell.execute_reply": "2023-06-28T21:00:10.645337Z"
    },
    "papermill": {
     "duration": 0.289091,
     "end_time": "2023-06-28T21:00:10.650010",
     "exception": false,
     "start_time": "2023-06-28T21:00:10.360919",
     "status": "completed"
    },
    "tags": []
   },
   "outputs": [],
   "source": [
    "test_df = pd.read_csv(\"/kaggle/input/playground-series-s3e17/test.csv\")"
   ]
  },
  {
   "cell_type": "code",
   "execution_count": 3,
   "id": "99a32d11",
   "metadata": {
    "execution": {
     "iopub.execute_input": "2023-06-28T21:00:10.682880Z",
     "iopub.status.busy": "2023-06-28T21:00:10.681980Z",
     "iopub.status.idle": "2023-06-28T21:00:11.081638Z",
     "shell.execute_reply": "2023-06-28T21:00:11.080140Z"
    },
    "papermill": {
     "duration": 0.419426,
     "end_time": "2023-06-28T21:00:11.084112",
     "exception": false,
     "start_time": "2023-06-28T21:00:10.664686",
     "status": "completed"
    },
    "tags": []
   },
   "outputs": [
    {
     "data": {
      "text/html": [
       "<div>\n",
       "<style scoped>\n",
       "    .dataframe tbody tr th:only-of-type {\n",
       "        vertical-align: middle;\n",
       "    }\n",
       "\n",
       "    .dataframe tbody tr th {\n",
       "        vertical-align: top;\n",
       "    }\n",
       "\n",
       "    .dataframe thead th {\n",
       "        text-align: right;\n",
       "    }\n",
       "</style>\n",
       "<table border=\"1\" class=\"dataframe\">\n",
       "  <thead>\n",
       "    <tr style=\"text-align: right;\">\n",
       "      <th></th>\n",
       "      <th>id</th>\n",
       "      <th>Product ID</th>\n",
       "      <th>Type</th>\n",
       "      <th>Air temperature [K]</th>\n",
       "      <th>Process temperature [K]</th>\n",
       "      <th>Rotational speed [rpm]</th>\n",
       "      <th>Torque [Nm]</th>\n",
       "      <th>Tool wear [min]</th>\n",
       "      <th>Machine failure</th>\n",
       "      <th>TWF</th>\n",
       "      <th>HDF</th>\n",
       "      <th>PWF</th>\n",
       "      <th>OSF</th>\n",
       "      <th>RNF</th>\n",
       "    </tr>\n",
       "  </thead>\n",
       "  <tbody>\n",
       "    <tr>\n",
       "      <th>0</th>\n",
       "      <td>0</td>\n",
       "      <td>L50096</td>\n",
       "      <td>L</td>\n",
       "      <td>300.6</td>\n",
       "      <td>309.6</td>\n",
       "      <td>1596</td>\n",
       "      <td>36.1</td>\n",
       "      <td>140</td>\n",
       "      <td>0</td>\n",
       "      <td>0</td>\n",
       "      <td>0</td>\n",
       "      <td>0</td>\n",
       "      <td>0</td>\n",
       "      <td>0</td>\n",
       "    </tr>\n",
       "    <tr>\n",
       "      <th>1</th>\n",
       "      <td>1</td>\n",
       "      <td>M20343</td>\n",
       "      <td>M</td>\n",
       "      <td>302.6</td>\n",
       "      <td>312.1</td>\n",
       "      <td>1759</td>\n",
       "      <td>29.1</td>\n",
       "      <td>200</td>\n",
       "      <td>0</td>\n",
       "      <td>0</td>\n",
       "      <td>0</td>\n",
       "      <td>0</td>\n",
       "      <td>0</td>\n",
       "      <td>0</td>\n",
       "    </tr>\n",
       "    <tr>\n",
       "      <th>2</th>\n",
       "      <td>2</td>\n",
       "      <td>L49454</td>\n",
       "      <td>L</td>\n",
       "      <td>299.3</td>\n",
       "      <td>308.5</td>\n",
       "      <td>1805</td>\n",
       "      <td>26.5</td>\n",
       "      <td>25</td>\n",
       "      <td>0</td>\n",
       "      <td>0</td>\n",
       "      <td>0</td>\n",
       "      <td>0</td>\n",
       "      <td>0</td>\n",
       "      <td>0</td>\n",
       "    </tr>\n",
       "    <tr>\n",
       "      <th>3</th>\n",
       "      <td>3</td>\n",
       "      <td>L53355</td>\n",
       "      <td>L</td>\n",
       "      <td>301.0</td>\n",
       "      <td>310.9</td>\n",
       "      <td>1524</td>\n",
       "      <td>44.3</td>\n",
       "      <td>197</td>\n",
       "      <td>0</td>\n",
       "      <td>0</td>\n",
       "      <td>0</td>\n",
       "      <td>0</td>\n",
       "      <td>0</td>\n",
       "      <td>0</td>\n",
       "    </tr>\n",
       "    <tr>\n",
       "      <th>4</th>\n",
       "      <td>4</td>\n",
       "      <td>M24050</td>\n",
       "      <td>M</td>\n",
       "      <td>298.0</td>\n",
       "      <td>309.0</td>\n",
       "      <td>1641</td>\n",
       "      <td>35.4</td>\n",
       "      <td>34</td>\n",
       "      <td>0</td>\n",
       "      <td>0</td>\n",
       "      <td>0</td>\n",
       "      <td>0</td>\n",
       "      <td>0</td>\n",
       "      <td>0</td>\n",
       "    </tr>\n",
       "    <tr>\n",
       "      <th>5</th>\n",
       "      <td>5</td>\n",
       "      <td>M24300</td>\n",
       "      <td>M</td>\n",
       "      <td>298.4</td>\n",
       "      <td>308.9</td>\n",
       "      <td>1429</td>\n",
       "      <td>42.1</td>\n",
       "      <td>65</td>\n",
       "      <td>0</td>\n",
       "      <td>0</td>\n",
       "      <td>0</td>\n",
       "      <td>0</td>\n",
       "      <td>0</td>\n",
       "      <td>0</td>\n",
       "    </tr>\n",
       "    <tr>\n",
       "      <th>6</th>\n",
       "      <td>6</td>\n",
       "      <td>L56736</td>\n",
       "      <td>L</td>\n",
       "      <td>299.6</td>\n",
       "      <td>311.0</td>\n",
       "      <td>1413</td>\n",
       "      <td>42.9</td>\n",
       "      <td>156</td>\n",
       "      <td>0</td>\n",
       "      <td>0</td>\n",
       "      <td>0</td>\n",
       "      <td>0</td>\n",
       "      <td>0</td>\n",
       "      <td>0</td>\n",
       "    </tr>\n",
       "    <tr>\n",
       "      <th>7</th>\n",
       "      <td>7</td>\n",
       "      <td>L55488</td>\n",
       "      <td>L</td>\n",
       "      <td>298.7</td>\n",
       "      <td>310.1</td>\n",
       "      <td>1609</td>\n",
       "      <td>38.1</td>\n",
       "      <td>67</td>\n",
       "      <td>0</td>\n",
       "      <td>0</td>\n",
       "      <td>0</td>\n",
       "      <td>0</td>\n",
       "      <td>0</td>\n",
       "      <td>0</td>\n",
       "    </tr>\n",
       "    <tr>\n",
       "      <th>8</th>\n",
       "      <td>8</td>\n",
       "      <td>L56397</td>\n",
       "      <td>L</td>\n",
       "      <td>297.7</td>\n",
       "      <td>308.8</td>\n",
       "      <td>1578</td>\n",
       "      <td>35.2</td>\n",
       "      <td>13</td>\n",
       "      <td>0</td>\n",
       "      <td>0</td>\n",
       "      <td>0</td>\n",
       "      <td>0</td>\n",
       "      <td>0</td>\n",
       "      <td>0</td>\n",
       "    </tr>\n",
       "    <tr>\n",
       "      <th>9</th>\n",
       "      <td>9</td>\n",
       "      <td>L55067</td>\n",
       "      <td>L</td>\n",
       "      <td>300.5</td>\n",
       "      <td>312.3</td>\n",
       "      <td>1447</td>\n",
       "      <td>53.3</td>\n",
       "      <td>98</td>\n",
       "      <td>0</td>\n",
       "      <td>0</td>\n",
       "      <td>0</td>\n",
       "      <td>0</td>\n",
       "      <td>0</td>\n",
       "      <td>0</td>\n",
       "    </tr>\n",
       "  </tbody>\n",
       "</table>\n",
       "</div>"
      ],
      "text/plain": [
       "   id Product ID Type  Air temperature [K]  Process temperature [K]  \\\n",
       "0   0     L50096    L                300.6                    309.6   \n",
       "1   1     M20343    M                302.6                    312.1   \n",
       "2   2     L49454    L                299.3                    308.5   \n",
       "3   3     L53355    L                301.0                    310.9   \n",
       "4   4     M24050    M                298.0                    309.0   \n",
       "5   5     M24300    M                298.4                    308.9   \n",
       "6   6     L56736    L                299.6                    311.0   \n",
       "7   7     L55488    L                298.7                    310.1   \n",
       "8   8     L56397    L                297.7                    308.8   \n",
       "9   9     L55067    L                300.5                    312.3   \n",
       "\n",
       "   Rotational speed [rpm]  Torque [Nm]  Tool wear [min]  Machine failure  TWF  \\\n",
       "0                    1596         36.1              140                0    0   \n",
       "1                    1759         29.1              200                0    0   \n",
       "2                    1805         26.5               25                0    0   \n",
       "3                    1524         44.3              197                0    0   \n",
       "4                    1641         35.4               34                0    0   \n",
       "5                    1429         42.1               65                0    0   \n",
       "6                    1413         42.9              156                0    0   \n",
       "7                    1609         38.1               67                0    0   \n",
       "8                    1578         35.2               13                0    0   \n",
       "9                    1447         53.3               98                0    0   \n",
       "\n",
       "   HDF  PWF  OSF  RNF  \n",
       "0    0    0    0    0  \n",
       "1    0    0    0    0  \n",
       "2    0    0    0    0  \n",
       "3    0    0    0    0  \n",
       "4    0    0    0    0  \n",
       "5    0    0    0    0  \n",
       "6    0    0    0    0  \n",
       "7    0    0    0    0  \n",
       "8    0    0    0    0  \n",
       "9    0    0    0    0  "
      ]
     },
     "metadata": {},
     "output_type": "display_data"
    },
    {
     "data": {
      "text/plain": [
       "(136429, 14)"
      ]
     },
     "metadata": {},
     "output_type": "display_data"
    },
    {
     "data": {
      "text/plain": [
       "Index(['id', 'Product ID', 'Type', 'Air temperature [K]',\n",
       "       'Process temperature [K]', 'Rotational speed [rpm]', 'Torque [Nm]',\n",
       "       'Tool wear [min]', 'Machine failure', 'TWF', 'HDF', 'PWF', 'OSF',\n",
       "       'RNF'],\n",
       "      dtype='object')"
      ]
     },
     "metadata": {},
     "output_type": "display_data"
    }
   ],
   "source": [
    "df = pd.read_csv(\"/kaggle/input/playground-series-s3e17/train.csv\")\n",
    "display(df.head(10))\n",
    "display(df.shape)\n",
    "display(df.columns)"
   ]
  },
  {
   "cell_type": "code",
   "execution_count": 4,
   "id": "2c0a715c",
   "metadata": {
    "execution": {
     "iopub.execute_input": "2023-06-28T21:00:11.118962Z",
     "iopub.status.busy": "2023-06-28T21:00:11.118415Z",
     "iopub.status.idle": "2023-06-28T21:00:11.647248Z",
     "shell.execute_reply": "2023-06-28T21:00:11.645666Z"
    },
    "papermill": {
     "duration": 0.550541,
     "end_time": "2023-06-28T21:00:11.650320",
     "exception": false,
     "start_time": "2023-06-28T21:00:11.099779",
     "status": "completed"
    },
    "tags": []
   },
   "outputs": [
    {
     "data": {
      "text/plain": [
       "<Axes: xlabel='Machine failure', ylabel='Count'>"
      ]
     },
     "execution_count": 4,
     "metadata": {},
     "output_type": "execute_result"
    },
    {
     "data": {
      "image/png": "[encoded data removed]",
      "text/plain": [
       "<Figure size 640x480 with 1 Axes>"
      ]
     },
     "metadata": {},
     "output_type": "display_data"
    }
   ],
   "source": [
    "sns.histplot(data = df, x = \"Machine failure\")"
   ]
  },
  {
   "cell_type": "markdown",
   "id": "37adf755",
   "metadata": {
    "papermill": {
     "duration": 0.015948,
     "end_time": "2023-06-28T21:00:11.682208",
     "exception": false,
     "start_time": "2023-06-28T21:00:11.666260",
     "status": "completed"
    },
    "tags": []
   },
   "source": [
    "> Need to find a way to handle imbalanced dataset"
   ]
  },
  {
   "cell_type": "code",
   "execution_count": 5,
   "id": "88da509d",
   "metadata": {
    "execution": {
     "iopub.execute_input": "2023-06-28T21:00:11.717165Z",
     "iopub.status.busy": "2023-06-28T21:00:11.716580Z",
     "iopub.status.idle": "2023-06-28T21:00:11.739153Z",
     "shell.execute_reply": "2023-06-28T21:00:11.737798Z"
    },
    "papermill": {
     "duration": 0.044314,
     "end_time": "2023-06-28T21:00:11.742590",
     "exception": false,
     "start_time": "2023-06-28T21:00:11.698276",
     "status": "completed"
    },
    "tags": []
   },
   "outputs": [],
   "source": [
    "num_fail = len(df[df[\"Machine failure\"] == 1])\n",
    "num_pass = len(df[df[\"Machine failure\"] == 0])"
   ]
  },
  {
   "cell_type": "markdown",
   "id": "f400d638",
   "metadata": {
    "papermill": {
     "duration": 0.016209,
     "end_time": "2023-06-28T21:00:11.775541",
     "exception": false,
     "start_time": "2023-06-28T21:00:11.759332",
     "status": "completed"
    },
    "tags": []
   },
   "source": [
    "* ID = device identifier (int)\n",
    "* Product ID = Unique ID (string)\n",
    "* Type = type of product L = low (60% of data), M = medium (30% of data), H = high (10% of data) (string)\n",
    "* Air Temp = air temp in kelvin (float)\n",
    "* Process temp = (float)\n",
    "* rotational speed = speed in rpm (int)\n",
    "* torque = newton meter (float)\n",
    "* tool wear = time unit needed to wear down the product/tool (int)\n",
    "* machine failure = binary failure target variable (int)\n",
    "* \n",
    "* TWF = tool wear failure (binary, int)\n",
    "* HDF = heat dissipation failure (binary, int)\n",
    "* PWF = power failure (binary, int)\n",
    "* OSF = overstain failure (binary, int)\n",
    "* RNF = random failure (binary, int)"
   ]
  },
  {
   "cell_type": "code",
   "execution_count": 6,
   "id": "b44defdb",
   "metadata": {
    "execution": {
     "iopub.execute_input": "2023-06-28T21:00:11.812705Z",
     "iopub.status.busy": "2023-06-28T21:00:11.811641Z",
     "iopub.status.idle": "2023-06-28T21:00:11.983707Z",
     "shell.execute_reply": "2023-06-28T21:00:11.982505Z"
    },
    "papermill": {
     "duration": 0.194355,
     "end_time": "2023-06-28T21:00:11.986439",
     "exception": false,
     "start_time": "2023-06-28T21:00:11.792084",
     "status": "completed"
    },
    "tags": []
   },
   "outputs": [
    {
     "data": {
      "text/html": [
       "<div>\n",
       "<style scoped>\n",
       "    .dataframe tbody tr th:only-of-type {\n",
       "        vertical-align: middle;\n",
       "    }\n",
       "\n",
       "    .dataframe tbody tr th {\n",
       "        vertical-align: top;\n",
       "    }\n",
       "\n",
       "    .dataframe thead th {\n",
       "        text-align: right;\n",
       "    }\n",
       "</style>\n",
       "<table border=\"1\" class=\"dataframe\">\n",
       "  <thead>\n",
       "    <tr style=\"text-align: right;\">\n",
       "      <th></th>\n",
       "      <th>id</th>\n",
       "      <th>Air temperature [K]</th>\n",
       "      <th>Process temperature [K]</th>\n",
       "      <th>Rotational speed [rpm]</th>\n",
       "      <th>Torque [Nm]</th>\n",
       "      <th>Tool wear [min]</th>\n",
       "      <th>Machine failure</th>\n",
       "      <th>TWF</th>\n",
       "      <th>HDF</th>\n",
       "      <th>PWF</th>\n",
       "      <th>OSF</th>\n",
       "      <th>RNF</th>\n",
       "    </tr>\n",
       "  </thead>\n",
       "  <tbody>\n",
       "    <tr>\n",
       "      <th>count</th>\n",
       "      <td>136429.000000</td>\n",
       "      <td>136429.000000</td>\n",
       "      <td>136429.000000</td>\n",
       "      <td>136429.000000</td>\n",
       "      <td>136429.000000</td>\n",
       "      <td>136429.000000</td>\n",
       "      <td>136429.000000</td>\n",
       "      <td>136429.000000</td>\n",
       "      <td>136429.000000</td>\n",
       "      <td>136429.000000</td>\n",
       "      <td>136429.000000</td>\n",
       "      <td>136429.000000</td>\n",
       "    </tr>\n",
       "    <tr>\n",
       "      <th>mean</th>\n",
       "      <td>68214.000000</td>\n",
       "      <td>299.862776</td>\n",
       "      <td>309.941070</td>\n",
       "      <td>1520.331110</td>\n",
       "      <td>40.348643</td>\n",
       "      <td>104.408901</td>\n",
       "      <td>0.015744</td>\n",
       "      <td>0.001554</td>\n",
       "      <td>0.005160</td>\n",
       "      <td>0.002397</td>\n",
       "      <td>0.003958</td>\n",
       "      <td>0.002258</td>\n",
       "    </tr>\n",
       "    <tr>\n",
       "      <th>std</th>\n",
       "      <td>39383.804275</td>\n",
       "      <td>1.862247</td>\n",
       "      <td>1.385173</td>\n",
       "      <td>138.736632</td>\n",
       "      <td>8.502229</td>\n",
       "      <td>63.965040</td>\n",
       "      <td>0.124486</td>\n",
       "      <td>0.039389</td>\n",
       "      <td>0.071649</td>\n",
       "      <td>0.048899</td>\n",
       "      <td>0.062789</td>\n",
       "      <td>0.047461</td>\n",
       "    </tr>\n",
       "    <tr>\n",
       "      <th>min</th>\n",
       "      <td>0.000000</td>\n",
       "      <td>295.300000</td>\n",
       "      <td>305.800000</td>\n",
       "      <td>1181.000000</td>\n",
       "      <td>3.800000</td>\n",
       "      <td>0.000000</td>\n",
       "      <td>0.000000</td>\n",
       "      <td>0.000000</td>\n",
       "      <td>0.000000</td>\n",
       "      <td>0.000000</td>\n",
       "      <td>0.000000</td>\n",
       "      <td>0.000000</td>\n",
       "    </tr>\n",
       "    <tr>\n",
       "      <th>25%</th>\n",
       "      <td>34107.000000</td>\n",
       "      <td>298.300000</td>\n",
       "      <td>308.700000</td>\n",
       "      <td>1432.000000</td>\n",
       "      <td>34.600000</td>\n",
       "      <td>48.000000</td>\n",
       "      <td>0.000000</td>\n",
       "      <td>0.000000</td>\n",
       "      <td>0.000000</td>\n",
       "      <td>0.000000</td>\n",
       "      <td>0.000000</td>\n",
       "      <td>0.000000</td>\n",
       "    </tr>\n",
       "    <tr>\n",
       "      <th>50%</th>\n",
       "      <td>68214.000000</td>\n",
       "      <td>300.000000</td>\n",
       "      <td>310.000000</td>\n",
       "      <td>1493.000000</td>\n",
       "      <td>40.400000</td>\n",
       "      <td>106.000000</td>\n",
       "      <td>0.000000</td>\n",
       "      <td>0.000000</td>\n",
       "      <td>0.000000</td>\n",
       "      <td>0.000000</td>\n",
       "      <td>0.000000</td>\n",
       "      <td>0.000000</td>\n",
       "    </tr>\n",
       "    <tr>\n",
       "      <th>75%</th>\n",
       "      <td>102321.000000</td>\n",
       "      <td>301.200000</td>\n",
       "      <td>310.900000</td>\n",
       "      <td>1580.000000</td>\n",
       "      <td>46.100000</td>\n",
       "      <td>159.000000</td>\n",
       "      <td>0.000000</td>\n",
       "      <td>0.000000</td>\n",
       "      <td>0.000000</td>\n",
       "      <td>0.000000</td>\n",
       "      <td>0.000000</td>\n",
       "      <td>0.000000</td>\n",
       "    </tr>\n",
       "    <tr>\n",
       "      <th>max</th>\n",
       "      <td>136428.000000</td>\n",
       "      <td>304.400000</td>\n",
       "      <td>313.800000</td>\n",
       "      <td>2886.000000</td>\n",
       "      <td>76.600000</td>\n",
       "      <td>253.000000</td>\n",
       "      <td>1.000000</td>\n",
       "      <td>1.000000</td>\n",
       "      <td>1.000000</td>\n",
       "      <td>1.000000</td>\n",
       "      <td>1.000000</td>\n",
       "      <td>1.000000</td>\n",
       "    </tr>\n",
       "  </tbody>\n",
       "</table>\n",
       "</div>"
      ],
      "text/plain": [
       "                  id Air temperature [K] Process temperature [K]  \\\n",
       "count  136429.000000       136429.000000           136429.000000   \n",
       "mean    68214.000000          299.862776              309.941070   \n",
       "std     39383.804275            1.862247                1.385173   \n",
       "min         0.000000          295.300000              305.800000   \n",
       "25%     34107.000000          298.300000              308.700000   \n",
       "50%     68214.000000          300.000000              310.000000   \n",
       "75%    102321.000000          301.200000              310.900000   \n",
       "max    136428.000000          304.400000              313.800000   \n",
       "\n",
       "      Rotational speed [rpm]    Torque [Nm] Tool wear [min] Machine failure  \\\n",
       "count          136429.000000  136429.000000   136429.000000   136429.000000   \n",
       "mean             1520.331110      40.348643      104.408901        0.015744   \n",
       "std               138.736632       8.502229       63.965040        0.124486   \n",
       "min              1181.000000       3.800000        0.000000        0.000000   \n",
       "25%              1432.000000      34.600000       48.000000        0.000000   \n",
       "50%              1493.000000      40.400000      106.000000        0.000000   \n",
       "75%              1580.000000      46.100000      159.000000        0.000000   \n",
       "max              2886.000000      76.600000      253.000000        1.000000   \n",
       "\n",
       "                 TWF            HDF            PWF            OSF  \\\n",
       "count  136429.000000  136429.000000  136429.000000  136429.000000   \n",
       "mean        0.001554       0.005160       0.002397       0.003958   \n",
       "std         0.039389       0.071649       0.048899       0.062789   \n",
       "min         0.000000       0.000000       0.000000       0.000000   \n",
       "25%         0.000000       0.000000       0.000000       0.000000   \n",
       "50%         0.000000       0.000000       0.000000       0.000000   \n",
       "75%         0.000000       0.000000       0.000000       0.000000   \n",
       "max         1.000000       1.000000       1.000000       1.000000   \n",
       "\n",
       "                 RNF  \n",
       "count  136429.000000  \n",
       "mean        0.002258  \n",
       "std         0.047461  \n",
       "min         0.000000  \n",
       "25%         0.000000  \n",
       "50%         0.000000  \n",
       "75%         0.000000  \n",
       "max         1.000000  "
      ]
     },
     "execution_count": 6,
     "metadata": {},
     "output_type": "execute_result"
    }
   ],
   "source": [
    "df.nunique(axis = 0)\n",
    "df.describe().apply(lambda s: s.apply(lambda x: format(x, 'f')))"
   ]
  },
  {
   "cell_type": "code",
   "execution_count": 7,
   "id": "c164c20f",
   "metadata": {
    "execution": {
     "iopub.execute_input": "2023-06-28T21:00:12.026309Z",
     "iopub.status.busy": "2023-06-28T21:00:12.024911Z",
     "iopub.status.idle": "2023-06-28T21:00:12.134809Z",
     "shell.execute_reply": "2023-06-28T21:00:12.133397Z"
    },
    "papermill": {
     "duration": 0.134029,
     "end_time": "2023-06-28T21:00:12.137964",
     "exception": false,
     "start_time": "2023-06-28T21:00:12.003935",
     "status": "completed"
    },
    "tags": []
   },
   "outputs": [
    {
     "data": {
      "text/plain": [
       "(136429, 14)"
      ]
     },
     "execution_count": 7,
     "metadata": {},
     "output_type": "execute_result"
    }
   ],
   "source": [
    "df.dropna(axis = 0)\n",
    "df.shape"
   ]
  },
  {
   "cell_type": "markdown",
   "id": "0ebc8c5c",
   "metadata": {
    "papermill": {
     "duration": 0.016923,
     "end_time": "2023-06-28T21:00:12.173157",
     "exception": false,
     "start_time": "2023-06-28T21:00:12.156234",
     "status": "completed"
    },
    "tags": []
   },
   "source": [
    "**Explore relationships between predictor and target variables**"
   ]
  },
  {
   "cell_type": "code",
   "execution_count": 8,
   "id": "56bddcf4",
   "metadata": {
    "execution": {
     "iopub.execute_input": "2023-06-28T21:00:12.209853Z",
     "iopub.status.busy": "2023-06-28T21:00:12.208523Z",
     "iopub.status.idle": "2023-06-28T21:00:12.895749Z",
     "shell.execute_reply": "2023-06-28T21:00:12.894614Z"
    },
    "papermill": {
     "duration": 0.708737,
     "end_time": "2023-06-28T21:00:12.898827",
     "exception": false,
     "start_time": "2023-06-28T21:00:12.190090",
     "status": "completed"
    },
    "tags": []
   },
   "outputs": [
    {
     "name": "stderr",
     "output_type": "stream",
     "text": [
      "/tmp/ipykernel_20/2500072798.py:1: FutureWarning: The default value of numeric_only in DataFrame.corr is deprecated. In a future version, it will default to False. Select only valid columns or specify the value of numeric_only to silence this warning.\n",
      "  corr = df.corr()\n"
     ]
    },
    {
     "data": {
      "text/plain": [
       "<Axes: >"
      ]
     },
     "execution_count": 8,
     "metadata": {},
     "output_type": "execute_result"
    },
    {
     "data": {
      "image/png": "[encoded data removed]",
      "text/plain": [
       "<Figure size 640x480 with 2 Axes>"
      ]
     },
     "metadata": {},
     "output_type": "display_data"
    }
   ],
   "source": [
    "corr = df.corr()\n",
    "sns.heatmap(corr, xticklabels = corr.columns, yticklabels = corr.columns, \n",
    "           annot = False, cmap = \"PiYG\")"
   ]
  },
  {
   "cell_type": "code",
   "execution_count": 9,
   "id": "4c229880",
   "metadata": {
    "execution": {
     "iopub.execute_input": "2023-06-28T21:00:12.936570Z",
     "iopub.status.busy": "2023-06-28T21:00:12.935995Z",
     "iopub.status.idle": "2023-06-28T21:00:12.947498Z",
     "shell.execute_reply": "2023-06-28T21:00:12.946419Z"
    },
    "papermill": {
     "duration": 0.033633,
     "end_time": "2023-06-28T21:00:12.950153",
     "exception": false,
     "start_time": "2023-06-28T21:00:12.916520",
     "status": "completed"
    },
    "tags": []
   },
   "outputs": [
    {
     "data": {
      "text/plain": [
       "Index(['id', 'Product ID', 'Type', 'AirTemp', 'ProcessTemp', 'RotSpeed',\n",
       "       'Torque', 'ToolWear', 'Machine failure', 'TWF', 'HDF', 'PWF', 'OSF',\n",
       "       'RNF'],\n",
       "      dtype='object')"
      ]
     },
     "execution_count": 9,
     "metadata": {},
     "output_type": "execute_result"
    }
   ],
   "source": [
    "df.rename(columns = {df.columns[3] : \"AirTemp\", df.columns[4] : \"ProcessTemp\", df.columns[5]: \"RotSpeed\", df.columns[6] : \"Torque\", df.columns[7]:\"ToolWear\"}, inplace = True)\n",
    "df.columns"
   ]
  },
  {
   "cell_type": "code",
   "execution_count": 10,
   "id": "31b67c23",
   "metadata": {
    "execution": {
     "iopub.execute_input": "2023-06-28T21:00:12.989643Z",
     "iopub.status.busy": "2023-06-28T21:00:12.988769Z",
     "iopub.status.idle": "2023-06-28T21:00:13.006913Z",
     "shell.execute_reply": "2023-06-28T21:00:13.005606Z"
    },
    "papermill": {
     "duration": 0.04306,
     "end_time": "2023-06-28T21:00:13.010877",
     "exception": false,
     "start_time": "2023-06-28T21:00:12.967817",
     "status": "completed"
    },
    "tags": []
   },
   "outputs": [
    {
     "data": {
      "text/plain": [
       "Index(['id', 'Type', 'AirTemp', 'ProcessTemp', 'RotSpeed', 'Torque',\n",
       "       'ToolWear', 'Machine failure', 'TWF', 'HDF', 'PWF', 'OSF', 'RNF'],\n",
       "      dtype='object')"
      ]
     },
     "execution_count": 10,
     "metadata": {},
     "output_type": "execute_result"
    }
   ],
   "source": [
    "df = df.drop([\"Product ID\"], axis = 1)\n",
    "df.columns"
   ]
  },
  {
   "cell_type": "code",
   "execution_count": 11,
   "id": "dd4d0600",
   "metadata": {
    "execution": {
     "iopub.execute_input": "2023-06-28T21:00:13.052383Z",
     "iopub.status.busy": "2023-06-28T21:00:13.051457Z",
     "iopub.status.idle": "2023-06-28T21:00:13.061032Z",
     "shell.execute_reply": "2023-06-28T21:00:13.059832Z"
    },
    "papermill": {
     "duration": 0.034626,
     "end_time": "2023-06-28T21:00:13.064073",
     "exception": false,
     "start_time": "2023-06-28T21:00:13.029447",
     "status": "completed"
    },
    "tags": []
   },
   "outputs": [
    {
     "data": {
      "text/plain": [
       "Index(['Type', 'AirTemp', 'ProcessTemp', 'RotSpeed', 'Torque', 'ToolWear',\n",
       "       'Machine failure', 'TWF', 'HDF', 'PWF', 'OSF', 'RNF'],\n",
       "      dtype='object')"
      ]
     },
     "execution_count": 11,
     "metadata": {},
     "output_type": "execute_result"
    }
   ],
   "source": [
    "df.set_index('id', inplace = True)\n",
    "df.columns"
   ]
  },
  {
   "cell_type": "markdown",
   "id": "1613ede9",
   "metadata": {
    "papermill": {
     "duration": 0.019504,
     "end_time": "2023-06-28T21:00:13.102691",
     "exception": false,
     "start_time": "2023-06-28T21:00:13.083187",
     "status": "completed"
    },
    "tags": []
   },
   "source": [
    "**Categorize type of predictor variables**"
   ]
  },
  {
   "cell_type": "code",
   "execution_count": 12,
   "id": "18d787b0",
   "metadata": {
    "execution": {
     "iopub.execute_input": "2023-06-28T21:00:13.143187Z",
     "iopub.status.busy": "2023-06-28T21:00:13.142208Z",
     "iopub.status.idle": "2023-06-28T21:00:14.121427Z",
     "shell.execute_reply": "2023-06-28T21:00:14.119917Z"
    },
    "papermill": {
     "duration": 1.004029,
     "end_time": "2023-06-28T21:00:14.125069",
     "exception": false,
     "start_time": "2023-06-28T21:00:13.121040",
     "status": "completed"
    },
    "tags": []
   },
   "outputs": [
    {
     "name": "stderr",
     "output_type": "stream",
     "text": [
      "/tmp/ipykernel_20/2469373344.py:1: FutureWarning: The default value of numeric_only in DataFrame.corr is deprecated. In a future version, it will default to False. Select only valid columns or specify the value of numeric_only to silence this warning.\n",
      "  corr1 = df.corr()\n"
     ]
    },
    {
     "data": {
      "text/plain": [
       "<Axes: >"
      ]
     },
     "execution_count": 12,
     "metadata": {},
     "output_type": "execute_result"
    },
    {
     "data": {
      "image/png": "[encoded data removed]",
      "text/plain": [
       "<Figure size 640x480 with 2 Axes>"
      ]
     },
     "metadata": {},
     "output_type": "display_data"
    }
   ],
   "source": [
    "corr1 = df.corr()\n",
    "sns.heatmap(corr1, annot = True, fmt = '.2f')"
   ]
  },
  {
   "cell_type": "markdown",
   "id": "6f4f25fe",
   "metadata": {
    "papermill": {
     "duration": 0.019682,
     "end_time": "2023-06-28T21:00:14.164610",
     "exception": false,
     "start_time": "2023-06-28T21:00:14.144928",
     "status": "completed"
    },
    "tags": []
   },
   "source": [
    "**Dataset Preprocessing:**"
   ]
  },
  {
   "cell_type": "markdown",
   "id": "ce75ee42",
   "metadata": {
    "papermill": {
     "duration": 0.020302,
     "end_time": "2023-06-28T21:00:14.205128",
     "exception": false,
     "start_time": "2023-06-28T21:00:14.184826",
     "status": "completed"
    },
    "tags": []
   },
   "source": [
    "1. Train - Validation split\n",
    "2. Missing values = no missing values in this dataset\n",
    "3. Encoding categorical variables\n",
    "4. Data normalization"
   ]
  },
  {
   "cell_type": "code",
   "execution_count": 13,
   "id": "a17a76cf",
   "metadata": {
    "execution": {
     "iopub.execute_input": "2023-06-28T21:00:14.247229Z",
     "iopub.status.busy": "2023-06-28T21:00:14.246687Z",
     "iopub.status.idle": "2023-06-28T21:00:14.695375Z",
     "shell.execute_reply": "2023-06-28T21:00:14.693886Z"
    },
    "papermill": {
     "duration": 0.473608,
     "end_time": "2023-06-28T21:00:14.698470",
     "exception": false,
     "start_time": "2023-06-28T21:00:14.224862",
     "status": "completed"
    },
    "tags": []
   },
   "outputs": [
    {
     "data": {
      "text/html": [
       "<div>\n",
       "<style scoped>\n",
       "    .dataframe tbody tr th:only-of-type {\n",
       "        vertical-align: middle;\n",
       "    }\n",
       "\n",
       "    .dataframe tbody tr th {\n",
       "        vertical-align: top;\n",
       "    }\n",
       "\n",
       "    .dataframe thead th {\n",
       "        text-align: right;\n",
       "    }\n",
       "</style>\n",
       "<table border=\"1\" class=\"dataframe\">\n",
       "  <thead>\n",
       "    <tr style=\"text-align: right;\">\n",
       "      <th></th>\n",
       "      <th>Type</th>\n",
       "      <th>AirTemp</th>\n",
       "      <th>ProcessTemp</th>\n",
       "      <th>RotSpeed</th>\n",
       "      <th>Torque</th>\n",
       "      <th>ToolWear</th>\n",
       "      <th>TWF</th>\n",
       "      <th>HDF</th>\n",
       "      <th>PWF</th>\n",
       "      <th>OSF</th>\n",
       "      <th>RNF</th>\n",
       "    </tr>\n",
       "    <tr>\n",
       "      <th>id</th>\n",
       "      <th></th>\n",
       "      <th></th>\n",
       "      <th></th>\n",
       "      <th></th>\n",
       "      <th></th>\n",
       "      <th></th>\n",
       "      <th></th>\n",
       "      <th></th>\n",
       "      <th></th>\n",
       "      <th></th>\n",
       "      <th></th>\n",
       "    </tr>\n",
       "  </thead>\n",
       "  <tbody>\n",
       "    <tr>\n",
       "      <th>42323</th>\n",
       "      <td>M</td>\n",
       "      <td>297.4</td>\n",
       "      <td>309.1</td>\n",
       "      <td>1461</td>\n",
       "      <td>41.9</td>\n",
       "      <td>202</td>\n",
       "      <td>0</td>\n",
       "      <td>0</td>\n",
       "      <td>0</td>\n",
       "      <td>0</td>\n",
       "      <td>0</td>\n",
       "    </tr>\n",
       "    <tr>\n",
       "      <th>59701</th>\n",
       "      <td>L</td>\n",
       "      <td>301.3</td>\n",
       "      <td>310.6</td>\n",
       "      <td>1435</td>\n",
       "      <td>47.8</td>\n",
       "      <td>106</td>\n",
       "      <td>0</td>\n",
       "      <td>0</td>\n",
       "      <td>0</td>\n",
       "      <td>0</td>\n",
       "      <td>0</td>\n",
       "    </tr>\n",
       "    <tr>\n",
       "      <th>111333</th>\n",
       "      <td>M</td>\n",
       "      <td>300.9</td>\n",
       "      <td>310.4</td>\n",
       "      <td>1444</td>\n",
       "      <td>40.6</td>\n",
       "      <td>150</td>\n",
       "      <td>0</td>\n",
       "      <td>0</td>\n",
       "      <td>0</td>\n",
       "      <td>0</td>\n",
       "      <td>0</td>\n",
       "    </tr>\n",
       "    <tr>\n",
       "      <th>81415</th>\n",
       "      <td>L</td>\n",
       "      <td>298.0</td>\n",
       "      <td>309.5</td>\n",
       "      <td>1567</td>\n",
       "      <td>37.6</td>\n",
       "      <td>48</td>\n",
       "      <td>0</td>\n",
       "      <td>0</td>\n",
       "      <td>0</td>\n",
       "      <td>0</td>\n",
       "      <td>0</td>\n",
       "    </tr>\n",
       "    <tr>\n",
       "      <th>84261</th>\n",
       "      <td>L</td>\n",
       "      <td>299.2</td>\n",
       "      <td>308.8</td>\n",
       "      <td>1384</td>\n",
       "      <td>49.2</td>\n",
       "      <td>176</td>\n",
       "      <td>0</td>\n",
       "      <td>0</td>\n",
       "      <td>0</td>\n",
       "      <td>0</td>\n",
       "      <td>0</td>\n",
       "    </tr>\n",
       "  </tbody>\n",
       "</table>\n",
       "</div>"
      ],
      "text/plain": [
       "       Type  AirTemp  ProcessTemp  RotSpeed  Torque  ToolWear  TWF  HDF  PWF  \\\n",
       "id                                                                             \n",
       "42323     M    297.4        309.1      1461    41.9       202    0    0    0   \n",
       "59701     L    301.3        310.6      1435    47.8       106    0    0    0   \n",
       "111333    M    300.9        310.4      1444    40.6       150    0    0    0   \n",
       "81415     L    298.0        309.5      1567    37.6        48    0    0    0   \n",
       "84261     L    299.2        308.8      1384    49.2       176    0    0    0   \n",
       "\n",
       "        OSF  RNF  \n",
       "id                \n",
       "42323     0    0  \n",
       "59701     0    0  \n",
       "111333    0    0  \n",
       "81415     0    0  \n",
       "84261     0    0  "
      ]
     },
     "execution_count": 13,
     "metadata": {},
     "output_type": "execute_result"
    }
   ],
   "source": [
    "complete_train = df.drop([\"Machine failure\"], axis = 1)\n",
    "complete_y = df[\"Machine failure\"]\n",
    "\n",
    "# Splitting dataset into training and validation sets (75-25)\n",
    "\n",
    "from sklearn.model_selection import train_test_split\n",
    "\n",
    "train_X, val_X, train_y, val_y = train_test_split(complete_train, complete_y)\n",
    "\n",
    "train_X.head()"
   ]
  },
  {
   "cell_type": "code",
   "execution_count": 14,
   "id": "162acaf1",
   "metadata": {
    "execution": {
     "iopub.execute_input": "2023-06-28T21:00:14.741374Z",
     "iopub.status.busy": "2023-06-28T21:00:14.740402Z",
     "iopub.status.idle": "2023-06-28T21:00:14.925606Z",
     "shell.execute_reply": "2023-06-28T21:00:14.924064Z"
    },
    "papermill": {
     "duration": 0.210336,
     "end_time": "2023-06-28T21:00:14.928897",
     "exception": false,
     "start_time": "2023-06-28T21:00:14.718561",
     "status": "completed"
    },
    "tags": []
   },
   "outputs": [
    {
     "data": {
      "text/html": [
       "<div>\n",
       "<style scoped>\n",
       "    .dataframe tbody tr th:only-of-type {\n",
       "        vertical-align: middle;\n",
       "    }\n",
       "\n",
       "    .dataframe tbody tr th {\n",
       "        vertical-align: top;\n",
       "    }\n",
       "\n",
       "    .dataframe thead th {\n",
       "        text-align: right;\n",
       "    }\n",
       "</style>\n",
       "<table border=\"1\" class=\"dataframe\">\n",
       "  <thead>\n",
       "    <tr style=\"text-align: right;\">\n",
       "      <th></th>\n",
       "      <th>cat__Type_H</th>\n",
       "      <th>cat__Type_L</th>\n",
       "      <th>cat__Type_M</th>\n",
       "      <th>num__AirTemp</th>\n",
       "      <th>num__ProcessTemp</th>\n",
       "      <th>num__RotSpeed</th>\n",
       "      <th>num__Torque</th>\n",
       "      <th>num__ToolWear</th>\n",
       "      <th>skip__TWF</th>\n",
       "      <th>skip__HDF</th>\n",
       "      <th>skip__PWF</th>\n",
       "      <th>skip__OSF</th>\n",
       "      <th>skip__RNF</th>\n",
       "    </tr>\n",
       "  </thead>\n",
       "  <tbody>\n",
       "    <tr>\n",
       "      <th>0</th>\n",
       "      <td>0.0</td>\n",
       "      <td>0.0</td>\n",
       "      <td>1.0</td>\n",
       "      <td>-1.322190</td>\n",
       "      <td>-0.606611</td>\n",
       "      <td>-0.429505</td>\n",
       "      <td>0.182309</td>\n",
       "      <td>1.527635</td>\n",
       "      <td>0.0</td>\n",
       "      <td>0.0</td>\n",
       "      <td>0.0</td>\n",
       "      <td>0.0</td>\n",
       "      <td>0.0</td>\n",
       "    </tr>\n",
       "    <tr>\n",
       "      <th>1</th>\n",
       "      <td>0.0</td>\n",
       "      <td>1.0</td>\n",
       "      <td>0.0</td>\n",
       "      <td>0.774353</td>\n",
       "      <td>0.476593</td>\n",
       "      <td>-0.617769</td>\n",
       "      <td>0.875759</td>\n",
       "      <td>0.025978</td>\n",
       "      <td>0.0</td>\n",
       "      <td>0.0</td>\n",
       "      <td>0.0</td>\n",
       "      <td>0.0</td>\n",
       "      <td>0.0</td>\n",
       "    </tr>\n",
       "    <tr>\n",
       "      <th>2</th>\n",
       "      <td>0.0</td>\n",
       "      <td>0.0</td>\n",
       "      <td>1.0</td>\n",
       "      <td>0.559323</td>\n",
       "      <td>0.332166</td>\n",
       "      <td>-0.552600</td>\n",
       "      <td>0.029515</td>\n",
       "      <td>0.714238</td>\n",
       "      <td>0.0</td>\n",
       "      <td>0.0</td>\n",
       "      <td>0.0</td>\n",
       "      <td>0.0</td>\n",
       "      <td>0.0</td>\n",
       "    </tr>\n",
       "    <tr>\n",
       "      <th>3</th>\n",
       "      <td>0.0</td>\n",
       "      <td>1.0</td>\n",
       "      <td>0.0</td>\n",
       "      <td>-0.999645</td>\n",
       "      <td>-0.317757</td>\n",
       "      <td>0.338032</td>\n",
       "      <td>-0.323087</td>\n",
       "      <td>-0.881273</td>\n",
       "      <td>0.0</td>\n",
       "      <td>0.0</td>\n",
       "      <td>0.0</td>\n",
       "      <td>0.0</td>\n",
       "      <td>0.0</td>\n",
       "    </tr>\n",
       "    <tr>\n",
       "      <th>4</th>\n",
       "      <td>0.0</td>\n",
       "      <td>1.0</td>\n",
       "      <td>0.0</td>\n",
       "      <td>-0.354555</td>\n",
       "      <td>-0.823252</td>\n",
       "      <td>-0.987056</td>\n",
       "      <td>1.040306</td>\n",
       "      <td>1.120936</td>\n",
       "      <td>0.0</td>\n",
       "      <td>0.0</td>\n",
       "      <td>0.0</td>\n",
       "      <td>0.0</td>\n",
       "      <td>0.0</td>\n",
       "    </tr>\n",
       "  </tbody>\n",
       "</table>\n",
       "</div>"
      ],
      "text/plain": [
       "   cat__Type_H  cat__Type_L  cat__Type_M  num__AirTemp  num__ProcessTemp  \\\n",
       "0          0.0          0.0          1.0     -1.322190         -0.606611   \n",
       "1          0.0          1.0          0.0      0.774353          0.476593   \n",
       "2          0.0          0.0          1.0      0.559323          0.332166   \n",
       "3          0.0          1.0          0.0     -0.999645         -0.317757   \n",
       "4          0.0          1.0          0.0     -0.354555         -0.823252   \n",
       "\n",
       "   num__RotSpeed  num__Torque  num__ToolWear  skip__TWF  skip__HDF  skip__PWF  \\\n",
       "0      -0.429505     0.182309       1.527635        0.0        0.0        0.0   \n",
       "1      -0.617769     0.875759       0.025978        0.0        0.0        0.0   \n",
       "2      -0.552600     0.029515       0.714238        0.0        0.0        0.0   \n",
       "3       0.338032    -0.323087      -0.881273        0.0        0.0        0.0   \n",
       "4      -0.987056     1.040306       1.120936        0.0        0.0        0.0   \n",
       "\n",
       "   skip__OSF  skip__RNF  \n",
       "0        0.0        0.0  \n",
       "1        0.0        0.0  \n",
       "2        0.0        0.0  \n",
       "3        0.0        0.0  \n",
       "4        0.0        0.0  "
      ]
     },
     "execution_count": 14,
     "metadata": {},
     "output_type": "execute_result"
    }
   ],
   "source": [
    "# Variable types:\n",
    "# Continuous = [\"AirTemp\", \"ProcessTemp\", \"RotSpeed\", \"Torque\", \"ToolWear\"]\n",
    "# Categorical = [\"Type\"]\n",
    "\n",
    "# Normalize continuous variables:\n",
    "\n",
    "from sklearn.preprocessing import StandardScaler\n",
    "from sklearn.preprocessing import OneHotEncoder\n",
    "from sklearn.compose import ColumnTransformer\n",
    "\n",
    "transformers = [\n",
    "    ('cat', OneHotEncoder(handle_unknown = 'ignore', sparse_output = False), ['Type']),\n",
    "    ('num', StandardScaler(), ['AirTemp', 'ProcessTemp', 'RotSpeed', 'Torque', 'ToolWear']),\n",
    "    ('skip', 'passthrough', ['TWF', 'HDF', 'PWF', 'OSF', 'RNF'])\n",
    "]\n",
    "\n",
    "col_transformer = ColumnTransformer(transformers)\n",
    "\n",
    "#train_X_num = pd.DataFrame(sc.fit_transform(train_X_num), columns = train_X_num.columns)\n",
    "#val_X_num = pd.DataFrame(sc.transform(val_X_num), columns = val_X_num.columns)\n",
    "\n",
    "#train_X_num.head()\n",
    "\n",
    "train_X_new = pd.DataFrame(col_transformer.fit_transform(train_X), columns = col_transformer.get_feature_names_out())\n",
    "val_X_new = pd.DataFrame(col_transformer.transform(val_X), columns = col_transformer.get_feature_names_out())\n",
    "\n",
    "train_X_new.head()"
   ]
  },
  {
   "cell_type": "markdown",
   "id": "91d784c0",
   "metadata": {
    "papermill": {
     "duration": 0.021233,
     "end_time": "2023-06-28T21:00:14.971149",
     "exception": false,
     "start_time": "2023-06-28T21:00:14.949916",
     "status": "completed"
    },
    "tags": []
   },
   "source": [
    "# Logistic Regression"
   ]
  },
  {
   "cell_type": "code",
   "execution_count": 15,
   "id": "133e10eb",
   "metadata": {
    "execution": {
     "iopub.execute_input": "2023-06-28T21:00:15.016596Z",
     "iopub.status.busy": "2023-06-28T21:00:15.015377Z",
     "iopub.status.idle": "2023-06-28T21:00:15.928554Z",
     "shell.execute_reply": "2023-06-28T21:00:15.927397Z"
    },
    "papermill": {
     "duration": 0.938808,
     "end_time": "2023-06-28T21:00:15.931277",
     "exception": false,
     "start_time": "2023-06-28T21:00:14.992469",
     "status": "completed"
    },
    "tags": []
   },
   "outputs": [
    {
     "name": "stdout",
     "output_type": "stream",
     "text": [
      "Model accuracy =  0.980092646886361\n",
      "Logistic Regression AUROC =  0.9291090321837762\n"
     ]
    },
    {
     "data": {
      "text/plain": [
       "<Axes: >"
      ]
     },
     "execution_count": 15,
     "metadata": {},
     "output_type": "execute_result"
    },
    {
     "data": {
      "image/png": "[encoded data removed]",
      "text/plain": [
       "<Figure size 640x480 with 2 Axes>"
      ]
     },
     "metadata": {},
     "output_type": "display_data"
    }
   ],
   "source": [
    "from sklearn.linear_model import LogisticRegression\n",
    "from sklearn.metrics import roc_curve\n",
    "from sklearn.metrics import roc_auc_score\n",
    "from sklearn.metrics import accuracy_score\n",
    "from sklearn.metrics import confusion_matrix\n",
    "\n",
    "# Fit a logistic regression model on train_X_new and train_y\n",
    "\n",
    "model = LogisticRegression(solver = \"newton-cholesky\", class_weight = \"balanced\")\n",
    "model.fit(train_X_new, train_y)\n",
    "\n",
    "# Predict class probabilities for validation set\n",
    "\n",
    "pred_y = model.predict(val_X_new)\n",
    "\n",
    "val_probs = model.predict_proba(val_X_new)\n",
    "\n",
    "# Calculate accuracy of prediction using AUROC curve scores\n",
    "\n",
    "auc_score = roc_auc_score(val_y, val_probs[:,1])\n",
    "\n",
    "print(\"Model accuracy = \", accuracy_score(val_y, pred_y))\n",
    "print(\"Logistic Regression AUROC = \", auc_score)\n",
    "\n",
    "cm = pd.DataFrame(confusion_matrix(val_y, pred_y))\n",
    "sns.heatmap(cm, annot = True, cmap = \"YlGnBu\")"
   ]
  },
  {
   "cell_type": "code",
   "execution_count": 16,
   "id": "ef7b56e0",
   "metadata": {
    "execution": {
     "iopub.execute_input": "2023-06-28T21:00:15.976297Z",
     "iopub.status.busy": "2023-06-28T21:00:15.975432Z",
     "iopub.status.idle": "2023-06-28T21:00:15.982873Z",
     "shell.execute_reply": "2023-06-28T21:00:15.981814Z"
    },
    "papermill": {
     "duration": 0.033193,
     "end_time": "2023-06-28T21:00:15.985450",
     "exception": false,
     "start_time": "2023-06-28T21:00:15.952257",
     "status": "completed"
    },
    "tags": []
   },
   "outputs": [
    {
     "data": {
      "text/plain": [
       "Index(['id', 'Product ID', 'Type', 'Air temperature [K]',\n",
       "       'Process temperature [K]', 'Rotational speed [rpm]', 'Torque [Nm]',\n",
       "       'Tool wear [min]', 'TWF', 'HDF', 'PWF', 'OSF', 'RNF'],\n",
       "      dtype='object')"
      ]
     },
     "execution_count": 16,
     "metadata": {},
     "output_type": "execute_result"
    }
   ],
   "source": [
    "test_df.columns"
   ]
  },
  {
   "cell_type": "code",
   "execution_count": 17,
   "id": "a410d9e8",
   "metadata": {
    "execution": {
     "iopub.execute_input": "2023-06-28T21:00:16.031236Z",
     "iopub.status.busy": "2023-06-28T21:00:16.030657Z",
     "iopub.status.idle": "2023-06-28T21:00:16.143590Z",
     "shell.execute_reply": "2023-06-28T21:00:16.141891Z"
    },
    "papermill": {
     "duration": 0.141019,
     "end_time": "2023-06-28T21:00:16.147906",
     "exception": false,
     "start_time": "2023-06-28T21:00:16.006887",
     "status": "completed"
    },
    "tags": []
   },
   "outputs": [
    {
     "data": {
      "text/html": [
       "<div>\n",
       "<style scoped>\n",
       "    .dataframe tbody tr th:only-of-type {\n",
       "        vertical-align: middle;\n",
       "    }\n",
       "\n",
       "    .dataframe tbody tr th {\n",
       "        vertical-align: top;\n",
       "    }\n",
       "\n",
       "    .dataframe thead th {\n",
       "        text-align: right;\n",
       "    }\n",
       "</style>\n",
       "<table border=\"1\" class=\"dataframe\">\n",
       "  <thead>\n",
       "    <tr style=\"text-align: right;\">\n",
       "      <th></th>\n",
       "      <th>cat__Type_H</th>\n",
       "      <th>cat__Type_L</th>\n",
       "      <th>cat__Type_M</th>\n",
       "      <th>num__AirTemp</th>\n",
       "      <th>num__ProcessTemp</th>\n",
       "      <th>num__RotSpeed</th>\n",
       "      <th>num__Torque</th>\n",
       "      <th>num__ToolWear</th>\n",
       "      <th>skip__TWF</th>\n",
       "      <th>skip__HDF</th>\n",
       "      <th>skip__PWF</th>\n",
       "      <th>skip__OSF</th>\n",
       "      <th>skip__RNF</th>\n",
       "    </tr>\n",
       "  </thead>\n",
       "  <tbody>\n",
       "    <tr>\n",
       "      <th>0</th>\n",
       "      <td>0.0</td>\n",
       "      <td>1.0</td>\n",
       "      <td>0.0</td>\n",
       "      <td>1.311928</td>\n",
       "      <td>1.126516</td>\n",
       "      <td>-0.154350</td>\n",
       "      <td>-0.276073</td>\n",
       "      <td>-0.693566</td>\n",
       "      <td>0.0</td>\n",
       "      <td>0.0</td>\n",
       "      <td>0.0</td>\n",
       "      <td>0.0</td>\n",
       "      <td>0.0</td>\n",
       "    </tr>\n",
       "    <tr>\n",
       "      <th>1</th>\n",
       "      <td>0.0</td>\n",
       "      <td>1.0</td>\n",
       "      <td>0.0</td>\n",
       "      <td>0.989383</td>\n",
       "      <td>0.765448</td>\n",
       "      <td>1.395206</td>\n",
       "      <td>-1.357385</td>\n",
       "      <td>-1.366183</td>\n",
       "      <td>0.0</td>\n",
       "      <td>0.0</td>\n",
       "      <td>0.0</td>\n",
       "      <td>0.0</td>\n",
       "      <td>0.0</td>\n",
       "    </tr>\n",
       "    <tr>\n",
       "      <th>2</th>\n",
       "      <td>0.0</td>\n",
       "      <td>1.0</td>\n",
       "      <td>0.0</td>\n",
       "      <td>0.774353</td>\n",
       "      <td>0.332166</td>\n",
       "      <td>0.033914</td>\n",
       "      <td>-0.311333</td>\n",
       "      <td>-0.130444</td>\n",
       "      <td>0.0</td>\n",
       "      <td>0.0</td>\n",
       "      <td>0.0</td>\n",
       "      <td>0.0</td>\n",
       "      <td>0.0</td>\n",
       "    </tr>\n",
       "    <tr>\n",
       "      <th>3</th>\n",
       "      <td>0.0</td>\n",
       "      <td>0.0</td>\n",
       "      <td>1.0</td>\n",
       "      <td>0.129263</td>\n",
       "      <td>-0.245543</td>\n",
       "      <td>-0.299168</td>\n",
       "      <td>0.852252</td>\n",
       "      <td>-1.553890</td>\n",
       "      <td>0.0</td>\n",
       "      <td>0.0</td>\n",
       "      <td>0.0</td>\n",
       "      <td>0.0</td>\n",
       "      <td>0.0</td>\n",
       "    </tr>\n",
       "    <tr>\n",
       "      <th>4</th>\n",
       "      <td>0.0</td>\n",
       "      <td>0.0</td>\n",
       "      <td>1.0</td>\n",
       "      <td>1.903261</td>\n",
       "      <td>1.704225</td>\n",
       "      <td>-0.038495</td>\n",
       "      <td>0.111788</td>\n",
       "      <td>0.151116</td>\n",
       "      <td>0.0</td>\n",
       "      <td>0.0</td>\n",
       "      <td>0.0</td>\n",
       "      <td>0.0</td>\n",
       "      <td>0.0</td>\n",
       "    </tr>\n",
       "  </tbody>\n",
       "</table>\n",
       "</div>"
      ],
      "text/plain": [
       "   cat__Type_H  cat__Type_L  cat__Type_M  num__AirTemp  num__ProcessTemp  \\\n",
       "0          0.0          1.0          0.0      1.311928          1.126516   \n",
       "1          0.0          1.0          0.0      0.989383          0.765448   \n",
       "2          0.0          1.0          0.0      0.774353          0.332166   \n",
       "3          0.0          0.0          1.0      0.129263         -0.245543   \n",
       "4          0.0          0.0          1.0      1.903261          1.704225   \n",
       "\n",
       "   num__RotSpeed  num__Torque  num__ToolWear  skip__TWF  skip__HDF  skip__PWF  \\\n",
       "0      -0.154350    -0.276073      -0.693566        0.0        0.0        0.0   \n",
       "1       1.395206    -1.357385      -1.366183        0.0        0.0        0.0   \n",
       "2       0.033914    -0.311333      -0.130444        0.0        0.0        0.0   \n",
       "3      -0.299168     0.852252      -1.553890        0.0        0.0        0.0   \n",
       "4      -0.038495     0.111788       0.151116        0.0        0.0        0.0   \n",
       "\n",
       "   skip__OSF  skip__RNF  \n",
       "0        0.0        0.0  \n",
       "1        0.0        0.0  \n",
       "2        0.0        0.0  \n",
       "3        0.0        0.0  \n",
       "4        0.0        0.0  "
      ]
     },
     "execution_count": 17,
     "metadata": {},
     "output_type": "execute_result"
    }
   ],
   "source": [
    "# Prediction 1 using simple logistic regression on the test set (submission 1)\n",
    "\n",
    "# Apply data transformations as before\n",
    "test_df.rename(columns = {test_df.columns[3] : \"AirTemp\", test_df.columns[4] : \"ProcessTemp\", test_df.columns[5]: \"RotSpeed\", test_df.columns[6] : \"Torque\", test_df.columns[7]:\"ToolWear\"}, inplace = True)\n",
    "test_df = test_df.drop([\"Product ID\"], axis = 1)\n",
    "test_df.set_index('id', inplace = True)\n",
    "\n",
    "#test_df.columns\n",
    "\n",
    "test_df_new = pd.DataFrame(col_transformer.transform(test_df), columns = col_transformer.get_feature_names_out())\n",
    "test_df_new.head()"
   ]
  },
  {
   "cell_type": "code",
   "execution_count": 18,
   "id": "5349792f",
   "metadata": {
    "execution": {
     "iopub.execute_input": "2023-06-28T21:00:16.194966Z",
     "iopub.status.busy": "2023-06-28T21:00:16.194434Z",
     "iopub.status.idle": "2023-06-28T21:00:16.203688Z",
     "shell.execute_reply": "2023-06-28T21:00:16.202162Z"
    },
    "papermill": {
     "duration": 0.037142,
     "end_time": "2023-06-28T21:00:16.206824",
     "exception": false,
     "start_time": "2023-06-28T21:00:16.169682",
     "status": "completed"
    },
    "tags": []
   },
   "outputs": [
    {
     "data": {
      "text/plain": [
       "Int64Index([136429, 136430, 136431, 136432, 136433, 136434, 136435, 136436,\n",
       "            136437, 136438,\n",
       "            ...\n",
       "            227373, 227374, 227375, 227376, 227377, 227378, 227379, 227380,\n",
       "            227381, 227382],\n",
       "           dtype='int64', name='id', length=90954)"
      ]
     },
     "execution_count": 18,
     "metadata": {},
     "output_type": "execute_result"
    }
   ],
   "source": [
    "test_df.index"
   ]
  },
  {
   "cell_type": "markdown",
   "id": "f7a99005",
   "metadata": {
    "papermill": {
     "duration": 0.021267,
     "end_time": "2023-06-28T21:00:16.250899",
     "exception": false,
     "start_time": "2023-06-28T21:00:16.229632",
     "status": "completed"
    },
    "tags": []
   },
   "source": [
    "# Logistic Regression with Cross-Validation"
   ]
  },
  {
   "cell_type": "code",
   "execution_count": 19,
   "id": "4fb13b81",
   "metadata": {
    "execution": {
     "iopub.execute_input": "2023-06-28T21:00:16.298216Z",
     "iopub.status.busy": "2023-06-28T21:00:16.297671Z",
     "iopub.status.idle": "2023-06-28T21:00:16.781758Z",
     "shell.execute_reply": "2023-06-28T21:00:16.780086Z"
    },
    "papermill": {
     "duration": 0.511585,
     "end_time": "2023-06-28T21:00:16.785506",
     "exception": false,
     "start_time": "2023-06-28T21:00:16.273921",
     "status": "completed"
    },
    "tags": []
   },
   "outputs": [],
   "source": [
    "pred_sub = model.predict_proba(test_df_new)[:,1]\n",
    "sub1 = pd.DataFrame(pred_sub, columns = ['Machine failure'])\n",
    "#ex_col = test_df[[\"id\"]]\n",
    "ex_col = pd.DataFrame(test_df.index)\n",
    "submission = ex_col.join(sub1)\n",
    "\n",
    "submission.head()\n",
    "#test_df.index\n",
    "submission.to_csv(\"submission_logreg.csv\", index = False)"
   ]
  },
  {
   "cell_type": "code",
   "execution_count": 20,
   "id": "8674d76a",
   "metadata": {
    "execution": {
     "iopub.execute_input": "2023-06-28T21:00:16.834524Z",
     "iopub.status.busy": "2023-06-28T21:00:16.833904Z",
     "iopub.status.idle": "2023-06-28T21:00:19.023037Z",
     "shell.execute_reply": "2023-06-28T21:00:19.020435Z"
    },
    "papermill": {
     "duration": 2.220274,
     "end_time": "2023-06-28T21:00:19.029274",
     "exception": false,
     "start_time": "2023-06-28T21:00:16.809000",
     "status": "completed"
    },
    "tags": []
   },
   "outputs": [
    {
     "name": "stdout",
     "output_type": "stream",
     "text": [
      "Cross validation AUROC =  0.9359037747911187\n"
     ]
    }
   ],
   "source": [
    "from sklearn.model_selection import cross_val_score\n",
    "\n",
    "train_X_complete = pd.DataFrame(col_transformer.fit_transform(complete_train), columns = col_transformer.get_feature_names_out())\n",
    "\n",
    "cv_scores = cross_val_score(model, train_X_complete, complete_y, cv = 5, scoring = 'roc_auc')\n",
    "\n",
    "print(\"Cross validation AUROC = \", cv_scores.mean())"
   ]
  },
  {
   "cell_type": "markdown",
   "id": "cd582b0e",
   "metadata": {
    "papermill": {
     "duration": 0.041433,
     "end_time": "2023-06-28T21:00:19.118555",
     "exception": false,
     "start_time": "2023-06-28T21:00:19.077122",
     "status": "completed"
    },
    "tags": []
   },
   "source": [
    "5-fold cross validation performs only slightly better than logistic regression"
   ]
  },
  {
   "cell_type": "markdown",
   "id": "c9825e83",
   "metadata": {
    "papermill": {
     "duration": 0.021974,
     "end_time": "2023-06-28T21:00:19.163186",
     "exception": false,
     "start_time": "2023-06-28T21:00:19.141212",
     "status": "completed"
    },
    "tags": []
   },
   "source": [
    "# Decision Tree Classifier"
   ]
  },
  {
   "cell_type": "code",
   "execution_count": 21,
   "id": "f85aed51",
   "metadata": {
    "execution": {
     "iopub.execute_input": "2023-06-28T21:00:19.212026Z",
     "iopub.status.busy": "2023-06-28T21:00:19.211532Z",
     "iopub.status.idle": "2023-06-28T21:00:20.938021Z",
     "shell.execute_reply": "2023-06-28T21:00:20.936702Z"
    },
    "papermill": {
     "duration": 1.752654,
     "end_time": "2023-06-28T21:00:20.940761",
     "exception": false,
     "start_time": "2023-06-28T21:00:19.188107",
     "status": "completed"
    },
    "tags": []
   },
   "outputs": [
    {
     "name": "stdout",
     "output_type": "stream",
     "text": [
      "Model accuracy =  0.9917028263164067\n",
      "Decision Tree AUROC =  0.8707067158281998\n"
     ]
    },
    {
     "data": {
      "text/plain": [
       "<Axes: >"
      ]
     },
     "execution_count": 21,
     "metadata": {},
     "output_type": "execute_result"
    },
    {
     "data": {
      "image/png": "[encoded data removed]",
      "text/plain": [
       "<Figure size 640x480 with 2 Axes>"
      ]
     },
     "metadata": {},
     "output_type": "display_data"
    }
   ],
   "source": [
    "from sklearn.tree import DecisionTreeClassifier\n",
    "\n",
    "model_dt = DecisionTreeClassifier(class_weight = 'balanced')\n",
    "\n",
    "model_dt.fit(train_X_new, train_y)\n",
    "\n",
    "pred_y = model_dt.predict(val_X_new)\n",
    "\n",
    "val_probs = model_dt.predict_proba(val_X_new)\n",
    "\n",
    "# Calculate accuracy of prediction using AUROC curve scores\n",
    "\n",
    "auc_score = roc_auc_score(val_y, val_probs[:,1])\n",
    "\n",
    "print(\"Model accuracy = \", accuracy_score(val_y, pred_y))\n",
    "print(\"Decision Tree AUROC = \", auc_score)\n",
    "\n",
    "cm = pd.DataFrame(confusion_matrix(val_y, pred_y))\n",
    "sns.heatmap(cm, annot = True, cmap = \"YlGnBu\")"
   ]
  },
  {
   "cell_type": "markdown",
   "id": "2754a19b",
   "metadata": {
    "papermill": {
     "duration": 0.021713,
     "end_time": "2023-06-28T21:00:20.984903",
     "exception": false,
     "start_time": "2023-06-28T21:00:20.963190",
     "status": "completed"
    },
    "tags": []
   },
   "source": [
    "> Does slighly poorer than simple logistic regression.. try tuning params to see if it does better?"
   ]
  },
  {
   "cell_type": "markdown",
   "id": "57f76267",
   "metadata": {
    "papermill": {
     "duration": 0.022744,
     "end_time": "2023-06-28T21:00:21.030145",
     "exception": false,
     "start_time": "2023-06-28T21:00:21.007401",
     "status": "completed"
    },
    "tags": []
   },
   "source": [
    "# Random Forest Classifier"
   ]
  },
  {
   "cell_type": "code",
   "execution_count": 22,
   "id": "a2772f41",
   "metadata": {
    "execution": {
     "iopub.execute_input": "2023-06-28T21:00:21.077305Z",
     "iopub.status.busy": "2023-06-28T21:00:21.076768Z",
     "iopub.status.idle": "2023-06-28T21:00:43.459565Z",
     "shell.execute_reply": "2023-06-28T21:00:43.457925Z"
    },
    "papermill": {
     "duration": 22.410366,
     "end_time": "2023-06-28T21:00:43.462970",
     "exception": false,
     "start_time": "2023-06-28T21:00:21.052604",
     "status": "completed"
    },
    "tags": []
   },
   "outputs": [
    {
     "name": "stdout",
     "output_type": "stream",
     "text": [
      "Model accuracy =  0.995983347015363\n",
      "Random Forest AUROC =  0.9375086759853271\n"
     ]
    },
    {
     "data": {
      "text/plain": [
       "<Axes: >"
      ]
     },
     "execution_count": 22,
     "metadata": {},
     "output_type": "execute_result"
    },
    {
     "data": {
      "image/png": "[encoded data removed]",
      "text/plain": [
       "<Figure size 640x480 with 2 Axes>"
      ]
     },
     "metadata": {},
     "output_type": "display_data"
    }
   ],
   "source": [
    "from sklearn.ensemble import RandomForestClassifier\n",
    "\n",
    "model_rf = RandomForestClassifier(class_weight = 'balanced')\n",
    "\n",
    "model_rf.fit(train_X_new, train_y)\n",
    "\n",
    "pred_y = model_rf.predict(val_X_new)\n",
    "\n",
    "val_probs = model_rf.predict_proba(val_X_new)\n",
    "\n",
    "# Calculate accuracy of prediction using AUROC curve scores\n",
    "\n",
    "auc_score = roc_auc_score(val_y, val_probs[:,1])\n",
    "\n",
    "print(\"Model accuracy = \", accuracy_score(val_y, pred_y))\n",
    "print(\"Random Forest AUROC = \", auc_score)\n",
    "\n",
    "cm = pd.DataFrame(confusion_matrix(val_y, pred_y))\n",
    "sns.heatmap(cm, annot = True, cmap = \"YlGnBu\")"
   ]
  },
  {
   "cell_type": "code",
   "execution_count": 23,
   "id": "ef8ae570",
   "metadata": {
    "execution": {
     "iopub.execute_input": "2023-06-28T21:00:43.514860Z",
     "iopub.status.busy": "2023-06-28T21:00:43.513283Z",
     "iopub.status.idle": "2023-06-28T21:00:45.079415Z",
     "shell.execute_reply": "2023-06-28T21:00:45.078010Z"
    },
    "papermill": {
     "duration": 1.595733,
     "end_time": "2023-06-28T21:00:45.082566",
     "exception": false,
     "start_time": "2023-06-28T21:00:43.486833",
     "status": "completed"
    },
    "tags": []
   },
   "outputs": [
    {
     "data": {
      "text/html": [
       "<div>\n",
       "<style scoped>\n",
       "    .dataframe tbody tr th:only-of-type {\n",
       "        vertical-align: middle;\n",
       "    }\n",
       "\n",
       "    .dataframe tbody tr th {\n",
       "        vertical-align: top;\n",
       "    }\n",
       "\n",
       "    .dataframe thead th {\n",
       "        text-align: right;\n",
       "    }\n",
       "</style>\n",
       "<table border=\"1\" class=\"dataframe\">\n",
       "  <thead>\n",
       "    <tr style=\"text-align: right;\">\n",
       "      <th></th>\n",
       "      <th>id</th>\n",
       "      <th>Machine failure</th>\n",
       "    </tr>\n",
       "  </thead>\n",
       "  <tbody>\n",
       "    <tr>\n",
       "      <th>0</th>\n",
       "      <td>136429</td>\n",
       "      <td>0.00</td>\n",
       "    </tr>\n",
       "    <tr>\n",
       "      <th>1</th>\n",
       "      <td>136430</td>\n",
       "      <td>0.01</td>\n",
       "    </tr>\n",
       "    <tr>\n",
       "      <th>2</th>\n",
       "      <td>136431</td>\n",
       "      <td>0.00</td>\n",
       "    </tr>\n",
       "    <tr>\n",
       "      <th>3</th>\n",
       "      <td>136432</td>\n",
       "      <td>0.00</td>\n",
       "    </tr>\n",
       "    <tr>\n",
       "      <th>4</th>\n",
       "      <td>136433</td>\n",
       "      <td>0.01</td>\n",
       "    </tr>\n",
       "  </tbody>\n",
       "</table>\n",
       "</div>"
      ],
      "text/plain": [
       "       id  Machine failure\n",
       "0  136429             0.00\n",
       "1  136430             0.01\n",
       "2  136431             0.00\n",
       "3  136432             0.00\n",
       "4  136433             0.01"
      ]
     },
     "execution_count": 23,
     "metadata": {},
     "output_type": "execute_result"
    }
   ],
   "source": [
    "pred_sub = model_rf.predict_proba(test_df_new)[:,1]\n",
    "sub1 = pd.DataFrame(pred_sub, columns = ['Machine failure'])\n",
    "ex_col = pd.DataFrame(test_df.index)\n",
    "submission = ex_col.join(sub1)\n",
    "submission.to_csv(\"submission_rf.csv\", index = False)\n",
    "submission.head()"
   ]
  },
  {
   "cell_type": "markdown",
   "id": "e1b69cbc",
   "metadata": {
    "papermill": {
     "duration": 0.023391,
     "end_time": "2023-06-28T21:00:45.130273",
     "exception": false,
     "start_time": "2023-06-28T21:00:45.106882",
     "status": "completed"
    },
    "tags": []
   },
   "source": [
    "Trying XGBoost to see if it performs better.."
   ]
  },
  {
   "cell_type": "markdown",
   "id": "034b5780",
   "metadata": {
    "papermill": {
     "duration": 0.024407,
     "end_time": "2023-06-28T21:00:45.177769",
     "exception": false,
     "start_time": "2023-06-28T21:00:45.153362",
     "status": "completed"
    },
    "tags": []
   },
   "source": [
    "# XGBoost Classifier"
   ]
  },
  {
   "cell_type": "code",
   "execution_count": 24,
   "id": "343afc23",
   "metadata": {
    "execution": {
     "iopub.execute_input": "2023-06-28T21:00:45.227694Z",
     "iopub.status.busy": "2023-06-28T21:00:45.227206Z",
     "iopub.status.idle": "2023-06-28T21:00:51.256416Z",
     "shell.execute_reply": "2023-06-28T21:00:51.254837Z"
    },
    "papermill": {
     "duration": 6.058146,
     "end_time": "2023-06-28T21:00:51.259915",
     "exception": false,
     "start_time": "2023-06-28T21:00:45.201769",
     "status": "completed"
    },
    "tags": []
   },
   "outputs": [
    {
     "name": "stdout",
     "output_type": "stream",
     "text": [
      "Model accuracy =  0.9958074352058168\n",
      "XGBoost AUROC =  0.9540807824744619\n"
     ]
    },
    {
     "data": {
      "text/plain": [
       "<Axes: >"
      ]
     },
     "execution_count": 24,
     "metadata": {},
     "output_type": "execute_result"
    },
    {
     "data": {
      "image/png": "[encoded data removed]",
      "text/plain": [
       "<Figure size 640x480 with 2 Axes>"
      ]
     },
     "metadata": {},
     "output_type": "display_data"
    }
   ],
   "source": [
    "from xgboost import XGBClassifier\n",
    "\n",
    "model_xgb = XGBClassifier()\n",
    "\n",
    "model_xgb.fit(train_X_new, train_y)\n",
    "\n",
    "pred_y = model_xgb.predict(val_X_new)\n",
    "\n",
    "val_probs = model_xgb.predict_proba(val_X_new)\n",
    "\n",
    "# Calculate accuracy of prediction using AUROC curve scores\n",
    "\n",
    "auc_score = roc_auc_score(val_y, val_probs[:,1])\n",
    "\n",
    "print(\"Model accuracy = \", accuracy_score(val_y, pred_y))\n",
    "print(\"XGBoost AUROC = \", auc_score)\n",
    "\n",
    "cm = pd.DataFrame(confusion_matrix(val_y, pred_y))\n",
    "sns.heatmap(cm, annot = True, cmap = \"YlGnBu\")"
   ]
  },
  {
   "cell_type": "code",
   "execution_count": 25,
   "id": "5ce35170",
   "metadata": {
    "execution": {
     "iopub.execute_input": "2023-06-28T21:00:51.311110Z",
     "iopub.status.busy": "2023-06-28T21:00:51.309770Z",
     "iopub.status.idle": "2023-06-28T21:01:20.922918Z",
     "shell.execute_reply": "2023-06-28T21:01:20.921846Z"
    },
    "papermill": {
     "duration": 29.641844,
     "end_time": "2023-06-28T21:01:20.925933",
     "exception": false,
     "start_time": "2023-06-28T21:00:51.284089",
     "status": "completed"
    },
    "tags": []
   },
   "outputs": [
    {
     "name": "stdout",
     "output_type": "stream",
     "text": [
      "XGBoost Cross validation AUROC =  0.9610016307820833\n"
     ]
    }
   ],
   "source": [
    "# XGBoost with cross-validation\n",
    "\n",
    "cv_scores = cross_val_score(model_xgb, train_X_complete, complete_y, cv = 5, scoring = 'roc_auc')\n",
    "\n",
    "print(\"XGBoost Cross validation AUROC = \", cv_scores.mean())"
   ]
  },
  {
   "cell_type": "code",
   "execution_count": 26,
   "id": "dba15437",
   "metadata": {
    "execution": {
     "iopub.execute_input": "2023-06-28T21:01:20.977411Z",
     "iopub.status.busy": "2023-06-28T21:01:20.976503Z",
     "iopub.status.idle": "2023-06-28T21:01:21.419203Z",
     "shell.execute_reply": "2023-06-28T21:01:21.417654Z"
    },
    "papermill": {
     "duration": 0.472037,
     "end_time": "2023-06-28T21:01:21.422329",
     "exception": false,
     "start_time": "2023-06-28T21:01:20.950292",
     "status": "completed"
    },
    "tags": []
   },
   "outputs": [
    {
     "data": {
      "text/html": [
       "<div>\n",
       "<style scoped>\n",
       "    .dataframe tbody tr th:only-of-type {\n",
       "        vertical-align: middle;\n",
       "    }\n",
       "\n",
       "    .dataframe tbody tr th {\n",
       "        vertical-align: top;\n",
       "    }\n",
       "\n",
       "    .dataframe thead th {\n",
       "        text-align: right;\n",
       "    }\n",
       "</style>\n",
       "<table border=\"1\" class=\"dataframe\">\n",
       "  <thead>\n",
       "    <tr style=\"text-align: right;\">\n",
       "      <th></th>\n",
       "      <th>id</th>\n",
       "      <th>Machine failure</th>\n",
       "    </tr>\n",
       "  </thead>\n",
       "  <tbody>\n",
       "    <tr>\n",
       "      <th>0</th>\n",
       "      <td>136429</td>\n",
       "      <td>0.000196</td>\n",
       "    </tr>\n",
       "    <tr>\n",
       "      <th>1</th>\n",
       "      <td>136430</td>\n",
       "      <td>0.009717</td>\n",
       "    </tr>\n",
       "    <tr>\n",
       "      <th>2</th>\n",
       "      <td>136431</td>\n",
       "      <td>0.000297</td>\n",
       "    </tr>\n",
       "    <tr>\n",
       "      <th>3</th>\n",
       "      <td>136432</td>\n",
       "      <td>0.000169</td>\n",
       "    </tr>\n",
       "    <tr>\n",
       "      <th>4</th>\n",
       "      <td>136433</td>\n",
       "      <td>0.004103</td>\n",
       "    </tr>\n",
       "  </tbody>\n",
       "</table>\n",
       "</div>"
      ],
      "text/plain": [
       "       id  Machine failure\n",
       "0  136429         0.000196\n",
       "1  136430         0.009717\n",
       "2  136431         0.000297\n",
       "3  136432         0.000169\n",
       "4  136433         0.004103"
      ]
     },
     "execution_count": 26,
     "metadata": {},
     "output_type": "execute_result"
    }
   ],
   "source": [
    "pred_sub = model_xgb.predict_proba(test_df_new)[:,1]\n",
    "sub1 = pd.DataFrame(pred_sub, columns = ['Machine failure'])\n",
    "ex_col = pd.DataFrame(test_df.index)\n",
    "submission = ex_col.join(sub1)\n",
    "submission.to_csv(\"submission_xgb.csv\", index = False)\n",
    "submission.head()"
   ]
  },
  {
   "cell_type": "markdown",
   "id": "bcc0545a",
   "metadata": {
    "papermill": {
     "duration": 0.023938,
     "end_time": "2023-06-28T21:01:21.470721",
     "exception": false,
     "start_time": "2023-06-28T21:01:21.446783",
     "status": "completed"
    },
    "tags": []
   },
   "source": [
    "# Catboost Classifier"
   ]
  },
  {
   "cell_type": "code",
   "execution_count": 27,
   "id": "93dece69",
   "metadata": {
    "execution": {
     "iopub.execute_input": "2023-06-28T21:01:21.523448Z",
     "iopub.status.busy": "2023-06-28T21:01:21.521911Z",
     "iopub.status.idle": "2023-06-28T21:01:21.542060Z",
     "shell.execute_reply": "2023-06-28T21:01:21.540603Z"
    },
    "papermill": {
     "duration": 0.049783,
     "end_time": "2023-06-28T21:01:21.545402",
     "exception": false,
     "start_time": "2023-06-28T21:01:21.495619",
     "status": "completed"
    },
    "tags": []
   },
   "outputs": [
    {
     "data": {
      "text/html": [
       "<div>\n",
       "<style scoped>\n",
       "    .dataframe tbody tr th:only-of-type {\n",
       "        vertical-align: middle;\n",
       "    }\n",
       "\n",
       "    .dataframe tbody tr th {\n",
       "        vertical-align: top;\n",
       "    }\n",
       "\n",
       "    .dataframe thead th {\n",
       "        text-align: right;\n",
       "    }\n",
       "</style>\n",
       "<table border=\"1\" class=\"dataframe\">\n",
       "  <thead>\n",
       "    <tr style=\"text-align: right;\">\n",
       "      <th></th>\n",
       "      <th>Type</th>\n",
       "      <th>AirTemp</th>\n",
       "      <th>ProcessTemp</th>\n",
       "      <th>RotSpeed</th>\n",
       "      <th>Torque</th>\n",
       "      <th>ToolWear</th>\n",
       "      <th>TWF</th>\n",
       "      <th>HDF</th>\n",
       "      <th>PWF</th>\n",
       "      <th>OSF</th>\n",
       "      <th>RNF</th>\n",
       "    </tr>\n",
       "    <tr>\n",
       "      <th>id</th>\n",
       "      <th></th>\n",
       "      <th></th>\n",
       "      <th></th>\n",
       "      <th></th>\n",
       "      <th></th>\n",
       "      <th></th>\n",
       "      <th></th>\n",
       "      <th></th>\n",
       "      <th></th>\n",
       "      <th></th>\n",
       "      <th></th>\n",
       "    </tr>\n",
       "  </thead>\n",
       "  <tbody>\n",
       "    <tr>\n",
       "      <th>90674</th>\n",
       "      <td>L</td>\n",
       "      <td>302.2</td>\n",
       "      <td>311.7</td>\n",
       "      <td>1477</td>\n",
       "      <td>54.6</td>\n",
       "      <td>154</td>\n",
       "      <td>0</td>\n",
       "      <td>0</td>\n",
       "      <td>0</td>\n",
       "      <td>0</td>\n",
       "      <td>0</td>\n",
       "    </tr>\n",
       "    <tr>\n",
       "      <th>48264</th>\n",
       "      <td>L</td>\n",
       "      <td>298.2</td>\n",
       "      <td>307.8</td>\n",
       "      <td>1390</td>\n",
       "      <td>53.0</td>\n",
       "      <td>72</td>\n",
       "      <td>0</td>\n",
       "      <td>0</td>\n",
       "      <td>0</td>\n",
       "      <td>0</td>\n",
       "      <td>0</td>\n",
       "    </tr>\n",
       "    <tr>\n",
       "      <th>109414</th>\n",
       "      <td>L</td>\n",
       "      <td>301.2</td>\n",
       "      <td>310.6</td>\n",
       "      <td>1545</td>\n",
       "      <td>38.6</td>\n",
       "      <td>102</td>\n",
       "      <td>0</td>\n",
       "      <td>0</td>\n",
       "      <td>0</td>\n",
       "      <td>0</td>\n",
       "      <td>0</td>\n",
       "    </tr>\n",
       "    <tr>\n",
       "      <th>57250</th>\n",
       "      <td>M</td>\n",
       "      <td>301.5</td>\n",
       "      <td>310.7</td>\n",
       "      <td>1431</td>\n",
       "      <td>45.0</td>\n",
       "      <td>158</td>\n",
       "      <td>0</td>\n",
       "      <td>0</td>\n",
       "      <td>0</td>\n",
       "      <td>0</td>\n",
       "      <td>0</td>\n",
       "    </tr>\n",
       "    <tr>\n",
       "      <th>93978</th>\n",
       "      <td>L</td>\n",
       "      <td>297.2</td>\n",
       "      <td>307.9</td>\n",
       "      <td>1685</td>\n",
       "      <td>29.1</td>\n",
       "      <td>135</td>\n",
       "      <td>0</td>\n",
       "      <td>0</td>\n",
       "      <td>0</td>\n",
       "      <td>0</td>\n",
       "      <td>0</td>\n",
       "    </tr>\n",
       "  </tbody>\n",
       "</table>\n",
       "</div>"
      ],
      "text/plain": [
       "       Type  AirTemp  ProcessTemp  RotSpeed  Torque  ToolWear  TWF  HDF  PWF  \\\n",
       "id                                                                             \n",
       "90674     L    302.2        311.7      1477    54.6       154    0    0    0   \n",
       "48264     L    298.2        307.8      1390    53.0        72    0    0    0   \n",
       "109414    L    301.2        310.6      1545    38.6       102    0    0    0   \n",
       "57250     M    301.5        310.7      1431    45.0       158    0    0    0   \n",
       "93978     L    297.2        307.9      1685    29.1       135    0    0    0   \n",
       "\n",
       "        OSF  RNF  \n",
       "id                \n",
       "90674     0    0  \n",
       "48264     0    0  \n",
       "109414    0    0  \n",
       "57250     0    0  \n",
       "93978     0    0  "
      ]
     },
     "execution_count": 27,
     "metadata": {},
     "output_type": "execute_result"
    }
   ],
   "source": [
    "train_X.head()\n",
    "val_X.head()"
   ]
  },
  {
   "cell_type": "code",
   "execution_count": 28,
   "id": "00c0ab47",
   "metadata": {
    "execution": {
     "iopub.execute_input": "2023-06-28T21:01:21.599263Z",
     "iopub.status.busy": "2023-06-28T21:01:21.597812Z",
     "iopub.status.idle": "2023-06-28T21:01:21.901002Z",
     "shell.execute_reply": "2023-06-28T21:01:21.899586Z"
    },
    "papermill": {
     "duration": 0.333564,
     "end_time": "2023-06-28T21:01:21.904402",
     "exception": false,
     "start_time": "2023-06-28T21:01:21.570838",
     "status": "completed"
    },
    "tags": []
   },
   "outputs": [],
   "source": [
    "from catboost import CatBoostClassifier\n",
    "\n",
    "catFeatures = ['Type', 'TWF', 'HDF', 'PWF', 'OSF', 'RNF']\n",
    "\n",
    "train_X[catFeatures] = train_X[catFeatures].astype('category')\n",
    "val_X[catFeatures] = val_X[catFeatures].astype('category')"
   ]
  },
  {
   "cell_type": "code",
   "execution_count": 29,
   "id": "32b364cf",
   "metadata": {
    "execution": {
     "iopub.execute_input": "2023-06-28T21:01:21.956733Z",
     "iopub.status.busy": "2023-06-28T21:01:21.955857Z",
     "iopub.status.idle": "2023-06-28T21:02:18.600308Z",
     "shell.execute_reply": "2023-06-28T21:02:18.598977Z"
    },
    "papermill": {
     "duration": 56.674627,
     "end_time": "2023-06-28T21:02:18.603583",
     "exception": false,
     "start_time": "2023-06-28T21:01:21.928956",
     "status": "completed"
    },
    "tags": []
   },
   "outputs": [
    {
     "name": "stdout",
     "output_type": "stream",
     "text": [
      "Model accuracy =  0.9961299401899848\n",
      "CatBoost AUROC =  0.9561489410712775\n"
     ]
    },
    {
     "data": {
      "text/plain": [
       "<Axes: >"
      ]
     },
     "execution_count": 29,
     "metadata": {},
     "output_type": "execute_result"
    },
    {
     "data": {
      "image/png": "[encoded data removed]",
      "text/plain": [
       "<Figure size 640x480 with 2 Axes>"
      ]
     },
     "metadata": {},
     "output_type": "display_data"
    }
   ],
   "source": [
    "model_cb = CatBoostClassifier(learning_rate = 0.025)\n",
    "\n",
    "model_cb.fit(train_X, train_y, cat_features = catFeatures, verbose = False)\n",
    "\n",
    "pred_y = model_cb.predict(val_X)\n",
    "\n",
    "val_probs = model_cb.predict_proba(val_X)\n",
    "\n",
    "# Calculate accuracy of prediction using AUROC curve scores\n",
    "\n",
    "auc_score = roc_auc_score(val_y, val_probs[:,1])\n",
    "\n",
    "print(\"Model accuracy = \", accuracy_score(val_y, pred_y))\n",
    "print(\"CatBoost AUROC = \", auc_score)\n",
    "\n",
    "cm = pd.DataFrame(confusion_matrix(val_y, pred_y))\n",
    "sns.heatmap(cm, annot = True, cmap = \"YlGnBu\")"
   ]
  },
  {
   "cell_type": "code",
   "execution_count": 30,
   "id": "2f8635f2",
   "metadata": {
    "execution": {
     "iopub.execute_input": "2023-06-28T21:02:18.655811Z",
     "iopub.status.busy": "2023-06-28T21:02:18.655086Z",
     "iopub.status.idle": "2023-06-28T21:02:18.673763Z",
     "shell.execute_reply": "2023-06-28T21:02:18.672385Z"
    },
    "papermill": {
     "duration": 0.048349,
     "end_time": "2023-06-28T21:02:18.676666",
     "exception": false,
     "start_time": "2023-06-28T21:02:18.628317",
     "status": "completed"
    },
    "tags": []
   },
   "outputs": [
    {
     "data": {
      "text/html": [
       "<div>\n",
       "<style scoped>\n",
       "    .dataframe tbody tr th:only-of-type {\n",
       "        vertical-align: middle;\n",
       "    }\n",
       "\n",
       "    .dataframe tbody tr th {\n",
       "        vertical-align: top;\n",
       "    }\n",
       "\n",
       "    .dataframe thead th {\n",
       "        text-align: right;\n",
       "    }\n",
       "</style>\n",
       "<table border=\"1\" class=\"dataframe\">\n",
       "  <thead>\n",
       "    <tr style=\"text-align: right;\">\n",
       "      <th></th>\n",
       "      <th>Type</th>\n",
       "      <th>AirTemp</th>\n",
       "      <th>ProcessTemp</th>\n",
       "      <th>RotSpeed</th>\n",
       "      <th>Torque</th>\n",
       "      <th>ToolWear</th>\n",
       "      <th>TWF</th>\n",
       "      <th>HDF</th>\n",
       "      <th>PWF</th>\n",
       "      <th>OSF</th>\n",
       "      <th>RNF</th>\n",
       "    </tr>\n",
       "    <tr>\n",
       "      <th>id</th>\n",
       "      <th></th>\n",
       "      <th></th>\n",
       "      <th></th>\n",
       "      <th></th>\n",
       "      <th></th>\n",
       "      <th></th>\n",
       "      <th></th>\n",
       "      <th></th>\n",
       "      <th></th>\n",
       "      <th></th>\n",
       "      <th></th>\n",
       "    </tr>\n",
       "  </thead>\n",
       "  <tbody>\n",
       "    <tr>\n",
       "      <th>136429</th>\n",
       "      <td>L</td>\n",
       "      <td>302.3</td>\n",
       "      <td>311.5</td>\n",
       "      <td>1499</td>\n",
       "      <td>38.0</td>\n",
       "      <td>60</td>\n",
       "      <td>0</td>\n",
       "      <td>0</td>\n",
       "      <td>0</td>\n",
       "      <td>0</td>\n",
       "      <td>0</td>\n",
       "    </tr>\n",
       "    <tr>\n",
       "      <th>136430</th>\n",
       "      <td>L</td>\n",
       "      <td>301.7</td>\n",
       "      <td>311.0</td>\n",
       "      <td>1713</td>\n",
       "      <td>28.8</td>\n",
       "      <td>17</td>\n",
       "      <td>0</td>\n",
       "      <td>0</td>\n",
       "      <td>0</td>\n",
       "      <td>0</td>\n",
       "      <td>0</td>\n",
       "    </tr>\n",
       "    <tr>\n",
       "      <th>136431</th>\n",
       "      <td>L</td>\n",
       "      <td>301.3</td>\n",
       "      <td>310.4</td>\n",
       "      <td>1525</td>\n",
       "      <td>37.7</td>\n",
       "      <td>96</td>\n",
       "      <td>0</td>\n",
       "      <td>0</td>\n",
       "      <td>0</td>\n",
       "      <td>0</td>\n",
       "      <td>0</td>\n",
       "    </tr>\n",
       "    <tr>\n",
       "      <th>136432</th>\n",
       "      <td>M</td>\n",
       "      <td>300.1</td>\n",
       "      <td>309.6</td>\n",
       "      <td>1479</td>\n",
       "      <td>47.6</td>\n",
       "      <td>5</td>\n",
       "      <td>0</td>\n",
       "      <td>0</td>\n",
       "      <td>0</td>\n",
       "      <td>0</td>\n",
       "      <td>0</td>\n",
       "    </tr>\n",
       "    <tr>\n",
       "      <th>136433</th>\n",
       "      <td>M</td>\n",
       "      <td>303.4</td>\n",
       "      <td>312.3</td>\n",
       "      <td>1515</td>\n",
       "      <td>41.3</td>\n",
       "      <td>114</td>\n",
       "      <td>0</td>\n",
       "      <td>0</td>\n",
       "      <td>0</td>\n",
       "      <td>0</td>\n",
       "      <td>0</td>\n",
       "    </tr>\n",
       "  </tbody>\n",
       "</table>\n",
       "</div>"
      ],
      "text/plain": [
       "       Type  AirTemp  ProcessTemp  RotSpeed  Torque  ToolWear  TWF  HDF  PWF  \\\n",
       "id                                                                             \n",
       "136429    L    302.3        311.5      1499    38.0        60    0    0    0   \n",
       "136430    L    301.7        311.0      1713    28.8        17    0    0    0   \n",
       "136431    L    301.3        310.4      1525    37.7        96    0    0    0   \n",
       "136432    M    300.1        309.6      1479    47.6         5    0    0    0   \n",
       "136433    M    303.4        312.3      1515    41.3       114    0    0    0   \n",
       "\n",
       "        OSF  RNF  \n",
       "id                \n",
       "136429    0    0  \n",
       "136430    0    0  \n",
       "136431    0    0  \n",
       "136432    0    0  \n",
       "136433    0    0  "
      ]
     },
     "execution_count": 30,
     "metadata": {},
     "output_type": "execute_result"
    }
   ],
   "source": [
    "test_df.head()"
   ]
  },
  {
   "cell_type": "code",
   "execution_count": 31,
   "id": "9d293ff1",
   "metadata": {
    "execution": {
     "iopub.execute_input": "2023-06-28T21:02:18.729760Z",
     "iopub.status.busy": "2023-06-28T21:02:18.729253Z",
     "iopub.status.idle": "2023-06-28T21:02:19.435111Z",
     "shell.execute_reply": "2023-06-28T21:02:19.433145Z"
    },
    "papermill": {
     "duration": 0.736015,
     "end_time": "2023-06-28T21:02:19.438002",
     "exception": false,
     "start_time": "2023-06-28T21:02:18.701987",
     "status": "completed"
    },
    "tags": []
   },
   "outputs": [
    {
     "data": {
      "text/html": [
       "<div>\n",
       "<style scoped>\n",
       "    .dataframe tbody tr th:only-of-type {\n",
       "        vertical-align: middle;\n",
       "    }\n",
       "\n",
       "    .dataframe tbody tr th {\n",
       "        vertical-align: top;\n",
       "    }\n",
       "\n",
       "    .dataframe thead th {\n",
       "        text-align: right;\n",
       "    }\n",
       "</style>\n",
       "<table border=\"1\" class=\"dataframe\">\n",
       "  <thead>\n",
       "    <tr style=\"text-align: right;\">\n",
       "      <th></th>\n",
       "      <th>id</th>\n",
       "      <th>Machine failure</th>\n",
       "    </tr>\n",
       "  </thead>\n",
       "  <tbody>\n",
       "    <tr>\n",
       "      <th>0</th>\n",
       "      <td>136429</td>\n",
       "      <td>0.001315</td>\n",
       "    </tr>\n",
       "    <tr>\n",
       "      <th>1</th>\n",
       "      <td>136430</td>\n",
       "      <td>0.003585</td>\n",
       "    </tr>\n",
       "    <tr>\n",
       "      <th>2</th>\n",
       "      <td>136431</td>\n",
       "      <td>0.001002</td>\n",
       "    </tr>\n",
       "    <tr>\n",
       "      <th>3</th>\n",
       "      <td>136432</td>\n",
       "      <td>0.001999</td>\n",
       "    </tr>\n",
       "    <tr>\n",
       "      <th>4</th>\n",
       "      <td>136433</td>\n",
       "      <td>0.001792</td>\n",
       "    </tr>\n",
       "  </tbody>\n",
       "</table>\n",
       "</div>"
      ],
      "text/plain": [
       "       id  Machine failure\n",
       "0  136429         0.001315\n",
       "1  136430         0.003585\n",
       "2  136431         0.001002\n",
       "3  136432         0.001999\n",
       "4  136433         0.001792"
      ]
     },
     "execution_count": 31,
     "metadata": {},
     "output_type": "execute_result"
    }
   ],
   "source": [
    "pred_sub = model_cb.predict_proba(test_df)[:,1]\n",
    "sub1 = pd.DataFrame(pred_sub, columns = ['Machine failure'])\n",
    "ex_col = pd.DataFrame(test_df.index)\n",
    "submission = ex_col.join(sub1)\n",
    "submission.to_csv(\"submission_cb.csv\", index = False)\n",
    "submission.head()"
   ]
  },
  {
   "cell_type": "markdown",
   "id": "ed574904",
   "metadata": {
    "papermill": {
     "duration": 0.025887,
     "end_time": "2023-06-28T21:02:19.489761",
     "exception": false,
     "start_time": "2023-06-28T21:02:19.463874",
     "status": "completed"
    },
    "tags": []
   },
   "source": [
    "# Neural Network classification"
   ]
  },
  {
   "cell_type": "code",
   "execution_count": 32,
   "id": "fd9fdac5",
   "metadata": {
    "execution": {
     "iopub.execute_input": "2023-06-28T21:02:19.545367Z",
     "iopub.status.busy": "2023-06-28T21:02:19.544829Z",
     "iopub.status.idle": "2023-06-28T21:02:19.550618Z",
     "shell.execute_reply": "2023-06-28T21:02:19.549286Z"
    },
    "papermill": {
     "duration": 0.036867,
     "end_time": "2023-06-28T21:02:19.553430",
     "exception": false,
     "start_time": "2023-06-28T21:02:19.516563",
     "status": "completed"
    },
    "tags": []
   },
   "outputs": [],
   "source": [
    "#from tensorflow import keras\n",
    "#from tensorflow.keras import layers\n",
    "\n",
    "#model_nn = keras.Sequential([\n",
    "#  layers.Dense(128, activation = 'relu', input_shape = train_X_new.shape[1])  \n",
    "#])"
   ]
  }
 ],
 "metadata": {
  "kernelspec": {
   "display_name": "Python 3",
   "language": "python",
   "name": "python3"
  },
  "language_info": {
   "codemirror_mode": {
    "name": "ipython",
    "version": 3
   },
   "file_extension": ".py",
   "mimetype": "text/x-python",
   "name": "python",
   "nbconvert_exporter": "python",
   "pygments_lexer": "ipython3",
   "version": "3.10.10"
  },
  "papermill": {
   "default_parameters": {},
   "duration": 151.273405,
   "end_time": "2023-06-28T21:02:22.397112",
   "environment_variables": {},
   "exception": null,
   "input_path": "__notebook__.ipynb",
   "output_path": "__notebook__.ipynb",
   "parameters": {},
   "start_time": "2023-06-28T20:59:51.123707",
   "version": "2.4.0"
  }
 },
 "nbformat": 4,
 "nbformat_minor": 5
}
